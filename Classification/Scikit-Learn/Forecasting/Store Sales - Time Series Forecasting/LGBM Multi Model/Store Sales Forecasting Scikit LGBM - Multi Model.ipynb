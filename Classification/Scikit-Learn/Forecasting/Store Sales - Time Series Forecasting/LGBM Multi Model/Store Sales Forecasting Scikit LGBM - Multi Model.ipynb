{
 "cells": [
  {
   "cell_type": "code",
   "execution_count": null,
   "metadata": {},
   "outputs": [],
   "source": [
    "from skforecast.ForecasterAutoreg import ForecasterAutoreg\n",
    "from skforecast.model_selection import backtesting_forecaster\n",
    "from skforecast.model_selection import grid_search_forecaster\n",
    "import pandas as pd\n",
    "import numpy as np\n",
    "from sklearn.preprocessing import LabelEncoder\n",
    "from sklearn.preprocessing import MinMaxScaler\n",
    "from sklearn.model_selection import train_test_split\n",
    "from skforecast.ForecasterAutoreg import ForecasterAutoreg\n",
    "\n",
    "from xgboost import XGBRegressor\n",
    "from lightgbm import LGBMRegressor\n",
    "\n",
    "import torch\n",
    "import os\n",
    "import sys\n",
    "import psutil\n",
    "import warnings\n",
    "warnings.filterwarnings('ignore')\n"
   ]
  },
  {
   "cell_type": "code",
   "execution_count": null,
   "metadata": {},
   "outputs": [],
   "source": [
    "device = torch.device('cuda' if torch.cuda.is_available() else 'cpu')\n",
    "print('Using device:', device)\n",
    "\n",
    "if device.type == 'cuda':\n",
    "    print(torch.cuda.get_device_name(0))\n",
    "    print('Memory Usage:')\n",
    "    print('Allocated:', round(torch.cuda.memory_allocated(0)/1024**3,1), 'GB')\n",
    "    print('Cached:   ', round(torch.cuda.memory_cached(0)/1024**3,1), 'GB')\n",
    "\n",
    "print(f\"CPU RAM Free: {psutil.virtual_memory().available / 1024**3:.2f} GB\")"
   ]
  },
  {
   "cell_type": "code",
   "execution_count": 3,
   "metadata": {},
   "outputs": [],
   "source": [
    "holiday_events_df = pd.read_csv('RNNs/Tensorflow-Keras/Predictions/Store Sales - Time Series Forecasting/holidays_events.csv')\n",
    "stores_df = pd.read_csv('RNNs/Tensorflow-Keras/Predictions/Store Sales - Time Series Forecasting/stores.csv')\n",
    "transactions_df = pd.read_csv('RNNs/Tensorflow-Keras/Predictions/Store Sales - Time Series Forecasting/transactions.csv')\n",
    "train_df = pd.read_csv('RNNs/Tensorflow-Keras/Predictions/Store Sales - Time Series Forecasting/train.csv')\n",
    "test_df = pd.read_csv('RNNs/Tensorflow-Keras/Predictions/Store Sales - Time Series Forecasting/test.csv')\n",
    "oil_df = pd.read_csv('RNNs/Tensorflow-Keras/Predictions/Store Sales - Time Series Forecasting/oil.csv')"
   ]
  },
  {
   "cell_type": "code",
   "execution_count": null,
   "metadata": {},
   "outputs": [],
   "source": [
    "holiday_events_df = holiday_events_df.sort_values(by='transferred', ascending=False).drop_duplicates(subset='date', keep='first')\n",
    "holiday_events_df[holiday_events_df['transferred'] == True].head()\n",
    "holiday_events_df.head()"
   ]
  },
  {
   "cell_type": "code",
   "execution_count": null,
   "metadata": {},
   "outputs": [],
   "source": [
    "stores_df.head()"
   ]
  },
  {
   "cell_type": "code",
   "execution_count": null,
   "metadata": {},
   "outputs": [],
   "source": [
    "transactions_df.head()"
   ]
  },
  {
   "cell_type": "code",
   "execution_count": null,
   "metadata": {},
   "outputs": [],
   "source": [
    "train_df.head()"
   ]
  },
  {
   "cell_type": "code",
   "execution_count": null,
   "metadata": {},
   "outputs": [],
   "source": [
    "oil_df['dcoilwtico'] = oil_df['dcoilwtico'].bfill()\n",
    "oil_df.head()"
   ]
  },
  {
   "cell_type": "code",
   "execution_count": null,
   "metadata": {},
   "outputs": [],
   "source": [
    "full_train_df = train_df.merge(stores_df, how='left', on='store_nbr').merge(transactions_df, how='left', on=['date', 'store_nbr']).merge(oil_df, how='left', on='date').merge(holiday_events_df, how='left', on='date')\n",
    "full_train_df.head()"
   ]
  },
  {
   "cell_type": "code",
   "execution_count": null,
   "metadata": {},
   "outputs": [],
   "source": [
    "full_test_df = test_df.merge(stores_df, how='left', on='store_nbr').merge(transactions_df, how='left', on=['date', 'store_nbr']).merge(oil_df, how='left', on='date').merge(holiday_events_df, how='left', on='date')\n",
    "full_test_df.head()"
   ]
  },
  {
   "cell_type": "code",
   "execution_count": 11,
   "metadata": {},
   "outputs": [],
   "source": [
    "# Re-format the date column and set it as index\n",
    "full_train_df['date'] = pd.to_datetime(full_train_df['date'], format = '%Y-%m-%d')\n",
    "# Re-format the date column and set it as index\n",
    "full_test_df['date'] = pd.to_datetime(full_test_df['date'], format = '%Y-%m-%d')"
   ]
  },
  {
   "cell_type": "code",
   "execution_count": 12,
   "metadata": {},
   "outputs": [],
   "source": [
    "full_train_df['day_of_week'] = full_train_df['date'].dt.dayofweek\n",
    "full_test_df['day_of_week'] = full_test_df['date'].dt.dayofweek"
   ]
  },
  {
   "cell_type": "code",
   "execution_count": 13,
   "metadata": {},
   "outputs": [],
   "source": [
    "full_train_df['month'] = full_train_df['date'].dt.month\n",
    "full_test_df['month'] = full_test_df['date'].dt.month"
   ]
  },
  {
   "cell_type": "code",
   "execution_count": 14,
   "metadata": {},
   "outputs": [],
   "source": [
    "# Reset the index to access 'date' column\n",
    "full_train_df.reset_index(inplace=True)\n",
    "full_test_df.reset_index(inplace=True)\n",
    "\n",
    "# Set the date as index\n",
    "full_train_df.set_index('date', inplace=True)\n",
    "full_test_df.set_index('date', inplace=True)"
   ]
  },
  {
   "cell_type": "code",
   "execution_count": null,
   "metadata": {},
   "outputs": [],
   "source": [
    "# Set the dataset frequency to be (D)aily data\n",
    "# full_train_df = full_train_df.asfreq('D', method = 'bfill') \n",
    "# full_test_df = full_test_df.asfreq('D', method = 'bfill') \n",
    "# Fill missing value with the latest available data\n",
    "\n",
    "full_train_df.head()"
   ]
  },
  {
   "cell_type": "code",
   "execution_count": 16,
   "metadata": {},
   "outputs": [],
   "source": [
    "# Encoding the type of products\n",
    "family_label_encoder = LabelEncoder()\n",
    "full_train_df['family_encoded'] = family_label_encoder.fit_transform(full_train_df['family'])\n",
    "full_test_df['family_encoded'] = family_label_encoder.transform(full_test_df['family'])\n",
    "\n",
    "#Encoding the citys and states\n",
    "city_label_encoder = LabelEncoder()\n",
    "full_train_df['city_encoded'] = city_label_encoder.fit_transform(full_train_df['city'])\n",
    "full_test_df['city_encoded'] = city_label_encoder.transform(full_test_df['city'])\n",
    "\n",
    "state_label_encoder = LabelEncoder()\n",
    "full_train_df['state_encoded'] = state_label_encoder.fit_transform(full_train_df['state'])\n",
    "full_test_df['state_encoded'] = state_label_encoder.transform(full_test_df['state'])\n",
    "\n",
    "#Encoding the type of stores\n",
    "type_store_label_encoder = LabelEncoder()\n",
    "full_train_df['type_store_encoded'] = state_label_encoder.fit_transform(full_train_df['type_x'])\n",
    "full_test_df['type_store_encoded'] = state_label_encoder.transform(full_test_df['type_x'])\n",
    "\n",
    "#Transactions fillna\n",
    "full_train_df['transactions'] = full_train_df['transactions'].fillna(0)\n",
    "full_test_df['transactions'] = full_test_df['transactions'].fillna(0)\n",
    "#Transactions Scale\n",
    "transactions_scaler = MinMaxScaler()\n",
    "full_train_df['transactions_scaled'] = transactions_scaler.fit_transform(full_train_df[['transactions']])\n",
    "full_test_df['transactions_scaled'] = transactions_scaler.transform(full_test_df[['transactions']])\n",
    "\n",
    "#Encoding the type of holidays\n",
    "type_holiday_label_encoder = LabelEncoder()\n",
    "full_train_df['type_y'].fillna('no_holiday', inplace=True)\n",
    "full_test_df['type_y'].fillna('no_holiday', inplace=True)\n",
    "combined_type_y = pd.concat([full_train_df['type_y'], full_test_df['type_y']])\n",
    "type_holiday_label_encoder.fit(combined_type_y)\n",
    "full_train_df['type_holiday_encoded'] = type_holiday_label_encoder.transform(full_train_df['type_y'])\n",
    "full_test_df['type_holiday_encoded'] = type_holiday_label_encoder.transform(full_test_df['type_y'])\n",
    "\n",
    "#Encoding the type of holidays\n",
    "locale_label_encoder = LabelEncoder()\n",
    "full_train_df['locale'].fillna('no_holiday', inplace=True)\n",
    "full_test_df['locale'].fillna('no_holiday', inplace=True)\n",
    "combined_type_y = pd.concat([full_train_df['locale'], full_test_df['locale']])\n",
    "locale_label_encoder.fit(combined_type_y)\n",
    "full_train_df['locale_encoded'] = locale_label_encoder.transform(full_train_df['locale'])\n",
    "full_test_df['locale_encoded'] = locale_label_encoder.transform(full_test_df['locale'])\n",
    "\n",
    "\n",
    "#Encoding the type of holidays\n",
    "transferred_label_encoder = LabelEncoder()\n",
    "full_train_df['transferred'].fillna('no_holiday', inplace=True)\n",
    "full_test_df['transferred'].fillna('no_holiday', inplace=True)\n",
    "full_train_df['transferred'].replace({True: 'transferred', False: 'not_transferred'}, inplace=True)\n",
    "full_test_df['transferred'].replace({True: 'transferred', False: 'not_transferred'}, inplace=True)\n",
    "combined_type_y = pd.concat([full_train_df['transferred'], full_test_df['transferred']])\n",
    "transferred_label_encoder.fit(combined_type_y)\n",
    "full_train_df['transferred_encoded'] = transferred_label_encoder.transform(full_train_df['transferred'])\n",
    "full_test_df['transferred_encoded'] = transferred_label_encoder.transform(full_test_df['transferred'])\n",
    "\n",
    "oil_scaler = MinMaxScaler()\n",
    "full_train_df['dcoilwtico'] = full_train_df['dcoilwtico'].bfill()\n",
    "full_test_df['dcoilwtico'] = full_test_df['dcoilwtico'].bfill()\n",
    "full_train_df['dcoilwtico_scaled'] = oil_scaler.fit_transform(full_train_df[['dcoilwtico']])\n",
    "full_test_df['dcoilwtico_scaled'] = oil_scaler.transform(full_test_df[['dcoilwtico']])\n",
    "\n",
    "sales_scaler = MinMaxScaler()\n",
    "full_train_df['sales_scaled'] = sales_scaler.fit_transform(full_train_df[['sales']])\n",
    "# full_test_df['sales_scaled'] = sales_scaler.transform(full_test_df[['sales']])\n",
    "\n"
   ]
  },
  {
   "cell_type": "code",
   "execution_count": null,
   "metadata": {},
   "outputs": [],
   "source": [
    "train_data=full_train_df[['store_nbr', 'onpromotion', 'cluster', 'day_of_week', 'month', 'family_encoded', 'city_encoded', 'state_encoded', 'type_store_encoded', 'type_holiday_encoded', 'locale_encoded', 'transferred_encoded', 'dcoilwtico', 'sales_scaled']]\n",
    "test_data=full_test_df[['store_nbr', 'onpromotion', 'cluster', 'day_of_week', 'month', 'family_encoded', 'city_encoded', 'state_encoded', 'type_store_encoded', 'type_holiday_encoded', 'locale_encoded', 'transferred_encoded', 'dcoilwtico']]\n",
    "\n",
    "# Ensure the date ranges are correctly defined\n",
    "train_data_start=pd.to_datetime('2013-01-01')\n",
    "train_data_end=pd.to_datetime('2017-08-15')\n",
    "\n",
    "test_data_start=pd.to_datetime('2017-08-16')\n",
    "test_data_end=pd.to_datetime('2017-08-31')\n",
    "\n",
    "train_data.head()\n",
    "\n"
   ]
  },
  {
   "cell_type": "code",
   "execution_count": 18,
   "metadata": {},
   "outputs": [],
   "source": [
    "# Group the train_data by 'store_nbr' and 'family'\n",
    "grouped_train = train_data.groupby(['store_nbr', 'family_encoded'])\n",
    "# Group the train_data by 'store_nbr' and 'family'\n",
    "grouped_test = test_data.groupby(['store_nbr', 'family_encoded'])\n",
    "\n",
    "# Create an array of DataFrames\n",
    "dataframes_array_train = [group for _, group in grouped_train]\n",
    "\n",
    "# Create an array of DataFrames\n",
    "dataframes_array_test = [group for _, group in grouped_test]\n",
    "\n",
    "\n"
   ]
  },
  {
   "cell_type": "code",
   "execution_count": 19,
   "metadata": {},
   "outputs": [],
   "source": [
    "# Add a row with the day 2012-12-25 to each DataFrame in dataframes_array_train\n",
    "for idx, df in enumerate(dataframes_array_train):\n",
    "    for i in range(2013, 2017):\n",
    "        new_row = pd.DataFrame({\n",
    "            'date': [pd.to_datetime(f'{i}-12-25')],\n",
    "            'store_nbr': [df['store_nbr'].iloc[0]],\n",
    "            'onpromotion': [0],\n",
    "            'cluster': [df['cluster'].iloc[0]],\n",
    "            'day_of_week': [df.loc[f'{i}-12-24', 'day_of_week'] + 1 if df.loc[f'{i}-12-24', 'day_of_week'] + 1 != 8 else 1],  # Assuming 1 for Monday, adjust as needed\n",
    "            'month': [12],\n",
    "            'family_encoded': [df['family_encoded'].iloc[0]],\n",
    "            'city_encoded': [df['city_encoded'].iloc[0]],\n",
    "            'state_encoded': [df['state_encoded'].iloc[0]],\n",
    "            'type_store_encoded': [df['type_store_encoded'].iloc[0]],\n",
    "            'type_holiday_encoded': [1],  # Assuming 1 for holiday, adjust as needed\n",
    "            'locale_encoded': [1],  # Assuming 1 for locale, adjust as needed\n",
    "            'transferred_encoded': [0],  # Assuming 0 for not transferred, adjust as needed\n",
    "            'dcoilwtico': [df.loc[f'{i}-12-24', 'dcoilwtico']],  # Assuming a default value, adjust as needed\n",
    "            'sales_scaled': [0]  # Assuming no sales, adjust as needed\n",
    "        })\n",
    "        new_row.set_index('date', inplace=True)\n",
    "        df = pd.concat([df, new_row])\n",
    "        df.sort_index(inplace=True)\n",
    "        #df.reset_index(inplace=True)\n",
    "        #df.set_index('date', inplace=True)\n",
    "    dataframes_array_train[idx] = df\n",
    "\n"
   ]
  },
  {
   "cell_type": "code",
   "execution_count": null,
   "metadata": {},
   "outputs": [],
   "source": [
    "dataframes_array_train[0].head()"
   ]
  },
  {
   "cell_type": "code",
   "execution_count": null,
   "metadata": {},
   "outputs": [],
   "source": [
    "# Generate a complete date range\n",
    "complete_date_range = pd.date_range(start=train_data_start, end=train_data_end)\n",
    "\n",
    "# Find missing dates\n",
    "missing_dates = complete_date_range.difference(dataframes_array_train[0].loc[train_data_start:train_data_end].index)\n",
    "\n",
    "# Display missing dates\n",
    "print(missing_dates)"
   ]
  },
  {
   "cell_type": "code",
   "execution_count": null,
   "metadata": {},
   "outputs": [],
   "source": [
    "# Keep only unique rows in each DataFrame in dataframes_array_train\n",
    "dataframes_array_train = [df.drop_duplicates(keep='first') for df in dataframes_array_train]\n",
    "\n",
    "# Fill missing dates in each DataFrame in dataframes_array_train\n",
    "for df in dataframes_array_train:\n",
    "#    complete_date_range = pd.date_range(start=df.index.min(), end=df.index.max())\n",
    "#    df = df.reindex(complete_date_range, method='ffill')\n",
    "#    df.sort_index(inplace=True)\n",
    "    df.asfreq('D', method='bfill')\n",
    "\n",
    "# Display the first few DataFrames in the array\n",
    "for df in dataframes_array_train[:3]:\n",
    "    print(df.head())\n",
    "\n",
    "for df in dataframes_array_test:\n",
    "#    complete_date_range = pd.date_range(start=df.index.min(), end=df.index.max())\n",
    "#    df = df.reindex(complete_date_range, method='ffill')\n",
    "#    df.sort_index(inplace=True)\n",
    "    df.asfreq('D', method='bfill')\n",
    "\n",
    "# Display the first few DataFrames in the array\n",
    "for df in dataframes_array_train[:3]:\n",
    "    print(df.head())\n",
    "\n",
    "# Create an array of DataFrames\n",
    "dataframes_array_test = [group for _, group in grouped_test]\n",
    "for df in dataframes_array_test[:3]:\n",
    "    print(df.head())\n",
    "    \n",
    "\n"
   ]
  },
  {
   "cell_type": "code",
   "execution_count": null,
   "metadata": {},
   "outputs": [],
   "source": [
    "target = {}\n",
    "for idx, df in enumerate(dataframes_array_train):\n",
    "    target[idx] = df.loc[train_data_start:train_data_end, df.columns == 'sales_scaled']\n",
    "    \n",
    "target[0].head()\n"
   ]
  },
  {
   "cell_type": "code",
   "execution_count": 24,
   "metadata": {},
   "outputs": [],
   "source": [
    "# Complete target with 0 between test_data_start and test_data_end\n",
    "for idx, df in target.items():\n",
    "    complete_date_range = pd.date_range(start=test_data_start, end=test_data_end)\n",
    "    missing_dates = complete_date_range.difference(df.index)\n",
    "    for date in missing_dates:\n",
    "        df.loc[date] = 0\n",
    "    df.sort_index(inplace=True)\n",
    "    df.asfreq('D', method='bfill')\n"
   ]
  },
  {
   "cell_type": "code",
   "execution_count": 25,
   "metadata": {},
   "outputs": [],
   "source": [
    "for df in dataframes_array_train:\n",
    "    df.drop(columns=['sales_scaled'], inplace=True)"
   ]
  },
  {
   "cell_type": "code",
   "execution_count": 26,
   "metadata": {},
   "outputs": [],
   "source": [
    "for c in range(0, len(dataframes_array_train)):\n",
    "    dataframes_array_train[c] = pd.concat([dataframes_array_train[c], dataframes_array_test[c]])\n",
    "    "
   ]
  },
  {
   "cell_type": "code",
   "execution_count": null,
   "metadata": {},
   "outputs": [],
   "source": [
    "# Generate a complete date range\n",
    "complete_date_range = pd.date_range(start=train_data_start, end=train_data_end)\n",
    "\n",
    "# Find missing dates\n",
    "missing_dates = complete_date_range.difference(target[0].loc[train_data_start:train_data_end].index)\n",
    "\n",
    "# Display missing dates\n",
    "missing_dates\n"
   ]
  },
  {
   "cell_type": "code",
   "execution_count": null,
   "metadata": {},
   "outputs": [],
   "source": [
    "print(target[0].loc[train_data_start:test_data_end, 'sales_scaled'].head())\n",
    "print(target[0].loc[train_data_start:test_data_end, 'sales_scaled'].tail())"
   ]
  },
  {
   "cell_type": "code",
   "execution_count": null,
   "metadata": {},
   "outputs": [],
   "source": [
    "\n",
    "for df in target.values():\n",
    "    df.index = pd.to_datetime(df.index)\n",
    "    df.asfreq('D', method='bfill')\n",
    "    \n",
    "target[0].head()\n"
   ]
  },
  {
   "cell_type": "code",
   "execution_count": 30,
   "metadata": {},
   "outputs": [],
   "source": [
    "exog = dataframes_array_train[0].loc[train_data_start:train_data_end, ['store_nbr', 'onpromotion', 'cluster', 'day_of_week', 'month', 'family_encoded', 'city_encoded', 'state_encoded', 'type_store_encoded', 'type_holiday_encoded', 'locale_encoded', 'transferred_encoded', 'dcoilwtico']]\n",
    "exog = exog.asfreq('D')\n",
    "target_test=target[0].loc[train_data_start:train_data_end, 'sales_scaled']\n",
    "target_test=target_test.asfreq('D')\n"
   ]
  },
  {
   "cell_type": "code",
   "execution_count": null,
   "metadata": {},
   "outputs": [],
   "source": [
    "\n"
   ]
  },
  {
   "cell_type": "code",
   "execution_count": null,
   "metadata": {},
   "outputs": [],
   "source": [
    "\n",
    "target_test=target[1].loc[train_data_start:train_data_end, 'sales_scaled']\n",
    "target_test=target_test.asfreq('D')\n",
    "target_test.head()\n"
   ]
  },
  {
   "cell_type": "code",
   "execution_count": 33,
   "metadata": {},
   "outputs": [
    {
     "name": "stderr",
     "output_type": "stream",
     "text": [
      "lags grid: 100%|██████████████████████████████████████████████████████████████████████████| 7/7 [00:01<00:00,  4.16it/s]\n"
     ]
    },
    {
     "name": "stdout",
     "output_type": "stream",
     "text": [
      "`Forecaster` refitted using the best-found lags and parameters, and the whole data set: \n",
      "  Lags: [ 1  2  3  4  5  6  7  8  9 10 11 12 13 14 15 16 17 18 19 20 21 22 23 24\n",
      " 25 26 27 28 29 30 31 32 33 34 35 36 37 38 39 40 41 42 43 44 45 46 47 48\n",
      " 49 50] \n",
      "  Parameters: {'learning_rate': 0.01}\n",
      "  Backtesting metric: 1.606906208602189e-11\n",
      "\n",
      "1593 of 1782\n",
      "Number of models compared: 14.\n"
     ]
    },
    {
     "name": "stderr",
     "output_type": "stream",
     "text": [
      "lags grid: 100%|██████████████████████████████████████████████████████████████████████████| 7/7 [00:01<00:00,  4.32it/s]\n"
     ]
    },
    {
     "name": "stdout",
     "output_type": "stream",
     "text": [
      "`Forecaster` refitted using the best-found lags and parameters, and the whole data set: \n",
      "  Lags: [ 1  2  3  4  5  6  7  8  9 10 11 12 13 14 15 16 17 18 19 20 21 22 23 24\n",
      " 25 26 27 28 29 30] \n",
      "  Parameters: {'learning_rate': 0.1}\n",
      "  Backtesting metric: 2.5143873878301586e-09\n",
      "\n",
      "1594 of 1782\n",
      "Number of models compared: 14.\n"
     ]
    },
    {
     "name": "stderr",
     "output_type": "stream",
     "text": [
      "lags grid: 100%|██████████████████████████████████████████████████████████████████████████| 7/7 [00:01<00:00,  4.36it/s]\n"
     ]
    },
    {
     "name": "stdout",
     "output_type": "stream",
     "text": [
      "`Forecaster` refitted using the best-found lags and parameters, and the whole data set: \n",
      "  Lags: [ 1  2  3  4  5  6  7  8  9 10] \n",
      "  Parameters: {'learning_rate': 0.1}\n",
      "  Backtesting metric: 6.528488665147839e-09\n",
      "\n",
      "1595 of 1782\n",
      "Number of models compared: 14.\n"
     ]
    },
    {
     "name": "stderr",
     "output_type": "stream",
     "text": [
      "lags grid: 100%|██████████████████████████████████████████████████████████████████████████| 7/7 [00:01<00:00,  4.72it/s]\n"
     ]
    },
    {
     "name": "stdout",
     "output_type": "stream",
     "text": [
      "`Forecaster` refitted using the best-found lags and parameters, and the whole data set: \n",
      "  Lags: [ 1  2  3  4  5  6  7  8  9 10 11 12 13 14 15 16 17 18 19 20 21 22 23 24\n",
      " 25 26 27 28 29 30 31 32 33 34 35 36 37 38 39 40 41 42 43 44 45 46 47 48\n",
      " 49 50] \n",
      "  Parameters: {'learning_rate': 0.1}\n",
      "  Backtesting metric: 2.070756733511814e-07\n",
      "\n",
      "1596 of 1782\n",
      "Number of models compared: 14.\n"
     ]
    },
    {
     "name": "stderr",
     "output_type": "stream",
     "text": [
      "lags grid: 100%|██████████████████████████████████████████████████████████████████████████| 7/7 [00:01<00:00,  6.05it/s]\n"
     ]
    },
    {
     "name": "stdout",
     "output_type": "stream",
     "text": [
      "`Forecaster` refitted using the best-found lags and parameters, and the whole data set: \n",
      "  Lags: [  1   2   3   4   5   6   7   8   9  10  11  12  13  14  15  16  17  18\n",
      "  19  20  21  22  23  24  25  26  27  28  29  30  31  32  33  34  35  36\n",
      "  37  38  39  40  41  42  43  44  45  46  47  48  49  50  51  52  53  54\n",
      "  55  56  57  58  59  60  61  62  63  64  65  66  67  68  69  70  71  72\n",
      "  73  74  75  76  77  78  79  80  81  82  83  84  85  86  87  88  89  90\n",
      "  91  92  93  94  95  96  97  98  99 100] \n",
      "  Parameters: {'learning_rate': 0.1}\n",
      "  Backtesting metric: 2.889638514375922e-08\n",
      "\n",
      "1597 of 1782\n",
      "Number of models compared: 14.\n"
     ]
    },
    {
     "name": "stderr",
     "output_type": "stream",
     "text": [
      "lags grid: 100%|██████████████████████████████████████████████████████████████████████████| 7/7 [00:00<00:00,  7.34it/s]\n"
     ]
    },
    {
     "name": "stdout",
     "output_type": "stream",
     "text": [
      "`Forecaster` refitted using the best-found lags and parameters, and the whole data set: \n",
      "  Lags: [  1   2   3   4   5   6   7   8   9  10  11  12  13  14  15  16  17  18\n",
      "  19  20  21  22  23  24  25  26  27  28  29  30  31  32  33  34  35  36\n",
      "  37  38  39  40  41  42  43  44  45  46  47  48  49  50  51  52  53  54\n",
      "  55  56  57  58  59  60  61  62  63  64  65  66  67  68  69  70  71  72\n",
      "  73  74  75  76  77  78  79  80  81  82  83  84  85  86  87  88  89  90\n",
      "  91  92  93  94  95  96  97  98  99 100 101 102 103 104 105 106 107 108\n",
      " 109 110 111 112 113 114 115 116 117 118 119 120 121 122 123 124 125 126\n",
      " 127 128 129 130 131 132 133 134 135 136 137 138 139 140 141 142 143 144\n",
      " 145 146 147 148 149 150] \n",
      "  Parameters: {'learning_rate': 0.1}\n",
      "  Backtesting metric: 4.846779054430571e-12\n",
      "\n",
      "1598 of 1782\n",
      "Number of models compared: 14.\n"
     ]
    },
    {
     "name": "stderr",
     "output_type": "stream",
     "text": [
      "lags grid: 100%|██████████████████████████████████████████████████████████████████████████| 7/7 [00:01<00:00,  5.87it/s]\n"
     ]
    },
    {
     "name": "stdout",
     "output_type": "stream",
     "text": [
      "`Forecaster` refitted using the best-found lags and parameters, and the whole data set: \n",
      "  Lags: [ 1  2  3  4  5  6  7  8  9 10] \n",
      "  Parameters: {'learning_rate': 0.01}\n",
      "  Backtesting metric: 1.911399091029948e-08\n",
      "\n",
      "1599 of 1782\n",
      "Number of models compared: 14.\n"
     ]
    },
    {
     "name": "stderr",
     "output_type": "stream",
     "text": [
      "lags grid: 100%|██████████████████████████████████████████████████████████████████████████| 7/7 [00:01<00:00,  6.67it/s]\n"
     ]
    },
    {
     "name": "stdout",
     "output_type": "stream",
     "text": [
      "`Forecaster` refitted using the best-found lags and parameters, and the whole data set: \n",
      "  Lags: [ 1  2  3  4  5  6  7  8  9 10 11 12 13 14 15 16 17 18 19 20 21 22 23 24\n",
      " 25 26 27 28 29 30] \n",
      "  Parameters: {'learning_rate': 0.1}\n",
      "  Backtesting metric: 2.1258434319579493e-09\n",
      "\n",
      "1600 of 1782\n",
      "Number of models compared: 14.\n"
     ]
    },
    {
     "name": "stderr",
     "output_type": "stream",
     "text": [
      "lags grid: 100%|██████████████████████████████████████████████████████████████████████████| 7/7 [00:00<00:00,  7.71it/s]\n"
     ]
    },
    {
     "name": "stdout",
     "output_type": "stream",
     "text": [
      "`Forecaster` refitted using the best-found lags and parameters, and the whole data set: \n",
      "  Lags: [  1   2   3   4   5   6   7   8   9  10  11  12  13  14  15  16  17  18\n",
      "  19  20  21  22  23  24  25  26  27  28  29  30  31  32  33  34  35  36\n",
      "  37  38  39  40  41  42  43  44  45  46  47  48  49  50  51  52  53  54\n",
      "  55  56  57  58  59  60  61  62  63  64  65  66  67  68  69  70  71  72\n",
      "  73  74  75  76  77  78  79  80  81  82  83  84  85  86  87  88  89  90\n",
      "  91  92  93  94  95  96  97  98  99 100] \n",
      "  Parameters: {'learning_rate': 0.1}\n",
      "  Backtesting metric: 1.0550395835556081e-12\n",
      "\n",
      "1601 of 1782\n",
      "Number of models compared: 14.\n"
     ]
    },
    {
     "name": "stderr",
     "output_type": "stream",
     "text": [
      "lags grid: 100%|██████████████████████████████████████████████████████████████████████████| 7/7 [00:01<00:00,  4.75it/s]\n"
     ]
    },
    {
     "name": "stdout",
     "output_type": "stream",
     "text": [
      "`Forecaster` refitted using the best-found lags and parameters, and the whole data set: \n",
      "  Lags: [  1   2   3   4   5   6   7   8   9  10  11  12  13  14  15  16  17  18\n",
      "  19  20  21  22  23  24  25  26  27  28  29  30  31  32  33  34  35  36\n",
      "  37  38  39  40  41  42  43  44  45  46  47  48  49  50  51  52  53  54\n",
      "  55  56  57  58  59  60  61  62  63  64  65  66  67  68  69  70  71  72\n",
      "  73  74  75  76  77  78  79  80  81  82  83  84  85  86  87  88  89  90\n",
      "  91  92  93  94  95  96  97  98  99 100] \n",
      "  Parameters: {'learning_rate': 0.01}\n",
      "  Backtesting metric: 9.406214950692616e-08\n",
      "\n",
      "1602 of 1782\n",
      "Number of models compared: 14.\n"
     ]
    },
    {
     "name": "stderr",
     "output_type": "stream",
     "text": [
      "lags grid: 100%|██████████████████████████████████████████████████████████████████████████| 7/7 [00:00<00:00,  7.06it/s]\n"
     ]
    },
    {
     "name": "stdout",
     "output_type": "stream",
     "text": [
      "`Forecaster` refitted using the best-found lags and parameters, and the whole data set: \n",
      "  Lags: [ 1  2  3  4  5  6  7  8  9 10] \n",
      "  Parameters: {'learning_rate': 0.01}\n",
      "  Backtesting metric: 1.4406456364798086e-09\n",
      "\n",
      "1603 of 1782\n",
      "Number of models compared: 14.\n"
     ]
    },
    {
     "name": "stderr",
     "output_type": "stream",
     "text": [
      "lags grid: 100%|██████████████████████████████████████████████████████████████████████████| 7/7 [00:01<00:00,  6.85it/s]\n"
     ]
    },
    {
     "name": "stdout",
     "output_type": "stream",
     "text": [
      "`Forecaster` refitted using the best-found lags and parameters, and the whole data set: \n",
      "  Lags: [ 1  2  3  4  5  6  7  8  9 10 11 12 13 14 15 16 17 18 19 20] \n",
      "  Parameters: {'learning_rate': 0.01}\n",
      "  Backtesting metric: 1.5858454161824532e-09\n",
      "\n",
      "1604 of 1782\n",
      "Number of models compared: 14.\n"
     ]
    },
    {
     "name": "stderr",
     "output_type": "stream",
     "text": [
      "lags grid: 100%|██████████████████████████████████████████████████████████████████████████| 7/7 [00:00<00:00,  7.17it/s]\n"
     ]
    },
    {
     "name": "stdout",
     "output_type": "stream",
     "text": [
      "`Forecaster` refitted using the best-found lags and parameters, and the whole data set: \n",
      "  Lags: [ 1  2  3  4  5  6  7  8  9 10 11 12 13 14 15 16 17 18 19 20 21 22 23 24\n",
      " 25 26 27 28 29 30 31 32 33 34 35 36 37 38 39 40 41 42 43 44 45 46 47 48\n",
      " 49 50] \n",
      "  Parameters: {'learning_rate': 0.01}\n",
      "  Backtesting metric: 4.624304505509059e-10\n",
      "\n",
      "1605 of 1782\n",
      "Number of models compared: 14.\n"
     ]
    },
    {
     "name": "stderr",
     "output_type": "stream",
     "text": [
      "lags grid: 100%|██████████████████████████████████████████████████████████████████████████| 7/7 [00:01<00:00,  4.75it/s]\n"
     ]
    },
    {
     "name": "stdout",
     "output_type": "stream",
     "text": [
      "`Forecaster` refitted using the best-found lags and parameters, and the whole data set: \n",
      "  Lags: [ 1  2  3  4  5  6  7  8  9 10 11 12 13 14 15 16 17 18 19 20 21 22 23 24\n",
      " 25 26 27 28 29 30 31 32 33 34 35 36 37 38 39 40 41 42 43 44 45 46 47 48\n",
      " 49 50] \n",
      "  Parameters: {'learning_rate': 0.1}\n",
      "  Backtesting metric: 1.1842604059639537e-10\n",
      "\n",
      "1606 of 1782\n",
      "Number of models compared: 14.\n"
     ]
    },
    {
     "name": "stderr",
     "output_type": "stream",
     "text": [
      "lags grid: 100%|██████████████████████████████████████████████████████████████████████████| 7/7 [00:00<00:00,  7.06it/s]\n"
     ]
    },
    {
     "name": "stdout",
     "output_type": "stream",
     "text": [
      "`Forecaster` refitted using the best-found lags and parameters, and the whole data set: \n",
      "  Lags: [  1   2   3   4   5   6   7   8   9  10  11  12  13  14  15  16  17  18\n",
      "  19  20  21  22  23  24  25  26  27  28  29  30  31  32  33  34  35  36\n",
      "  37  38  39  40  41  42  43  44  45  46  47  48  49  50  51  52  53  54\n",
      "  55  56  57  58  59  60  61  62  63  64  65  66  67  68  69  70  71  72\n",
      "  73  74  75  76  77  78  79  80  81  82  83  84  85  86  87  88  89  90\n",
      "  91  92  93  94  95  96  97  98  99 100 101 102 103 104 105 106 107 108\n",
      " 109 110 111 112 113 114 115 116 117 118 119 120 121 122 123 124 125 126\n",
      " 127 128 129 130 131 132 133 134 135 136 137 138 139 140 141 142 143 144\n",
      " 145 146 147 148 149 150] \n",
      "  Parameters: {'learning_rate': 0.1}\n",
      "  Backtesting metric: 4.2152391941507463e-10\n",
      "\n",
      "1607 of 1782\n",
      "Number of models compared: 14.\n"
     ]
    },
    {
     "name": "stderr",
     "output_type": "stream",
     "text": [
      "lags grid: 100%|██████████████████████████████████████████████████████████████████████████| 7/7 [00:01<00:00,  4.62it/s]\n"
     ]
    },
    {
     "name": "stdout",
     "output_type": "stream",
     "text": [
      "`Forecaster` refitted using the best-found lags and parameters, and the whole data set: \n",
      "  Lags: [ 1  2  3  4  5  6  7  8  9 10 11 12 13 14 15 16 17 18 19 20] \n",
      "  Parameters: {'learning_rate': 0.1}\n",
      "  Backtesting metric: 9.996394108789716e-09\n",
      "\n",
      "1608 of 1782\n",
      "Number of models compared: 14.\n"
     ]
    },
    {
     "name": "stderr",
     "output_type": "stream",
     "text": [
      "lags grid: 100%|██████████████████████████████████████████████████████████████████████████| 7/7 [00:01<00:00,  4.68it/s]\n"
     ]
    },
    {
     "name": "stdout",
     "output_type": "stream",
     "text": [
      "`Forecaster` refitted using the best-found lags and parameters, and the whole data set: \n",
      "  Lags: [  1   2   3   4   5   6   7   8   9  10  11  12  13  14  15  16  17  18\n",
      "  19  20  21  22  23  24  25  26  27  28  29  30  31  32  33  34  35  36\n",
      "  37  38  39  40  41  42  43  44  45  46  47  48  49  50  51  52  53  54\n",
      "  55  56  57  58  59  60  61  62  63  64  65  66  67  68  69  70  71  72\n",
      "  73  74  75  76  77  78  79  80  81  82  83  84  85  86  87  88  89  90\n",
      "  91  92  93  94  95  96  97  98  99 100] \n",
      "  Parameters: {'learning_rate': 0.01}\n",
      "  Backtesting metric: 3.4592740535784353e-09\n",
      "\n",
      "1609 of 1782\n",
      "Number of models compared: 14.\n"
     ]
    },
    {
     "name": "stderr",
     "output_type": "stream",
     "text": [
      "lags grid: 100%|██████████████████████████████████████████████████████████████████████████| 7/7 [00:01<00:00,  6.86it/s]\n"
     ]
    },
    {
     "name": "stdout",
     "output_type": "stream",
     "text": [
      "`Forecaster` refitted using the best-found lags and parameters, and the whole data set: \n",
      "  Lags: [  1   2   3   4   5   6   7   8   9  10  11  12  13  14  15  16  17  18\n",
      "  19  20  21  22  23  24  25  26  27  28  29  30  31  32  33  34  35  36\n",
      "  37  38  39  40  41  42  43  44  45  46  47  48  49  50  51  52  53  54\n",
      "  55  56  57  58  59  60  61  62  63  64  65  66  67  68  69  70  71  72\n",
      "  73  74  75  76  77  78  79  80  81  82  83  84  85  86  87  88  89  90\n",
      "  91  92  93  94  95  96  97  98  99 100] \n",
      "  Parameters: {'learning_rate': 0.1}\n",
      "  Backtesting metric: 1.809843029888498e-09\n",
      "\n",
      "1610 of 1782\n",
      "Number of models compared: 14.\n"
     ]
    },
    {
     "name": "stderr",
     "output_type": "stream",
     "text": [
      "lags grid: 100%|██████████████████████████████████████████████████████████████████████████| 7/7 [00:01<00:00,  6.36it/s]\n"
     ]
    },
    {
     "name": "stdout",
     "output_type": "stream",
     "text": [
      "`Forecaster` refitted using the best-found lags and parameters, and the whole data set: \n",
      "  Lags: [  1   2   3   4   5   6   7   8   9  10  11  12  13  14  15  16  17  18\n",
      "  19  20  21  22  23  24  25  26  27  28  29  30  31  32  33  34  35  36\n",
      "  37  38  39  40  41  42  43  44  45  46  47  48  49  50  51  52  53  54\n",
      "  55  56  57  58  59  60  61  62  63  64  65  66  67  68  69  70  71  72\n",
      "  73  74  75  76  77  78  79  80  81  82  83  84  85  86  87  88  89  90\n",
      "  91  92  93  94  95  96  97  98  99 100 101 102 103 104 105 106 107 108\n",
      " 109 110 111 112 113 114 115 116 117 118 119 120 121 122 123 124 125 126\n",
      " 127 128 129 130 131 132 133 134 135 136 137 138 139 140 141 142 143 144\n",
      " 145 146 147 148 149 150] \n",
      "  Parameters: {'learning_rate': 0.1}\n",
      "  Backtesting metric: 4.185726557900626e-09\n",
      "\n",
      "1611 of 1782\n",
      "Number of models compared: 14.\n"
     ]
    },
    {
     "name": "stderr",
     "output_type": "stream",
     "text": [
      "lags grid: 100%|██████████████████████████████████████████████████████████████████████████| 7/7 [00:01<00:00,  4.85it/s]\n"
     ]
    },
    {
     "name": "stdout",
     "output_type": "stream",
     "text": [
      "`Forecaster` refitted using the best-found lags and parameters, and the whole data set: \n",
      "  Lags: [  1   2   3   4   5   6   7   8   9  10  11  12  13  14  15  16  17  18\n",
      "  19  20  21  22  23  24  25  26  27  28  29  30  31  32  33  34  35  36\n",
      "  37  38  39  40  41  42  43  44  45  46  47  48  49  50  51  52  53  54\n",
      "  55  56  57  58  59  60  61  62  63  64  65  66  67  68  69  70  71  72\n",
      "  73  74  75  76  77  78  79  80  81  82  83  84  85  86  87  88  89  90\n",
      "  91  92  93  94  95  96  97  98  99 100 101 102 103 104 105 106 107 108\n",
      " 109 110 111 112 113 114 115 116 117 118 119 120 121 122 123 124 125 126\n",
      " 127 128 129 130 131 132 133 134 135 136 137 138 139 140 141 142 143 144\n",
      " 145 146 147 148 149 150] \n",
      "  Parameters: {'learning_rate': 0.1}\n",
      "  Backtesting metric: 8.283842779188096e-09\n",
      "\n",
      "1612 of 1782\n",
      "Number of models compared: 14.\n"
     ]
    },
    {
     "name": "stderr",
     "output_type": "stream",
     "text": [
      "lags grid: 100%|██████████████████████████████████████████████████████████████████████████| 7/7 [00:01<00:00,  4.61it/s]\n"
     ]
    },
    {
     "name": "stdout",
     "output_type": "stream",
     "text": [
      "`Forecaster` refitted using the best-found lags and parameters, and the whole data set: \n",
      "  Lags: [ 1  2  3  4  5  7  9 13 15 20 30 31 29 28 50] \n",
      "  Parameters: {'learning_rate': 0.1}\n",
      "  Backtesting metric: 1.815656359412369e-09\n",
      "\n",
      "1613 of 1782\n",
      "Number of models compared: 14.\n"
     ]
    },
    {
     "name": "stderr",
     "output_type": "stream",
     "text": [
      "lags grid: 100%|██████████████████████████████████████████████████████████████████████████| 7/7 [00:01<00:00,  4.80it/s]\n"
     ]
    },
    {
     "name": "stdout",
     "output_type": "stream",
     "text": [
      "`Forecaster` refitted using the best-found lags and parameters, and the whole data set: \n",
      "  Lags: [ 1  2  3  4  5  6  7  8  9 10 11 12 13 14 15 16 17 18 19 20 21 22 23 24\n",
      " 25 26 27 28 29 30] \n",
      "  Parameters: {'learning_rate': 0.1}\n",
      "  Backtesting metric: 1.0308803458200914e-07\n",
      "\n",
      "1614 of 1782\n",
      "Number of models compared: 14.\n"
     ]
    },
    {
     "name": "stderr",
     "output_type": "stream",
     "text": [
      "lags grid: 100%|██████████████████████████████████████████████████████████████████████████| 7/7 [00:01<00:00,  6.73it/s]\n"
     ]
    },
    {
     "name": "stdout",
     "output_type": "stream",
     "text": [
      "`Forecaster` refitted using the best-found lags and parameters, and the whole data set: \n",
      "  Lags: [  1   2   3   4   5   6   7   8   9  10  11  12  13  14  15  16  17  18\n",
      "  19  20  21  22  23  24  25  26  27  28  29  30  31  32  33  34  35  36\n",
      "  37  38  39  40  41  42  43  44  45  46  47  48  49  50  51  52  53  54\n",
      "  55  56  57  58  59  60  61  62  63  64  65  66  67  68  69  70  71  72\n",
      "  73  74  75  76  77  78  79  80  81  82  83  84  85  86  87  88  89  90\n",
      "  91  92  93  94  95  96  97  98  99 100] \n",
      "  Parameters: {'learning_rate': 0.1}\n",
      "  Backtesting metric: 1.3762278270056382e-07\n",
      "\n",
      "1615 of 1782\n",
      "Number of models compared: 14.\n"
     ]
    },
    {
     "name": "stderr",
     "output_type": "stream",
     "text": [
      "lags grid: 100%|██████████████████████████████████████████████████████████████████████████| 7/7 [00:01<00:00,  4.61it/s]\n"
     ]
    },
    {
     "name": "stdout",
     "output_type": "stream",
     "text": [
      "`Forecaster` refitted using the best-found lags and parameters, and the whole data set: \n",
      "  Lags: [ 1  2  3  4  5  6  7  8  9 10 11 12 13 14 15 16 17 18 19 20 21 22 23 24\n",
      " 25 26 27 28 29 30 31 32 33 34 35 36 37 38 39 40 41 42 43 44 45 46 47 48\n",
      " 49 50] \n",
      "  Parameters: {'learning_rate': 0.1}\n",
      "  Backtesting metric: 1.0127959099251813e-08\n",
      "\n",
      "1616 of 1782\n",
      "Number of models compared: 14.\n"
     ]
    },
    {
     "name": "stderr",
     "output_type": "stream",
     "text": [
      "lags grid: 100%|██████████████████████████████████████████████████████████████████████████| 7/7 [00:00<00:00,  7.32it/s]\n"
     ]
    },
    {
     "name": "stdout",
     "output_type": "stream",
     "text": [
      "`Forecaster` refitted using the best-found lags and parameters, and the whole data set: \n",
      "  Lags: [  1   2   3   4   5   6   7   8   9  10  11  12  13  14  15  16  17  18\n",
      "  19  20  21  22  23  24  25  26  27  28  29  30  31  32  33  34  35  36\n",
      "  37  38  39  40  41  42  43  44  45  46  47  48  49  50  51  52  53  54\n",
      "  55  56  57  58  59  60  61  62  63  64  65  66  67  68  69  70  71  72\n",
      "  73  74  75  76  77  78  79  80  81  82  83  84  85  86  87  88  89  90\n",
      "  91  92  93  94  95  96  97  98  99 100 101 102 103 104 105 106 107 108\n",
      " 109 110 111 112 113 114 115 116 117 118 119 120 121 122 123 124 125 126\n",
      " 127 128 129 130 131 132 133 134 135 136 137 138 139 140 141 142 143 144\n",
      " 145 146 147 148 149 150] \n",
      "  Parameters: {'learning_rate': 0.01}\n",
      "  Backtesting metric: 2.7811881523298494e-12\n",
      "\n",
      "1617 of 1782\n",
      "Number of models compared: 14.\n"
     ]
    },
    {
     "name": "stderr",
     "output_type": "stream",
     "text": [
      "lags grid: 100%|██████████████████████████████████████████████████████████████████████████| 7/7 [00:00<00:00, 33.09it/s]\n"
     ]
    },
    {
     "name": "stdout",
     "output_type": "stream",
     "text": [
      "`Forecaster` refitted using the best-found lags and parameters, and the whole data set: \n",
      "  Lags: [ 1  2  3  4  5  6  7  8  9 10 11 12 13 14 15 16 17 18 19 20 21 22 23 24\n",
      " 25 26 27 28 29 30] \n",
      "  Parameters: {'learning_rate': 0.01}\n",
      "  Backtesting metric: 0.0\n",
      "\n",
      "1618 of 1782\n",
      "Number of models compared: 14.\n"
     ]
    },
    {
     "name": "stderr",
     "output_type": "stream",
     "text": [
      "lags grid: 100%|██████████████████████████████████████████████████████████████████████████| 7/7 [00:00<00:00,  7.06it/s]\n"
     ]
    },
    {
     "name": "stdout",
     "output_type": "stream",
     "text": [
      "`Forecaster` refitted using the best-found lags and parameters, and the whole data set: \n",
      "  Lags: [ 1  2  3  4  5  6  7  8  9 10 11 12 13 14 15 16 17 18 19 20] \n",
      "  Parameters: {'learning_rate': 0.1}\n",
      "  Backtesting metric: 4.221489156634657e-10\n",
      "\n",
      "1619 of 1782\n",
      "Number of models compared: 14.\n"
     ]
    },
    {
     "name": "stderr",
     "output_type": "stream",
     "text": [
      "lags grid: 100%|██████████████████████████████████████████████████████████████████████████| 7/7 [00:01<00:00,  4.18it/s]\n"
     ]
    },
    {
     "name": "stdout",
     "output_type": "stream",
     "text": [
      "`Forecaster` refitted using the best-found lags and parameters, and the whole data set: \n",
      "  Lags: [  1   2   3   4   5   6   7   8   9  10  11  12  13  14  15  16  17  18\n",
      "  19  20  21  22  23  24  25  26  27  28  29  30  31  32  33  34  35  36\n",
      "  37  38  39  40  41  42  43  44  45  46  47  48  49  50  51  52  53  54\n",
      "  55  56  57  58  59  60  61  62  63  64  65  66  67  68  69  70  71  72\n",
      "  73  74  75  76  77  78  79  80  81  82  83  84  85  86  87  88  89  90\n",
      "  91  92  93  94  95  96  97  98  99 100 101 102 103 104 105 106 107 108\n",
      " 109 110 111 112 113 114 115 116 117 118 119 120 121 122 123 124 125 126\n",
      " 127 128 129 130 131 132 133 134 135 136 137 138 139 140 141 142 143 144\n",
      " 145 146 147 148 149 150] \n",
      "  Parameters: {'learning_rate': 0.1}\n",
      "  Backtesting metric: 2.258539677382572e-07\n",
      "\n",
      "1620 of 1782\n",
      "Number of models compared: 14.\n"
     ]
    },
    {
     "name": "stderr",
     "output_type": "stream",
     "text": [
      "lags grid: 100%|██████████████████████████████████████████████████████████████████████████| 7/7 [00:00<00:00,  7.58it/s]\n"
     ]
    },
    {
     "name": "stdout",
     "output_type": "stream",
     "text": [
      "`Forecaster` refitted using the best-found lags and parameters, and the whole data set: \n",
      "  Lags: [ 1  2  3  4  5  6  7  8  9 10 11 12 13 14 15 16 17 18 19 20] \n",
      "  Parameters: {'learning_rate': 0.1}\n",
      "  Backtesting metric: 1.1099726950218396e-12\n",
      "\n",
      "1621 of 1782\n",
      "Number of models compared: 14.\n"
     ]
    },
    {
     "name": "stderr",
     "output_type": "stream",
     "text": [
      "lags grid: 100%|██████████████████████████████████████████████████████████████████████████| 7/7 [00:01<00:00,  4.45it/s]\n"
     ]
    },
    {
     "name": "stdout",
     "output_type": "stream",
     "text": [
      "`Forecaster` refitted using the best-found lags and parameters, and the whole data set: \n",
      "  Lags: [ 1  2  3  4  5  6  7  8  9 10 11 12 13 14 15 16 17 18 19 20 21 22 23 24\n",
      " 25 26 27 28 29 30 31 32 33 34 35 36 37 38 39 40 41 42 43 44 45 46 47 48\n",
      " 49 50] \n",
      "  Parameters: {'learning_rate': 0.1}\n",
      "  Backtesting metric: 2.226038126999065e-08\n",
      "\n",
      "1622 of 1782\n",
      "Number of models compared: 14.\n"
     ]
    },
    {
     "name": "stderr",
     "output_type": "stream",
     "text": [
      "lags grid: 100%|██████████████████████████████████████████████████████████████████████████| 7/7 [00:01<00:00,  6.13it/s]\n"
     ]
    },
    {
     "name": "stdout",
     "output_type": "stream",
     "text": [
      "`Forecaster` refitted using the best-found lags and parameters, and the whole data set: \n",
      "  Lags: [ 1  2  3  4  5  7  9 13 15 20 30 31 29 28 50] \n",
      "  Parameters: {'learning_rate': 0.1}\n",
      "  Backtesting metric: 3.6421532698462277e-09\n",
      "\n",
      "1623 of 1782\n",
      "Number of models compared: 14.\n"
     ]
    },
    {
     "name": "stderr",
     "output_type": "stream",
     "text": [
      "lags grid: 100%|██████████████████████████████████████████████████████████████████████████| 7/7 [00:01<00:00,  4.61it/s]\n"
     ]
    },
    {
     "name": "stdout",
     "output_type": "stream",
     "text": [
      "`Forecaster` refitted using the best-found lags and parameters, and the whole data set: \n",
      "  Lags: [ 1  2  3  4  5  6  7  8  9 10 11 12 13 14 15 16 17 18 19 20] \n",
      "  Parameters: {'learning_rate': 0.1}\n",
      "  Backtesting metric: 1.2414193347618523e-09\n",
      "\n",
      "1624 of 1782\n",
      "Number of models compared: 14.\n"
     ]
    },
    {
     "name": "stderr",
     "output_type": "stream",
     "text": [
      "lags grid: 100%|██████████████████████████████████████████████████████████████████████████| 7/7 [00:01<00:00,  4.90it/s]\n"
     ]
    },
    {
     "name": "stdout",
     "output_type": "stream",
     "text": [
      "`Forecaster` refitted using the best-found lags and parameters, and the whole data set: \n",
      "  Lags: [ 1  2  3  4  5  6  7  8  9 10 11 12 13 14 15 16 17 18 19 20] \n",
      "  Parameters: {'learning_rate': 0.01}\n",
      "  Backtesting metric: 5.714227406503795e-10\n",
      "\n",
      "1625 of 1782\n",
      "Number of models compared: 14.\n"
     ]
    },
    {
     "name": "stderr",
     "output_type": "stream",
     "text": [
      "lags grid: 100%|██████████████████████████████████████████████████████████████████████████| 7/7 [00:01<00:00,  4.70it/s]\n"
     ]
    },
    {
     "name": "stdout",
     "output_type": "stream",
     "text": [
      "`Forecaster` refitted using the best-found lags and parameters, and the whole data set: \n",
      "  Lags: [ 1  2  3  4  5  7  9 13 15 20 30 31 29 28 50] \n",
      "  Parameters: {'learning_rate': 0.1}\n",
      "  Backtesting metric: 1.77821152696551e-08\n",
      "\n",
      "1626 of 1782\n",
      "Number of models compared: 14.\n"
     ]
    },
    {
     "name": "stderr",
     "output_type": "stream",
     "text": [
      "lags grid: 100%|██████████████████████████████████████████████████████████████████████████| 7/7 [00:01<00:00,  5.82it/s]\n"
     ]
    },
    {
     "name": "stdout",
     "output_type": "stream",
     "text": [
      "`Forecaster` refitted using the best-found lags and parameters, and the whole data set: \n",
      "  Lags: [ 1  2  3  4  5  6  7  8  9 10] \n",
      "  Parameters: {'learning_rate': 0.1}\n",
      "  Backtesting metric: 1.4274998136347851e-09\n",
      "\n",
      "1627 of 1782\n",
      "Number of models compared: 14.\n"
     ]
    },
    {
     "name": "stderr",
     "output_type": "stream",
     "text": [
      "lags grid: 100%|██████████████████████████████████████████████████████████████████████████| 7/7 [00:01<00:00,  4.61it/s]\n"
     ]
    },
    {
     "name": "stdout",
     "output_type": "stream",
     "text": [
      "`Forecaster` refitted using the best-found lags and parameters, and the whole data set: \n",
      "  Lags: [ 1  2  3  4  5  7  9 13 15 20 30 31 29 28 50] \n",
      "  Parameters: {'learning_rate': 0.1}\n",
      "  Backtesting metric: 2.644359609590156e-08\n",
      "\n",
      "1628 of 1782\n",
      "Number of models compared: 14.\n"
     ]
    },
    {
     "name": "stderr",
     "output_type": "stream",
     "text": [
      "lags grid: 100%|██████████████████████████████████████████████████████████████████████████| 7/7 [00:01<00:00,  4.57it/s]\n"
     ]
    },
    {
     "name": "stdout",
     "output_type": "stream",
     "text": [
      "`Forecaster` refitted using the best-found lags and parameters, and the whole data set: \n",
      "  Lags: [  1   2   3   4   5   6   7   8   9  10  11  12  13  14  15  16  17  18\n",
      "  19  20  21  22  23  24  25  26  27  28  29  30  31  32  33  34  35  36\n",
      "  37  38  39  40  41  42  43  44  45  46  47  48  49  50  51  52  53  54\n",
      "  55  56  57  58  59  60  61  62  63  64  65  66  67  68  69  70  71  72\n",
      "  73  74  75  76  77  78  79  80  81  82  83  84  85  86  87  88  89  90\n",
      "  91  92  93  94  95  96  97  98  99 100] \n",
      "  Parameters: {'learning_rate': 0.1}\n",
      "  Backtesting metric: 4.0334942544564256e-07\n",
      "\n",
      "1629 of 1782\n",
      "Number of models compared: 14.\n"
     ]
    },
    {
     "name": "stderr",
     "output_type": "stream",
     "text": [
      "lags grid: 100%|██████████████████████████████████████████████████████████████████████████| 7/7 [00:01<00:00,  6.64it/s]\n"
     ]
    },
    {
     "name": "stdout",
     "output_type": "stream",
     "text": [
      "`Forecaster` refitted using the best-found lags and parameters, and the whole data set: \n",
      "  Lags: [ 1  2  3  4  5  7  9 13 15 20 30 31 29 28 50] \n",
      "  Parameters: {'learning_rate': 0.01}\n",
      "  Backtesting metric: 1.0318241141447441e-09\n",
      "\n",
      "1630 of 1782\n",
      "Number of models compared: 14.\n"
     ]
    },
    {
     "name": "stderr",
     "output_type": "stream",
     "text": [
      "lags grid: 100%|██████████████████████████████████████████████████████████████████████████| 7/7 [00:00<00:00,  7.55it/s]\n"
     ]
    },
    {
     "name": "stdout",
     "output_type": "stream",
     "text": [
      "`Forecaster` refitted using the best-found lags and parameters, and the whole data set: \n",
      "  Lags: [ 1  2  3  4  5  6  7  8  9 10] \n",
      "  Parameters: {'learning_rate': 0.1}\n",
      "  Backtesting metric: 2.400118763404236e-10\n",
      "\n",
      "1631 of 1782\n",
      "Number of models compared: 14.\n"
     ]
    },
    {
     "name": "stderr",
     "output_type": "stream",
     "text": [
      "lags grid: 100%|██████████████████████████████████████████████████████████████████████████| 7/7 [00:01<00:00,  5.84it/s]\n"
     ]
    },
    {
     "name": "stdout",
     "output_type": "stream",
     "text": [
      "`Forecaster` refitted using the best-found lags and parameters, and the whole data set: \n",
      "  Lags: [ 1  2  3  4  5  6  7  8  9 10 11 12 13 14 15 16 17 18 19 20 21 22 23 24\n",
      " 25 26 27 28 29 30] \n",
      "  Parameters: {'learning_rate': 0.1}\n",
      "  Backtesting metric: 4.114574466055148e-08\n",
      "\n",
      "1632 of 1782\n",
      "Number of models compared: 14.\n"
     ]
    },
    {
     "name": "stderr",
     "output_type": "stream",
     "text": [
      "lags grid: 100%|██████████████████████████████████████████████████████████████████████████| 7/7 [00:01<00:00,  5.91it/s]\n"
     ]
    },
    {
     "name": "stdout",
     "output_type": "stream",
     "text": [
      "`Forecaster` refitted using the best-found lags and parameters, and the whole data set: \n",
      "  Lags: [ 1  2  3  4  5  6  7  8  9 10 11 12 13 14 15 16 17 18 19 20] \n",
      "  Parameters: {'learning_rate': 0.1}\n",
      "  Backtesting metric: 4.630757720603068e-09\n",
      "\n",
      "1633 of 1782\n",
      "Number of models compared: 14.\n"
     ]
    },
    {
     "name": "stderr",
     "output_type": "stream",
     "text": [
      "lags grid: 100%|██████████████████████████████████████████████████████████████████████████| 7/7 [00:00<00:00,  7.87it/s]\n"
     ]
    },
    {
     "name": "stdout",
     "output_type": "stream",
     "text": [
      "`Forecaster` refitted using the best-found lags and parameters, and the whole data set: \n",
      "  Lags: [ 1  2  3  4  5  6  7  8  9 10] \n",
      "  Parameters: {'learning_rate': 0.1}\n",
      "  Backtesting metric: 4.825536671849167e-16\n",
      "\n",
      "1634 of 1782\n",
      "Number of models compared: 14.\n"
     ]
    },
    {
     "name": "stderr",
     "output_type": "stream",
     "text": [
      "lags grid: 100%|██████████████████████████████████████████████████████████████████████████| 7/7 [00:01<00:00,  4.67it/s]\n"
     ]
    },
    {
     "name": "stdout",
     "output_type": "stream",
     "text": [
      "`Forecaster` refitted using the best-found lags and parameters, and the whole data set: \n",
      "  Lags: [  1   2   3   4   5   6   7   8   9  10  11  12  13  14  15  16  17  18\n",
      "  19  20  21  22  23  24  25  26  27  28  29  30  31  32  33  34  35  36\n",
      "  37  38  39  40  41  42  43  44  45  46  47  48  49  50  51  52  53  54\n",
      "  55  56  57  58  59  60  61  62  63  64  65  66  67  68  69  70  71  72\n",
      "  73  74  75  76  77  78  79  80  81  82  83  84  85  86  87  88  89  90\n",
      "  91  92  93  94  95  96  97  98  99 100] \n",
      "  Parameters: {'learning_rate': 0.01}\n",
      "  Backtesting metric: 6.471161073319429e-08\n",
      "\n",
      "1635 of 1782\n",
      "Number of models compared: 14.\n"
     ]
    },
    {
     "name": "stderr",
     "output_type": "stream",
     "text": [
      "lags grid: 100%|██████████████████████████████████████████████████████████████████████████| 7/7 [00:00<00:00,  7.21it/s]\n"
     ]
    },
    {
     "name": "stdout",
     "output_type": "stream",
     "text": [
      "`Forecaster` refitted using the best-found lags and parameters, and the whole data set: \n",
      "  Lags: [ 1  2  3  4  5  6  7  8  9 10] \n",
      "  Parameters: {'learning_rate': 0.01}\n",
      "  Backtesting metric: 1.3084218710528024e-08\n",
      "\n",
      "1636 of 1782\n",
      "Number of models compared: 14.\n"
     ]
    },
    {
     "name": "stderr",
     "output_type": "stream",
     "text": [
      "lags grid: 100%|██████████████████████████████████████████████████████████████████████████| 7/7 [00:00<00:00,  7.26it/s]\n"
     ]
    },
    {
     "name": "stdout",
     "output_type": "stream",
     "text": [
      "`Forecaster` refitted using the best-found lags and parameters, and the whole data set: \n",
      "  Lags: [ 1  2  3  4  5  6  7  8  9 10] \n",
      "  Parameters: {'learning_rate': 0.1}\n",
      "  Backtesting metric: 8.710036123582261e-11\n",
      "\n",
      "1637 of 1782\n",
      "Number of models compared: 14.\n"
     ]
    },
    {
     "name": "stderr",
     "output_type": "stream",
     "text": [
      "lags grid: 100%|██████████████████████████████████████████████████████████████████████████| 7/7 [00:00<00:00,  7.06it/s]\n"
     ]
    },
    {
     "name": "stdout",
     "output_type": "stream",
     "text": [
      "`Forecaster` refitted using the best-found lags and parameters, and the whole data set: \n",
      "  Lags: [  1   2   3   4   5   6   7   8   9  10  11  12  13  14  15  16  17  18\n",
      "  19  20  21  22  23  24  25  26  27  28  29  30  31  32  33  34  35  36\n",
      "  37  38  39  40  41  42  43  44  45  46  47  48  49  50  51  52  53  54\n",
      "  55  56  57  58  59  60  61  62  63  64  65  66  67  68  69  70  71  72\n",
      "  73  74  75  76  77  78  79  80  81  82  83  84  85  86  87  88  89  90\n",
      "  91  92  93  94  95  96  97  98  99 100 101 102 103 104 105 106 107 108\n",
      " 109 110 111 112 113 114 115 116 117 118 119 120 121 122 123 124 125 126\n",
      " 127 128 129 130 131 132 133 134 135 136 137 138 139 140 141 142 143 144\n",
      " 145 146 147 148 149 150] \n",
      "  Parameters: {'learning_rate': 0.1}\n",
      "  Backtesting metric: 1.2605876300075712e-10\n",
      "\n",
      "1638 of 1782\n",
      "Number of models compared: 14.\n"
     ]
    },
    {
     "name": "stderr",
     "output_type": "stream",
     "text": [
      "lags grid: 100%|██████████████████████████████████████████████████████████████████████████| 7/7 [00:01<00:00,  4.70it/s]\n"
     ]
    },
    {
     "name": "stdout",
     "output_type": "stream",
     "text": [
      "`Forecaster` refitted using the best-found lags and parameters, and the whole data set: \n",
      "  Lags: [ 1  2  3  4  5  6  7  8  9 10 11 12 13 14 15 16 17 18 19 20 21 22 23 24\n",
      " 25 26 27 28 29 30 31 32 33 34 35 36 37 38 39 40 41 42 43 44 45 46 47 48\n",
      " 49 50] \n",
      "  Parameters: {'learning_rate': 0.1}\n",
      "  Backtesting metric: 6.840086377011305e-09\n",
      "\n",
      "1639 of 1782\n",
      "Number of models compared: 14.\n"
     ]
    },
    {
     "name": "stderr",
     "output_type": "stream",
     "text": [
      "lags grid: 100%|██████████████████████████████████████████████████████████████████████████| 7/7 [00:00<00:00,  7.81it/s]\n"
     ]
    },
    {
     "name": "stdout",
     "output_type": "stream",
     "text": [
      "`Forecaster` refitted using the best-found lags and parameters, and the whole data set: \n",
      "  Lags: [ 1  2  3  4  5  6  7  8  9 10 11 12 13 14 15 16 17 18 19 20 21 22 23 24\n",
      " 25 26 27 28 29 30 31 32 33 34 35 36 37 38 39 40 41 42 43 44 45 46 47 48\n",
      " 49 50] \n",
      "  Parameters: {'learning_rate': 0.1}\n",
      "  Backtesting metric: 1.6161501984543397e-09\n",
      "\n",
      "1640 of 1782\n",
      "Number of models compared: 14.\n"
     ]
    },
    {
     "name": "stderr",
     "output_type": "stream",
     "text": [
      "lags grid: 100%|██████████████████████████████████████████████████████████████████████████| 7/7 [00:01<00:00,  4.83it/s]\n"
     ]
    },
    {
     "name": "stdout",
     "output_type": "stream",
     "text": [
      "`Forecaster` refitted using the best-found lags and parameters, and the whole data set: \n",
      "  Lags: [ 1  2  3  4  5  6  7  8  9 10] \n",
      "  Parameters: {'learning_rate': 0.1}\n",
      "  Backtesting metric: 7.06976763783436e-07\n",
      "\n",
      "1641 of 1782\n",
      "Number of models compared: 14.\n"
     ]
    },
    {
     "name": "stderr",
     "output_type": "stream",
     "text": [
      "lags grid: 100%|██████████████████████████████████████████████████████████████████████████| 7/7 [00:01<00:00,  4.81it/s]\n"
     ]
    },
    {
     "name": "stdout",
     "output_type": "stream",
     "text": [
      "`Forecaster` refitted using the best-found lags and parameters, and the whole data set: \n",
      "  Lags: [ 1  2  3  4  5  6  7  8  9 10] \n",
      "  Parameters: {'learning_rate': 0.1}\n",
      "  Backtesting metric: 2.845742524446247e-07\n",
      "\n",
      "1642 of 1782\n",
      "Number of models compared: 14.\n"
     ]
    },
    {
     "name": "stderr",
     "output_type": "stream",
     "text": [
      "lags grid: 100%|██████████████████████████████████████████████████████████████████████████| 7/7 [00:00<00:00,  7.32it/s]\n"
     ]
    },
    {
     "name": "stdout",
     "output_type": "stream",
     "text": [
      "`Forecaster` refitted using the best-found lags and parameters, and the whole data set: \n",
      "  Lags: [  1   2   3   4   5   6   7   8   9  10  11  12  13  14  15  16  17  18\n",
      "  19  20  21  22  23  24  25  26  27  28  29  30  31  32  33  34  35  36\n",
      "  37  38  39  40  41  42  43  44  45  46  47  48  49  50  51  52  53  54\n",
      "  55  56  57  58  59  60  61  62  63  64  65  66  67  68  69  70  71  72\n",
      "  73  74  75  76  77  78  79  80  81  82  83  84  85  86  87  88  89  90\n",
      "  91  92  93  94  95  96  97  98  99 100 101 102 103 104 105 106 107 108\n",
      " 109 110 111 112 113 114 115 116 117 118 119 120 121 122 123 124 125 126\n",
      " 127 128 129 130 131 132 133 134 135 136 137 138 139 140 141 142 143 144\n",
      " 145 146 147 148 149 150] \n",
      "  Parameters: {'learning_rate': 0.01}\n",
      "  Backtesting metric: 1.7723565761272472e-09\n",
      "\n",
      "1643 of 1782\n",
      "Number of models compared: 14.\n"
     ]
    },
    {
     "name": "stderr",
     "output_type": "stream",
     "text": [
      "lags grid: 100%|██████████████████████████████████████████████████████████████████████████| 7/7 [00:00<00:00,  7.00it/s]\n"
     ]
    },
    {
     "name": "stdout",
     "output_type": "stream",
     "text": [
      "`Forecaster` refitted using the best-found lags and parameters, and the whole data set: \n",
      "  Lags: [ 1  2  3  4  5  6  7  8  9 10 11 12 13 14 15 16 17 18 19 20 21 22 23 24\n",
      " 25 26 27 28 29 30] \n",
      "  Parameters: {'learning_rate': 0.1}\n",
      "  Backtesting metric: 1.0033398795387075e-10\n",
      "\n",
      "1644 of 1782\n",
      "Number of models compared: 14.\n"
     ]
    },
    {
     "name": "stderr",
     "output_type": "stream",
     "text": [
      "lags grid: 100%|██████████████████████████████████████████████████████████████████████████| 7/7 [00:01<00:00,  4.68it/s]\n"
     ]
    },
    {
     "name": "stdout",
     "output_type": "stream",
     "text": [
      "`Forecaster` refitted using the best-found lags and parameters, and the whole data set: \n",
      "  Lags: [ 1  2  3  4  5  6  7  8  9 10] \n",
      "  Parameters: {'learning_rate': 0.01}\n",
      "  Backtesting metric: 3.175975651920248e-10\n",
      "\n",
      "1645 of 1782\n",
      "Number of models compared: 14.\n"
     ]
    },
    {
     "name": "stderr",
     "output_type": "stream",
     "text": [
      "lags grid: 100%|██████████████████████████████████████████████████████████████████████████| 7/7 [00:01<00:00,  4.58it/s]\n"
     ]
    },
    {
     "name": "stdout",
     "output_type": "stream",
     "text": [
      "`Forecaster` refitted using the best-found lags and parameters, and the whole data set: \n",
      "  Lags: [  1   2   3   4   5   6   7   8   9  10  11  12  13  14  15  16  17  18\n",
      "  19  20  21  22  23  24  25  26  27  28  29  30  31  32  33  34  35  36\n",
      "  37  38  39  40  41  42  43  44  45  46  47  48  49  50  51  52  53  54\n",
      "  55  56  57  58  59  60  61  62  63  64  65  66  67  68  69  70  71  72\n",
      "  73  74  75  76  77  78  79  80  81  82  83  84  85  86  87  88  89  90\n",
      "  91  92  93  94  95  96  97  98  99 100 101 102 103 104 105 106 107 108\n",
      " 109 110 111 112 113 114 115 116 117 118 119 120 121 122 123 124 125 126\n",
      " 127 128 129 130 131 132 133 134 135 136 137 138 139 140 141 142 143 144\n",
      " 145 146 147 148 149 150] \n",
      "  Parameters: {'learning_rate': 0.1}\n",
      "  Backtesting metric: 3.0338009592525655e-09\n",
      "\n",
      "1646 of 1782\n",
      "Number of models compared: 14.\n"
     ]
    },
    {
     "name": "stderr",
     "output_type": "stream",
     "text": [
      "lags grid: 100%|██████████████████████████████████████████████████████████████████████████| 7/7 [00:01<00:00,  4.64it/s]\n"
     ]
    },
    {
     "name": "stdout",
     "output_type": "stream",
     "text": [
      "`Forecaster` refitted using the best-found lags and parameters, and the whole data set: \n",
      "  Lags: [ 1  2  3  4  5  6  7  8  9 10] \n",
      "  Parameters: {'learning_rate': 0.1}\n",
      "  Backtesting metric: 7.43572031107083e-08\n",
      "\n",
      "1647 of 1782\n",
      "Number of models compared: 14.\n"
     ]
    },
    {
     "name": "stderr",
     "output_type": "stream",
     "text": [
      "lags grid: 100%|██████████████████████████████████████████████████████████████████████████| 7/7 [00:01<00:00,  6.80it/s]\n"
     ]
    },
    {
     "name": "stdout",
     "output_type": "stream",
     "text": [
      "`Forecaster` refitted using the best-found lags and parameters, and the whole data set: \n",
      "  Lags: [ 1  2  3  4  5  7  9 13 15 20 30 31 29 28 50] \n",
      "  Parameters: {'learning_rate': 0.1}\n",
      "  Backtesting metric: 4.744907848138266e-07\n",
      "\n",
      "1648 of 1782\n",
      "Number of models compared: 14.\n"
     ]
    },
    {
     "name": "stderr",
     "output_type": "stream",
     "text": [
      "lags grid: 100%|██████████████████████████████████████████████████████████████████████████| 7/7 [00:01<00:00,  4.65it/s]\n"
     ]
    },
    {
     "name": "stdout",
     "output_type": "stream",
     "text": [
      "`Forecaster` refitted using the best-found lags and parameters, and the whole data set: \n",
      "  Lags: [ 1  2  3  4  5  6  7  8  9 10 11 12 13 14 15 16 17 18 19 20 21 22 23 24\n",
      " 25 26 27 28 29 30 31 32 33 34 35 36 37 38 39 40 41 42 43 44 45 46 47 48\n",
      " 49 50] \n",
      "  Parameters: {'learning_rate': 0.1}\n",
      "  Backtesting metric: 8.249882753164381e-13\n",
      "\n",
      "1649 of 1782\n",
      "Number of models compared: 14.\n"
     ]
    },
    {
     "name": "stderr",
     "output_type": "stream",
     "text": [
      "lags grid: 100%|██████████████████████████████████████████████████████████████████████████| 7/7 [00:00<00:00,  7.29it/s]\n"
     ]
    },
    {
     "name": "stdout",
     "output_type": "stream",
     "text": [
      "`Forecaster` refitted using the best-found lags and parameters, and the whole data set: \n",
      "  Lags: [  1   2   3   4   5   6   7   8   9  10  11  12  13  14  15  16  17  18\n",
      "  19  20  21  22  23  24  25  26  27  28  29  30  31  32  33  34  35  36\n",
      "  37  38  39  40  41  42  43  44  45  46  47  48  49  50  51  52  53  54\n",
      "  55  56  57  58  59  60  61  62  63  64  65  66  67  68  69  70  71  72\n",
      "  73  74  75  76  77  78  79  80  81  82  83  84  85  86  87  88  89  90\n",
      "  91  92  93  94  95  96  97  98  99 100 101 102 103 104 105 106 107 108\n",
      " 109 110 111 112 113 114 115 116 117 118 119 120 121 122 123 124 125 126\n",
      " 127 128 129 130 131 132 133 134 135 136 137 138 139 140 141 142 143 144\n",
      " 145 146 147 148 149 150] \n",
      "  Parameters: {'learning_rate': 0.01}\n",
      "  Backtesting metric: 5.19172051312744e-10\n",
      "\n",
      "1650 of 1782\n",
      "Number of models compared: 14.\n"
     ]
    },
    {
     "name": "stderr",
     "output_type": "stream",
     "text": [
      "lags grid: 100%|██████████████████████████████████████████████████████████████████████████| 7/7 [00:00<00:00, 36.78it/s]\n"
     ]
    },
    {
     "name": "stdout",
     "output_type": "stream",
     "text": [
      "`Forecaster` refitted using the best-found lags and parameters, and the whole data set: \n",
      "  Lags: [ 1  2  3  4  5  6  7  8  9 10 11 12 13 14 15 16 17 18 19 20 21 22 23 24\n",
      " 25 26 27 28 29 30] \n",
      "  Parameters: {'learning_rate': 0.01}\n",
      "  Backtesting metric: 0.0\n",
      "\n",
      "1651 of 1782\n",
      "Number of models compared: 14.\n"
     ]
    },
    {
     "name": "stderr",
     "output_type": "stream",
     "text": [
      "lags grid: 100%|██████████████████████████████████████████████████████████████████████████| 7/7 [00:00<00:00,  7.51it/s]\n"
     ]
    },
    {
     "name": "stdout",
     "output_type": "stream",
     "text": [
      "`Forecaster` refitted using the best-found lags and parameters, and the whole data set: \n",
      "  Lags: [ 1  2  3  4  5  7  9 13 15 20 30 31 29 28 50] \n",
      "  Parameters: {'learning_rate': 0.1}\n",
      "  Backtesting metric: 3.8541084876314927e-10\n",
      "\n",
      "1652 of 1782\n",
      "Number of models compared: 14.\n"
     ]
    },
    {
     "name": "stderr",
     "output_type": "stream",
     "text": [
      "lags grid: 100%|██████████████████████████████████████████████████████████████████████████| 7/7 [00:01<00:00,  4.85it/s]\n"
     ]
    },
    {
     "name": "stdout",
     "output_type": "stream",
     "text": [
      "`Forecaster` refitted using the best-found lags and parameters, and the whole data set: \n",
      "  Lags: [ 1  2  3  4  5  6  7  8  9 10 11 12 13 14 15 16 17 18 19 20] \n",
      "  Parameters: {'learning_rate': 0.01}\n",
      "  Backtesting metric: 6.829992294830395e-10\n",
      "\n",
      "1653 of 1782\n",
      "Number of models compared: 14.\n"
     ]
    },
    {
     "name": "stderr",
     "output_type": "stream",
     "text": [
      "lags grid: 100%|██████████████████████████████████████████████████████████████████████████| 7/7 [00:00<00:00,  8.69it/s]\n"
     ]
    },
    {
     "name": "stdout",
     "output_type": "stream",
     "text": [
      "`Forecaster` refitted using the best-found lags and parameters, and the whole data set: \n",
      "  Lags: [ 1  2  3  4  5  6  7  8  9 10] \n",
      "  Parameters: {'learning_rate': 0.1}\n",
      "  Backtesting metric: 6.827904459697068e-12\n",
      "\n",
      "1654 of 1782\n",
      "Number of models compared: 14.\n"
     ]
    },
    {
     "name": "stderr",
     "output_type": "stream",
     "text": [
      "lags grid: 100%|██████████████████████████████████████████████████████████████████████████| 7/7 [00:01<00:00,  4.84it/s]\n"
     ]
    },
    {
     "name": "stdout",
     "output_type": "stream",
     "text": [
      "`Forecaster` refitted using the best-found lags and parameters, and the whole data set: \n",
      "  Lags: [ 1  2  3  4  5  6  7  8  9 10] \n",
      "  Parameters: {'learning_rate': 0.1}\n",
      "  Backtesting metric: 2.411580064415056e-08\n",
      "\n",
      "1655 of 1782\n",
      "Number of models compared: 14.\n"
     ]
    },
    {
     "name": "stderr",
     "output_type": "stream",
     "text": [
      "lags grid: 100%|██████████████████████████████████████████████████████████████████████████| 7/7 [00:00<00:00,  7.06it/s]\n"
     ]
    },
    {
     "name": "stdout",
     "output_type": "stream",
     "text": [
      "`Forecaster` refitted using the best-found lags and parameters, and the whole data set: \n",
      "  Lags: [ 1  2  3  4  5  7  9 13 15 20 30 31 29 28 50] \n",
      "  Parameters: {'learning_rate': 0.01}\n",
      "  Backtesting metric: 9.21455205322079e-10\n",
      "\n",
      "1656 of 1782\n",
      "Number of models compared: 14.\n"
     ]
    },
    {
     "name": "stderr",
     "output_type": "stream",
     "text": [
      "lags grid: 100%|██████████████████████████████████████████████████████████████████████████| 7/7 [00:01<00:00,  4.68it/s]\n"
     ]
    },
    {
     "name": "stdout",
     "output_type": "stream",
     "text": [
      "`Forecaster` refitted using the best-found lags and parameters, and the whole data set: \n",
      "  Lags: [ 1  2  3  4  5  6  7  8  9 10 11 12 13 14 15 16 17 18 19 20 21 22 23 24\n",
      " 25 26 27 28 29 30 31 32 33 34 35 36 37 38 39 40 41 42 43 44 45 46 47 48\n",
      " 49 50] \n",
      "  Parameters: {'learning_rate': 0.01}\n",
      "  Backtesting metric: 4.807174788120026e-09\n",
      "\n",
      "1657 of 1782\n",
      "Number of models compared: 14.\n"
     ]
    },
    {
     "name": "stderr",
     "output_type": "stream",
     "text": [
      "lags grid: 100%|██████████████████████████████████████████████████████████████████████████| 7/7 [00:01<00:00,  4.21it/s]\n"
     ]
    },
    {
     "name": "stdout",
     "output_type": "stream",
     "text": [
      "`Forecaster` refitted using the best-found lags and parameters, and the whole data set: \n",
      "  Lags: [ 1  2  3  4  5  6  7  8  9 10 11 12 13 14 15 16 17 18 19 20] \n",
      "  Parameters: {'learning_rate': 0.01}\n",
      "  Backtesting metric: 1.9606018506322448e-11\n",
      "\n",
      "1658 of 1782\n",
      "Number of models compared: 14.\n"
     ]
    },
    {
     "name": "stderr",
     "output_type": "stream",
     "text": [
      "lags grid: 100%|██████████████████████████████████████████████████████████████████████████| 7/7 [00:01<00:00,  3.92it/s]\n"
     ]
    },
    {
     "name": "stdout",
     "output_type": "stream",
     "text": [
      "`Forecaster` refitted using the best-found lags and parameters, and the whole data set: \n",
      "  Lags: [ 1  2  3  4  5  6  7  8  9 10 11 12 13 14 15 16 17 18 19 20] \n",
      "  Parameters: {'learning_rate': 0.01}\n",
      "  Backtesting metric: 1.0105517215646199e-11\n",
      "\n",
      "1659 of 1782\n",
      "Number of models compared: 14.\n"
     ]
    },
    {
     "name": "stderr",
     "output_type": "stream",
     "text": [
      "lags grid: 100%|██████████████████████████████████████████████████████████████████████████| 7/7 [00:01<00:00,  4.63it/s]\n"
     ]
    },
    {
     "name": "stdout",
     "output_type": "stream",
     "text": [
      "`Forecaster` refitted using the best-found lags and parameters, and the whole data set: \n",
      "  Lags: [ 1  2  3  4  5  6  7  8  9 10 11 12 13 14 15 16 17 18 19 20 21 22 23 24\n",
      " 25 26 27 28 29 30 31 32 33 34 35 36 37 38 39 40 41 42 43 44 45 46 47 48\n",
      " 49 50] \n",
      "  Parameters: {'learning_rate': 0.01}\n",
      "  Backtesting metric: 8.479329001053183e-08\n",
      "\n",
      "1660 of 1782\n",
      "Number of models compared: 14.\n"
     ]
    },
    {
     "name": "stderr",
     "output_type": "stream",
     "text": [
      "lags grid: 100%|██████████████████████████████████████████████████████████████████████████| 7/7 [00:01<00:00,  4.70it/s]\n"
     ]
    },
    {
     "name": "stdout",
     "output_type": "stream",
     "text": [
      "`Forecaster` refitted using the best-found lags and parameters, and the whole data set: \n",
      "  Lags: [ 1  2  3  4  5  6  7  8  9 10] \n",
      "  Parameters: {'learning_rate': 0.1}\n",
      "  Backtesting metric: 8.4946284383481e-09\n",
      "\n",
      "1661 of 1782\n",
      "Number of models compared: 14.\n"
     ]
    },
    {
     "name": "stderr",
     "output_type": "stream",
     "text": [
      "lags grid: 100%|██████████████████████████████████████████████████████████████████████████| 7/7 [00:01<00:00,  4.37it/s]\n"
     ]
    },
    {
     "name": "stdout",
     "output_type": "stream",
     "text": [
      "`Forecaster` refitted using the best-found lags and parameters, and the whole data set: \n",
      "  Lags: [ 1  2  3  4  5  7  9 13 15 20 30 31 29 28 50] \n",
      "  Parameters: {'learning_rate': 0.01}\n",
      "  Backtesting metric: 1.6765993707764031e-06\n",
      "\n",
      "1662 of 1782\n",
      "Number of models compared: 14.\n"
     ]
    },
    {
     "name": "stderr",
     "output_type": "stream",
     "text": [
      "lags grid: 100%|██████████████████████████████████████████████████████████████████████████| 7/7 [00:01<00:00,  6.46it/s]\n"
     ]
    },
    {
     "name": "stdout",
     "output_type": "stream",
     "text": [
      "`Forecaster` refitted using the best-found lags and parameters, and the whole data set: \n",
      "  Lags: [ 1  2  3  4  5  6  7  8  9 10 11 12 13 14 15 16 17 18 19 20] \n",
      "  Parameters: {'learning_rate': 0.1}\n",
      "  Backtesting metric: 9.819209322031769e-08\n",
      "\n",
      "1663 of 1782\n",
      "Number of models compared: 14.\n"
     ]
    },
    {
     "name": "stderr",
     "output_type": "stream",
     "text": [
      "lags grid: 100%|██████████████████████████████████████████████████████████████████████████| 7/7 [00:00<00:00,  7.30it/s]\n"
     ]
    },
    {
     "name": "stdout",
     "output_type": "stream",
     "text": [
      "`Forecaster` refitted using the best-found lags and parameters, and the whole data set: \n",
      "  Lags: [ 1  2  3  4  5  6  7  8  9 10] \n",
      "  Parameters: {'learning_rate': 0.1}\n",
      "  Backtesting metric: 4.703593162317874e-11\n",
      "\n",
      "1664 of 1782\n",
      "Number of models compared: 14.\n"
     ]
    },
    {
     "name": "stderr",
     "output_type": "stream",
     "text": [
      "lags grid: 100%|██████████████████████████████████████████████████████████████████████████| 7/7 [00:01<00:00,  6.19it/s]\n"
     ]
    },
    {
     "name": "stdout",
     "output_type": "stream",
     "text": [
      "`Forecaster` refitted using the best-found lags and parameters, and the whole data set: \n",
      "  Lags: [ 1  2  3  4  5  6  7  8  9 10 11 12 13 14 15 16 17 18 19 20 21 22 23 24\n",
      " 25 26 27 28 29 30] \n",
      "  Parameters: {'learning_rate': 0.01}\n",
      "  Backtesting metric: 3.918510114355512e-08\n",
      "\n",
      "1665 of 1782\n",
      "Number of models compared: 14.\n"
     ]
    },
    {
     "name": "stderr",
     "output_type": "stream",
     "text": [
      "lags grid: 100%|██████████████████████████████████████████████████████████████████████████| 7/7 [00:01<00:00,  5.82it/s]\n"
     ]
    },
    {
     "name": "stdout",
     "output_type": "stream",
     "text": [
      "`Forecaster` refitted using the best-found lags and parameters, and the whole data set: \n",
      "  Lags: [ 1  2  3  4  5  7  9 13 15 20 30 31 29 28 50] \n",
      "  Parameters: {'learning_rate': 0.1}\n",
      "  Backtesting metric: 8.780879104695125e-08\n",
      "\n",
      "1666 of 1782\n",
      "Number of models compared: 14.\n"
     ]
    },
    {
     "name": "stderr",
     "output_type": "stream",
     "text": [
      "lags grid: 100%|██████████████████████████████████████████████████████████████████████████| 7/7 [00:00<00:00,  7.29it/s]\n"
     ]
    },
    {
     "name": "stdout",
     "output_type": "stream",
     "text": [
      "`Forecaster` refitted using the best-found lags and parameters, and the whole data set: \n",
      "  Lags: [ 1  2  3  4  5  7  9 13 15 20 30 31 29 28 50] \n",
      "  Parameters: {'learning_rate': 0.1}\n",
      "  Backtesting metric: 3.0401839804851035e-11\n",
      "\n",
      "1667 of 1782\n",
      "Number of models compared: 14.\n"
     ]
    },
    {
     "name": "stderr",
     "output_type": "stream",
     "text": [
      "lags grid: 100%|██████████████████████████████████████████████████████████████████████████| 7/7 [00:01<00:00,  4.61it/s]\n"
     ]
    },
    {
     "name": "stdout",
     "output_type": "stream",
     "text": [
      "`Forecaster` refitted using the best-found lags and parameters, and the whole data set: \n",
      "  Lags: [  1   2   3   4   5   6   7   8   9  10  11  12  13  14  15  16  17  18\n",
      "  19  20  21  22  23  24  25  26  27  28  29  30  31  32  33  34  35  36\n",
      "  37  38  39  40  41  42  43  44  45  46  47  48  49  50  51  52  53  54\n",
      "  55  56  57  58  59  60  61  62  63  64  65  66  67  68  69  70  71  72\n",
      "  73  74  75  76  77  78  79  80  81  82  83  84  85  86  87  88  89  90\n",
      "  91  92  93  94  95  96  97  98  99 100] \n",
      "  Parameters: {'learning_rate': 0.01}\n",
      "  Backtesting metric: 9.199647027425363e-08\n",
      "\n",
      "1668 of 1782\n",
      "Number of models compared: 14.\n"
     ]
    },
    {
     "name": "stderr",
     "output_type": "stream",
     "text": [
      "lags grid: 100%|██████████████████████████████████████████████████████████████████████████| 7/7 [00:01<00:00,  6.79it/s]\n"
     ]
    },
    {
     "name": "stdout",
     "output_type": "stream",
     "text": [
      "`Forecaster` refitted using the best-found lags and parameters, and the whole data set: \n",
      "  Lags: [ 1  2  3  4  5  6  7  8  9 10 11 12 13 14 15 16 17 18 19 20 21 22 23 24\n",
      " 25 26 27 28 29 30] \n",
      "  Parameters: {'learning_rate': 0.1}\n",
      "  Backtesting metric: 1.0248604584365284e-10\n",
      "\n",
      "1669 of 1782\n",
      "Number of models compared: 14.\n"
     ]
    },
    {
     "name": "stderr",
     "output_type": "stream",
     "text": [
      "lags grid: 100%|██████████████████████████████████████████████████████████████████████████| 7/7 [00:01<00:00,  6.45it/s]\n"
     ]
    },
    {
     "name": "stdout",
     "output_type": "stream",
     "text": [
      "`Forecaster` refitted using the best-found lags and parameters, and the whole data set: \n",
      "  Lags: [ 1  2  3  4  5  6  7  8  9 10 11 12 13 14 15 16 17 18 19 20] \n",
      "  Parameters: {'learning_rate': 0.1}\n",
      "  Backtesting metric: 1.7719964705190797e-12\n",
      "\n",
      "1670 of 1782\n",
      "Number of models compared: 14.\n"
     ]
    },
    {
     "name": "stderr",
     "output_type": "stream",
     "text": [
      "lags grid: 100%|██████████████████████████████████████████████████████████████████████████| 7/7 [00:01<00:00,  6.42it/s]\n"
     ]
    },
    {
     "name": "stdout",
     "output_type": "stream",
     "text": [
      "`Forecaster` refitted using the best-found lags and parameters, and the whole data set: \n",
      "  Lags: [  1   2   3   4   5   6   7   8   9  10  11  12  13  14  15  16  17  18\n",
      "  19  20  21  22  23  24  25  26  27  28  29  30  31  32  33  34  35  36\n",
      "  37  38  39  40  41  42  43  44  45  46  47  48  49  50  51  52  53  54\n",
      "  55  56  57  58  59  60  61  62  63  64  65  66  67  68  69  70  71  72\n",
      "  73  74  75  76  77  78  79  80  81  82  83  84  85  86  87  88  89  90\n",
      "  91  92  93  94  95  96  97  98  99 100] \n",
      "  Parameters: {'learning_rate': 0.01}\n",
      "  Backtesting metric: 1.6464583181599683e-12\n",
      "\n",
      "1671 of 1782\n",
      "Number of models compared: 14.\n"
     ]
    },
    {
     "name": "stderr",
     "output_type": "stream",
     "text": [
      "lags grid: 100%|██████████████████████████████████████████████████████████████████████████| 7/7 [00:01<00:00,  4.76it/s]\n"
     ]
    },
    {
     "name": "stdout",
     "output_type": "stream",
     "text": [
      "`Forecaster` refitted using the best-found lags and parameters, and the whole data set: \n",
      "  Lags: [ 1  2  3  4  5  6  7  8  9 10 11 12 13 14 15 16 17 18 19 20 21 22 23 24\n",
      " 25 26 27 28 29 30 31 32 33 34 35 36 37 38 39 40 41 42 43 44 45 46 47 48\n",
      " 49 50] \n",
      "  Parameters: {'learning_rate': 0.1}\n",
      "  Backtesting metric: 3.6326095455490906e-10\n",
      "\n",
      "1672 of 1782\n",
      "Number of models compared: 14.\n"
     ]
    },
    {
     "name": "stderr",
     "output_type": "stream",
     "text": [
      "lags grid: 100%|██████████████████████████████████████████████████████████████████████████| 7/7 [00:00<00:00,  7.07it/s]\n"
     ]
    },
    {
     "name": "stdout",
     "output_type": "stream",
     "text": [
      "`Forecaster` refitted using the best-found lags and parameters, and the whole data set: \n",
      "  Lags: [ 1  2  3  4  5  6  7  8  9 10 11 12 13 14 15 16 17 18 19 20 21 22 23 24\n",
      " 25 26 27 28 29 30] \n",
      "  Parameters: {'learning_rate': 0.1}\n",
      "  Backtesting metric: 5.792748221707713e-10\n",
      "\n",
      "1673 of 1782\n",
      "Number of models compared: 14.\n"
     ]
    },
    {
     "name": "stderr",
     "output_type": "stream",
     "text": [
      "lags grid: 100%|██████████████████████████████████████████████████████████████████████████| 7/7 [00:01<00:00,  4.62it/s]\n"
     ]
    },
    {
     "name": "stdout",
     "output_type": "stream",
     "text": [
      "`Forecaster` refitted using the best-found lags and parameters, and the whole data set: \n",
      "  Lags: [ 1  2  3  4  5  6  7  8  9 10] \n",
      "  Parameters: {'learning_rate': 0.01}\n",
      "  Backtesting metric: 1.5509072918862527e-09\n",
      "\n",
      "1674 of 1782\n",
      "Number of models compared: 14.\n"
     ]
    },
    {
     "name": "stderr",
     "output_type": "stream",
     "text": [
      "lags grid: 100%|██████████████████████████████████████████████████████████████████████████| 7/7 [00:01<00:00,  4.38it/s]\n"
     ]
    },
    {
     "name": "stdout",
     "output_type": "stream",
     "text": [
      "`Forecaster` refitted using the best-found lags and parameters, and the whole data set: \n",
      "  Lags: [  1   2   3   4   5   6   7   8   9  10  11  12  13  14  15  16  17  18\n",
      "  19  20  21  22  23  24  25  26  27  28  29  30  31  32  33  34  35  36\n",
      "  37  38  39  40  41  42  43  44  45  46  47  48  49  50  51  52  53  54\n",
      "  55  56  57  58  59  60  61  62  63  64  65  66  67  68  69  70  71  72\n",
      "  73  74  75  76  77  78  79  80  81  82  83  84  85  86  87  88  89  90\n",
      "  91  92  93  94  95  96  97  98  99 100] \n",
      "  Parameters: {'learning_rate': 0.01}\n",
      "  Backtesting metric: 6.969756300437061e-08\n",
      "\n",
      "1675 of 1782\n",
      "Number of models compared: 14.\n"
     ]
    },
    {
     "name": "stderr",
     "output_type": "stream",
     "text": [
      "lags grid: 100%|██████████████████████████████████████████████████████████████████████████| 7/7 [00:01<00:00,  6.87it/s]\n"
     ]
    },
    {
     "name": "stdout",
     "output_type": "stream",
     "text": [
      "`Forecaster` refitted using the best-found lags and parameters, and the whole data set: \n",
      "  Lags: [  1   2   3   4   5   6   7   8   9  10  11  12  13  14  15  16  17  18\n",
      "  19  20  21  22  23  24  25  26  27  28  29  30  31  32  33  34  35  36\n",
      "  37  38  39  40  41  42  43  44  45  46  47  48  49  50  51  52  53  54\n",
      "  55  56  57  58  59  60  61  62  63  64  65  66  67  68  69  70  71  72\n",
      "  73  74  75  76  77  78  79  80  81  82  83  84  85  86  87  88  89  90\n",
      "  91  92  93  94  95  96  97  98  99 100] \n",
      "  Parameters: {'learning_rate': 0.1}\n",
      "  Backtesting metric: 2.708767764139953e-09\n",
      "\n",
      "1676 of 1782\n",
      "Number of models compared: 14.\n"
     ]
    },
    {
     "name": "stderr",
     "output_type": "stream",
     "text": [
      "lags grid: 100%|██████████████████████████████████████████████████████████████████████████| 7/7 [00:01<00:00,  6.57it/s]\n"
     ]
    },
    {
     "name": "stdout",
     "output_type": "stream",
     "text": [
      "`Forecaster` refitted using the best-found lags and parameters, and the whole data set: \n",
      "  Lags: [ 1  2  3  4  5  6  7  8  9 10 11 12 13 14 15 16 17 18 19 20] \n",
      "  Parameters: {'learning_rate': 0.01}\n",
      "  Backtesting metric: 4.625758775934497e-09\n",
      "\n",
      "1677 of 1782\n",
      "Number of models compared: 14.\n"
     ]
    },
    {
     "name": "stderr",
     "output_type": "stream",
     "text": [
      "lags grid: 100%|██████████████████████████████████████████████████████████████████████████| 7/7 [00:01<00:00,  4.44it/s]\n"
     ]
    },
    {
     "name": "stdout",
     "output_type": "stream",
     "text": [
      "`Forecaster` refitted using the best-found lags and parameters, and the whole data set: \n",
      "  Lags: [ 1  2  3  4  5  6  7  8  9 10] \n",
      "  Parameters: {'learning_rate': 0.01}\n",
      "  Backtesting metric: 6.997859434628008e-10\n",
      "\n",
      "1678 of 1782\n",
      "Number of models compared: 14.\n"
     ]
    },
    {
     "name": "stderr",
     "output_type": "stream",
     "text": [
      "lags grid: 100%|██████████████████████████████████████████████████████████████████████████| 7/7 [00:01<00:00,  4.71it/s]\n"
     ]
    },
    {
     "name": "stdout",
     "output_type": "stream",
     "text": [
      "`Forecaster` refitted using the best-found lags and parameters, and the whole data set: \n",
      "  Lags: [ 1  2  3  4  5  7  9 13 15 20 30 31 29 28 50] \n",
      "  Parameters: {'learning_rate': 0.1}\n",
      "  Backtesting metric: 3.00904800747575e-09\n",
      "\n",
      "1679 of 1782\n",
      "Number of models compared: 14.\n"
     ]
    },
    {
     "name": "stderr",
     "output_type": "stream",
     "text": [
      "lags grid: 100%|██████████████████████████████████████████████████████████████████████████| 7/7 [00:01<00:00,  4.87it/s]\n"
     ]
    },
    {
     "name": "stdout",
     "output_type": "stream",
     "text": [
      "`Forecaster` refitted using the best-found lags and parameters, and the whole data set: \n",
      "  Lags: [ 1  2  3  4  5  6  7  8  9 10] \n",
      "  Parameters: {'learning_rate': 0.1}\n",
      "  Backtesting metric: 9.949835645353184e-06\n",
      "\n",
      "1680 of 1782\n",
      "Number of models compared: 14.\n"
     ]
    },
    {
     "name": "stderr",
     "output_type": "stream",
     "text": [
      "lags grid: 100%|██████████████████████████████████████████████████████████████████████████| 7/7 [00:00<00:00,  7.01it/s]\n"
     ]
    },
    {
     "name": "stdout",
     "output_type": "stream",
     "text": [
      "`Forecaster` refitted using the best-found lags and parameters, and the whole data set: \n",
      "  Lags: [ 1  2  3  4  5  6  7  8  9 10 11 12 13 14 15 16 17 18 19 20 21 22 23 24\n",
      " 25 26 27 28 29 30 31 32 33 34 35 36 37 38 39 40 41 42 43 44 45 46 47 48\n",
      " 49 50] \n",
      "  Parameters: {'learning_rate': 0.1}\n",
      "  Backtesting metric: 2.9748627723833246e-10\n",
      "\n",
      "1681 of 1782\n",
      "Number of models compared: 14.\n"
     ]
    },
    {
     "name": "stderr",
     "output_type": "stream",
     "text": [
      "lags grid: 100%|██████████████████████████████████████████████████████████████████████████| 7/7 [00:01<00:00,  4.49it/s]\n"
     ]
    },
    {
     "name": "stdout",
     "output_type": "stream",
     "text": [
      "`Forecaster` refitted using the best-found lags and parameters, and the whole data set: \n",
      "  Lags: [ 1  2  3  4  5  6  7  8  9 10 11 12 13 14 15 16 17 18 19 20 21 22 23 24\n",
      " 25 26 27 28 29 30 31 32 33 34 35 36 37 38 39 40 41 42 43 44 45 46 47 48\n",
      " 49 50] \n",
      "  Parameters: {'learning_rate': 0.01}\n",
      "  Backtesting metric: 1.406665852919216e-10\n",
      "\n",
      "1682 of 1782\n",
      "Number of models compared: 14.\n"
     ]
    },
    {
     "name": "stderr",
     "output_type": "stream",
     "text": [
      "lags grid: 100%|██████████████████████████████████████████████████████████████████████████| 7/7 [00:00<00:00,  8.81it/s]\n"
     ]
    },
    {
     "name": "stdout",
     "output_type": "stream",
     "text": [
      "`Forecaster` refitted using the best-found lags and parameters, and the whole data set: \n",
      "  Lags: [ 1  2  3  4  5  6  7  8  9 10 11 12 13 14 15 16 17 18 19 20 21 22 23 24\n",
      " 25 26 27 28 29 30 31 32 33 34 35 36 37 38 39 40 41 42 43 44 45 46 47 48\n",
      " 49 50] \n",
      "  Parameters: {'learning_rate': 0.1}\n",
      "  Backtesting metric: 1.2362519421915026e-09\n",
      "\n",
      "1683 of 1782\n",
      "Number of models compared: 14.\n"
     ]
    },
    {
     "name": "stderr",
     "output_type": "stream",
     "text": [
      "lags grid: 100%|██████████████████████████████████████████████████████████████████████████| 7/7 [00:00<00:00, 32.01it/s]\n"
     ]
    },
    {
     "name": "stdout",
     "output_type": "stream",
     "text": [
      "`Forecaster` refitted using the best-found lags and parameters, and the whole data set: \n",
      "  Lags: [ 1  2  3  4  5  6  7  8  9 10 11 12 13 14 15 16 17 18 19 20 21 22 23 24\n",
      " 25 26 27 28 29 30] \n",
      "  Parameters: {'learning_rate': 0.01}\n",
      "  Backtesting metric: 0.0\n",
      "\n",
      "1684 of 1782\n",
      "Number of models compared: 14.\n"
     ]
    },
    {
     "name": "stderr",
     "output_type": "stream",
     "text": [
      "lags grid: 100%|██████████████████████████████████████████████████████████████████████████| 7/7 [00:00<00:00, 10.02it/s]\n"
     ]
    },
    {
     "name": "stdout",
     "output_type": "stream",
     "text": [
      "`Forecaster` refitted using the best-found lags and parameters, and the whole data set: \n",
      "  Lags: [ 1  2  3  4  5  6  7  8  9 10 11 12 13 14 15 16 17 18 19 20 21 22 23 24\n",
      " 25 26 27 28 29 30] \n",
      "  Parameters: {'learning_rate': 0.1}\n",
      "  Backtesting metric: 5.390859602446188e-10\n",
      "\n",
      "1685 of 1782\n",
      "Number of models compared: 14.\n"
     ]
    },
    {
     "name": "stderr",
     "output_type": "stream",
     "text": [
      "lags grid: 100%|██████████████████████████████████████████████████████████████████████████| 7/7 [00:00<00:00,  9.93it/s]\n"
     ]
    },
    {
     "name": "stdout",
     "output_type": "stream",
     "text": [
      "`Forecaster` refitted using the best-found lags and parameters, and the whole data set: \n",
      "  Lags: [ 1  2  3  4  5  6  7  8  9 10 11 12 13 14 15 16 17 18 19 20 21 22 23 24\n",
      " 25 26 27 28 29 30 31 32 33 34 35 36 37 38 39 40 41 42 43 44 45 46 47 48\n",
      " 49 50] \n",
      "  Parameters: {'learning_rate': 0.1}\n",
      "  Backtesting metric: 4.510018000091582e-05\n",
      "\n",
      "1686 of 1782\n",
      "Number of models compared: 14.\n"
     ]
    },
    {
     "name": "stderr",
     "output_type": "stream",
     "text": [
      "lags grid: 100%|██████████████████████████████████████████████████████████████████████████| 7/7 [00:00<00:00, 40.07it/s]\n"
     ]
    },
    {
     "name": "stdout",
     "output_type": "stream",
     "text": [
      "`Forecaster` refitted using the best-found lags and parameters, and the whole data set: \n",
      "  Lags: [ 1  2  3  4  5  6  7  8  9 10 11 12 13 14 15 16 17 18 19 20 21 22 23 24\n",
      " 25 26 27 28 29 30] \n",
      "  Parameters: {'learning_rate': 0.01}\n",
      "  Backtesting metric: 0.0\n",
      "\n",
      "1687 of 1782\n",
      "Number of models compared: 14.\n"
     ]
    },
    {
     "name": "stderr",
     "output_type": "stream",
     "text": [
      "lags grid: 100%|██████████████████████████████████████████████████████████████████████████| 7/7 [00:00<00:00,  9.81it/s]\n"
     ]
    },
    {
     "name": "stdout",
     "output_type": "stream",
     "text": [
      "`Forecaster` refitted using the best-found lags and parameters, and the whole data set: \n",
      "  Lags: [ 1  2  3  4  5  7  9 13 15 20 30 31 29 28 50] \n",
      "  Parameters: {'learning_rate': 0.1}\n",
      "  Backtesting metric: 9.03313831243514e-07\n",
      "\n",
      "1688 of 1782\n",
      "Number of models compared: 14.\n"
     ]
    },
    {
     "name": "stderr",
     "output_type": "stream",
     "text": [
      "lags grid: 100%|██████████████████████████████████████████████████████████████████████████| 7/7 [00:00<00:00,  8.78it/s]\n"
     ]
    },
    {
     "name": "stdout",
     "output_type": "stream",
     "text": [
      "`Forecaster` refitted using the best-found lags and parameters, and the whole data set: \n",
      "  Lags: [ 1  2  3  4  5  6  7  8  9 10] \n",
      "  Parameters: {'learning_rate': 0.1}\n",
      "  Backtesting metric: 1.7147821986957831e-09\n",
      "\n",
      "1689 of 1782\n",
      "Number of models compared: 14.\n"
     ]
    },
    {
     "name": "stderr",
     "output_type": "stream",
     "text": [
      "lags grid: 100%|██████████████████████████████████████████████████████████████████████████| 7/7 [00:00<00:00,  8.86it/s]\n"
     ]
    },
    {
     "name": "stdout",
     "output_type": "stream",
     "text": [
      "`Forecaster` refitted using the best-found lags and parameters, and the whole data set: \n",
      "  Lags: [ 1  2  3  4  5  6  7  8  9 10] \n",
      "  Parameters: {'learning_rate': 0.01}\n",
      "  Backtesting metric: 5.787270299806523e-06\n",
      "\n",
      "1690 of 1782\n",
      "Number of models compared: 14.\n"
     ]
    },
    {
     "name": "stderr",
     "output_type": "stream",
     "text": [
      "lags grid: 100%|██████████████████████████████████████████████████████████████████████████| 7/7 [00:00<00:00,  9.20it/s]\n"
     ]
    },
    {
     "name": "stdout",
     "output_type": "stream",
     "text": [
      "`Forecaster` refitted using the best-found lags and parameters, and the whole data set: \n",
      "  Lags: [  1   2   3   4   5   6   7   8   9  10  11  12  13  14  15  16  17  18\n",
      "  19  20  21  22  23  24  25  26  27  28  29  30  31  32  33  34  35  36\n",
      "  37  38  39  40  41  42  43  44  45  46  47  48  49  50  51  52  53  54\n",
      "  55  56  57  58  59  60  61  62  63  64  65  66  67  68  69  70  71  72\n",
      "  73  74  75  76  77  78  79  80  81  82  83  84  85  86  87  88  89  90\n",
      "  91  92  93  94  95  96  97  98  99 100] \n",
      "  Parameters: {'learning_rate': 0.1}\n",
      "  Backtesting metric: 1.2014709266722698e-06\n",
      "\n",
      "1691 of 1782\n",
      "Number of models compared: 14.\n"
     ]
    },
    {
     "name": "stderr",
     "output_type": "stream",
     "text": [
      "lags grid: 100%|██████████████████████████████████████████████████████████████████████████| 7/7 [00:00<00:00,  9.37it/s]\n"
     ]
    },
    {
     "name": "stdout",
     "output_type": "stream",
     "text": [
      "`Forecaster` refitted using the best-found lags and parameters, and the whole data set: \n",
      "  Lags: [  1   2   3   4   5   6   7   8   9  10  11  12  13  14  15  16  17  18\n",
      "  19  20  21  22  23  24  25  26  27  28  29  30  31  32  33  34  35  36\n",
      "  37  38  39  40  41  42  43  44  45  46  47  48  49  50  51  52  53  54\n",
      "  55  56  57  58  59  60  61  62  63  64  65  66  67  68  69  70  71  72\n",
      "  73  74  75  76  77  78  79  80  81  82  83  84  85  86  87  88  89  90\n",
      "  91  92  93  94  95  96  97  98  99 100 101 102 103 104 105 106 107 108\n",
      " 109 110 111 112 113 114 115 116 117 118 119 120 121 122 123 124 125 126\n",
      " 127 128 129 130 131 132 133 134 135 136 137 138 139 140 141 142 143 144\n",
      " 145 146 147 148 149 150] \n",
      "  Parameters: {'learning_rate': 0.1}\n",
      "  Backtesting metric: 3.5388582379701135e-07\n",
      "\n",
      "1692 of 1782\n",
      "Number of models compared: 14.\n"
     ]
    },
    {
     "name": "stderr",
     "output_type": "stream",
     "text": [
      "lags grid: 100%|██████████████████████████████████████████████████████████████████████████| 7/7 [00:00<00:00,  9.59it/s]\n"
     ]
    },
    {
     "name": "stdout",
     "output_type": "stream",
     "text": [
      "`Forecaster` refitted using the best-found lags and parameters, and the whole data set: \n",
      "  Lags: [  1   2   3   4   5   6   7   8   9  10  11  12  13  14  15  16  17  18\n",
      "  19  20  21  22  23  24  25  26  27  28  29  30  31  32  33  34  35  36\n",
      "  37  38  39  40  41  42  43  44  45  46  47  48  49  50  51  52  53  54\n",
      "  55  56  57  58  59  60  61  62  63  64  65  66  67  68  69  70  71  72\n",
      "  73  74  75  76  77  78  79  80  81  82  83  84  85  86  87  88  89  90\n",
      "  91  92  93  94  95  96  97  98  99 100 101 102 103 104 105 106 107 108\n",
      " 109 110 111 112 113 114 115 116 117 118 119 120 121 122 123 124 125 126\n",
      " 127 128 129 130 131 132 133 134 135 136 137 138 139 140 141 142 143 144\n",
      " 145 146 147 148 149 150] \n",
      "  Parameters: {'learning_rate': 0.1}\n",
      "  Backtesting metric: 3.3638773018932885e-08\n",
      "\n",
      "1693 of 1782\n",
      "Number of models compared: 14.\n"
     ]
    },
    {
     "name": "stderr",
     "output_type": "stream",
     "text": [
      "lags grid: 100%|██████████████████████████████████████████████████████████████████████████| 7/7 [00:00<00:00,  8.66it/s]\n"
     ]
    },
    {
     "name": "stdout",
     "output_type": "stream",
     "text": [
      "`Forecaster` refitted using the best-found lags and parameters, and the whole data set: \n",
      "  Lags: [ 1  2  3  4  5  6  7  8  9 10] \n",
      "  Parameters: {'learning_rate': 0.1}\n",
      "  Backtesting metric: 7.836668774615388e-08\n",
      "\n",
      "1694 of 1782\n",
      "Number of models compared: 14.\n"
     ]
    },
    {
     "name": "stderr",
     "output_type": "stream",
     "text": [
      "lags grid: 100%|██████████████████████████████████████████████████████████████████████████| 7/7 [00:00<00:00,  9.45it/s]\n"
     ]
    },
    {
     "name": "stdout",
     "output_type": "stream",
     "text": [
      "`Forecaster` refitted using the best-found lags and parameters, and the whole data set: \n",
      "  Lags: [ 1  2  3  4  5  6  7  8  9 10 11 12 13 14 15 16 17 18 19 20] \n",
      "  Parameters: {'learning_rate': 0.1}\n",
      "  Backtesting metric: 3.940762406929747e-05\n",
      "\n",
      "1695 of 1782\n",
      "Number of models compared: 14.\n"
     ]
    },
    {
     "name": "stderr",
     "output_type": "stream",
     "text": [
      "lags grid: 100%|██████████████████████████████████████████████████████████████████████████| 7/7 [00:00<00:00,  7.86it/s]\n"
     ]
    },
    {
     "name": "stdout",
     "output_type": "stream",
     "text": [
      "`Forecaster` refitted using the best-found lags and parameters, and the whole data set: \n",
      "  Lags: [ 1  2  3  4  5  6  7  8  9 10 11 12 13 14 15 16 17 18 19 20 21 22 23 24\n",
      " 25 26 27 28 29 30] \n",
      "  Parameters: {'learning_rate': 0.01}\n",
      "  Backtesting metric: 1.2843688777667397e-09\n",
      "\n",
      "1696 of 1782\n",
      "Number of models compared: 14.\n"
     ]
    },
    {
     "name": "stderr",
     "output_type": "stream",
     "text": [
      "lags grid: 100%|██████████████████████████████████████████████████████████████████████████| 7/7 [00:00<00:00,  8.17it/s]\n"
     ]
    },
    {
     "name": "stdout",
     "output_type": "stream",
     "text": [
      "`Forecaster` refitted using the best-found lags and parameters, and the whole data set: \n",
      "  Lags: [ 1  2  3  4  5  6  7  8  9 10 11 12 13 14 15 16 17 18 19 20] \n",
      "  Parameters: {'learning_rate': 0.1}\n",
      "  Backtesting metric: 2.662630111039432e-10\n",
      "\n",
      "1697 of 1782\n",
      "Number of models compared: 14.\n"
     ]
    },
    {
     "name": "stderr",
     "output_type": "stream",
     "text": [
      "lags grid: 100%|██████████████████████████████████████████████████████████████████████████| 7/7 [00:00<00:00,  8.56it/s]\n"
     ]
    },
    {
     "name": "stdout",
     "output_type": "stream",
     "text": [
      "`Forecaster` refitted using the best-found lags and parameters, and the whole data set: \n",
      "  Lags: [ 1  2  3  4  5  6  7  8  9 10 11 12 13 14 15 16 17 18 19 20] \n",
      "  Parameters: {'learning_rate': 0.1}\n",
      "  Backtesting metric: 9.62675335382347e-09\n",
      "\n",
      "1698 of 1782\n",
      "Number of models compared: 14.\n"
     ]
    },
    {
     "name": "stderr",
     "output_type": "stream",
     "text": [
      "lags grid: 100%|██████████████████████████████████████████████████████████████████████████| 7/7 [00:00<00:00,  8.69it/s]\n"
     ]
    },
    {
     "name": "stdout",
     "output_type": "stream",
     "text": [
      "`Forecaster` refitted using the best-found lags and parameters, and the whole data set: \n",
      "  Lags: [ 1  2  3  4  5  6  7  8  9 10] \n",
      "  Parameters: {'learning_rate': 0.01}\n",
      "  Backtesting metric: 9.770414260911114e-09\n",
      "\n",
      "1699 of 1782\n",
      "Number of models compared: 14.\n"
     ]
    },
    {
     "name": "stderr",
     "output_type": "stream",
     "text": [
      "lags grid: 100%|██████████████████████████████████████████████████████████████████████████| 7/7 [00:00<00:00,  7.90it/s]\n"
     ]
    },
    {
     "name": "stdout",
     "output_type": "stream",
     "text": [
      "`Forecaster` refitted using the best-found lags and parameters, and the whole data set: \n",
      "  Lags: [ 1  2  3  4  5  6  7  8  9 10 11 12 13 14 15 16 17 18 19 20] \n",
      "  Parameters: {'learning_rate': 0.01}\n",
      "  Backtesting metric: 1.9492560874475898e-11\n",
      "\n",
      "1700 of 1782\n",
      "Number of models compared: 14.\n"
     ]
    },
    {
     "name": "stderr",
     "output_type": "stream",
     "text": [
      "lags grid: 100%|██████████████████████████████████████████████████████████████████████████| 7/7 [00:00<00:00,  8.39it/s]\n"
     ]
    },
    {
     "name": "stdout",
     "output_type": "stream",
     "text": [
      "`Forecaster` refitted using the best-found lags and parameters, and the whole data set: \n",
      "  Lags: [  1   2   3   4   5   6   7   8   9  10  11  12  13  14  15  16  17  18\n",
      "  19  20  21  22  23  24  25  26  27  28  29  30  31  32  33  34  35  36\n",
      "  37  38  39  40  41  42  43  44  45  46  47  48  49  50  51  52  53  54\n",
      "  55  56  57  58  59  60  61  62  63  64  65  66  67  68  69  70  71  72\n",
      "  73  74  75  76  77  78  79  80  81  82  83  84  85  86  87  88  89  90\n",
      "  91  92  93  94  95  96  97  98  99 100 101 102 103 104 105 106 107 108\n",
      " 109 110 111 112 113 114 115 116 117 118 119 120 121 122 123 124 125 126\n",
      " 127 128 129 130 131 132 133 134 135 136 137 138 139 140 141 142 143 144\n",
      " 145 146 147 148 149 150] \n",
      "  Parameters: {'learning_rate': 0.1}\n",
      "  Backtesting metric: 2.2810235318376782e-07\n",
      "\n",
      "1701 of 1782\n",
      "Number of models compared: 14.\n"
     ]
    },
    {
     "name": "stderr",
     "output_type": "stream",
     "text": [
      "lags grid: 100%|██████████████████████████████████████████████████████████████████████████| 7/7 [00:00<00:00,  9.59it/s]\n"
     ]
    },
    {
     "name": "stdout",
     "output_type": "stream",
     "text": [
      "`Forecaster` refitted using the best-found lags and parameters, and the whole data set: \n",
      "  Lags: [  1   2   3   4   5   6   7   8   9  10  11  12  13  14  15  16  17  18\n",
      "  19  20  21  22  23  24  25  26  27  28  29  30  31  32  33  34  35  36\n",
      "  37  38  39  40  41  42  43  44  45  46  47  48  49  50  51  52  53  54\n",
      "  55  56  57  58  59  60  61  62  63  64  65  66  67  68  69  70  71  72\n",
      "  73  74  75  76  77  78  79  80  81  82  83  84  85  86  87  88  89  90\n",
      "  91  92  93  94  95  96  97  98  99 100] \n",
      "  Parameters: {'learning_rate': 0.1}\n",
      "  Backtesting metric: 5.497690723558049e-11\n",
      "\n",
      "1702 of 1782\n",
      "Number of models compared: 14.\n"
     ]
    },
    {
     "name": "stderr",
     "output_type": "stream",
     "text": [
      "lags grid: 100%|██████████████████████████████████████████████████████████████████████████| 7/7 [00:00<00:00,  8.66it/s]\n"
     ]
    },
    {
     "name": "stdout",
     "output_type": "stream",
     "text": [
      "`Forecaster` refitted using the best-found lags and parameters, and the whole data set: \n",
      "  Lags: [ 1  2  3  4  5  6  7  8  9 10 11 12 13 14 15 16 17 18 19 20 21 22 23 24\n",
      " 25 26 27 28 29 30] \n",
      "  Parameters: {'learning_rate': 0.1}\n",
      "  Backtesting metric: 1.0355493848476836e-08\n",
      "\n",
      "1703 of 1782\n",
      "Number of models compared: 14.\n"
     ]
    },
    {
     "name": "stderr",
     "output_type": "stream",
     "text": [
      "lags grid: 100%|██████████████████████████████████████████████████████████████████████████| 7/7 [00:00<00:00,  8.17it/s]\n"
     ]
    },
    {
     "name": "stdout",
     "output_type": "stream",
     "text": [
      "`Forecaster` refitted using the best-found lags and parameters, and the whole data set: \n",
      "  Lags: [ 1  2  3  4  5  6  7  8  9 10 11 12 13 14 15 16 17 18 19 20 21 22 23 24\n",
      " 25 26 27 28 29 30 31 32 33 34 35 36 37 38 39 40 41 42 43 44 45 46 47 48\n",
      " 49 50] \n",
      "  Parameters: {'learning_rate': 0.1}\n",
      "  Backtesting metric: 2.2742977133245145e-10\n",
      "\n",
      "1704 of 1782\n",
      "Number of models compared: 14.\n"
     ]
    },
    {
     "name": "stderr",
     "output_type": "stream",
     "text": [
      "lags grid: 100%|██████████████████████████████████████████████████████████████████████████| 7/7 [00:00<00:00,  9.17it/s]\n"
     ]
    },
    {
     "name": "stdout",
     "output_type": "stream",
     "text": [
      "`Forecaster` refitted using the best-found lags and parameters, and the whole data set: \n",
      "  Lags: [ 1  2  3  4  5  6  7  8  9 10 11 12 13 14 15 16 17 18 19 20 21 22 23 24\n",
      " 25 26 27 28 29 30] \n",
      "  Parameters: {'learning_rate': 0.1}\n",
      "  Backtesting metric: 1.0495999495978834e-07\n",
      "\n",
      "1705 of 1782\n",
      "Number of models compared: 14.\n"
     ]
    },
    {
     "name": "stderr",
     "output_type": "stream",
     "text": [
      "lags grid: 100%|██████████████████████████████████████████████████████████████████████████| 7/7 [00:00<00:00,  9.46it/s]\n"
     ]
    },
    {
     "name": "stdout",
     "output_type": "stream",
     "text": [
      "`Forecaster` refitted using the best-found lags and parameters, and the whole data set: \n",
      "  Lags: [ 1  2  3  4  5  6  7  8  9 10 11 12 13 14 15 16 17 18 19 20 21 22 23 24\n",
      " 25 26 27 28 29 30 31 32 33 34 35 36 37 38 39 40 41 42 43 44 45 46 47 48\n",
      " 49 50] \n",
      "  Parameters: {'learning_rate': 0.1}\n",
      "  Backtesting metric: 1.7580300101462205e-09\n",
      "\n",
      "1706 of 1782\n",
      "Number of models compared: 14.\n"
     ]
    },
    {
     "name": "stderr",
     "output_type": "stream",
     "text": [
      "lags grid: 100%|██████████████████████████████████████████████████████████████████████████| 7/7 [00:00<00:00,  8.78it/s]\n"
     ]
    },
    {
     "name": "stdout",
     "output_type": "stream",
     "text": [
      "`Forecaster` refitted using the best-found lags and parameters, and the whole data set: \n",
      "  Lags: [ 1  2  3  4  5  7  9 13 15 20 30 31 29 28 50] \n",
      "  Parameters: {'learning_rate': 0.1}\n",
      "  Backtesting metric: 2.1267405277097367e-07\n",
      "\n",
      "1707 of 1782\n",
      "Number of models compared: 14.\n"
     ]
    },
    {
     "name": "stderr",
     "output_type": "stream",
     "text": [
      "lags grid: 100%|██████████████████████████████████████████████████████████████████████████| 7/7 [00:00<00:00,  8.52it/s]\n"
     ]
    },
    {
     "name": "stdout",
     "output_type": "stream",
     "text": [
      "`Forecaster` refitted using the best-found lags and parameters, and the whole data set: \n",
      "  Lags: [ 1  2  3  4  5  6  7  8  9 10] \n",
      "  Parameters: {'learning_rate': 0.01}\n",
      "  Backtesting metric: 1.087817983797402e-07\n",
      "\n",
      "1708 of 1782\n",
      "Number of models compared: 14.\n"
     ]
    },
    {
     "name": "stderr",
     "output_type": "stream",
     "text": [
      "lags grid: 100%|██████████████████████████████████████████████████████████████████████████| 7/7 [00:00<00:00,  8.16it/s]\n"
     ]
    },
    {
     "name": "stdout",
     "output_type": "stream",
     "text": [
      "`Forecaster` refitted using the best-found lags and parameters, and the whole data set: \n",
      "  Lags: [ 1  2  3  4  5  7  9 13 15 20 30 31 29 28 50] \n",
      "  Parameters: {'learning_rate': 0.01}\n",
      "  Backtesting metric: 1.7397354472557922e-09\n",
      "\n",
      "1709 of 1782\n",
      "Number of models compared: 14.\n"
     ]
    },
    {
     "name": "stderr",
     "output_type": "stream",
     "text": [
      "lags grid: 100%|██████████████████████████████████████████████████████████████████████████| 7/7 [00:00<00:00,  8.87it/s]\n"
     ]
    },
    {
     "name": "stdout",
     "output_type": "stream",
     "text": [
      "`Forecaster` refitted using the best-found lags and parameters, and the whole data set: \n",
      "  Lags: [ 1  2  3  4  5  6  7  8  9 10 11 12 13 14 15 16 17 18 19 20 21 22 23 24\n",
      " 25 26 27 28 29 30] \n",
      "  Parameters: {'learning_rate': 0.1}\n",
      "  Backtesting metric: 1.665756404488564e-09\n",
      "\n",
      "1710 of 1782\n",
      "Number of models compared: 14.\n"
     ]
    },
    {
     "name": "stderr",
     "output_type": "stream",
     "text": [
      "lags grid: 100%|██████████████████████████████████████████████████████████████████████████| 7/7 [00:00<00:00,  8.93it/s]\n"
     ]
    },
    {
     "name": "stdout",
     "output_type": "stream",
     "text": [
      "`Forecaster` refitted using the best-found lags and parameters, and the whole data set: \n",
      "  Lags: [ 1  2  3  4  5  6  7  8  9 10 11 12 13 14 15 16 17 18 19 20] \n",
      "  Parameters: {'learning_rate': 0.1}\n",
      "  Backtesting metric: 2.597014208353846e-07\n",
      "\n",
      "1711 of 1782\n",
      "Number of models compared: 14.\n"
     ]
    },
    {
     "name": "stderr",
     "output_type": "stream",
     "text": [
      "lags grid: 100%|██████████████████████████████████████████████████████████████████████████| 7/7 [00:00<00:00,  8.10it/s]\n"
     ]
    },
    {
     "name": "stdout",
     "output_type": "stream",
     "text": [
      "`Forecaster` refitted using the best-found lags and parameters, and the whole data set: \n",
      "  Lags: [ 1  2  3  4  5  7  9 13 15 20 30 31 29 28 50] \n",
      "  Parameters: {'learning_rate': 0.1}\n",
      "  Backtesting metric: 3.946440343696592e-08\n",
      "\n",
      "1712 of 1782\n",
      "Number of models compared: 14.\n"
     ]
    },
    {
     "name": "stderr",
     "output_type": "stream",
     "text": [
      "lags grid: 100%|██████████████████████████████████████████████████████████████████████████| 7/7 [00:00<00:00,  8.60it/s]\n"
     ]
    },
    {
     "name": "stdout",
     "output_type": "stream",
     "text": [
      "`Forecaster` refitted using the best-found lags and parameters, and the whole data set: \n",
      "  Lags: [ 1  2  3  4  5  6  7  8  9 10] \n",
      "  Parameters: {'learning_rate': 0.1}\n",
      "  Backtesting metric: 1.9929203310449075e-05\n",
      "\n",
      "1713 of 1782\n",
      "Number of models compared: 14.\n"
     ]
    },
    {
     "name": "stderr",
     "output_type": "stream",
     "text": [
      "lags grid: 100%|██████████████████████████████████████████████████████████████████████████| 7/7 [00:00<00:00,  7.99it/s]\n"
     ]
    },
    {
     "name": "stdout",
     "output_type": "stream",
     "text": [
      "`Forecaster` refitted using the best-found lags and parameters, and the whole data set: \n",
      "  Lags: [ 1  2  3  4  5  7  9 13 15 20 30 31 29 28 50] \n",
      "  Parameters: {'learning_rate': 0.1}\n",
      "  Backtesting metric: 1.5266955111484573e-09\n",
      "\n",
      "1714 of 1782\n",
      "Number of models compared: 14.\n"
     ]
    },
    {
     "name": "stderr",
     "output_type": "stream",
     "text": [
      "lags grid: 100%|██████████████████████████████████████████████████████████████████████████| 7/7 [00:00<00:00,  8.13it/s]\n"
     ]
    },
    {
     "name": "stdout",
     "output_type": "stream",
     "text": [
      "`Forecaster` refitted using the best-found lags and parameters, and the whole data set: \n",
      "  Lags: [ 1  2  3  4  5  7  9 13 15 20 30 31 29 28 50] \n",
      "  Parameters: {'learning_rate': 0.01}\n",
      "  Backtesting metric: 5.285315747764008e-10\n",
      "\n",
      "1715 of 1782\n",
      "Number of models compared: 14.\n"
     ]
    },
    {
     "name": "stderr",
     "output_type": "stream",
     "text": [
      "lags grid: 100%|██████████████████████████████████████████████████████████████████████████| 7/7 [00:01<00:00,  6.83it/s]\n"
     ]
    },
    {
     "name": "stdout",
     "output_type": "stream",
     "text": [
      "`Forecaster` refitted using the best-found lags and parameters, and the whole data set: \n",
      "  Lags: [  1   2   3   4   5   6   7   8   9  10  11  12  13  14  15  16  17  18\n",
      "  19  20  21  22  23  24  25  26  27  28  29  30  31  32  33  34  35  36\n",
      "  37  38  39  40  41  42  43  44  45  46  47  48  49  50  51  52  53  54\n",
      "  55  56  57  58  59  60  61  62  63  64  65  66  67  68  69  70  71  72\n",
      "  73  74  75  76  77  78  79  80  81  82  83  84  85  86  87  88  89  90\n",
      "  91  92  93  94  95  96  97  98  99 100] \n",
      "  Parameters: {'learning_rate': 0.1}\n",
      "  Backtesting metric: 1.7540625653677901e-09\n",
      "\n",
      "1716 of 1782\n",
      "Number of models compared: 14.\n"
     ]
    },
    {
     "name": "stderr",
     "output_type": "stream",
     "text": [
      "lags grid: 100%|██████████████████████████████████████████████████████████████████████████| 7/7 [00:00<00:00, 10.75it/s]\n"
     ]
    },
    {
     "name": "stdout",
     "output_type": "stream",
     "text": [
      "`Forecaster` refitted using the best-found lags and parameters, and the whole data set: \n",
      "  Lags: [ 1  2  3  4  5  6  7  8  9 10 11 12 13 14 15 16 17 18 19 20 21 22 23 24\n",
      " 25 26 27 28 29 30 31 32 33 34 35 36 37 38 39 40 41 42 43 44 45 46 47 48\n",
      " 49 50] \n",
      "  Parameters: {'learning_rate': 0.01}\n",
      "  Backtesting metric: 1.2323045673045856e-15\n",
      "\n",
      "1717 of 1782\n",
      "Number of models compared: 14.\n"
     ]
    },
    {
     "name": "stderr",
     "output_type": "stream",
     "text": [
      "lags grid: 100%|██████████████████████████████████████████████████████████████████████████| 7/7 [00:00<00:00,  7.11it/s]\n"
     ]
    },
    {
     "name": "stdout",
     "output_type": "stream",
     "text": [
      "`Forecaster` refitted using the best-found lags and parameters, and the whole data set: \n",
      "  Lags: [ 1  2  3  4  5  6  7  8  9 10 11 12 13 14 15 16 17 18 19 20 21 22 23 24\n",
      " 25 26 27 28 29 30 31 32 33 34 35 36 37 38 39 40 41 42 43 44 45 46 47 48\n",
      " 49 50] \n",
      "  Parameters: {'learning_rate': 0.1}\n",
      "  Backtesting metric: 3.858730257637979e-10\n",
      "\n",
      "1718 of 1782\n",
      "Number of models compared: 14.\n"
     ]
    },
    {
     "name": "stderr",
     "output_type": "stream",
     "text": [
      "lags grid: 100%|██████████████████████████████████████████████████████████████████████████| 7/7 [00:01<00:00,  4.80it/s]\n"
     ]
    },
    {
     "name": "stdout",
     "output_type": "stream",
     "text": [
      "`Forecaster` refitted using the best-found lags and parameters, and the whole data set: \n",
      "  Lags: [ 1  2  3  4  5  6  7  8  9 10] \n",
      "  Parameters: {'learning_rate': 0.01}\n",
      "  Backtesting metric: 1.0758979280910506e-06\n",
      "\n",
      "1719 of 1782\n",
      "Number of models compared: 14.\n"
     ]
    },
    {
     "name": "stderr",
     "output_type": "stream",
     "text": [
      "lags grid: 100%|██████████████████████████████████████████████████████████████████████████| 7/7 [00:00<00:00,  9.02it/s]\n"
     ]
    },
    {
     "name": "stdout",
     "output_type": "stream",
     "text": [
      "`Forecaster` refitted using the best-found lags and parameters, and the whole data set: \n",
      "  Lags: [ 1  2  3  4  5  6  7  8  9 10] \n",
      "  Parameters: {'learning_rate': 0.1}\n",
      "  Backtesting metric: 3.052462215741478e-13\n",
      "\n",
      "1720 of 1782\n",
      "Number of models compared: 14.\n"
     ]
    },
    {
     "name": "stderr",
     "output_type": "stream",
     "text": [
      "lags grid: 100%|██████████████████████████████████████████████████████████████████████████| 7/7 [00:01<00:00,  4.79it/s]\n"
     ]
    },
    {
     "name": "stdout",
     "output_type": "stream",
     "text": [
      "`Forecaster` refitted using the best-found lags and parameters, and the whole data set: \n",
      "  Lags: [ 1  2  3  4  5  6  7  8  9 10 11 12 13 14 15 16 17 18 19 20 21 22 23 24\n",
      " 25 26 27 28 29 30] \n",
      "  Parameters: {'learning_rate': 0.01}\n",
      "  Backtesting metric: 2.5595028188979785e-08\n",
      "\n",
      "1721 of 1782\n",
      "Number of models compared: 14.\n"
     ]
    },
    {
     "name": "stderr",
     "output_type": "stream",
     "text": [
      "lags grid: 100%|██████████████████████████████████████████████████████████████████████████| 7/7 [00:00<00:00,  7.20it/s]\n"
     ]
    },
    {
     "name": "stdout",
     "output_type": "stream",
     "text": [
      "`Forecaster` refitted using the best-found lags and parameters, and the whole data set: \n",
      "  Lags: [ 1  2  3  4  5  6  7  8  9 10 11 12 13 14 15 16 17 18 19 20 21 22 23 24\n",
      " 25 26 27 28 29 30] \n",
      "  Parameters: {'learning_rate': 0.01}\n",
      "  Backtesting metric: 6.490530322704875e-10\n",
      "\n",
      "1722 of 1782\n",
      "Number of models compared: 14.\n"
     ]
    },
    {
     "name": "stderr",
     "output_type": "stream",
     "text": [
      "lags grid: 100%|██████████████████████████████████████████████████████████████████████████| 7/7 [00:01<00:00,  4.93it/s]\n"
     ]
    },
    {
     "name": "stdout",
     "output_type": "stream",
     "text": [
      "`Forecaster` refitted using the best-found lags and parameters, and the whole data set: \n",
      "  Lags: [ 1  2  3  4  5  6  7  8  9 10] \n",
      "  Parameters: {'learning_rate': 0.01}\n",
      "  Backtesting metric: 6.067104409613779e-08\n",
      "\n",
      "1723 of 1782\n",
      "Number of models compared: 14.\n"
     ]
    },
    {
     "name": "stderr",
     "output_type": "stream",
     "text": [
      "lags grid: 100%|██████████████████████████████████████████████████████████████████████████| 7/7 [00:01<00:00,  5.00it/s]\n"
     ]
    },
    {
     "name": "stdout",
     "output_type": "stream",
     "text": [
      "`Forecaster` refitted using the best-found lags and parameters, and the whole data set: \n",
      "  Lags: [ 1  2  3  4  5  6  7  8  9 10 11 12 13 14 15 16 17 18 19 20] \n",
      "  Parameters: {'learning_rate': 0.01}\n",
      "  Backtesting metric: 3.1212546475769936e-09\n",
      "\n",
      "1724 of 1782\n",
      "Number of models compared: 14.\n"
     ]
    },
    {
     "name": "stderr",
     "output_type": "stream",
     "text": [
      "lags grid: 100%|██████████████████████████████████████████████████████████████████████████| 7/7 [00:01<00:00,  4.64it/s]\n"
     ]
    },
    {
     "name": "stdout",
     "output_type": "stream",
     "text": [
      "`Forecaster` refitted using the best-found lags and parameters, and the whole data set: \n",
      "  Lags: [ 1  2  3  4  5  6  7  8  9 10] \n",
      "  Parameters: {'learning_rate': 0.1}\n",
      "  Backtesting metric: 3.084553316839935e-08\n",
      "\n",
      "1725 of 1782\n",
      "Number of models compared: 14.\n"
     ]
    },
    {
     "name": "stderr",
     "output_type": "stream",
     "text": [
      "lags grid: 100%|██████████████████████████████████████████████████████████████████████████| 7/7 [00:01<00:00,  5.86it/s]\n"
     ]
    },
    {
     "name": "stdout",
     "output_type": "stream",
     "text": [
      "`Forecaster` refitted using the best-found lags and parameters, and the whole data set: \n",
      "  Lags: [  1   2   3   4   5   6   7   8   9  10  11  12  13  14  15  16  17  18\n",
      "  19  20  21  22  23  24  25  26  27  28  29  30  31  32  33  34  35  36\n",
      "  37  38  39  40  41  42  43  44  45  46  47  48  49  50  51  52  53  54\n",
      "  55  56  57  58  59  60  61  62  63  64  65  66  67  68  69  70  71  72\n",
      "  73  74  75  76  77  78  79  80  81  82  83  84  85  86  87  88  89  90\n",
      "  91  92  93  94  95  96  97  98  99 100 101 102 103 104 105 106 107 108\n",
      " 109 110 111 112 113 114 115 116 117 118 119 120 121 122 123 124 125 126\n",
      " 127 128 129 130 131 132 133 134 135 136 137 138 139 140 141 142 143 144\n",
      " 145 146 147 148 149 150] \n",
      "  Parameters: {'learning_rate': 0.01}\n",
      "  Backtesting metric: 1.7722595025557928e-09\n",
      "\n",
      "1726 of 1782\n",
      "Number of models compared: 14.\n"
     ]
    },
    {
     "name": "stderr",
     "output_type": "stream",
     "text": [
      "lags grid: 100%|██████████████████████████████████████████████████████████████████████████| 7/7 [00:01<00:00,  4.60it/s]\n"
     ]
    },
    {
     "name": "stdout",
     "output_type": "stream",
     "text": [
      "`Forecaster` refitted using the best-found lags and parameters, and the whole data set: \n",
      "  Lags: [  1   2   3   4   5   6   7   8   9  10  11  12  13  14  15  16  17  18\n",
      "  19  20  21  22  23  24  25  26  27  28  29  30  31  32  33  34  35  36\n",
      "  37  38  39  40  41  42  43  44  45  46  47  48  49  50  51  52  53  54\n",
      "  55  56  57  58  59  60  61  62  63  64  65  66  67  68  69  70  71  72\n",
      "  73  74  75  76  77  78  79  80  81  82  83  84  85  86  87  88  89  90\n",
      "  91  92  93  94  95  96  97  98  99 100 101 102 103 104 105 106 107 108\n",
      " 109 110 111 112 113 114 115 116 117 118 119 120 121 122 123 124 125 126\n",
      " 127 128 129 130 131 132 133 134 135 136 137 138 139 140 141 142 143 144\n",
      " 145 146 147 148 149 150] \n",
      "  Parameters: {'learning_rate': 0.1}\n",
      "  Backtesting metric: 2.2271561886727685e-08\n",
      "\n",
      "1727 of 1782\n",
      "Number of models compared: 14.\n"
     ]
    },
    {
     "name": "stderr",
     "output_type": "stream",
     "text": [
      "lags grid: 100%|██████████████████████████████████████████████████████████████████████████| 7/7 [00:01<00:00,  4.85it/s]\n"
     ]
    },
    {
     "name": "stdout",
     "output_type": "stream",
     "text": [
      "`Forecaster` refitted using the best-found lags and parameters, and the whole data set: \n",
      "  Lags: [ 1  2  3  4  5  6  7  8  9 10] \n",
      "  Parameters: {'learning_rate': 0.01}\n",
      "  Backtesting metric: 4.493682792309383e-07\n",
      "\n",
      "1728 of 1782\n",
      "Number of models compared: 14.\n"
     ]
    },
    {
     "name": "stderr",
     "output_type": "stream",
     "text": [
      "lags grid: 100%|██████████████████████████████████████████████████████████████████████████| 7/7 [00:01<00:00,  6.74it/s]\n"
     ]
    },
    {
     "name": "stdout",
     "output_type": "stream",
     "text": [
      "`Forecaster` refitted using the best-found lags and parameters, and the whole data set: \n",
      "  Lags: [ 1  2  3  4  5  6  7  8  9 10] \n",
      "  Parameters: {'learning_rate': 0.01}\n",
      "  Backtesting metric: 4.842908062732521e-10\n",
      "\n",
      "1729 of 1782\n",
      "Number of models compared: 14.\n"
     ]
    },
    {
     "name": "stderr",
     "output_type": "stream",
     "text": [
      "lags grid: 100%|██████████████████████████████████████████████████████████████████████████| 7/7 [00:00<00:00,  7.29it/s]\n"
     ]
    },
    {
     "name": "stdout",
     "output_type": "stream",
     "text": [
      "`Forecaster` refitted using the best-found lags and parameters, and the whole data set: \n",
      "  Lags: [ 1  2  3  4  5  6  7  8  9 10] \n",
      "  Parameters: {'learning_rate': 0.01}\n",
      "  Backtesting metric: 1.6080541568173964e-11\n",
      "\n",
      "1730 of 1782\n",
      "Number of models compared: 14.\n"
     ]
    },
    {
     "name": "stderr",
     "output_type": "stream",
     "text": [
      "lags grid: 100%|██████████████████████████████████████████████████████████████████████████| 7/7 [00:01<00:00,  6.45it/s]\n"
     ]
    },
    {
     "name": "stdout",
     "output_type": "stream",
     "text": [
      "`Forecaster` refitted using the best-found lags and parameters, and the whole data set: \n",
      "  Lags: [ 1  2  3  4  5  6  7  8  9 10] \n",
      "  Parameters: {'learning_rate': 0.1}\n",
      "  Backtesting metric: 3.517974367459494e-09\n",
      "\n",
      "1731 of 1782\n",
      "Number of models compared: 14.\n"
     ]
    },
    {
     "name": "stderr",
     "output_type": "stream",
     "text": [
      "lags grid: 100%|██████████████████████████████████████████████████████████████████████████| 7/7 [00:01<00:00,  6.52it/s]\n"
     ]
    },
    {
     "name": "stdout",
     "output_type": "stream",
     "text": [
      "`Forecaster` refitted using the best-found lags and parameters, and the whole data set: \n",
      "  Lags: [ 1  2  3  4  5  6  7  8  9 10] \n",
      "  Parameters: {'learning_rate': 0.01}\n",
      "  Backtesting metric: 6.823877631268167e-10\n",
      "\n",
      "1732 of 1782\n",
      "Number of models compared: 14.\n"
     ]
    },
    {
     "name": "stderr",
     "output_type": "stream",
     "text": [
      "lags grid: 100%|██████████████████████████████████████████████████████████████████████████| 7/7 [00:00<00:00,  8.31it/s]\n"
     ]
    },
    {
     "name": "stdout",
     "output_type": "stream",
     "text": [
      "`Forecaster` refitted using the best-found lags and parameters, and the whole data set: \n",
      "  Lags: [  1   2   3   4   5   6   7   8   9  10  11  12  13  14  15  16  17  18\n",
      "  19  20  21  22  23  24  25  26  27  28  29  30  31  32  33  34  35  36\n",
      "  37  38  39  40  41  42  43  44  45  46  47  48  49  50  51  52  53  54\n",
      "  55  56  57  58  59  60  61  62  63  64  65  66  67  68  69  70  71  72\n",
      "  73  74  75  76  77  78  79  80  81  82  83  84  85  86  87  88  89  90\n",
      "  91  92  93  94  95  96  97  98  99 100 101 102 103 104 105 106 107 108\n",
      " 109 110 111 112 113 114 115 116 117 118 119 120 121 122 123 124 125 126\n",
      " 127 128 129 130 131 132 133 134 135 136 137 138 139 140 141 142 143 144\n",
      " 145 146 147 148 149 150] \n",
      "  Parameters: {'learning_rate': 0.01}\n",
      "  Backtesting metric: 4.898507565270746e-12\n",
      "\n",
      "1733 of 1782\n",
      "Number of models compared: 14.\n"
     ]
    },
    {
     "name": "stderr",
     "output_type": "stream",
     "text": [
      "lags grid: 100%|██████████████████████████████████████████████████████████████████████████| 7/7 [00:01<00:00,  4.75it/s]\n"
     ]
    },
    {
     "name": "stdout",
     "output_type": "stream",
     "text": [
      "`Forecaster` refitted using the best-found lags and parameters, and the whole data set: \n",
      "  Lags: [ 1  2  3  4  5  6  7  8  9 10 11 12 13 14 15 16 17 18 19 20 21 22 23 24\n",
      " 25 26 27 28 29 30] \n",
      "  Parameters: {'learning_rate': 0.01}\n",
      "  Backtesting metric: 6.800745299764094e-09\n",
      "\n",
      "1734 of 1782\n",
      "Number of models compared: 14.\n"
     ]
    },
    {
     "name": "stderr",
     "output_type": "stream",
     "text": [
      "lags grid: 100%|██████████████████████████████████████████████████████████████████████████| 7/7 [00:00<00:00,  7.36it/s]\n"
     ]
    },
    {
     "name": "stdout",
     "output_type": "stream",
     "text": [
      "`Forecaster` refitted using the best-found lags and parameters, and the whole data set: \n",
      "  Lags: [ 1  2  3  4  5  6  7  8  9 10] \n",
      "  Parameters: {'learning_rate': 0.1}\n",
      "  Backtesting metric: 3.182607936765908e-09\n",
      "\n",
      "1735 of 1782\n",
      "Number of models compared: 14.\n"
     ]
    },
    {
     "name": "stderr",
     "output_type": "stream",
     "text": [
      "lags grid: 100%|██████████████████████████████████████████████████████████████████████████| 7/7 [00:01<00:00,  6.73it/s]\n"
     ]
    },
    {
     "name": "stdout",
     "output_type": "stream",
     "text": [
      "`Forecaster` refitted using the best-found lags and parameters, and the whole data set: \n",
      "  Lags: [  1   2   3   4   5   6   7   8   9  10  11  12  13  14  15  16  17  18\n",
      "  19  20  21  22  23  24  25  26  27  28  29  30  31  32  33  34  35  36\n",
      "  37  38  39  40  41  42  43  44  45  46  47  48  49  50  51  52  53  54\n",
      "  55  56  57  58  59  60  61  62  63  64  65  66  67  68  69  70  71  72\n",
      "  73  74  75  76  77  78  79  80  81  82  83  84  85  86  87  88  89  90\n",
      "  91  92  93  94  95  96  97  98  99 100] \n",
      "  Parameters: {'learning_rate': 0.01}\n",
      "  Backtesting metric: 1.2803461979007364e-09\n",
      "\n",
      "1736 of 1782\n",
      "Number of models compared: 14.\n"
     ]
    },
    {
     "name": "stderr",
     "output_type": "stream",
     "text": [
      "lags grid: 100%|██████████████████████████████████████████████████████████████████████████| 7/7 [00:01<00:00,  6.64it/s]\n"
     ]
    },
    {
     "name": "stdout",
     "output_type": "stream",
     "text": [
      "`Forecaster` refitted using the best-found lags and parameters, and the whole data set: \n",
      "  Lags: [  1   2   3   4   5   6   7   8   9  10  11  12  13  14  15  16  17  18\n",
      "  19  20  21  22  23  24  25  26  27  28  29  30  31  32  33  34  35  36\n",
      "  37  38  39  40  41  42  43  44  45  46  47  48  49  50  51  52  53  54\n",
      "  55  56  57  58  59  60  61  62  63  64  65  66  67  68  69  70  71  72\n",
      "  73  74  75  76  77  78  79  80  81  82  83  84  85  86  87  88  89  90\n",
      "  91  92  93  94  95  96  97  98  99 100 101 102 103 104 105 106 107 108\n",
      " 109 110 111 112 113 114 115 116 117 118 119 120 121 122 123 124 125 126\n",
      " 127 128 129 130 131 132 133 134 135 136 137 138 139 140 141 142 143 144\n",
      " 145 146 147 148 149 150] \n",
      "  Parameters: {'learning_rate': 0.01}\n",
      "  Backtesting metric: 2.7736977784340756e-11\n",
      "\n",
      "1737 of 1782\n",
      "Number of models compared: 14.\n"
     ]
    },
    {
     "name": "stderr",
     "output_type": "stream",
     "text": [
      "lags grid: 100%|██████████████████████████████████████████████████████████████████████████| 7/7 [00:01<00:00,  4.82it/s]\n"
     ]
    },
    {
     "name": "stdout",
     "output_type": "stream",
     "text": [
      "`Forecaster` refitted using the best-found lags and parameters, and the whole data set: \n",
      "  Lags: [  1   2   3   4   5   6   7   8   9  10  11  12  13  14  15  16  17  18\n",
      "  19  20  21  22  23  24  25  26  27  28  29  30  31  32  33  34  35  36\n",
      "  37  38  39  40  41  42  43  44  45  46  47  48  49  50  51  52  53  54\n",
      "  55  56  57  58  59  60  61  62  63  64  65  66  67  68  69  70  71  72\n",
      "  73  74  75  76  77  78  79  80  81  82  83  84  85  86  87  88  89  90\n",
      "  91  92  93  94  95  96  97  98  99 100 101 102 103 104 105 106 107 108\n",
      " 109 110 111 112 113 114 115 116 117 118 119 120 121 122 123 124 125 126\n",
      " 127 128 129 130 131 132 133 134 135 136 137 138 139 140 141 142 143 144\n",
      " 145 146 147 148 149 150] \n",
      "  Parameters: {'learning_rate': 0.1}\n",
      "  Backtesting metric: 2.6545414734552762e-08\n",
      "\n",
      "1738 of 1782\n",
      "Number of models compared: 14.\n"
     ]
    },
    {
     "name": "stderr",
     "output_type": "stream",
     "text": [
      "lags grid: 100%|██████████████████████████████████████████████████████████████████████████| 7/7 [00:00<00:00,  7.45it/s]\n"
     ]
    },
    {
     "name": "stdout",
     "output_type": "stream",
     "text": [
      "`Forecaster` refitted using the best-found lags and parameters, and the whole data set: \n",
      "  Lags: [ 1  2  3  4  5  6  7  8  9 10 11 12 13 14 15 16 17 18 19 20 21 22 23 24\n",
      " 25 26 27 28 29 30] \n",
      "  Parameters: {'learning_rate': 0.1}\n",
      "  Backtesting metric: 1.458695382503047e-09\n",
      "\n",
      "1739 of 1782\n",
      "Number of models compared: 14.\n"
     ]
    },
    {
     "name": "stderr",
     "output_type": "stream",
     "text": [
      "lags grid: 100%|██████████████████████████████████████████████████████████████████████████| 7/7 [00:01<00:00,  4.57it/s]\n"
     ]
    },
    {
     "name": "stdout",
     "output_type": "stream",
     "text": [
      "`Forecaster` refitted using the best-found lags and parameters, and the whole data set: \n",
      "  Lags: [ 1  2  3  4  5  6  7  8  9 10] \n",
      "  Parameters: {'learning_rate': 0.01}\n",
      "  Backtesting metric: 1.61742727465592e-08\n",
      "\n",
      "1740 of 1782\n",
      "Number of models compared: 14.\n"
     ]
    },
    {
     "name": "stderr",
     "output_type": "stream",
     "text": [
      "lags grid: 100%|██████████████████████████████████████████████████████████████████████████| 7/7 [00:01<00:00,  4.44it/s]\n"
     ]
    },
    {
     "name": "stdout",
     "output_type": "stream",
     "text": [
      "`Forecaster` refitted using the best-found lags and parameters, and the whole data set: \n",
      "  Lags: [ 1  2  3  4  5  6  7  8  9 10] \n",
      "  Parameters: {'learning_rate': 0.01}\n",
      "  Backtesting metric: 4.9216319906293445e-08\n",
      "\n",
      "1741 of 1782\n",
      "Number of models compared: 14.\n"
     ]
    },
    {
     "name": "stderr",
     "output_type": "stream",
     "text": [
      "lags grid: 100%|██████████████████████████████████████████████████████████████████████████| 7/7 [00:00<00:00,  7.47it/s]\n"
     ]
    },
    {
     "name": "stdout",
     "output_type": "stream",
     "text": [
      "`Forecaster` refitted using the best-found lags and parameters, and the whole data set: \n",
      "  Lags: [  1   2   3   4   5   6   7   8   9  10  11  12  13  14  15  16  17  18\n",
      "  19  20  21  22  23  24  25  26  27  28  29  30  31  32  33  34  35  36\n",
      "  37  38  39  40  41  42  43  44  45  46  47  48  49  50  51  52  53  54\n",
      "  55  56  57  58  59  60  61  62  63  64  65  66  67  68  69  70  71  72\n",
      "  73  74  75  76  77  78  79  80  81  82  83  84  85  86  87  88  89  90\n",
      "  91  92  93  94  95  96  97  98  99 100 101 102 103 104 105 106 107 108\n",
      " 109 110 111 112 113 114 115 116 117 118 119 120 121 122 123 124 125 126\n",
      " 127 128 129 130 131 132 133 134 135 136 137 138 139 140 141 142 143 144\n",
      " 145 146 147 148 149 150] \n",
      "  Parameters: {'learning_rate': 0.01}\n",
      "  Backtesting metric: 1.8017885651400784e-10\n",
      "\n",
      "1742 of 1782\n",
      "Number of models compared: 14.\n"
     ]
    },
    {
     "name": "stderr",
     "output_type": "stream",
     "text": [
      "lags grid: 100%|██████████████████████████████████████████████████████████████████████████| 7/7 [00:00<00:00,  7.08it/s]\n"
     ]
    },
    {
     "name": "stdout",
     "output_type": "stream",
     "text": [
      "`Forecaster` refitted using the best-found lags and parameters, and the whole data set: \n",
      "  Lags: [ 1  2  3  4  5  6  7  8  9 10 11 12 13 14 15 16 17 18 19 20 21 22 23 24\n",
      " 25 26 27 28 29 30 31 32 33 34 35 36 37 38 39 40 41 42 43 44 45 46 47 48\n",
      " 49 50] \n",
      "  Parameters: {'learning_rate': 0.1}\n",
      "  Backtesting metric: 1.807460643021667e-10\n",
      "\n",
      "1743 of 1782\n",
      "Number of models compared: 14.\n"
     ]
    },
    {
     "name": "stderr",
     "output_type": "stream",
     "text": [
      "lags grid: 100%|██████████████████████████████████████████████████████████████████████████| 7/7 [00:01<00:00,  4.85it/s]\n"
     ]
    },
    {
     "name": "stdout",
     "output_type": "stream",
     "text": [
      "`Forecaster` refitted using the best-found lags and parameters, and the whole data set: \n",
      "  Lags: [ 1  2  3  4  5  6  7  8  9 10 11 12 13 14 15 16 17 18 19 20 21 22 23 24\n",
      " 25 26 27 28 29 30 31 32 33 34 35 36 37 38 39 40 41 42 43 44 45 46 47 48\n",
      " 49 50] \n",
      "  Parameters: {'learning_rate': 0.1}\n",
      "  Backtesting metric: 3.1026394234074454e-08\n",
      "\n",
      "1744 of 1782\n",
      "Number of models compared: 14.\n"
     ]
    },
    {
     "name": "stderr",
     "output_type": "stream",
     "text": [
      "lags grid: 100%|██████████████████████████████████████████████████████████████████████████| 7/7 [00:01<00:00,  4.66it/s]\n"
     ]
    },
    {
     "name": "stdout",
     "output_type": "stream",
     "text": [
      "`Forecaster` refitted using the best-found lags and parameters, and the whole data set: \n",
      "  Lags: [ 1  2  3  4  5  6  7  8  9 10 11 12 13 14 15 16 17 18 19 20 21 22 23 24\n",
      " 25 26 27 28 29 30 31 32 33 34 35 36 37 38 39 40 41 42 43 44 45 46 47 48\n",
      " 49 50] \n",
      "  Parameters: {'learning_rate': 0.1}\n",
      "  Backtesting metric: 5.306721575665419e-09\n",
      "\n",
      "1745 of 1782\n",
      "Number of models compared: 14.\n"
     ]
    },
    {
     "name": "stderr",
     "output_type": "stream",
     "text": [
      "lags grid: 100%|██████████████████████████████████████████████████████████████████████████| 7/7 [00:01<00:00,  4.86it/s]\n"
     ]
    },
    {
     "name": "stdout",
     "output_type": "stream",
     "text": [
      "`Forecaster` refitted using the best-found lags and parameters, and the whole data set: \n",
      "  Lags: [ 1  2  3  4  5  6  7  8  9 10 11 12 13 14 15 16 17 18 19 20 21 22 23 24\n",
      " 25 26 27 28 29 30] \n",
      "  Parameters: {'learning_rate': 0.01}\n",
      "  Backtesting metric: 3.175989957591634e-07\n",
      "\n",
      "1746 of 1782\n",
      "Number of models compared: 14.\n"
     ]
    },
    {
     "name": "stderr",
     "output_type": "stream",
     "text": [
      "lags grid: 100%|██████████████████████████████████████████████████████████████████████████| 7/7 [00:00<00:00,  7.14it/s]\n"
     ]
    },
    {
     "name": "stdout",
     "output_type": "stream",
     "text": [
      "`Forecaster` refitted using the best-found lags and parameters, and the whole data set: \n",
      "  Lags: [ 1  2  3  4  5  6  7  8  9 10 11 12 13 14 15 16 17 18 19 20 21 22 23 24\n",
      " 25 26 27 28 29 30 31 32 33 34 35 36 37 38 39 40 41 42 43 44 45 46 47 48\n",
      " 49 50] \n",
      "  Parameters: {'learning_rate': 0.1}\n",
      "  Backtesting metric: 5.947377852705601e-12\n",
      "\n",
      "1747 of 1782\n",
      "Number of models compared: 14.\n"
     ]
    },
    {
     "name": "stderr",
     "output_type": "stream",
     "text": [
      "lags grid: 100%|██████████████████████████████████████████████████████████████████████████| 7/7 [00:01<00:00,  6.72it/s]\n"
     ]
    },
    {
     "name": "stdout",
     "output_type": "stream",
     "text": [
      "`Forecaster` refitted using the best-found lags and parameters, and the whole data set: \n",
      "  Lags: [ 1  2  3  4  5  6  7  8  9 10 11 12 13 14 15 16 17 18 19 20] \n",
      "  Parameters: {'learning_rate': 0.1}\n",
      "  Backtesting metric: 5.515586897399354e-10\n",
      "\n",
      "1748 of 1782\n",
      "Number of models compared: 14.\n"
     ]
    },
    {
     "name": "stderr",
     "output_type": "stream",
     "text": [
      "lags grid: 100%|██████████████████████████████████████████████████████████████████████████| 7/7 [00:00<00:00,  7.41it/s]\n"
     ]
    },
    {
     "name": "stdout",
     "output_type": "stream",
     "text": [
      "`Forecaster` refitted using the best-found lags and parameters, and the whole data set: \n",
      "  Lags: [  1   2   3   4   5   6   7   8   9  10  11  12  13  14  15  16  17  18\n",
      "  19  20  21  22  23  24  25  26  27  28  29  30  31  32  33  34  35  36\n",
      "  37  38  39  40  41  42  43  44  45  46  47  48  49  50  51  52  53  54\n",
      "  55  56  57  58  59  60  61  62  63  64  65  66  67  68  69  70  71  72\n",
      "  73  74  75  76  77  78  79  80  81  82  83  84  85  86  87  88  89  90\n",
      "  91  92  93  94  95  96  97  98  99 100] \n",
      "  Parameters: {'learning_rate': 0.1}\n",
      "  Backtesting metric: 6.85665390305349e-11\n",
      "\n",
      "1749 of 1782\n",
      "Number of models compared: 14.\n"
     ]
    },
    {
     "name": "stderr",
     "output_type": "stream",
     "text": [
      "lags grid: 100%|██████████████████████████████████████████████████████████████████████████| 7/7 [00:00<00:00,  8.16it/s]\n"
     ]
    },
    {
     "name": "stdout",
     "output_type": "stream",
     "text": [
      "`Forecaster` refitted using the best-found lags and parameters, and the whole data set: \n",
      "  Lags: [ 1  2  3  4  5  6  7  8  9 10 11 12 13 14 15 16 17 18 19 20] \n",
      "  Parameters: {'learning_rate': 0.1}\n",
      "  Backtesting metric: 1.9094577833213735e-13\n",
      "\n",
      "1750 of 1782\n",
      "Number of models compared: 14.\n"
     ]
    },
    {
     "name": "stderr",
     "output_type": "stream",
     "text": [
      "lags grid: 100%|██████████████████████████████████████████████████████████████████████████| 7/7 [00:00<00:00,  7.01it/s]\n"
     ]
    },
    {
     "name": "stdout",
     "output_type": "stream",
     "text": [
      "`Forecaster` refitted using the best-found lags and parameters, and the whole data set: \n",
      "  Lags: [ 1  2  3  4  5  7  9 13 15 20 30 31 29 28 50] \n",
      "  Parameters: {'learning_rate': 0.01}\n",
      "  Backtesting metric: 6.766919252702778e-11\n",
      "\n",
      "1751 of 1782\n",
      "Number of models compared: 14.\n"
     ]
    },
    {
     "name": "stderr",
     "output_type": "stream",
     "text": [
      "lags grid: 100%|██████████████████████████████████████████████████████████████████████████| 7/7 [00:01<00:00,  4.77it/s]\n"
     ]
    },
    {
     "name": "stdout",
     "output_type": "stream",
     "text": [
      "`Forecaster` refitted using the best-found lags and parameters, and the whole data set: \n",
      "  Lags: [  1   2   3   4   5   6   7   8   9  10  11  12  13  14  15  16  17  18\n",
      "  19  20  21  22  23  24  25  26  27  28  29  30  31  32  33  34  35  36\n",
      "  37  38  39  40  41  42  43  44  45  46  47  48  49  50  51  52  53  54\n",
      "  55  56  57  58  59  60  61  62  63  64  65  66  67  68  69  70  71  72\n",
      "  73  74  75  76  77  78  79  80  81  82  83  84  85  86  87  88  89  90\n",
      "  91  92  93  94  95  96  97  98  99 100] \n",
      "  Parameters: {'learning_rate': 0.1}\n",
      "  Backtesting metric: 6.208226580754239e-06\n",
      "\n",
      "1752 of 1782\n",
      "Number of models compared: 14.\n"
     ]
    },
    {
     "name": "stderr",
     "output_type": "stream",
     "text": [
      "lags grid: 100%|██████████████████████████████████████████████████████████████████████████| 7/7 [00:00<00:00, 37.93it/s]\n"
     ]
    },
    {
     "name": "stdout",
     "output_type": "stream",
     "text": [
      "`Forecaster` refitted using the best-found lags and parameters, and the whole data set: \n",
      "  Lags: [ 1  2  3  4  5  6  7  8  9 10 11 12 13 14 15 16 17 18 19 20 21 22 23 24\n",
      " 25 26 27 28 29 30] \n",
      "  Parameters: {'learning_rate': 0.01}\n",
      "  Backtesting metric: 0.0\n",
      "\n",
      "1753 of 1782\n",
      "Number of models compared: 14.\n"
     ]
    },
    {
     "name": "stderr",
     "output_type": "stream",
     "text": [
      "lags grid: 100%|██████████████████████████████████████████████████████████████████████████| 7/7 [00:01<00:00,  4.62it/s]\n"
     ]
    },
    {
     "name": "stdout",
     "output_type": "stream",
     "text": [
      "`Forecaster` refitted using the best-found lags and parameters, and the whole data set: \n",
      "  Lags: [ 1  2  3  4  5  6  7  8  9 10 11 12 13 14 15 16 17 18 19 20 21 22 23 24\n",
      " 25 26 27 28 29 30] \n",
      "  Parameters: {'learning_rate': 0.1}\n",
      "  Backtesting metric: 1.4941293246658776e-07\n",
      "\n",
      "1754 of 1782\n",
      "Number of models compared: 14.\n"
     ]
    },
    {
     "name": "stderr",
     "output_type": "stream",
     "text": [
      "lags grid: 100%|██████████████████████████████████████████████████████████████████████████| 7/7 [00:00<00:00,  7.36it/s]\n"
     ]
    },
    {
     "name": "stdout",
     "output_type": "stream",
     "text": [
      "`Forecaster` refitted using the best-found lags and parameters, and the whole data set: \n",
      "  Lags: [  1   2   3   4   5   6   7   8   9  10  11  12  13  14  15  16  17  18\n",
      "  19  20  21  22  23  24  25  26  27  28  29  30  31  32  33  34  35  36\n",
      "  37  38  39  40  41  42  43  44  45  46  47  48  49  50  51  52  53  54\n",
      "  55  56  57  58  59  60  61  62  63  64  65  66  67  68  69  70  71  72\n",
      "  73  74  75  76  77  78  79  80  81  82  83  84  85  86  87  88  89  90\n",
      "  91  92  93  94  95  96  97  98  99 100 101 102 103 104 105 106 107 108\n",
      " 109 110 111 112 113 114 115 116 117 118 119 120 121 122 123 124 125 126\n",
      " 127 128 129 130 131 132 133 134 135 136 137 138 139 140 141 142 143 144\n",
      " 145 146 147 148 149 150] \n",
      "  Parameters: {'learning_rate': 0.01}\n",
      "  Backtesting metric: 1.1785930130630997e-10\n",
      "\n",
      "1755 of 1782\n",
      "Number of models compared: 14.\n"
     ]
    },
    {
     "name": "stderr",
     "output_type": "stream",
     "text": [
      "lags grid: 100%|██████████████████████████████████████████████████████████████████████████| 7/7 [00:01<00:00,  4.78it/s]\n"
     ]
    },
    {
     "name": "stdout",
     "output_type": "stream",
     "text": [
      "`Forecaster` refitted using the best-found lags and parameters, and the whole data set: \n",
      "  Lags: [  1   2   3   4   5   6   7   8   9  10  11  12  13  14  15  16  17  18\n",
      "  19  20  21  22  23  24  25  26  27  28  29  30  31  32  33  34  35  36\n",
      "  37  38  39  40  41  42  43  44  45  46  47  48  49  50  51  52  53  54\n",
      "  55  56  57  58  59  60  61  62  63  64  65  66  67  68  69  70  71  72\n",
      "  73  74  75  76  77  78  79  80  81  82  83  84  85  86  87  88  89  90\n",
      "  91  92  93  94  95  96  97  98  99 100] \n",
      "  Parameters: {'learning_rate': 0.1}\n",
      "  Backtesting metric: 4.320673563942377e-06\n",
      "\n",
      "1756 of 1782\n",
      "Number of models compared: 14.\n"
     ]
    },
    {
     "name": "stderr",
     "output_type": "stream",
     "text": [
      "lags grid: 100%|██████████████████████████████████████████████████████████████████████████| 7/7 [00:01<00:00,  4.64it/s]\n"
     ]
    },
    {
     "name": "stdout",
     "output_type": "stream",
     "text": [
      "`Forecaster` refitted using the best-found lags and parameters, and the whole data set: \n",
      "  Lags: [ 1  2  3  4  5  6  7  8  9 10 11 12 13 14 15 16 17 18 19 20 21 22 23 24\n",
      " 25 26 27 28 29 30 31 32 33 34 35 36 37 38 39 40 41 42 43 44 45 46 47 48\n",
      " 49 50] \n",
      "  Parameters: {'learning_rate': 0.1}\n",
      "  Backtesting metric: 9.254866340842826e-10\n",
      "\n",
      "1757 of 1782\n",
      "Number of models compared: 14.\n"
     ]
    },
    {
     "name": "stderr",
     "output_type": "stream",
     "text": [
      "lags grid: 100%|██████████████████████████████████████████████████████████████████████████| 7/7 [00:01<00:00,  4.64it/s]\n"
     ]
    },
    {
     "name": "stdout",
     "output_type": "stream",
     "text": [
      "`Forecaster` refitted using the best-found lags and parameters, and the whole data set: \n",
      "  Lags: [ 1  2  3  4  5  6  7  8  9 10 11 12 13 14 15 16 17 18 19 20] \n",
      "  Parameters: {'learning_rate': 0.1}\n",
      "  Backtesting metric: 1.1812577846673533e-09\n",
      "\n",
      "1758 of 1782\n",
      "Number of models compared: 14.\n"
     ]
    },
    {
     "name": "stderr",
     "output_type": "stream",
     "text": [
      "lags grid: 100%|██████████████████████████████████████████████████████████████████████████| 7/7 [00:01<00:00,  5.29it/s]\n"
     ]
    },
    {
     "name": "stdout",
     "output_type": "stream",
     "text": [
      "`Forecaster` refitted using the best-found lags and parameters, and the whole data set: \n",
      "  Lags: [ 1  2  3  4  5  6  7  8  9 10] \n",
      "  Parameters: {'learning_rate': 0.1}\n",
      "  Backtesting metric: 1.6474914070907794e-08\n",
      "\n",
      "1759 of 1782\n",
      "Number of models compared: 14.\n"
     ]
    },
    {
     "name": "stderr",
     "output_type": "stream",
     "text": [
      "lags grid: 100%|██████████████████████████████████████████████████████████████████████████| 7/7 [00:01<00:00,  4.81it/s]\n"
     ]
    },
    {
     "name": "stdout",
     "output_type": "stream",
     "text": [
      "`Forecaster` refitted using the best-found lags and parameters, and the whole data set: \n",
      "  Lags: [ 1  2  3  4  5  6  7  8  9 10 11 12 13 14 15 16 17 18 19 20 21 22 23 24\n",
      " 25 26 27 28 29 30 31 32 33 34 35 36 37 38 39 40 41 42 43 44 45 46 47 48\n",
      " 49 50] \n",
      "  Parameters: {'learning_rate': 0.01}\n",
      "  Backtesting metric: 7.1522836111601624e-12\n",
      "\n",
      "1760 of 1782\n",
      "Number of models compared: 14.\n"
     ]
    },
    {
     "name": "stderr",
     "output_type": "stream",
     "text": [
      "lags grid: 100%|██████████████████████████████████████████████████████████████████████████| 7/7 [00:01<00:00,  4.66it/s]\n"
     ]
    },
    {
     "name": "stdout",
     "output_type": "stream",
     "text": [
      "`Forecaster` refitted using the best-found lags and parameters, and the whole data set: \n",
      "  Lags: [  1   2   3   4   5   6   7   8   9  10  11  12  13  14  15  16  17  18\n",
      "  19  20  21  22  23  24  25  26  27  28  29  30  31  32  33  34  35  36\n",
      "  37  38  39  40  41  42  43  44  45  46  47  48  49  50  51  52  53  54\n",
      "  55  56  57  58  59  60  61  62  63  64  65  66  67  68  69  70  71  72\n",
      "  73  74  75  76  77  78  79  80  81  82  83  84  85  86  87  88  89  90\n",
      "  91  92  93  94  95  96  97  98  99 100] \n",
      "  Parameters: {'learning_rate': 0.1}\n",
      "  Backtesting metric: 3.354603734812678e-05\n",
      "\n",
      "1761 of 1782\n",
      "Number of models compared: 14.\n"
     ]
    },
    {
     "name": "stderr",
     "output_type": "stream",
     "text": [
      "lags grid: 100%|██████████████████████████████████████████████████████████████████████████| 7/7 [00:01<00:00,  6.50it/s]\n"
     ]
    },
    {
     "name": "stdout",
     "output_type": "stream",
     "text": [
      "`Forecaster` refitted using the best-found lags and parameters, and the whole data set: \n",
      "  Lags: [ 1  2  3  4  5  7  9 13 15 20 30 31 29 28 50] \n",
      "  Parameters: {'learning_rate': 0.1}\n",
      "  Backtesting metric: 1.4808993588161384e-11\n",
      "\n",
      "1762 of 1782\n",
      "Number of models compared: 14.\n"
     ]
    },
    {
     "name": "stderr",
     "output_type": "stream",
     "text": [
      "lags grid: 100%|██████████████████████████████████████████████████████████████████████████| 7/7 [00:00<00:00,  7.77it/s]\n"
     ]
    },
    {
     "name": "stdout",
     "output_type": "stream",
     "text": [
      "`Forecaster` refitted using the best-found lags and parameters, and the whole data set: \n",
      "  Lags: [ 1  2  3  4  5  6  7  8  9 10 11 12 13 14 15 16 17 18 19 20 21 22 23 24\n",
      " 25 26 27 28 29 30] \n",
      "  Parameters: {'learning_rate': 0.01}\n",
      "  Backtesting metric: 2.6834848783033275e-11\n",
      "\n",
      "1763 of 1782\n",
      "Number of models compared: 14.\n"
     ]
    },
    {
     "name": "stderr",
     "output_type": "stream",
     "text": [
      "lags grid: 100%|██████████████████████████████████████████████████████████████████████████| 7/7 [00:01<00:00,  6.49it/s]\n"
     ]
    },
    {
     "name": "stdout",
     "output_type": "stream",
     "text": [
      "`Forecaster` refitted using the best-found lags and parameters, and the whole data set: \n",
      "  Lags: [ 1  2  3  4  5  7  9 13 15 20 30 31 29 28 50] \n",
      "  Parameters: {'learning_rate': 0.1}\n",
      "  Backtesting metric: 9.726349686767672e-09\n",
      "\n",
      "1764 of 1782\n",
      "Number of models compared: 14.\n"
     ]
    },
    {
     "name": "stderr",
     "output_type": "stream",
     "text": [
      "lags grid: 100%|██████████████████████████████████████████████████████████████████████████| 7/7 [00:01<00:00,  6.30it/s]\n"
     ]
    },
    {
     "name": "stdout",
     "output_type": "stream",
     "text": [
      "`Forecaster` refitted using the best-found lags and parameters, and the whole data set: \n",
      "  Lags: [ 1  2  3  4  5  6  7  8  9 10] \n",
      "  Parameters: {'learning_rate': 0.1}\n",
      "  Backtesting metric: 1.2405789375681706e-09\n",
      "\n",
      "1765 of 1782\n",
      "Number of models compared: 14.\n"
     ]
    },
    {
     "name": "stderr",
     "output_type": "stream",
     "text": [
      "lags grid: 100%|██████████████████████████████████████████████████████████████████████████| 7/7 [00:00<00:00,  7.22it/s]\n"
     ]
    },
    {
     "name": "stdout",
     "output_type": "stream",
     "text": [
      "`Forecaster` refitted using the best-found lags and parameters, and the whole data set: \n",
      "  Lags: [ 1  2  3  4  5  6  7  8  9 10 11 12 13 14 15 16 17 18 19 20] \n",
      "  Parameters: {'learning_rate': 0.1}\n",
      "  Backtesting metric: 7.070505053552904e-13\n",
      "\n",
      "1766 of 1782\n",
      "Number of models compared: 14.\n"
     ]
    },
    {
     "name": "stderr",
     "output_type": "stream",
     "text": [
      "lags grid: 100%|██████████████████████████████████████████████████████████████████████████| 7/7 [00:01<00:00,  4.90it/s]\n"
     ]
    },
    {
     "name": "stdout",
     "output_type": "stream",
     "text": [
      "`Forecaster` refitted using the best-found lags and parameters, and the whole data set: \n",
      "  Lags: [ 1  2  3  4  5  7  9 13 15 20 30 31 29 28 50] \n",
      "  Parameters: {'learning_rate': 0.01}\n",
      "  Backtesting metric: 3.411681691100352e-08\n",
      "\n",
      "1767 of 1782\n",
      "Number of models compared: 14.\n"
     ]
    },
    {
     "name": "stderr",
     "output_type": "stream",
     "text": [
      "lags grid: 100%|██████████████████████████████████████████████████████████████████████████| 7/7 [00:00<00:00, 37.30it/s]\n"
     ]
    },
    {
     "name": "stdout",
     "output_type": "stream",
     "text": [
      "`Forecaster` refitted using the best-found lags and parameters, and the whole data set: \n",
      "  Lags: [ 1  2  3  4  5  6  7  8  9 10 11 12 13 14 15 16 17 18 19 20 21 22 23 24\n",
      " 25 26 27 28 29 30] \n",
      "  Parameters: {'learning_rate': 0.01}\n",
      "  Backtesting metric: 0.0\n",
      "\n",
      "1768 of 1782\n",
      "Number of models compared: 14.\n"
     ]
    },
    {
     "name": "stderr",
     "output_type": "stream",
     "text": [
      "lags grid: 100%|██████████████████████████████████████████████████████████████████████████| 7/7 [00:00<00:00, 35.09it/s]\n"
     ]
    },
    {
     "name": "stdout",
     "output_type": "stream",
     "text": [
      "`Forecaster` refitted using the best-found lags and parameters, and the whole data set: \n",
      "  Lags: [ 1  2  3  4  5  6  7  8  9 10 11 12 13 14 15 16 17 18 19 20 21 22 23 24\n",
      " 25 26 27 28 29 30] \n",
      "  Parameters: {'learning_rate': 0.01}\n",
      "  Backtesting metric: 0.0\n",
      "\n",
      "1769 of 1782\n",
      "Number of models compared: 14.\n"
     ]
    },
    {
     "name": "stderr",
     "output_type": "stream",
     "text": [
      "lags grid: 100%|██████████████████████████████████████████████████████████████████████████| 7/7 [00:00<00:00,  7.58it/s]\n"
     ]
    },
    {
     "name": "stdout",
     "output_type": "stream",
     "text": [
      "`Forecaster` refitted using the best-found lags and parameters, and the whole data set: \n",
      "  Lags: [  1   2   3   4   5   6   7   8   9  10  11  12  13  14  15  16  17  18\n",
      "  19  20  21  22  23  24  25  26  27  28  29  30  31  32  33  34  35  36\n",
      "  37  38  39  40  41  42  43  44  45  46  47  48  49  50  51  52  53  54\n",
      "  55  56  57  58  59  60  61  62  63  64  65  66  67  68  69  70  71  72\n",
      "  73  74  75  76  77  78  79  80  81  82  83  84  85  86  87  88  89  90\n",
      "  91  92  93  94  95  96  97  98  99 100] \n",
      "  Parameters: {'learning_rate': 0.01}\n",
      "  Backtesting metric: 6.69757683676022e-11\n",
      "\n",
      "1770 of 1782\n",
      "Number of models compared: 14.\n"
     ]
    },
    {
     "name": "stderr",
     "output_type": "stream",
     "text": [
      "lags grid: 100%|██████████████████████████████████████████████████████████████████████████| 7/7 [00:01<00:00,  6.56it/s]\n"
     ]
    },
    {
     "name": "stdout",
     "output_type": "stream",
     "text": [
      "`Forecaster` refitted using the best-found lags and parameters, and the whole data set: \n",
      "  Lags: [ 1  2  3  4  5  7  9 13 15 20 30 31 29 28 50] \n",
      "  Parameters: {'learning_rate': 0.01}\n",
      "  Backtesting metric: 2.198733907847054e-06\n",
      "\n",
      "1771 of 1782\n",
      "Number of models compared: 14.\n"
     ]
    },
    {
     "name": "stderr",
     "output_type": "stream",
     "text": [
      "lags grid: 100%|██████████████████████████████████████████████████████████████████████████| 7/7 [00:00<00:00,  7.19it/s]\n"
     ]
    },
    {
     "name": "stdout",
     "output_type": "stream",
     "text": [
      "`Forecaster` refitted using the best-found lags and parameters, and the whole data set: \n",
      "  Lags: [ 1  2  3  4  5  6  7  8  9 10 11 12 13 14 15 16 17 18 19 20 21 22 23 24\n",
      " 25 26 27 28 29 30 31 32 33 34 35 36 37 38 39 40 41 42 43 44 45 46 47 48\n",
      " 49 50] \n",
      "  Parameters: {'learning_rate': 0.1}\n",
      "  Backtesting metric: 1.8110973578926898e-11\n",
      "\n",
      "1772 of 1782\n",
      "Number of models compared: 14.\n"
     ]
    },
    {
     "name": "stderr",
     "output_type": "stream",
     "text": [
      "lags grid: 100%|██████████████████████████████████████████████████████████████████████████| 7/7 [00:01<00:00,  4.27it/s]\n"
     ]
    },
    {
     "name": "stdout",
     "output_type": "stream",
     "text": [
      "`Forecaster` refitted using the best-found lags and parameters, and the whole data set: \n",
      "  Lags: [ 1  2  3  4  5  6  7  8  9 10 11 12 13 14 15 16 17 18 19 20] \n",
      "  Parameters: {'learning_rate': 0.1}\n",
      "  Backtesting metric: 4.314885065686201e-10\n",
      "\n",
      "1773 of 1782\n",
      "Number of models compared: 14.\n"
     ]
    },
    {
     "name": "stderr",
     "output_type": "stream",
     "text": [
      "lags grid: 100%|██████████████████████████████████████████████████████████████████████████| 7/7 [00:01<00:00,  4.72it/s]\n"
     ]
    },
    {
     "name": "stdout",
     "output_type": "stream",
     "text": [
      "`Forecaster` refitted using the best-found lags and parameters, and the whole data set: \n",
      "  Lags: [ 1  2  3  4  5  6  7  8  9 10 11 12 13 14 15 16 17 18 19 20 21 22 23 24\n",
      " 25 26 27 28 29 30] \n",
      "  Parameters: {'learning_rate': 0.01}\n",
      "  Backtesting metric: 4.241288544358576e-10\n",
      "\n",
      "1774 of 1782\n",
      "Number of models compared: 14.\n"
     ]
    },
    {
     "name": "stderr",
     "output_type": "stream",
     "text": [
      "lags grid: 100%|██████████████████████████████████████████████████████████████████████████| 7/7 [00:00<00:00,  7.76it/s]\n"
     ]
    },
    {
     "name": "stdout",
     "output_type": "stream",
     "text": [
      "`Forecaster` refitted using the best-found lags and parameters, and the whole data set: \n",
      "  Lags: [  1   2   3   4   5   6   7   8   9  10  11  12  13  14  15  16  17  18\n",
      "  19  20  21  22  23  24  25  26  27  28  29  30  31  32  33  34  35  36\n",
      "  37  38  39  40  41  42  43  44  45  46  47  48  49  50  51  52  53  54\n",
      "  55  56  57  58  59  60  61  62  63  64  65  66  67  68  69  70  71  72\n",
      "  73  74  75  76  77  78  79  80  81  82  83  84  85  86  87  88  89  90\n",
      "  91  92  93  94  95  96  97  98  99 100 101 102 103 104 105 106 107 108\n",
      " 109 110 111 112 113 114 115 116 117 118 119 120 121 122 123 124 125 126\n",
      " 127 128 129 130 131 132 133 134 135 136 137 138 139 140 141 142 143 144\n",
      " 145 146 147 148 149 150] \n",
      "  Parameters: {'learning_rate': 0.1}\n",
      "  Backtesting metric: 5.122569306891968e-13\n",
      "\n",
      "1775 of 1782\n",
      "Number of models compared: 14.\n"
     ]
    },
    {
     "name": "stderr",
     "output_type": "stream",
     "text": [
      "lags grid: 100%|██████████████████████████████████████████████████████████████████████████| 7/7 [00:00<00:00,  7.13it/s]\n"
     ]
    },
    {
     "name": "stdout",
     "output_type": "stream",
     "text": [
      "`Forecaster` refitted using the best-found lags and parameters, and the whole data set: \n",
      "  Lags: [ 1  2  3  4  5  7  9 13 15 20 30 31 29 28 50] \n",
      "  Parameters: {'learning_rate': 0.01}\n",
      "  Backtesting metric: 6.87344897328697e-11\n",
      "\n",
      "1776 of 1782\n",
      "Number of models compared: 14.\n"
     ]
    },
    {
     "name": "stderr",
     "output_type": "stream",
     "text": [
      "lags grid: 100%|██████████████████████████████████████████████████████████████████████████| 7/7 [00:01<00:00,  4.49it/s]\n"
     ]
    },
    {
     "name": "stdout",
     "output_type": "stream",
     "text": [
      "`Forecaster` refitted using the best-found lags and parameters, and the whole data set: \n",
      "  Lags: [ 1  2  3  4  5  6  7  8  9 10 11 12 13 14 15 16 17 18 19 20] \n",
      "  Parameters: {'learning_rate': 0.01}\n",
      "  Backtesting metric: 5.711278016360846e-14\n",
      "\n",
      "1777 of 1782\n",
      "Number of models compared: 14.\n"
     ]
    },
    {
     "name": "stderr",
     "output_type": "stream",
     "text": [
      "lags grid: 100%|██████████████████████████████████████████████████████████████████████████| 7/7 [00:01<00:00,  5.86it/s]\n"
     ]
    },
    {
     "name": "stdout",
     "output_type": "stream",
     "text": [
      "`Forecaster` refitted using the best-found lags and parameters, and the whole data set: \n",
      "  Lags: [ 1  2  3  4  5  6  7  8  9 10 11 12 13 14 15 16 17 18 19 20] \n",
      "  Parameters: {'learning_rate': 0.1}\n",
      "  Backtesting metric: 5.500355709583569e-09\n",
      "\n",
      "1778 of 1782\n",
      "Number of models compared: 14.\n"
     ]
    },
    {
     "name": "stderr",
     "output_type": "stream",
     "text": [
      "lags grid: 100%|██████████████████████████████████████████████████████████████████████████| 7/7 [00:01<00:00,  4.71it/s]\n"
     ]
    },
    {
     "name": "stdout",
     "output_type": "stream",
     "text": [
      "`Forecaster` refitted using the best-found lags and parameters, and the whole data set: \n",
      "  Lags: [ 1  2  3  4  5  6  7  8  9 10 11 12 13 14 15 16 17 18 19 20 21 22 23 24\n",
      " 25 26 27 28 29 30 31 32 33 34 35 36 37 38 39 40 41 42 43 44 45 46 47 48\n",
      " 49 50] \n",
      "  Parameters: {'learning_rate': 0.1}\n",
      "  Backtesting metric: 8.700986970217817e-08\n",
      "\n",
      "1779 of 1782\n",
      "Number of models compared: 14.\n"
     ]
    },
    {
     "name": "stderr",
     "output_type": "stream",
     "text": [
      "lags grid: 100%|██████████████████████████████████████████████████████████████████████████| 7/7 [00:00<00:00,  7.77it/s]\n"
     ]
    },
    {
     "name": "stdout",
     "output_type": "stream",
     "text": [
      "`Forecaster` refitted using the best-found lags and parameters, and the whole data set: \n",
      "  Lags: [  1   2   3   4   5   6   7   8   9  10  11  12  13  14  15  16  17  18\n",
      "  19  20  21  22  23  24  25  26  27  28  29  30  31  32  33  34  35  36\n",
      "  37  38  39  40  41  42  43  44  45  46  47  48  49  50  51  52  53  54\n",
      "  55  56  57  58  59  60  61  62  63  64  65  66  67  68  69  70  71  72\n",
      "  73  74  75  76  77  78  79  80  81  82  83  84  85  86  87  88  89  90\n",
      "  91  92  93  94  95  96  97  98  99 100] \n",
      "  Parameters: {'learning_rate': 0.1}\n",
      "  Backtesting metric: 1.3227397495821534e-13\n",
      "\n",
      "1780 of 1782\n",
      "Number of models compared: 14.\n"
     ]
    },
    {
     "name": "stderr",
     "output_type": "stream",
     "text": [
      "lags grid: 100%|██████████████████████████████████████████████████████████████████████████| 7/7 [00:00<00:00,  7.43it/s]\n"
     ]
    },
    {
     "name": "stdout",
     "output_type": "stream",
     "text": [
      "`Forecaster` refitted using the best-found lags and parameters, and the whole data set: \n",
      "  Lags: [ 1  2  3  4  5  7  9 13 15 20 30 31 29 28 50] \n",
      "  Parameters: {'learning_rate': 0.1}\n",
      "  Backtesting metric: 3.932548991508714e-11\n",
      "\n",
      "1781 of 1782\n"
     ]
    }
   ],
   "source": [
    "\n",
    "\n",
    "final_df = pd.DataFrame()\n",
    "\n",
    "for i in range(0, len(dataframes_array_train)):\n",
    "    # Define the forecaster with multiple series\n",
    "    forecaster = ForecasterAutoreg(\n",
    "        #regressor = XGBRegressor(\n",
    "        #                          n_estimators=1000,\n",
    "        #                          tree_method='hist',\n",
    "        #                          device='cuda'\n",
    "        #                        ),\n",
    "        regressor = LGBMRegressor(random_state = 432,\n",
    "                                force_col_wise=True,\n",
    "                                verbose=-1,\n",
    "                                max_depth=-1,\n",
    "                                ),\n",
    "        lags = 30,\n",
    "    )\n",
    "\n",
    "\n",
    "    # Parameter Grid for Regressor\n",
    "    param_grid = {\n",
    "        # max_depth: The maximum depth of the tree. If None, then nodes are expanded until all leaves are pure or until all leaves contain less than min_samples_split samples.\n",
    "        #'max_depth' : [-1, 1, 3, 5, 10],\n",
    "        # min_samples_split: The minimum number of samples required to split an internal node.\n",
    "        #'min_samples_split' : [2, 3, 4, 5, 6, 10],\n",
    "        # ccp_alpha: Complexity parameter used for Minimal Cost-Complexity Pruning. The subtree with the largest cost complexity that is smaller than ccp_alpha will be chosen.\n",
    "        #'ccp_alpha' : [0.0, 0.001, 0.01]\n",
    "        'learning_rate': [0.01, 0.1],\n",
    "    }\n",
    "\n",
    "    # lags_grid: The number of previous observations to consider\n",
    "    lags_grid = [30, 50, 100, 150, [1,2,3,4,5,7,9,13,15,20,30,31,29,28,50], 10, 20]\n",
    "\n",
    "\n",
    "    exog = dataframes_array_train[i].loc[train_data_start:train_data_end, ['store_nbr', \n",
    "                                                                           #'onpromotion', \n",
    "                                                                           #'cluster', \n",
    "                                                                           'day_of_week', \n",
    "                                                                           'month', \n",
    "                                                                           'family_encoded', \n",
    "                                                                           #'city_encoded', \n",
    "                                                                           #'state_encoded', \n",
    "                                                                           'type_store_encoded', \n",
    "                                                                           'type_holiday_encoded', \n",
    "                                                                           'locale_encoded', \n",
    "                                                                           'transferred_encoded', \n",
    "                                                                           'dcoilwtico']]\n",
    "    exog = exog.asfreq('D').ffill()\n",
    "    target_test=target[i].loc[train_data_start:train_data_end, 'sales_scaled']\n",
    "    target_test=target_test.asfreq('D').ffill()  # Fill missing values\n",
    "\n",
    "\n",
    "\n",
    "    # Grid Search with Refit and Increasing Train Size\n",
    "    grid_forecaster = grid_search_forecaster(\n",
    "        # forecaster - our model\n",
    "        forecaster = forecaster,\n",
    "        # y - target variable\n",
    "        y = target_test,\n",
    "        # exog - exogenous variables\n",
    "        exog = exog,\n",
    "        # param_grid - dictionary with parameters to test\n",
    "        param_grid = param_grid,\n",
    "        # lag_grid - list with lags to test\n",
    "        lags_grid = lags_grid,\n",
    "        # steps - number of steps to forecast\n",
    "        steps = len(dataframes_array_train[i].loc[test_data_start:test_data_end]),\n",
    "        # refit - refit the best model with all data\n",
    "        refit = True,\n",
    "        # metric - metric to optimize\n",
    "        metric = 'mean_squared_error',\n",
    "        # initial_train_size - initial size of the train data\n",
    "        initial_train_size = len(dataframes_array_train[i].loc[train_data_start:train_data_end])-1,\n",
    "        # fixed_train_size - if True, the training size is fixed\n",
    "        fixed_train_size = False,\n",
    "        # return_best - return the best model\n",
    "        return_best = True,\n",
    "        # verbose - show all messages\n",
    "        verbose = False\n",
    "    )\n",
    "\n",
    "    # Backtest RMSE\n",
    "    np.sqrt(grid_forecaster.iloc[0]['mean_squared_error'])\n",
    "    \n",
    "    \n",
    "    forecaster.fit(y=target_test, exog=exog)\n",
    "    # prediction\n",
    "    exog = dataframes_array_train[i].loc[test_data_start:test_data_end, ['store_nbr', \n",
    "                                                                         #'onpromotion', \n",
    "                                                                         #'cluster', \n",
    "                                                                         'day_of_week', \n",
    "                                                                         'month', \n",
    "                                                                         'family_encoded', \n",
    "                                                                         #'city_encoded', \n",
    "                                                                         #'state_encoded', \n",
    "                                                                         'type_store_encoded', \n",
    "                                                                         'type_holiday_encoded', \n",
    "                                                                         'locale_encoded', \n",
    "                                                                         'transferred_encoded', \n",
    "                                                                         'dcoilwtico']]\n",
    "    exog.index = pd.to_datetime(exog.index)\n",
    "    exog = exog.asfreq('D').ffill()\n",
    "    predicted_values = forecaster.predict(steps=len(dataframes_array_train[i].loc[test_data_start:test_data_end]), exog=exog)\n",
    "    predicted_values = pd.DataFrame({'store_nbr': [dataframes_array_train[i]['store_nbr'].iloc[0]], 'family_encoded': [dataframes_array_train[i]['family_encoded'].iloc[0]], 'sales_scaled': predicted_values}, index=exog.index)\n",
    "    final_df = pd.concat([final_df, predicted_values])\n",
    "    print (str(i) + ' of ' + str(len(dataframes_array_train)))\n",
    "    \n",
    "# Fit the model using train data with multiple series\n",
    "#exog = dataframes_array_train[0].loc[train_data_start:train_data_end, ['store_nbr', 'onpromotion', 'cluster', 'day_of_week', 'month', 'family_encoded', 'city_encoded', 'state_encoded', 'type_store_encoded', 'type_holiday_encoded', 'locale_encoded', 'transferred_encoded', 'dcoilwtico']]\n",
    "#exog = exog.asfreq('D')\n",
    "#target_test=target[0].loc[train_data_start:train_data_end, 'sales']\n",
    "#target_test=target_test.asfreq('D')\n",
    "#forecaster.fit(y=target_test, exog=exog)\n",
    "\n",
    "\n"
   ]
  },
  {
   "cell_type": "code",
   "execution_count": 34,
   "metadata": {},
   "outputs": [
    {
     "data": {
      "text/html": [
       "<div>\n",
       "<style scoped>\n",
       "    .dataframe tbody tr th:only-of-type {\n",
       "        vertical-align: middle;\n",
       "    }\n",
       "\n",
       "    .dataframe tbody tr th {\n",
       "        vertical-align: top;\n",
       "    }\n",
       "\n",
       "    .dataframe thead th {\n",
       "        text-align: right;\n",
       "    }\n",
       "</style>\n",
       "<table border=\"1\" class=\"dataframe\">\n",
       "  <thead>\n",
       "    <tr style=\"text-align: right;\">\n",
       "      <th></th>\n",
       "      <th>store_nbr</th>\n",
       "      <th>family_encoded</th>\n",
       "      <th>sales_scaled</th>\n",
       "    </tr>\n",
       "    <tr>\n",
       "      <th>date</th>\n",
       "      <th></th>\n",
       "      <th></th>\n",
       "      <th></th>\n",
       "    </tr>\n",
       "  </thead>\n",
       "  <tbody>\n",
       "    <tr>\n",
       "      <th>2017-08-27</th>\n",
       "      <td>54</td>\n",
       "      <td>32</td>\n",
       "      <td>0.000020</td>\n",
       "    </tr>\n",
       "    <tr>\n",
       "      <th>2017-08-28</th>\n",
       "      <td>54</td>\n",
       "      <td>32</td>\n",
       "      <td>0.000022</td>\n",
       "    </tr>\n",
       "    <tr>\n",
       "      <th>2017-08-29</th>\n",
       "      <td>54</td>\n",
       "      <td>32</td>\n",
       "      <td>0.000026</td>\n",
       "    </tr>\n",
       "    <tr>\n",
       "      <th>2017-08-30</th>\n",
       "      <td>54</td>\n",
       "      <td>32</td>\n",
       "      <td>0.000006</td>\n",
       "    </tr>\n",
       "    <tr>\n",
       "      <th>2017-08-31</th>\n",
       "      <td>54</td>\n",
       "      <td>32</td>\n",
       "      <td>0.000021</td>\n",
       "    </tr>\n",
       "  </tbody>\n",
       "</table>\n",
       "</div>"
      ],
      "text/plain": [
       "            store_nbr  family_encoded  sales_scaled\n",
       "date                                               \n",
       "2017-08-27         54              32      0.000020\n",
       "2017-08-28         54              32      0.000022\n",
       "2017-08-29         54              32      0.000026\n",
       "2017-08-30         54              32      0.000006\n",
       "2017-08-31         54              32      0.000021"
      ]
     },
     "execution_count": 34,
     "metadata": {},
     "output_type": "execute_result"
    }
   ],
   "source": [
    "final_df.tail()"
   ]
  },
  {
   "cell_type": "code",
   "execution_count": 35,
   "metadata": {},
   "outputs": [],
   "source": [
    "final_df['sales'] = sales_scaler.inverse_transform(final_df[['sales_scaled']])"
   ]
  },
  {
   "cell_type": "code",
   "execution_count": 36,
   "metadata": {},
   "outputs": [
    {
     "data": {
      "text/html": [
       "<div>\n",
       "<style scoped>\n",
       "    .dataframe tbody tr th:only-of-type {\n",
       "        vertical-align: middle;\n",
       "    }\n",
       "\n",
       "    .dataframe tbody tr th {\n",
       "        vertical-align: top;\n",
       "    }\n",
       "\n",
       "    .dataframe thead th {\n",
       "        text-align: right;\n",
       "    }\n",
       "</style>\n",
       "<table border=\"1\" class=\"dataframe\">\n",
       "  <thead>\n",
       "    <tr style=\"text-align: right;\">\n",
       "      <th></th>\n",
       "      <th>date</th>\n",
       "      <th>store_nbr</th>\n",
       "      <th>family_encoded</th>\n",
       "      <th>sales_scaled</th>\n",
       "      <th>sales</th>\n",
       "      <th>index</th>\n",
       "      <th>id</th>\n",
       "      <th>family</th>\n",
       "      <th>onpromotion</th>\n",
       "      <th>city</th>\n",
       "      <th>...</th>\n",
       "      <th>day_of_week</th>\n",
       "      <th>month</th>\n",
       "      <th>city_encoded</th>\n",
       "      <th>state_encoded</th>\n",
       "      <th>type_store_encoded</th>\n",
       "      <th>transactions_scaled</th>\n",
       "      <th>type_holiday_encoded</th>\n",
       "      <th>locale_encoded</th>\n",
       "      <th>transferred_encoded</th>\n",
       "      <th>dcoilwtico_scaled</th>\n",
       "    </tr>\n",
       "  </thead>\n",
       "  <tbody>\n",
       "    <tr>\n",
       "      <th>0</th>\n",
       "      <td>2017-08-16</td>\n",
       "      <td>1</td>\n",
       "      <td>0</td>\n",
       "      <td>0.000033</td>\n",
       "      <td>4.160138</td>\n",
       "      <td>0</td>\n",
       "      <td>3000888</td>\n",
       "      <td>AUTOMOTIVE</td>\n",
       "      <td>0</td>\n",
       "      <td>Quito</td>\n",
       "      <td>...</td>\n",
       "      <td>2</td>\n",
       "      <td>8</td>\n",
       "      <td>18</td>\n",
       "      <td>12</td>\n",
       "      <td>3</td>\n",
       "      <td>0.0</td>\n",
       "      <td>6</td>\n",
       "      <td>3</td>\n",
       "      <td>0</td>\n",
       "      <td>0.244108</td>\n",
       "    </tr>\n",
       "    <tr>\n",
       "      <th>1</th>\n",
       "      <td>2017-08-17</td>\n",
       "      <td>1</td>\n",
       "      <td>0</td>\n",
       "      <td>0.000028</td>\n",
       "      <td>3.526624</td>\n",
       "      <td>1782</td>\n",
       "      <td>3002670</td>\n",
       "      <td>AUTOMOTIVE</td>\n",
       "      <td>0</td>\n",
       "      <td>Quito</td>\n",
       "      <td>...</td>\n",
       "      <td>3</td>\n",
       "      <td>8</td>\n",
       "      <td>18</td>\n",
       "      <td>12</td>\n",
       "      <td>3</td>\n",
       "      <td>0.0</td>\n",
       "      <td>6</td>\n",
       "      <td>3</td>\n",
       "      <td>0</td>\n",
       "      <td>0.247305</td>\n",
       "    </tr>\n",
       "    <tr>\n",
       "      <th>2</th>\n",
       "      <td>2017-08-18</td>\n",
       "      <td>1</td>\n",
       "      <td>0</td>\n",
       "      <td>0.000030</td>\n",
       "      <td>3.734434</td>\n",
       "      <td>3564</td>\n",
       "      <td>3004452</td>\n",
       "      <td>AUTOMOTIVE</td>\n",
       "      <td>0</td>\n",
       "      <td>Quito</td>\n",
       "      <td>...</td>\n",
       "      <td>4</td>\n",
       "      <td>8</td>\n",
       "      <td>18</td>\n",
       "      <td>12</td>\n",
       "      <td>3</td>\n",
       "      <td>0.0</td>\n",
       "      <td>6</td>\n",
       "      <td>3</td>\n",
       "      <td>0</td>\n",
       "      <td>0.265309</td>\n",
       "    </tr>\n",
       "    <tr>\n",
       "      <th>3</th>\n",
       "      <td>2017-08-19</td>\n",
       "      <td>1</td>\n",
       "      <td>0</td>\n",
       "      <td>0.000036</td>\n",
       "      <td>4.539346</td>\n",
       "      <td>5346</td>\n",
       "      <td>3006234</td>\n",
       "      <td>AUTOMOTIVE</td>\n",
       "      <td>0</td>\n",
       "      <td>Quito</td>\n",
       "      <td>...</td>\n",
       "      <td>5</td>\n",
       "      <td>8</td>\n",
       "      <td>18</td>\n",
       "      <td>12</td>\n",
       "      <td>3</td>\n",
       "      <td>0.0</td>\n",
       "      <td>6</td>\n",
       "      <td>3</td>\n",
       "      <td>0</td>\n",
       "      <td>0.251096</td>\n",
       "    </tr>\n",
       "    <tr>\n",
       "      <th>4</th>\n",
       "      <td>2017-08-20</td>\n",
       "      <td>1</td>\n",
       "      <td>0</td>\n",
       "      <td>0.000017</td>\n",
       "      <td>2.156580</td>\n",
       "      <td>7128</td>\n",
       "      <td>3008016</td>\n",
       "      <td>AUTOMOTIVE</td>\n",
       "      <td>0</td>\n",
       "      <td>Quito</td>\n",
       "      <td>...</td>\n",
       "      <td>6</td>\n",
       "      <td>8</td>\n",
       "      <td>18</td>\n",
       "      <td>12</td>\n",
       "      <td>3</td>\n",
       "      <td>0.0</td>\n",
       "      <td>6</td>\n",
       "      <td>3</td>\n",
       "      <td>0</td>\n",
       "      <td>0.251096</td>\n",
       "    </tr>\n",
       "  </tbody>\n",
       "</table>\n",
       "<p>5 rows × 30 columns</p>\n",
       "</div>"
      ],
      "text/plain": [
       "        date  store_nbr  family_encoded  sales_scaled     sales  index  \\\n",
       "0 2017-08-16          1               0      0.000033  4.160138      0   \n",
       "1 2017-08-17          1               0      0.000028  3.526624   1782   \n",
       "2 2017-08-18          1               0      0.000030  3.734434   3564   \n",
       "3 2017-08-19          1               0      0.000036  4.539346   5346   \n",
       "4 2017-08-20          1               0      0.000017  2.156580   7128   \n",
       "\n",
       "        id      family  onpromotion   city  ... day_of_week month  \\\n",
       "0  3000888  AUTOMOTIVE            0  Quito  ...           2     8   \n",
       "1  3002670  AUTOMOTIVE            0  Quito  ...           3     8   \n",
       "2  3004452  AUTOMOTIVE            0  Quito  ...           4     8   \n",
       "3  3006234  AUTOMOTIVE            0  Quito  ...           5     8   \n",
       "4  3008016  AUTOMOTIVE            0  Quito  ...           6     8   \n",
       "\n",
       "   city_encoded  state_encoded  type_store_encoded transactions_scaled  \\\n",
       "0            18             12                   3                 0.0   \n",
       "1            18             12                   3                 0.0   \n",
       "2            18             12                   3                 0.0   \n",
       "3            18             12                   3                 0.0   \n",
       "4            18             12                   3                 0.0   \n",
       "\n",
       "  type_holiday_encoded locale_encoded transferred_encoded dcoilwtico_scaled  \n",
       "0                    6              3                   0          0.244108  \n",
       "1                    6              3                   0          0.247305  \n",
       "2                    6              3                   0          0.265309  \n",
       "3                    6              3                   0          0.251096  \n",
       "4                    6              3                   0          0.251096  \n",
       "\n",
       "[5 rows x 30 columns]"
      ]
     },
     "execution_count": 36,
     "metadata": {},
     "output_type": "execute_result"
    }
   ],
   "source": [
    "# Ensure the date column is in the index for both dataframes\n",
    "final_df.reset_index(inplace=True)\n",
    "full_test_df.reset_index(inplace=True)\n",
    "\n",
    "# Merge the dataframes on 'family_encoded', 'store_nbr', and 'date'\n",
    "merged_df = pd.merge(final_df, full_test_df, on=['family_encoded', 'store_nbr', 'date'], how='inner')\n",
    "\n",
    "# Display the merged dataframe\n",
    "merged_df.head()"
   ]
  },
  {
   "cell_type": "code",
   "execution_count": 37,
   "metadata": {},
   "outputs": [
    {
     "data": {
      "text/html": [
       "<div>\n",
       "<style scoped>\n",
       "    .dataframe tbody tr th:only-of-type {\n",
       "        vertical-align: middle;\n",
       "    }\n",
       "\n",
       "    .dataframe tbody tr th {\n",
       "        vertical-align: top;\n",
       "    }\n",
       "\n",
       "    .dataframe thead th {\n",
       "        text-align: right;\n",
       "    }\n",
       "</style>\n",
       "<table border=\"1\" class=\"dataframe\">\n",
       "  <thead>\n",
       "    <tr style=\"text-align: right;\">\n",
       "      <th></th>\n",
       "      <th>id</th>\n",
       "      <th>sales</th>\n",
       "    </tr>\n",
       "  </thead>\n",
       "  <tbody>\n",
       "    <tr>\n",
       "      <th>0</th>\n",
       "      <td>3000888</td>\n",
       "      <td>4.160138</td>\n",
       "    </tr>\n",
       "    <tr>\n",
       "      <th>1</th>\n",
       "      <td>3002670</td>\n",
       "      <td>3.526624</td>\n",
       "    </tr>\n",
       "    <tr>\n",
       "      <th>2</th>\n",
       "      <td>3004452</td>\n",
       "      <td>3.734434</td>\n",
       "    </tr>\n",
       "    <tr>\n",
       "      <th>3</th>\n",
       "      <td>3006234</td>\n",
       "      <td>4.539346</td>\n",
       "    </tr>\n",
       "    <tr>\n",
       "      <th>4</th>\n",
       "      <td>3008016</td>\n",
       "      <td>2.156580</td>\n",
       "    </tr>\n",
       "  </tbody>\n",
       "</table>\n",
       "</div>"
      ],
      "text/plain": [
       "        id     sales\n",
       "0  3000888  4.160138\n",
       "1  3002670  3.526624\n",
       "2  3004452  3.734434\n",
       "3  3006234  4.539346\n",
       "4  3008016  2.156580"
      ]
     },
     "execution_count": 37,
     "metadata": {},
     "output_type": "execute_result"
    }
   ],
   "source": [
    "submission_df=merged_df[['id', 'sales']]\n",
    "submission_df.head()"
   ]
  },
  {
   "cell_type": "code",
   "execution_count": null,
   "metadata": {},
   "outputs": [],
   "source": [
    "!pwd"
   ]
  },
  {
   "cell_type": "code",
   "execution_count": 38,
   "metadata": {},
   "outputs": [],
   "source": [
    "submission_df.to_csv('RNNs/Tensorflow-Keras/Predictions/Store Sales - Time Series Forecasting/submission_6.csv', index=False)"
   ]
  },
  {
   "cell_type": "code",
   "execution_count": null,
   "metadata": {},
   "outputs": [],
   "source": []
  }
 ],
 "metadata": {
  "kernelspec": {
   "display_name": "Python 3 (ipykernel)",
   "language": "python",
   "name": "python3"
  },
  "language_info": {
   "codemirror_mode": {
    "name": "ipython",
    "version": 3
   },
   "file_extension": ".py",
   "mimetype": "text/x-python",
   "name": "python",
   "nbconvert_exporter": "python",
   "pygments_lexer": "ipython3",
   "version": "3.10.12"
  }
 },
 "nbformat": 4,
 "nbformat_minor": 2
}
