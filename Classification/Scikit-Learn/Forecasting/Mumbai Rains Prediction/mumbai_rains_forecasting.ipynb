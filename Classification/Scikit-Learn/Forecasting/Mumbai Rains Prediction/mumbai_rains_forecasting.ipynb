{
 "cells": [
  {
   "cell_type": "markdown",
   "metadata": {},
   "source": [
    "# Mumbai Rain Forecasting\n",
    "In this notebook we will try to predict mumbai Rainfall within the next months."
   ]
  },
  {
   "cell_type": "markdown",
   "metadata": {},
   "source": [
    "### Install skforecast"
   ]
  },
  {
   "cell_type": "code",
   "execution_count": 1,
   "metadata": {},
   "outputs": [
    {
     "name": "stdout",
     "output_type": "stream",
     "text": [
      "Requirement already satisfied: skforecast in c:\\users\\agust\\appdata\\local\\programs\\python\\python310\\lib\\site-packages (0.13.0)\n",
      "Requirement already satisfied: numpy>=1.20.3 in c:\\users\\agust\\appdata\\local\\programs\\python\\python310\\lib\\site-packages (from skforecast) (1.24.3)\n",
      "Requirement already satisfied: pandas>=1.5 in c:\\users\\agust\\appdata\\local\\programs\\python\\python310\\lib\\site-packages (from skforecast) (1.5.3)\n",
      "Requirement already satisfied: tqdm>=4.57 in c:\\users\\agust\\appdata\\local\\programs\\python\\python310\\lib\\site-packages (from skforecast) (4.65.0)\n",
      "Requirement already satisfied: scikit-learn>=1.2 in c:\\users\\agust\\appdata\\local\\programs\\python\\python310\\lib\\site-packages (from skforecast) (1.2.2)\n",
      "Requirement already satisfied: optuna>=2.10 in c:\\users\\agust\\appdata\\local\\programs\\python\\python310\\lib\\site-packages (from skforecast) (4.0.0)\n",
      "Requirement already satisfied: joblib>=1.1 in c:\\users\\agust\\appdata\\local\\programs\\python\\python310\\lib\\site-packages (from skforecast) (1.2.0)\n",
      "Requirement already satisfied: alembic>=1.5.0 in c:\\users\\agust\\appdata\\local\\programs\\python\\python310\\lib\\site-packages (from optuna>=2.10->skforecast) (1.13.3)\n",
      "Requirement already satisfied: colorlog in c:\\users\\agust\\appdata\\local\\programs\\python\\python310\\lib\\site-packages (from optuna>=2.10->skforecast) (6.8.2)\n",
      "Requirement already satisfied: packaging>=20.0 in c:\\users\\agust\\appdata\\local\\programs\\python\\python310\\lib\\site-packages (from optuna>=2.10->skforecast) (23.1)\n",
      "Requirement already satisfied: sqlalchemy>=1.3.0 in c:\\users\\agust\\appdata\\local\\programs\\python\\python310\\lib\\site-packages (from optuna>=2.10->skforecast) (2.0.35)\n",
      "Requirement already satisfied: PyYAML in c:\\users\\agust\\appdata\\local\\programs\\python\\python310\\lib\\site-packages (from optuna>=2.10->skforecast) (6.0)\n",
      "Requirement already satisfied: python-dateutil>=2.8.1 in c:\\users\\agust\\appdata\\local\\programs\\python\\python310\\lib\\site-packages (from pandas>=1.5->skforecast) (2.8.2)\n",
      "Requirement already satisfied: pytz>=2020.1 in c:\\users\\agust\\appdata\\local\\programs\\python\\python310\\lib\\site-packages (from pandas>=1.5->skforecast) (2023.3)\n",
      "Requirement already satisfied: scipy>=1.3.2 in c:\\users\\agust\\appdata\\local\\programs\\python\\python310\\lib\\site-packages (from scikit-learn>=1.2->skforecast) (1.10.1)\n",
      "Requirement already satisfied: threadpoolctl>=2.0.0 in c:\\users\\agust\\appdata\\local\\programs\\python\\python310\\lib\\site-packages (from scikit-learn>=1.2->skforecast) (3.1.0)\n",
      "Requirement already satisfied: colorama in c:\\users\\agust\\appdata\\local\\programs\\python\\python310\\lib\\site-packages (from tqdm>=4.57->skforecast) (0.4.6)\n",
      "Requirement already satisfied: Mako in c:\\users\\agust\\appdata\\local\\programs\\python\\python310\\lib\\site-packages (from alembic>=1.5.0->optuna>=2.10->skforecast) (1.3.5)\n",
      "Requirement already satisfied: typing-extensions>=4 in c:\\users\\agust\\appdata\\local\\programs\\python\\python310\\lib\\site-packages (from alembic>=1.5.0->optuna>=2.10->skforecast) (4.12.2)\n",
      "Requirement already satisfied: six>=1.5 in c:\\users\\agust\\appdata\\local\\programs\\python\\python310\\lib\\site-packages (from python-dateutil>=2.8.1->pandas>=1.5->skforecast) (1.16.0)\n",
      "Requirement already satisfied: greenlet!=0.4.17 in c:\\users\\agust\\appdata\\local\\programs\\python\\python310\\lib\\site-packages (from sqlalchemy>=1.3.0->optuna>=2.10->skforecast) (3.1.1)\n",
      "Requirement already satisfied: MarkupSafe>=0.9.2 in c:\\users\\agust\\appdata\\local\\programs\\python\\python310\\lib\\site-packages (from Mako->alembic>=1.5.0->optuna>=2.10->skforecast) (2.1.2)\n"
     ]
    }
   ],
   "source": [
    "!pip install skforecast"
   ]
  },
  {
   "cell_type": "markdown",
   "metadata": {},
   "source": [
    "#### Import dependencies"
   ]
  },
  {
   "cell_type": "code",
   "execution_count": 2,
   "metadata": {},
   "outputs": [
    {
     "name": "stderr",
     "output_type": "stream",
     "text": [
      "c:\\Users\\agust\\AppData\\Local\\Programs\\Python\\Python310\\lib\\site-packages\\tqdm\\auto.py:21: TqdmWarning: IProgress not found. Please update jupyter and ipywidgets. See https://ipywidgets.readthedocs.io/en/stable/user_install.html\n",
      "  from .autonotebook import tqdm as notebook_tqdm\n"
     ]
    }
   ],
   "source": [
    "import pandas as pd\n",
    "import matplotlib.pyplot as plt\n",
    "from skforecast.ForecasterAutoreg import ForecasterAutoreg\n",
    "from sklearn.tree import DecisionTreeRegressor\n",
    "from sklearn.metrics import mean_absolute_error, mean_squared_error\n",
    "from skforecast.model_selection import backtesting_forecaster\n",
    "import numpy as np\n",
    "from skforecast.model_selection import grid_search_forecaster\n",
    "from sklearn.preprocessing import MinMaxScaler\n",
    "import warnings\n",
    "warnings.filterwarnings(\"ignore\")\n"
   ]
  },
  {
   "cell_type": "markdown",
   "metadata": {},
   "source": [
    "##### Load Dataset"
   ]
  },
  {
   "cell_type": "code",
   "execution_count": 3,
   "metadata": {},
   "outputs": [
    {
     "data": {
      "text/html": [
       "<div>\n",
       "<style scoped>\n",
       "    .dataframe tbody tr th:only-of-type {\n",
       "        vertical-align: middle;\n",
       "    }\n",
       "\n",
       "    .dataframe tbody tr th {\n",
       "        vertical-align: top;\n",
       "    }\n",
       "\n",
       "    .dataframe thead th {\n",
       "        text-align: right;\n",
       "    }\n",
       "</style>\n",
       "<table border=\"1\" class=\"dataframe\">\n",
       "  <thead>\n",
       "    <tr style=\"text-align: right;\">\n",
       "      <th></th>\n",
       "      <th>Year</th>\n",
       "      <th>Jan</th>\n",
       "      <th>Feb</th>\n",
       "      <th>Mar</th>\n",
       "      <th>April</th>\n",
       "      <th>May</th>\n",
       "      <th>June</th>\n",
       "      <th>July</th>\n",
       "      <th>Aug</th>\n",
       "      <th>Sept</th>\n",
       "      <th>Oct</th>\n",
       "      <th>Nov</th>\n",
       "      <th>Dec</th>\n",
       "      <th>Total</th>\n",
       "    </tr>\n",
       "  </thead>\n",
       "  <tbody>\n",
       "    <tr>\n",
       "      <th>0</th>\n",
       "      <td>1901</td>\n",
       "      <td>13.116602</td>\n",
       "      <td>0.000000</td>\n",
       "      <td>0.000000</td>\n",
       "      <td>3.949669</td>\n",
       "      <td>17.139791</td>\n",
       "      <td>640.714036</td>\n",
       "      <td>888.369692</td>\n",
       "      <td>545.045796</td>\n",
       "      <td>64.271513</td>\n",
       "      <td>9.871696</td>\n",
       "      <td>0.000000</td>\n",
       "      <td>0.000000</td>\n",
       "      <td>2182.478796</td>\n",
       "    </tr>\n",
       "    <tr>\n",
       "      <th>1</th>\n",
       "      <td>1902</td>\n",
       "      <td>0.000000</td>\n",
       "      <td>0.000000</td>\n",
       "      <td>0.000000</td>\n",
       "      <td>0.000000</td>\n",
       "      <td>0.355001</td>\n",
       "      <td>247.998782</td>\n",
       "      <td>408.433730</td>\n",
       "      <td>566.595863</td>\n",
       "      <td>688.913455</td>\n",
       "      <td>28.654092</td>\n",
       "      <td>0.488864</td>\n",
       "      <td>19.526547</td>\n",
       "      <td>1960.966334</td>\n",
       "    </tr>\n",
       "    <tr>\n",
       "      <th>2</th>\n",
       "      <td>1903</td>\n",
       "      <td>0.000000</td>\n",
       "      <td>0.000000</td>\n",
       "      <td>0.844034</td>\n",
       "      <td>0.000000</td>\n",
       "      <td>220.568740</td>\n",
       "      <td>370.849048</td>\n",
       "      <td>902.447896</td>\n",
       "      <td>602.420828</td>\n",
       "      <td>264.589816</td>\n",
       "      <td>157.892877</td>\n",
       "      <td>0.000000</td>\n",
       "      <td>0.000000</td>\n",
       "      <td>2519.613240</td>\n",
       "    </tr>\n",
       "    <tr>\n",
       "      <th>3</th>\n",
       "      <td>1904</td>\n",
       "      <td>0.000000</td>\n",
       "      <td>0.000000</td>\n",
       "      <td>11.381769</td>\n",
       "      <td>0.000000</td>\n",
       "      <td>0.000000</td>\n",
       "      <td>723.081969</td>\n",
       "      <td>390.886799</td>\n",
       "      <td>191.581927</td>\n",
       "      <td>85.704754</td>\n",
       "      <td>38.679948</td>\n",
       "      <td>0.000000</td>\n",
       "      <td>0.000000</td>\n",
       "      <td>1441.317168</td>\n",
       "    </tr>\n",
       "    <tr>\n",
       "      <th>4</th>\n",
       "      <td>1905</td>\n",
       "      <td>0.662561</td>\n",
       "      <td>1.713452</td>\n",
       "      <td>0.000000</td>\n",
       "      <td>0.000000</td>\n",
       "      <td>0.000000</td>\n",
       "      <td>123.870892</td>\n",
       "      <td>581.827975</td>\n",
       "      <td>167.382149</td>\n",
       "      <td>172.297723</td>\n",
       "      <td>7.365924</td>\n",
       "      <td>24.903575</td>\n",
       "      <td>0.000000</td>\n",
       "      <td>1080.024250</td>\n",
       "    </tr>\n",
       "  </tbody>\n",
       "</table>\n",
       "</div>"
      ],
      "text/plain": [
       "   Year        Jan       Feb        Mar     April         May        June  \\\n",
       "0  1901  13.116602  0.000000   0.000000  3.949669   17.139791  640.714036   \n",
       "1  1902   0.000000  0.000000   0.000000  0.000000    0.355001  247.998782   \n",
       "2  1903   0.000000  0.000000   0.844034  0.000000  220.568740  370.849048   \n",
       "3  1904   0.000000  0.000000  11.381769  0.000000    0.000000  723.081969   \n",
       "4  1905   0.662561  1.713452   0.000000  0.000000    0.000000  123.870892   \n",
       "\n",
       "         July         Aug        Sept         Oct        Nov        Dec  \\\n",
       "0  888.369692  545.045796   64.271513    9.871696   0.000000   0.000000   \n",
       "1  408.433730  566.595863  688.913455   28.654092   0.488864  19.526547   \n",
       "2  902.447896  602.420828  264.589816  157.892877   0.000000   0.000000   \n",
       "3  390.886799  191.581927   85.704754   38.679948   0.000000   0.000000   \n",
       "4  581.827975  167.382149  172.297723    7.365924  24.903575   0.000000   \n",
       "\n",
       "         Total  \n",
       "0  2182.478796  \n",
       "1  1960.966334  \n",
       "2  2519.613240  \n",
       "3  1441.317168  \n",
       "4  1080.024250  "
      ]
     },
     "execution_count": 3,
     "metadata": {},
     "output_type": "execute_result"
    }
   ],
   "source": [
    "# Load CSV\n",
    "df = pd.read_csv('mumbai-monthly-rains.csv')\n",
    "df.head()"
   ]
  },
  {
   "cell_type": "markdown",
   "metadata": {},
   "source": [
    "#### Formatting the Dataset"
   ]
  },
  {
   "cell_type": "markdown",
   "metadata": {},
   "source": [
    "First we will drop the Total column as we don't need it and it is kind of annoying for what we want to do."
   ]
  },
  {
   "cell_type": "code",
   "execution_count": 4,
   "metadata": {},
   "outputs": [],
   "source": [
    "df.drop('Total', axis=1, inplace=True)"
   ]
  },
  {
   "cell_type": "markdown",
   "metadata": {},
   "source": [
    "Then we will put the months as rows instead of columns and we will use a new dataset from now on called df_melted."
   ]
  },
  {
   "cell_type": "code",
   "execution_count": 5,
   "metadata": {},
   "outputs": [
    {
     "data": {
      "text/html": [
       "<div>\n",
       "<style scoped>\n",
       "    .dataframe tbody tr th:only-of-type {\n",
       "        vertical-align: middle;\n",
       "    }\n",
       "\n",
       "    .dataframe tbody tr th {\n",
       "        vertical-align: top;\n",
       "    }\n",
       "\n",
       "    .dataframe thead th {\n",
       "        text-align: right;\n",
       "    }\n",
       "</style>\n",
       "<table border=\"1\" class=\"dataframe\">\n",
       "  <thead>\n",
       "    <tr style=\"text-align: right;\">\n",
       "      <th></th>\n",
       "      <th>Year</th>\n",
       "      <th>Month</th>\n",
       "      <th>Rainfall</th>\n",
       "    </tr>\n",
       "  </thead>\n",
       "  <tbody>\n",
       "    <tr>\n",
       "      <th>0</th>\n",
       "      <td>1901</td>\n",
       "      <td>Jan</td>\n",
       "      <td>13.116602</td>\n",
       "    </tr>\n",
       "    <tr>\n",
       "      <th>1</th>\n",
       "      <td>1902</td>\n",
       "      <td>Jan</td>\n",
       "      <td>0.000000</td>\n",
       "    </tr>\n",
       "    <tr>\n",
       "      <th>2</th>\n",
       "      <td>1903</td>\n",
       "      <td>Jan</td>\n",
       "      <td>0.000000</td>\n",
       "    </tr>\n",
       "    <tr>\n",
       "      <th>3</th>\n",
       "      <td>1904</td>\n",
       "      <td>Jan</td>\n",
       "      <td>0.000000</td>\n",
       "    </tr>\n",
       "    <tr>\n",
       "      <th>4</th>\n",
       "      <td>1905</td>\n",
       "      <td>Jan</td>\n",
       "      <td>0.662561</td>\n",
       "    </tr>\n",
       "  </tbody>\n",
       "</table>\n",
       "</div>"
      ],
      "text/plain": [
       "   Year Month   Rainfall\n",
       "0  1901   Jan  13.116602\n",
       "1  1902   Jan   0.000000\n",
       "2  1903   Jan   0.000000\n",
       "3  1904   Jan   0.000000\n",
       "4  1905   Jan   0.662561"
      ]
     },
     "execution_count": 5,
     "metadata": {},
     "output_type": "execute_result"
    }
   ],
   "source": [
    "df_melted=pd.melt(df, id_vars=['Year'], var_name='Month', value_name='Rainfall')\n",
    "\n",
    "df_melted.head()"
   ]
  },
  {
   "cell_type": "markdown",
   "metadata": {},
   "source": [
    "Now we will see our months rows, as you can see, they are not homogeneous"
   ]
  },
  {
   "cell_type": "code",
   "execution_count": 6,
   "metadata": {},
   "outputs": [
    {
     "data": {
      "text/plain": [
       "Month\n",
       "April    121\n",
       "Aug      121\n",
       "Dec      121\n",
       "Feb      121\n",
       "Jan      121\n",
       "July     121\n",
       "June     121\n",
       "Mar      121\n",
       "May      121\n",
       "Nov      121\n",
       "Oct      121\n",
       "Sept     121\n",
       "Name: Month, dtype: int64"
      ]
     },
     "execution_count": 6,
     "metadata": {},
     "output_type": "execute_result"
    }
   ],
   "source": [
    "df_melted['Month'].groupby(df_melted['Month']).count()"
   ]
  },
  {
   "cell_type": "markdown",
   "metadata": {},
   "source": [
    "We want only the first 3 letters of the month, this is because there is a format that can map that first 3 letters to a dateformat type of data"
   ]
  },
  {
   "cell_type": "code",
   "execution_count": 7,
   "metadata": {},
   "outputs": [
    {
     "data": {
      "text/plain": [
       "Month\n",
       "Apr    121\n",
       "Aug    121\n",
       "Dec    121\n",
       "Feb    121\n",
       "Jan    121\n",
       "Jul    121\n",
       "Jun    121\n",
       "Mar    121\n",
       "May    121\n",
       "Nov    121\n",
       "Oct    121\n",
       "Sep    121\n",
       "Name: Month, dtype: int64"
      ]
     },
     "execution_count": 7,
     "metadata": {},
     "output_type": "execute_result"
    }
   ],
   "source": [
    "df_melted['Month'] = df_melted['Month'].apply(lambda x: x[:3])\n",
    "df_melted['Month'].groupby(df_melted['Month']).count()"
   ]
  },
  {
   "cell_type": "markdown",
   "metadata": {},
   "source": [
    "Done! We can change Month to a numeric to a date now"
   ]
  },
  {
   "cell_type": "code",
   "execution_count": 8,
   "metadata": {},
   "outputs": [
    {
     "data": {
      "text/html": [
       "<div>\n",
       "<style scoped>\n",
       "    .dataframe tbody tr th:only-of-type {\n",
       "        vertical-align: middle;\n",
       "    }\n",
       "\n",
       "    .dataframe tbody tr th {\n",
       "        vertical-align: top;\n",
       "    }\n",
       "\n",
       "    .dataframe thead th {\n",
       "        text-align: right;\n",
       "    }\n",
       "</style>\n",
       "<table border=\"1\" class=\"dataframe\">\n",
       "  <thead>\n",
       "    <tr style=\"text-align: right;\">\n",
       "      <th></th>\n",
       "      <th>Year</th>\n",
       "      <th>Month</th>\n",
       "      <th>Rainfall</th>\n",
       "    </tr>\n",
       "  </thead>\n",
       "  <tbody>\n",
       "    <tr>\n",
       "      <th>0</th>\n",
       "      <td>1901</td>\n",
       "      <td>1900-01-01</td>\n",
       "      <td>13.116602</td>\n",
       "    </tr>\n",
       "    <tr>\n",
       "      <th>1</th>\n",
       "      <td>1902</td>\n",
       "      <td>1900-01-01</td>\n",
       "      <td>0.000000</td>\n",
       "    </tr>\n",
       "    <tr>\n",
       "      <th>2</th>\n",
       "      <td>1903</td>\n",
       "      <td>1900-01-01</td>\n",
       "      <td>0.000000</td>\n",
       "    </tr>\n",
       "    <tr>\n",
       "      <th>3</th>\n",
       "      <td>1904</td>\n",
       "      <td>1900-01-01</td>\n",
       "      <td>0.000000</td>\n",
       "    </tr>\n",
       "    <tr>\n",
       "      <th>4</th>\n",
       "      <td>1905</td>\n",
       "      <td>1900-01-01</td>\n",
       "      <td>0.662561</td>\n",
       "    </tr>\n",
       "  </tbody>\n",
       "</table>\n",
       "</div>"
      ],
      "text/plain": [
       "   Year      Month   Rainfall\n",
       "0  1901 1900-01-01  13.116602\n",
       "1  1902 1900-01-01   0.000000\n",
       "2  1903 1900-01-01   0.000000\n",
       "3  1904 1900-01-01   0.000000\n",
       "4  1905 1900-01-01   0.662561"
      ]
     },
     "execution_count": 8,
     "metadata": {},
     "output_type": "execute_result"
    }
   ],
   "source": [
    "# Convert 'Month' from abbreviated names to numerical values\n",
    "df_melted['Month'] = pd.to_datetime(df_melted['Month'], format='%b')\n",
    "df_melted.head()"
   ]
  },
  {
   "cell_type": "markdown",
   "metadata": {},
   "source": [
    "Ok, this look promising, now we will concatenate the year and the to create a Date column "
   ]
  },
  {
   "cell_type": "code",
   "execution_count": 9,
   "metadata": {},
   "outputs": [
    {
     "data": {
      "text/html": [
       "<div>\n",
       "<style scoped>\n",
       "    .dataframe tbody tr th:only-of-type {\n",
       "        vertical-align: middle;\n",
       "    }\n",
       "\n",
       "    .dataframe tbody tr th {\n",
       "        vertical-align: top;\n",
       "    }\n",
       "\n",
       "    .dataframe thead th {\n",
       "        text-align: right;\n",
       "    }\n",
       "</style>\n",
       "<table border=\"1\" class=\"dataframe\">\n",
       "  <thead>\n",
       "    <tr style=\"text-align: right;\">\n",
       "      <th></th>\n",
       "      <th>Year</th>\n",
       "      <th>Month</th>\n",
       "      <th>Rainfall</th>\n",
       "      <th>Date</th>\n",
       "    </tr>\n",
       "  </thead>\n",
       "  <tbody>\n",
       "    <tr>\n",
       "      <th>0</th>\n",
       "      <td>1901</td>\n",
       "      <td>1900-01-01</td>\n",
       "      <td>13.116602</td>\n",
       "      <td>1901-01-01</td>\n",
       "    </tr>\n",
       "    <tr>\n",
       "      <th>1</th>\n",
       "      <td>1902</td>\n",
       "      <td>1900-01-01</td>\n",
       "      <td>0.000000</td>\n",
       "      <td>1902-01-01</td>\n",
       "    </tr>\n",
       "    <tr>\n",
       "      <th>2</th>\n",
       "      <td>1903</td>\n",
       "      <td>1900-01-01</td>\n",
       "      <td>0.000000</td>\n",
       "      <td>1903-01-01</td>\n",
       "    </tr>\n",
       "    <tr>\n",
       "      <th>3</th>\n",
       "      <td>1904</td>\n",
       "      <td>1900-01-01</td>\n",
       "      <td>0.000000</td>\n",
       "      <td>1904-01-01</td>\n",
       "    </tr>\n",
       "    <tr>\n",
       "      <th>4</th>\n",
       "      <td>1905</td>\n",
       "      <td>1900-01-01</td>\n",
       "      <td>0.662561</td>\n",
       "      <td>1905-01-01</td>\n",
       "    </tr>\n",
       "  </tbody>\n",
       "</table>\n",
       "</div>"
      ],
      "text/plain": [
       "   Year      Month   Rainfall       Date\n",
       "0  1901 1900-01-01  13.116602 1901-01-01\n",
       "1  1902 1900-01-01   0.000000 1902-01-01\n",
       "2  1903 1900-01-01   0.000000 1903-01-01\n",
       "3  1904 1900-01-01   0.000000 1904-01-01\n",
       "4  1905 1900-01-01   0.662561 1905-01-01"
      ]
     },
     "execution_count": 9,
     "metadata": {},
     "output_type": "execute_result"
    }
   ],
   "source": [
    "df_melted['Date'] = pd.to_datetime(df_melted['Year'].astype(str) + '-' + df_melted['Month'].dt.strftime('%m'))\n",
    "df_melted.head()"
   ]
  },
  {
   "cell_type": "markdown",
   "metadata": {},
   "source": [
    "We drop the columns Year and Month as we don't need them anymore."
   ]
  },
  {
   "cell_type": "code",
   "execution_count": 10,
   "metadata": {},
   "outputs": [],
   "source": [
    "df_melted.drop(['Year', 'Month'], axis=1, inplace=True)"
   ]
  },
  {
   "cell_type": "markdown",
   "metadata": {},
   "source": [
    "We set the Date as the index of the dataframe and sort it by month, also we will fill any month that is empty."
   ]
  },
  {
   "cell_type": "code",
   "execution_count": 11,
   "metadata": {},
   "outputs": [],
   "source": [
    "# Set the date as index\n",
    "df_melted.set_index('Date', inplace = True)\n",
    "# Sort the data\n",
    "df_melted.sort_index(inplace = True)\n",
    "# Set the dataset frequency to be (M)onthly data\n",
    "df_melted = df_melted.asfreq('M', method = 'bfill') \n",
    "# Fill missing value with the latest available data\n",
    "df_melted.ffill(inplace = True)"
   ]
  },
  {
   "cell_type": "markdown",
   "metadata": {},
   "source": [
    "Let's see what we've got..."
   ]
  },
  {
   "cell_type": "code",
   "execution_count": 12,
   "metadata": {},
   "outputs": [
    {
     "data": {
      "text/html": [
       "<div>\n",
       "<style scoped>\n",
       "    .dataframe tbody tr th:only-of-type {\n",
       "        vertical-align: middle;\n",
       "    }\n",
       "\n",
       "    .dataframe tbody tr th {\n",
       "        vertical-align: top;\n",
       "    }\n",
       "\n",
       "    .dataframe thead th {\n",
       "        text-align: right;\n",
       "    }\n",
       "</style>\n",
       "<table border=\"1\" class=\"dataframe\">\n",
       "  <thead>\n",
       "    <tr style=\"text-align: right;\">\n",
       "      <th></th>\n",
       "      <th>Rainfall</th>\n",
       "    </tr>\n",
       "    <tr>\n",
       "      <th>Date</th>\n",
       "      <th></th>\n",
       "    </tr>\n",
       "  </thead>\n",
       "  <tbody>\n",
       "    <tr>\n",
       "      <th>1901-01-31</th>\n",
       "      <td>0.000000</td>\n",
       "    </tr>\n",
       "    <tr>\n",
       "      <th>1901-02-28</th>\n",
       "      <td>0.000000</td>\n",
       "    </tr>\n",
       "    <tr>\n",
       "      <th>1901-03-31</th>\n",
       "      <td>3.949669</td>\n",
       "    </tr>\n",
       "    <tr>\n",
       "      <th>1901-04-30</th>\n",
       "      <td>17.139791</td>\n",
       "    </tr>\n",
       "    <tr>\n",
       "      <th>1901-05-31</th>\n",
       "      <td>640.714036</td>\n",
       "    </tr>\n",
       "  </tbody>\n",
       "</table>\n",
       "</div>"
      ],
      "text/plain": [
       "              Rainfall\n",
       "Date                  \n",
       "1901-01-31    0.000000\n",
       "1901-02-28    0.000000\n",
       "1901-03-31    3.949669\n",
       "1901-04-30   17.139791\n",
       "1901-05-31  640.714036"
      ]
     },
     "execution_count": 12,
     "metadata": {},
     "output_type": "execute_result"
    }
   ],
   "source": [
    "df_melted.head()"
   ]
  },
  {
   "cell_type": "markdown",
   "metadata": {},
   "source": [
    "#### Understanding the information"
   ]
  },
  {
   "cell_type": "code",
   "execution_count": 13,
   "metadata": {},
   "outputs": [
    {
     "data": {
      "text/plain": [
       "<Axes: xlabel='Date'>"
      ]
     },
     "execution_count": 13,
     "metadata": {},
     "output_type": "execute_result"
    },
    {
     "data": {
      "image/png": "[encoded data removed]",
      "text/plain": [
       "<Figure size 640x480 with 1 Axes>"
      ]
     },
     "metadata": {},
     "output_type": "display_data"
    }
   ],
   "source": [
    "df_melted['Rainfall'].plot()"
   ]
  },
  {
   "cell_type": "markdown",
   "metadata": {},
   "source": [
    "We can see that there where years with more and less rainfalls... But let's see how they distribute in monthly bases"
   ]
  },
  {
   "cell_type": "code",
   "execution_count": 14,
   "metadata": {},
   "outputs": [
    {
     "data": {
      "image/png": "[encoded data removed]",
      "text/plain": [
       "<Figure size 640x480 with 1 Axes>"
      ]
     },
     "metadata": {},
     "output_type": "display_data"
    }
   ],
   "source": [
    "# Group by month and calculate the mean rainfall\n",
    "monthly_rainfall = df_melted.groupby(df_melted.index.month).mean()\n",
    "\n",
    "# Plot the monthly rainfall\n",
    "monthly_rainfall.plot(kind='bar', y='Rainfall', legend=False)\n",
    "plt.xlabel('Month')\n",
    "plt.ylabel('Average Rainfall')\n",
    "plt.title('Average Monthly Rainfall')\n",
    "plt.show()"
   ]
  },
  {
   "cell_type": "markdown",
   "metadata": {},
   "source": [
    "We can see that there are 6 months that have very little rainfalls (Jan, Feb, Mar, Oct, Nov, Dec) and that the month with more rainfalls in general is June."
   ]
  },
  {
   "cell_type": "markdown",
   "metadata": {},
   "source": [
    "#### Preparing for fitting the model\n",
    "We will scale the Rainfall data, this is because models usually makes better predictions with more homogeneous data."
   ]
  },
  {
   "cell_type": "code",
   "execution_count": 15,
   "metadata": {},
   "outputs": [
    {
     "data": {
      "text/html": [
       "<div>\n",
       "<style scoped>\n",
       "    .dataframe tbody tr th:only-of-type {\n",
       "        vertical-align: middle;\n",
       "    }\n",
       "\n",
       "    .dataframe tbody tr th {\n",
       "        vertical-align: top;\n",
       "    }\n",
       "\n",
       "    .dataframe thead th {\n",
       "        text-align: right;\n",
       "    }\n",
       "</style>\n",
       "<table border=\"1\" class=\"dataframe\">\n",
       "  <thead>\n",
       "    <tr style=\"text-align: right;\">\n",
       "      <th></th>\n",
       "      <th>Rainfall</th>\n",
       "      <th>Rainfall_scaled</th>\n",
       "    </tr>\n",
       "    <tr>\n",
       "      <th>Date</th>\n",
       "      <th></th>\n",
       "      <th></th>\n",
       "    </tr>\n",
       "  </thead>\n",
       "  <tbody>\n",
       "    <tr>\n",
       "      <th>1901-01-31</th>\n",
       "      <td>0.000000</td>\n",
       "      <td>0.000000</td>\n",
       "    </tr>\n",
       "    <tr>\n",
       "      <th>1901-02-28</th>\n",
       "      <td>0.000000</td>\n",
       "      <td>0.000000</td>\n",
       "    </tr>\n",
       "    <tr>\n",
       "      <th>1901-03-31</th>\n",
       "      <td>3.949669</td>\n",
       "      <td>0.002907</td>\n",
       "    </tr>\n",
       "    <tr>\n",
       "      <th>1901-04-30</th>\n",
       "      <td>17.139791</td>\n",
       "      <td>0.012614</td>\n",
       "    </tr>\n",
       "    <tr>\n",
       "      <th>1901-05-31</th>\n",
       "      <td>640.714036</td>\n",
       "      <td>0.471518</td>\n",
       "    </tr>\n",
       "  </tbody>\n",
       "</table>\n",
       "</div>"
      ],
      "text/plain": [
       "              Rainfall  Rainfall_scaled\n",
       "Date                                   \n",
       "1901-01-31    0.000000         0.000000\n",
       "1901-02-28    0.000000         0.000000\n",
       "1901-03-31    3.949669         0.002907\n",
       "1901-04-30   17.139791         0.012614\n",
       "1901-05-31  640.714036         0.471518"
      ]
     },
     "execution_count": 15,
     "metadata": {},
     "output_type": "execute_result"
    }
   ],
   "source": [
    "# Initialize the MinMaxScaler\n",
    "scaler = MinMaxScaler()\n",
    "\n",
    "# Fit and transform the 'Rainfall' column\n",
    "df_melted['Rainfall_scaled'] = scaler.fit_transform(df_melted[['Rainfall']])\n",
    "\n",
    "# Display the first few rows to verify the scaling\n",
    "df_melted.head()"
   ]
  },
  {
   "cell_type": "markdown",
   "metadata": {},
   "source": [
    "Now we will split our model into train and test...<br>\n",
    "As we have a date as the index, we can use the date to split it.<br>\n",
    "We will try to predict what happend between 2020 and 2021 based on the previous info. <br>\n",
    "(To check the first and last date you can use df_melted.head() and df_melted.tail())"
   ]
  },
  {
   "cell_type": "code",
   "execution_count": 16,
   "metadata": {},
   "outputs": [],
   "source": [
    "train_start = '1901-01-31'\n",
    "train_end = '2019-12-31'\n",
    "\n",
    "test_start = '2020-01-01'\n",
    "test_end = '2021-11-30'"
   ]
  },
  {
   "cell_type": "markdown",
   "metadata": {},
   "source": [
    "#### Defining the Model"
   ]
  },
  {
   "cell_type": "code",
   "execution_count": 17,
   "metadata": {},
   "outputs": [],
   "source": [
    "# Define the forecaster with multiple series\n",
    "forecaster = ForecasterAutoreg(\n",
    "    regressor = DecisionTreeRegressor(random_state = 123),\n",
    "    lags = 30,\n",
    "    \n",
    ")"
   ]
  },
  {
   "cell_type": "markdown",
   "metadata": {},
   "source": [
    "##### Tuning the model\n",
    "We will tune our model to make a better prediction, we will need to set some variables here and the model will try all of them to see what are best to make a certain prediction"
   ]
  },
  {
   "cell_type": "code",
   "execution_count": 18,
   "metadata": {},
   "outputs": [],
   "source": [
    "# Parameter Grid for Regressor\n",
    "param_grid = {\n",
    "    # max_depth: The maximum depth of the tree. If None, then nodes are expanded until all leaves are pure or until all leaves contain less than min_samples_split samples.\n",
    "    'max_depth' : [None, 1, 3, 5, 10, 15, 20],\n",
    "    # min_samples_split: The minimum number of samples required to split an internal node.\n",
    "    'min_samples_split' : [2, 3, 4, 5, 6, 10],\n",
    "    # ccp_alpha: Complexity parameter used for Minimal Cost-Complexity Pruning. The subtree with the largest cost complexity that is smaller than ccp_alpha will be chosen.\n",
    "    'ccp_alpha' : [0.0, 0.001, 0.01, 0.0001]\n",
    "}\n",
    "\n",
    "# lags_grid: The number of previous observations to consider\n",
    "lags_grid = [30, 36, 50, 100, 150, [1,2,3,4,5,7,9,13,15,20,50], 10, 20, 5, 8, [10, 14, 20], [1, 5, 10, 15, 20, 25]]"
   ]
  },
  {
   "cell_type": "markdown",
   "metadata": {},
   "source": [
    "##### Grid search forecaster\n",
    "The grid_search_forecaster function will use the parameters we set to try to find the best model according to the input data that we will use (In this case, the Rainfall_scaled variable we create earlier)"
   ]
  },
  {
   "cell_type": "code",
   "execution_count": 19,
   "metadata": {},
   "outputs": [
    {
     "name": "stdout",
     "output_type": "stream",
     "text": [
      "Number of models compared: 2016.\n"
     ]
    },
    {
     "name": "stderr",
     "output_type": "stream",
     "text": [
      "lags grid: 100%|██████████| 12/12 [01:23<00:00,  6.98s/it]\n"
     ]
    },
    {
     "name": "stdout",
     "output_type": "stream",
     "text": [
      "`Forecaster` refitted using the best-found lags and parameters, and the whole data set: \n",
      "  Lags: [1 2 3 4 5] \n",
      "  Parameters: {'ccp_alpha': 0.0, 'max_depth': 10, 'min_samples_split': 4}\n",
      "  Backtesting metric: 0.01455900823330472\n",
      "\n"
     ]
    }
   ],
   "source": [
    "# Grid Search with Refit and Increasing Train Size\n",
    "grid_forecaster = grid_search_forecaster(\n",
    "    # forecaster - our model\n",
    "    forecaster = forecaster,\n",
    "    # y - target variable\n",
    "    y = df_melted.loc[train_start:test_end, 'Rainfall_scaled'],\n",
    "    # param_grid - dictionary with parameters to test\n",
    "    param_grid = param_grid,\n",
    "    # lag_grid - list with lags to test\n",
    "    lags_grid = lags_grid,\n",
    "    # steps - number of steps to forecast\n",
    "    steps = len(df_melted.loc[test_start:test_end, 'Rainfall_scaled']),\n",
    "    # refit - refit the best model with all data\n",
    "    refit = True,\n",
    "    # metric - metric to optimize\n",
    "    metric = 'mean_squared_error',\n",
    "    # initial_train_size - initial size of the train data\n",
    "    initial_train_size = len(df_melted.loc[train_start:train_end]),\n",
    "    # fixed_train_size - if True, the training size is fixed\n",
    "    fixed_train_size = False,\n",
    "    # return_best - return the best model\n",
    "    return_best = True,\n",
    "    # verbose - show all messages\n",
    "    verbose = False\n",
    ")\n",
    "\n",
    "\n"
   ]
  },
  {
   "cell_type": "markdown",
   "metadata": {},
   "source": [
    "##### Backtesting\n",
    "This will give use the RMSE of the model."
   ]
  },
  {
   "cell_type": "code",
   "execution_count": 20,
   "metadata": {},
   "outputs": [
    {
     "data": {
      "text/plain": [
       "0.12066071536877576"
      ]
     },
     "execution_count": 20,
     "metadata": {},
     "output_type": "execute_result"
    }
   ],
   "source": [
    "# Backtest RMSE\n",
    "np.sqrt(grid_forecaster.iloc[0]['mean_squared_error'])"
   ]
  },
  {
   "cell_type": "markdown",
   "metadata": {},
   "source": [
    "##### Fitting the Model\n",
    "We will fit our model with the train data."
   ]
  },
  {
   "cell_type": "code",
   "execution_count": 21,
   "metadata": {},
   "outputs": [],
   "source": [
    "# Fit the model using train data with multiple series\n",
    "forecaster.fit(y = df_melted.loc[train_start:train_end, 'Rainfall_scaled'])"
   ]
  },
  {
   "cell_type": "markdown",
   "metadata": {},
   "source": [
    "##### Making predictions\n",
    "Now we will predict the test data, this will give us two columns, one with the index (Date predicted) and other one with the Values"
   ]
  },
  {
   "cell_type": "code",
   "execution_count": 22,
   "metadata": {},
   "outputs": [],
   "source": [
    "# Predict the test period with multiple series\n",
    "predicted_test = forecaster.predict(steps = len(df_melted.loc[test_start:test_end, 'Rainfall_scaled']))"
   ]
  },
  {
   "cell_type": "markdown",
   "metadata": {},
   "source": [
    "We will inverse_transform the values using our scaler to make an array with the real values predicted"
   ]
  },
  {
   "cell_type": "code",
   "execution_count": 23,
   "metadata": {},
   "outputs": [],
   "source": [
    "predicted_test_scaled = scaler.inverse_transform(predicted_test.values.reshape(-1, 1))"
   ]
  },
  {
   "cell_type": "markdown",
   "metadata": {},
   "source": [
    "##### Converting prediction to Dataset\n",
    "Ok, as the title says, now that we have the predictions scaled back to their real value, we will put them into a dataset"
   ]
  },
  {
   "cell_type": "code",
   "execution_count": 24,
   "metadata": {},
   "outputs": [
    {
     "data": {
      "text/html": [
       "<div>\n",
       "<style scoped>\n",
       "    .dataframe tbody tr th:only-of-type {\n",
       "        vertical-align: middle;\n",
       "    }\n",
       "\n",
       "    .dataframe tbody tr th {\n",
       "        vertical-align: top;\n",
       "    }\n",
       "\n",
       "    .dataframe thead th {\n",
       "        text-align: right;\n",
       "    }\n",
       "</style>\n",
       "<table border=\"1\" class=\"dataframe\">\n",
       "  <thead>\n",
       "    <tr style=\"text-align: right;\">\n",
       "      <th></th>\n",
       "      <th>Date</th>\n",
       "      <th>Rainfall_scaled</th>\n",
       "      <th>Rainfall</th>\n",
       "    </tr>\n",
       "  </thead>\n",
       "  <tbody>\n",
       "    <tr>\n",
       "      <th>0</th>\n",
       "      <td>2020-01-31</td>\n",
       "      <td>0.001299</td>\n",
       "      <td>1.764751</td>\n",
       "    </tr>\n",
       "    <tr>\n",
       "      <th>1</th>\n",
       "      <td>2020-02-29</td>\n",
       "      <td>0.001299</td>\n",
       "      <td>1.764751</td>\n",
       "    </tr>\n",
       "    <tr>\n",
       "      <th>2</th>\n",
       "      <td>2020-03-31</td>\n",
       "      <td>0.001299</td>\n",
       "      <td>1.764751</td>\n",
       "    </tr>\n",
       "    <tr>\n",
       "      <th>3</th>\n",
       "      <td>2020-04-30</td>\n",
       "      <td>0.001246</td>\n",
       "      <td>1.693773</td>\n",
       "    </tr>\n",
       "    <tr>\n",
       "      <th>4</th>\n",
       "      <td>2020-05-31</td>\n",
       "      <td>0.608561</td>\n",
       "      <td>826.932466</td>\n",
       "    </tr>\n",
       "    <tr>\n",
       "      <th>5</th>\n",
       "      <td>2020-06-30</td>\n",
       "      <td>0.975684</td>\n",
       "      <td>1325.792007</td>\n",
       "    </tr>\n",
       "    <tr>\n",
       "      <th>6</th>\n",
       "      <td>2020-07-31</td>\n",
       "      <td>0.755509</td>\n",
       "      <td>1026.611158</td>\n",
       "    </tr>\n",
       "    <tr>\n",
       "      <th>7</th>\n",
       "      <td>2020-08-31</td>\n",
       "      <td>0.221316</td>\n",
       "      <td>300.731150</td>\n",
       "    </tr>\n",
       "    <tr>\n",
       "      <th>8</th>\n",
       "      <td>2020-09-30</td>\n",
       "      <td>0.054920</td>\n",
       "      <td>74.627149</td>\n",
       "    </tr>\n",
       "    <tr>\n",
       "      <th>9</th>\n",
       "      <td>2020-10-31</td>\n",
       "      <td>0.004290</td>\n",
       "      <td>5.829473</td>\n",
       "    </tr>\n",
       "    <tr>\n",
       "      <th>10</th>\n",
       "      <td>2020-11-30</td>\n",
       "      <td>0.002178</td>\n",
       "      <td>2.958860</td>\n",
       "    </tr>\n",
       "    <tr>\n",
       "      <th>11</th>\n",
       "      <td>2020-12-31</td>\n",
       "      <td>0.001299</td>\n",
       "      <td>1.764751</td>\n",
       "    </tr>\n",
       "    <tr>\n",
       "      <th>12</th>\n",
       "      <td>2021-01-31</td>\n",
       "      <td>0.001299</td>\n",
       "      <td>1.764751</td>\n",
       "    </tr>\n",
       "    <tr>\n",
       "      <th>13</th>\n",
       "      <td>2021-02-28</td>\n",
       "      <td>0.001299</td>\n",
       "      <td>1.764751</td>\n",
       "    </tr>\n",
       "    <tr>\n",
       "      <th>14</th>\n",
       "      <td>2021-03-31</td>\n",
       "      <td>0.001357</td>\n",
       "      <td>1.844411</td>\n",
       "    </tr>\n",
       "    <tr>\n",
       "      <th>15</th>\n",
       "      <td>2021-04-30</td>\n",
       "      <td>0.013433</td>\n",
       "      <td>18.252996</td>\n",
       "    </tr>\n",
       "    <tr>\n",
       "      <th>16</th>\n",
       "      <td>2021-05-31</td>\n",
       "      <td>0.347533</td>\n",
       "      <td>472.239097</td>\n",
       "    </tr>\n",
       "    <tr>\n",
       "      <th>17</th>\n",
       "      <td>2021-06-30</td>\n",
       "      <td>0.975684</td>\n",
       "      <td>1325.792007</td>\n",
       "    </tr>\n",
       "    <tr>\n",
       "      <th>18</th>\n",
       "      <td>2021-07-31</td>\n",
       "      <td>0.341485</td>\n",
       "      <td>464.021714</td>\n",
       "    </tr>\n",
       "    <tr>\n",
       "      <th>19</th>\n",
       "      <td>2021-08-31</td>\n",
       "      <td>0.191730</td>\n",
       "      <td>260.528555</td>\n",
       "    </tr>\n",
       "    <tr>\n",
       "      <th>20</th>\n",
       "      <td>2021-09-30</td>\n",
       "      <td>0.105519</td>\n",
       "      <td>143.382806</td>\n",
       "    </tr>\n",
       "    <tr>\n",
       "      <th>21</th>\n",
       "      <td>2021-10-31</td>\n",
       "      <td>0.001915</td>\n",
       "      <td>2.601590</td>\n",
       "    </tr>\n",
       "    <tr>\n",
       "      <th>22</th>\n",
       "      <td>2021-11-30</td>\n",
       "      <td>0.001915</td>\n",
       "      <td>2.601590</td>\n",
       "    </tr>\n",
       "  </tbody>\n",
       "</table>\n",
       "</div>"
      ],
      "text/plain": [
       "         Date  Rainfall_scaled     Rainfall\n",
       "0  2020-01-31         0.001299     1.764751\n",
       "1  2020-02-29         0.001299     1.764751\n",
       "2  2020-03-31         0.001299     1.764751\n",
       "3  2020-04-30         0.001246     1.693773\n",
       "4  2020-05-31         0.608561   826.932466\n",
       "5  2020-06-30         0.975684  1325.792007\n",
       "6  2020-07-31         0.755509  1026.611158\n",
       "7  2020-08-31         0.221316   300.731150\n",
       "8  2020-09-30         0.054920    74.627149\n",
       "9  2020-10-31         0.004290     5.829473\n",
       "10 2020-11-30         0.002178     2.958860\n",
       "11 2020-12-31         0.001299     1.764751\n",
       "12 2021-01-31         0.001299     1.764751\n",
       "13 2021-02-28         0.001299     1.764751\n",
       "14 2021-03-31         0.001357     1.844411\n",
       "15 2021-04-30         0.013433    18.252996\n",
       "16 2021-05-31         0.347533   472.239097\n",
       "17 2021-06-30         0.975684  1325.792007\n",
       "18 2021-07-31         0.341485   464.021714\n",
       "19 2021-08-31         0.191730   260.528555\n",
       "20 2021-09-30         0.105519   143.382806\n",
       "21 2021-10-31         0.001915     2.601590\n",
       "22 2021-11-30         0.001915     2.601590"
      ]
     },
     "execution_count": 24,
     "metadata": {},
     "output_type": "execute_result"
    }
   ],
   "source": [
    "predicted_rainfall = pd.DataFrame({\n",
    "    'Date': df_melted.loc[test_start:test_end].index,\n",
    "    'Rainfall_scaled': predicted_test.values,\n",
    "    'Rainfall': predicted_test_scaled.flatten()\n",
    "})\n",
    "predicted_rainfall\n"
   ]
  },
  {
   "cell_type": "markdown",
   "metadata": {},
   "source": [
    "##### Results\n",
    "Let's compare our prediction to what happened in our test data"
   ]
  },
  {
   "cell_type": "code",
   "execution_count": 25,
   "metadata": {},
   "outputs": [
    {
     "data": {
      "image/png": "[encoded data removed]",
      "text/plain": [
       "<Figure size 1000x500 with 1 Axes>"
      ]
     },
     "metadata": {},
     "output_type": "display_data"
    }
   ],
   "source": [
    "### Plot Rainfall\n",
    "fig, ax = plt.subplots(figsize=(10, 5))\n",
    "\n",
    "# Set 'Date' as the index for predicted_rainfall\n",
    "predicted_rainfall.set_index('Date', inplace=True)\n",
    "\n",
    "# Plot actual and predicted rainfall\n",
    "df_melted.loc[test_start:test_end, 'Rainfall'].plot(ax=ax, label=\"Actual Mumbai Rain\", color='blue')\n",
    "predicted_rainfall['Rainfall'].plot(ax=ax, label='Predicted Mumbai Rain', color='red')\n",
    "\n",
    "# Set the title and labels\n",
    "ax.set_title('Actual vs Predicted Mumbai Rains')\n",
    "ax.set_xlabel('Date')\n",
    "ax.set_ylabel('Rainfall')\n",
    "ax.legend()\n",
    "plt.show()"
   ]
  },
  {
   "cell_type": "markdown",
   "metadata": {},
   "source": [
    "### Conclusion"
   ]
  },
  {
   "cell_type": "markdown",
   "metadata": {},
   "source": [
    "In this notebook, we successfully forecasted the monthly rainfall in Mumbai using historical data. We followed a systematic approach that included:\n",
    "\n",
    "1. **Data Preparation**: We cleaned and formatted the dataset, converting the monthly data into a time series format suitable for forecasting.\n",
    "2. **Exploratory Data Analysis**: We visualized the data to understand the trends and patterns in Mumbai rainfall over the years.\n",
    "3. **Feature Scaling**: We scaled the rainfall data to improve the performance of our forecasting model.\n",
    "4. **Model Training and Tuning**: We used the `ForecasterAutoreg` class from the `skforecast` library with a `DecisionTreeRegressor` to train our model. We performed grid search to find the best hyperparameters.\n",
    "5. **Model Evaluation**: We backtested our model to evaluate its performance and calculated the RMSE to quantify the prediction error.\n",
    "6. **Prediction**: We made predictions for the test period and compared them with the actual rainfall data.\n",
    "\n",
    "The results show that our model can reasonably predict the monthly rainfall in Mumbai, capturing the general trends and seasonal patterns. However, there is always room for improvement, and further tuning or the use of more advanced models could potentially yield even better results.\n",
    "\n",
    "Overall, this project demonstrates the effectiveness of time series forecasting techniques in predicting weather patterns, which can be crucial for planning and decision-making in various sectors."
   ]
  }
 ],
 "metadata": {
  "kernelspec": {
   "display_name": "Python 3",
   "language": "python",
   "name": "python3"
  },
  "language_info": {
   "codemirror_mode": {
    "name": "ipython",
    "version": 3
   },
   "file_extension": ".py",
   "mimetype": "text/x-python",
   "name": "python",
   "nbconvert_exporter": "python",
   "pygments_lexer": "ipython3",
   "version": "3.10.11"
  }
 },
 "nbformat": 4,
 "nbformat_minor": 2
}
