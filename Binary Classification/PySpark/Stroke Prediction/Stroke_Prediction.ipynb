{
 "cells": [
  {
   "cell_type": "markdown",
   "metadata": {},
   "source": [
    "# Stroke prediction using PySpark"
   ]
  },
  {
   "cell_type": "markdown",
   "metadata": {},
   "source": [
    "## Download Dataset"
   ]
  },
  {
   "cell_type": "code",
   "execution_count": 1,
   "metadata": {},
   "outputs": [
    {
     "name": "stdout",
     "output_type": "stream",
     "text": [
      "Warning: Looks like you're using an outdated `kagglehub` version, please consider updating (latest version: 0.3.3)\n",
      "Path to dataset files: /root/.cache/kagglehub/datasets/tarekmuhammed/patients-data-for-medical-field/versions/1\n"
     ]
    }
   ],
   "source": [
    "import kagglehub\n",
    "\n",
    "# Download latest version\n",
    "path = kagglehub.dataset_download(\"tarekmuhammed/patients-data-for-medical-field\")\n",
    "\n",
    "print(\"Path to dataset files:\", path)"
   ]
  },
  {
   "cell_type": "code",
   "execution_count": 2,
   "metadata": {},
   "outputs": [
    {
     "name": "stdout",
     "output_type": "stream",
     "text": [
      "'Patients Data ( Used for Heart Disease Prediction ).xlsx'\n"
     ]
    }
   ],
   "source": [
    "!ls /root/.cache/kagglehub/datasets/tarekmuhammed/patients-data-for-medical-field/versions/1"
   ]
  },
  {
   "cell_type": "markdown",
   "metadata": {},
   "source": [
    "## Import Dependencies"
   ]
  },
  {
   "cell_type": "code",
   "execution_count": 3,
   "metadata": {},
   "outputs": [],
   "source": [
    "import pandas as pd\n",
    "import seaborn as sns\n",
    "from sklearn.metrics import confusion_matrix\n",
    "import matplotlib.pyplot as plt\n",
    "from sklearn.preprocessing import LabelEncoder\n",
    "from pyspark.sql import SparkSession\n",
    "from pyspark.ml.feature import VectorAssembler\n",
    "from pyspark.ml.classification import LogisticRegression\n",
    "from pyspark.ml.evaluation import BinaryClassificationEvaluator\n",
    "import warnings\n",
    "warnings.filterwarnings('ignore')\n"
   ]
  },
  {
   "cell_type": "markdown",
   "metadata": {},
   "source": [
    "## Load Dataset"
   ]
  },
  {
   "cell_type": "code",
   "execution_count": 4,
   "metadata": {},
   "outputs": [],
   "source": [
    "df = pd.read_excel(path + \"/Patients Data ( Used for Heart Disease Prediction ).xlsx\")"
   ]
  },
  {
   "cell_type": "markdown",
   "metadata": {},
   "source": [
    "## Data preprocessing"
   ]
  },
  {
   "cell_type": "code",
   "execution_count": 5,
   "metadata": {},
   "outputs": [
    {
     "data": {
      "text/plain": [
       "Index(['PatientID', 'State', 'Sex', 'GeneralHealth', 'AgeCategory',\n",
       "       'HeightInMeters', 'WeightInKilograms', 'BMI', 'HadHeartAttack',\n",
       "       'HadAngina', 'HadStroke', 'HadAsthma', 'HadSkinCancer', 'HadCOPD',\n",
       "       'HadDepressiveDisorder', 'HadKidneyDisease', 'HadArthritis',\n",
       "       'HadDiabetes', 'DeafOrHardOfHearing', 'BlindOrVisionDifficulty',\n",
       "       'DifficultyConcentrating', 'DifficultyWalking',\n",
       "       'DifficultyDressingBathing', 'DifficultyErrands', 'SmokerStatus',\n",
       "       'ECigaretteUsage', 'ChestScan', 'RaceEthnicityCategory',\n",
       "       'AlcoholDrinkers', 'HIVTesting', 'FluVaxLast12', 'PneumoVaxEver',\n",
       "       'TetanusLast10Tdap', 'HighRiskLastYear', 'CovidPos'],\n",
       "      dtype='object')"
      ]
     },
     "execution_count": 5,
     "metadata": {},
     "output_type": "execute_result"
    }
   ],
   "source": [
    "df.columns"
   ]
  },
  {
   "cell_type": "code",
   "execution_count": 6,
   "metadata": {},
   "outputs": [
    {
     "data": {
      "text/html": [
       "<div>\n",
       "<style scoped>\n",
       "    .dataframe tbody tr th:only-of-type {\n",
       "        vertical-align: middle;\n",
       "    }\n",
       "\n",
       "    .dataframe tbody tr th {\n",
       "        vertical-align: top;\n",
       "    }\n",
       "\n",
       "    .dataframe thead th {\n",
       "        text-align: right;\n",
       "    }\n",
       "</style>\n",
       "<table border=\"1\" class=\"dataframe\">\n",
       "  <thead>\n",
       "    <tr style=\"text-align: right;\">\n",
       "      <th></th>\n",
       "      <th>PatientID</th>\n",
       "      <th>State</th>\n",
       "      <th>Sex</th>\n",
       "      <th>GeneralHealth</th>\n",
       "      <th>AgeCategory</th>\n",
       "      <th>HeightInMeters</th>\n",
       "      <th>WeightInKilograms</th>\n",
       "      <th>BMI</th>\n",
       "      <th>HadHeartAttack</th>\n",
       "      <th>HadAngina</th>\n",
       "      <th>...</th>\n",
       "      <th>ECigaretteUsage</th>\n",
       "      <th>ChestScan</th>\n",
       "      <th>RaceEthnicityCategory</th>\n",
       "      <th>AlcoholDrinkers</th>\n",
       "      <th>HIVTesting</th>\n",
       "      <th>FluVaxLast12</th>\n",
       "      <th>PneumoVaxEver</th>\n",
       "      <th>TetanusLast10Tdap</th>\n",
       "      <th>HighRiskLastYear</th>\n",
       "      <th>CovidPos</th>\n",
       "    </tr>\n",
       "  </thead>\n",
       "  <tbody>\n",
       "    <tr>\n",
       "      <th>0</th>\n",
       "      <td>1</td>\n",
       "      <td>Alabama</td>\n",
       "      <td>Female</td>\n",
       "      <td>Fair</td>\n",
       "      <td>Age 75 to 79</td>\n",
       "      <td>1.63</td>\n",
       "      <td>84.820000</td>\n",
       "      <td>32.099998</td>\n",
       "      <td>0</td>\n",
       "      <td>1</td>\n",
       "      <td>...</td>\n",
       "      <td>Never used e-cigarettes in my entire life</td>\n",
       "      <td>1</td>\n",
       "      <td>White only, Non-Hispanic</td>\n",
       "      <td>0</td>\n",
       "      <td>0</td>\n",
       "      <td>0</td>\n",
       "      <td>1</td>\n",
       "      <td>No, did not receive any tetanus shot in the pa...</td>\n",
       "      <td>0</td>\n",
       "      <td>1</td>\n",
       "    </tr>\n",
       "    <tr>\n",
       "      <th>1</th>\n",
       "      <td>2</td>\n",
       "      <td>Alabama</td>\n",
       "      <td>Female</td>\n",
       "      <td>Very good</td>\n",
       "      <td>Age 65 to 69</td>\n",
       "      <td>1.60</td>\n",
       "      <td>71.669998</td>\n",
       "      <td>27.990000</td>\n",
       "      <td>0</td>\n",
       "      <td>0</td>\n",
       "      <td>...</td>\n",
       "      <td>Never used e-cigarettes in my entire life</td>\n",
       "      <td>0</td>\n",
       "      <td>White only, Non-Hispanic</td>\n",
       "      <td>0</td>\n",
       "      <td>0</td>\n",
       "      <td>1</td>\n",
       "      <td>1</td>\n",
       "      <td>Yes, received Tdap</td>\n",
       "      <td>0</td>\n",
       "      <td>0</td>\n",
       "    </tr>\n",
       "    <tr>\n",
       "      <th>2</th>\n",
       "      <td>3</td>\n",
       "      <td>Alabama</td>\n",
       "      <td>Male</td>\n",
       "      <td>Excellent</td>\n",
       "      <td>Age 60 to 64</td>\n",
       "      <td>1.78</td>\n",
       "      <td>71.209999</td>\n",
       "      <td>22.530001</td>\n",
       "      <td>0</td>\n",
       "      <td>0</td>\n",
       "      <td>...</td>\n",
       "      <td>Never used e-cigarettes in my entire life</td>\n",
       "      <td>0</td>\n",
       "      <td>White only, Non-Hispanic</td>\n",
       "      <td>1</td>\n",
       "      <td>0</td>\n",
       "      <td>0</td>\n",
       "      <td>0</td>\n",
       "      <td>Yes, received tetanus shot but not sure what type</td>\n",
       "      <td>0</td>\n",
       "      <td>0</td>\n",
       "    </tr>\n",
       "    <tr>\n",
       "      <th>3</th>\n",
       "      <td>4</td>\n",
       "      <td>Alabama</td>\n",
       "      <td>Male</td>\n",
       "      <td>Very good</td>\n",
       "      <td>Age 70 to 74</td>\n",
       "      <td>1.78</td>\n",
       "      <td>95.250000</td>\n",
       "      <td>30.129999</td>\n",
       "      <td>0</td>\n",
       "      <td>0</td>\n",
       "      <td>...</td>\n",
       "      <td>Never used e-cigarettes in my entire life</td>\n",
       "      <td>0</td>\n",
       "      <td>White only, Non-Hispanic</td>\n",
       "      <td>0</td>\n",
       "      <td>0</td>\n",
       "      <td>1</td>\n",
       "      <td>1</td>\n",
       "      <td>Yes, received tetanus shot but not sure what type</td>\n",
       "      <td>0</td>\n",
       "      <td>0</td>\n",
       "    </tr>\n",
       "    <tr>\n",
       "      <th>4</th>\n",
       "      <td>5</td>\n",
       "      <td>Alabama</td>\n",
       "      <td>Female</td>\n",
       "      <td>Good</td>\n",
       "      <td>Age 50 to 54</td>\n",
       "      <td>1.68</td>\n",
       "      <td>78.019997</td>\n",
       "      <td>27.760000</td>\n",
       "      <td>0</td>\n",
       "      <td>0</td>\n",
       "      <td>...</td>\n",
       "      <td>Never used e-cigarettes in my entire life</td>\n",
       "      <td>1</td>\n",
       "      <td>Black only, Non-Hispanic</td>\n",
       "      <td>0</td>\n",
       "      <td>0</td>\n",
       "      <td>1</td>\n",
       "      <td>0</td>\n",
       "      <td>No, did not receive any tetanus shot in the pa...</td>\n",
       "      <td>0</td>\n",
       "      <td>0</td>\n",
       "    </tr>\n",
       "  </tbody>\n",
       "</table>\n",
       "<p>5 rows × 35 columns</p>\n",
       "</div>"
      ],
      "text/plain": [
       "   PatientID    State     Sex GeneralHealth   AgeCategory  HeightInMeters  \\\n",
       "0          1  Alabama  Female          Fair  Age 75 to 79            1.63   \n",
       "1          2  Alabama  Female     Very good  Age 65 to 69            1.60   \n",
       "2          3  Alabama    Male     Excellent  Age 60 to 64            1.78   \n",
       "3          4  Alabama    Male     Very good  Age 70 to 74            1.78   \n",
       "4          5  Alabama  Female          Good  Age 50 to 54            1.68   \n",
       "\n",
       "   WeightInKilograms        BMI  HadHeartAttack  HadAngina  ...  \\\n",
       "0          84.820000  32.099998               0          1  ...   \n",
       "1          71.669998  27.990000               0          0  ...   \n",
       "2          71.209999  22.530001               0          0  ...   \n",
       "3          95.250000  30.129999               0          0  ...   \n",
       "4          78.019997  27.760000               0          0  ...   \n",
       "\n",
       "                             ECigaretteUsage  ChestScan  \\\n",
       "0  Never used e-cigarettes in my entire life          1   \n",
       "1  Never used e-cigarettes in my entire life          0   \n",
       "2  Never used e-cigarettes in my entire life          0   \n",
       "3  Never used e-cigarettes in my entire life          0   \n",
       "4  Never used e-cigarettes in my entire life          1   \n",
       "\n",
       "      RaceEthnicityCategory  AlcoholDrinkers  HIVTesting  FluVaxLast12  \\\n",
       "0  White only, Non-Hispanic                0           0             0   \n",
       "1  White only, Non-Hispanic                0           0             1   \n",
       "2  White only, Non-Hispanic                1           0             0   \n",
       "3  White only, Non-Hispanic                0           0             1   \n",
       "4  Black only, Non-Hispanic                0           0             1   \n",
       "\n",
       "   PneumoVaxEver                                  TetanusLast10Tdap  \\\n",
       "0              1  No, did not receive any tetanus shot in the pa...   \n",
       "1              1                                 Yes, received Tdap   \n",
       "2              0  Yes, received tetanus shot but not sure what type   \n",
       "3              1  Yes, received tetanus shot but not sure what type   \n",
       "4              0  No, did not receive any tetanus shot in the pa...   \n",
       "\n",
       "   HighRiskLastYear  CovidPos  \n",
       "0                 0         1  \n",
       "1                 0         0  \n",
       "2                 0         0  \n",
       "3                 0         0  \n",
       "4                 0         0  \n",
       "\n",
       "[5 rows x 35 columns]"
      ]
     },
     "execution_count": 6,
     "metadata": {},
     "output_type": "execute_result"
    }
   ],
   "source": [
    "df.head()"
   ]
  },
  {
   "cell_type": "code",
   "execution_count": 7,
   "metadata": {},
   "outputs": [
    {
     "data": {
      "text/plain": [
       "PatientID                      int64\n",
       "State                         object\n",
       "Sex                           object\n",
       "GeneralHealth                 object\n",
       "AgeCategory                   object\n",
       "HeightInMeters               float64\n",
       "WeightInKilograms            float64\n",
       "BMI                          float64\n",
       "HadHeartAttack                 int64\n",
       "HadAngina                      int64\n",
       "HadStroke                      int64\n",
       "HadAsthma                      int64\n",
       "HadSkinCancer                  int64\n",
       "HadCOPD                        int64\n",
       "HadDepressiveDisorder          int64\n",
       "HadKidneyDisease               int64\n",
       "HadArthritis                   int64\n",
       "HadDiabetes                   object\n",
       "DeafOrHardOfHearing            int64\n",
       "BlindOrVisionDifficulty        int64\n",
       "DifficultyConcentrating        int64\n",
       "DifficultyWalking              int64\n",
       "DifficultyDressingBathing      int64\n",
       "DifficultyErrands              int64\n",
       "SmokerStatus                  object\n",
       "ECigaretteUsage               object\n",
       "ChestScan                      int64\n",
       "RaceEthnicityCategory         object\n",
       "AlcoholDrinkers                int64\n",
       "HIVTesting                     int64\n",
       "FluVaxLast12                   int64\n",
       "PneumoVaxEver                  int64\n",
       "TetanusLast10Tdap             object\n",
       "HighRiskLastYear               int64\n",
       "CovidPos                       int64\n",
       "dtype: object"
      ]
     },
     "execution_count": 7,
     "metadata": {},
     "output_type": "execute_result"
    }
   ],
   "source": [
    "df.dtypes"
   ]
  },
  {
   "cell_type": "code",
   "execution_count": 8,
   "metadata": {},
   "outputs": [],
   "source": [
    "df.drop(columns=['PatientID', 'State'], inplace=True)\n",
    "columns_to_encode = ['Sex', 'GeneralHealth', 'AgeCategory', 'HadDiabetes', 'SmokerStatus', 'ECigaretteUsage', 'RaceEthnicityCategory', 'TetanusLast10Tdap']\n",
    "\n",
    "for column in columns_to_encode:\n",
    "    le = LabelEncoder()\n",
    "    df[column] = le.fit_transform(df[column])"
   ]
  },
  {
   "cell_type": "markdown",
   "metadata": {},
   "source": [
    "# Model"
   ]
  },
  {
   "cell_type": "markdown",
   "metadata": {},
   "source": [
    "## Initialize Spark Session"
   ]
  },
  {
   "cell_type": "code",
   "execution_count": 9,
   "metadata": {},
   "outputs": [
    {
     "name": "stderr",
     "output_type": "stream",
     "text": [
      "24/11/03 03:12:08 WARN Utils: Your hostname, MSI resolves to a loopback address: 127.0.1.1; using 10.255.255.254 instead (on interface lo)\n",
      "24/11/03 03:12:08 WARN Utils: Set SPARK_LOCAL_IP if you need to bind to another address\n",
      "Setting default log level to \"WARN\".\n",
      "To adjust logging level use sc.setLogLevel(newLevel). For SparkR, use setLogLevel(newLevel).\n",
      "24/11/03 03:12:09 WARN NativeCodeLoader: Unable to load native-hadoop library for your platform... using builtin-java classes where applicable\n"
     ]
    }
   ],
   "source": [
    "# Initialize Spark session\n",
    "spark = SparkSession.builder.appName(\"MedicalDataAnalysis\").getOrCreate()"
   ]
  },
  {
   "cell_type": "markdown",
   "metadata": {},
   "source": [
    "## Convert df to spark_df"
   ]
  },
  {
   "cell_type": "code",
   "execution_count": 10,
   "metadata": {},
   "outputs": [],
   "source": [
    "# Convert Pandas DataFrame to Spark DataFrame\n",
    "spark_df = spark.createDataFrame(df)"
   ]
  },
  {
   "cell_type": "markdown",
   "metadata": {},
   "source": [
    "## Prepare the data"
   ]
  },
  {
   "cell_type": "code",
   "execution_count": 11,
   "metadata": {},
   "outputs": [],
   "source": [
    "# Prepare the data for modeling\n",
    "feature_columns = [col for col in spark_df.columns if col != 'HadStroke']\n",
    "assembler = VectorAssembler(inputCols=feature_columns, outputCol='features')\n",
    "assembled_data = assembler.transform(spark_df)"
   ]
  },
  {
   "cell_type": "markdown",
   "metadata": {},
   "source": [
    "## Split the data into train and test"
   ]
  },
  {
   "cell_type": "code",
   "execution_count": 12,
   "metadata": {},
   "outputs": [],
   "source": [
    "# Split the data into training and test sets\n",
    "train_data, test_data = assembled_data.randomSplit([0.8, 0.2], seed=1234)"
   ]
  },
  {
   "cell_type": "markdown",
   "metadata": {},
   "source": [
    "## Train Logistic Regression Model"
   ]
  },
  {
   "cell_type": "code",
   "execution_count": null,
   "metadata": {},
   "outputs": [
    {
     "name": "stderr",
     "output_type": "stream",
     "text": [
      "24/11/03 03:12:38 WARN TaskSetManager: Stage 0 contains a task of very large size (1089 KiB). The maximum recommended task size is 1000 KiB.\n",
      "24/11/03 03:12:43 WARN InstanceBuilder: Failed to load implementation from:dev.ludovic.netlib.blas.JNIBLAS\n",
      "24/11/03 03:12:43 WARN TaskSetManager: Stage 2 contains a task of very large size (1089 KiB). The maximum recommended task size is 1000 KiB.\n",
      "24/11/03 03:12:44 WARN TaskSetManager: Stage 4 contains a task of very large size (1089 KiB). The maximum recommended task size is 1000 KiB.\n",
      "24/11/03 03:12:45 WARN TaskSetManager: Stage 6 contains a task of very large size (1089 KiB). The maximum recommended task size is 1000 KiB.\n",
      "24/11/03 03:12:45 WARN TaskSetManager: Stage 8 contains a task of very large size (1089 KiB). The maximum recommended task size is 1000 KiB.\n",
      "24/11/03 03:12:45 WARN TaskSetManager: Stage 10 contains a task of very large size (1089 KiB). The maximum recommended task size is 1000 KiB.\n",
      "24/11/03 03:12:45 WARN TaskSetManager: Stage 12 contains a task of very large size (1089 KiB). The maximum recommended task size is 1000 KiB.\n",
      "24/11/03 03:12:45 WARN TaskSetManager: Stage 14 contains a task of very large size (1089 KiB). The maximum recommended task size is 1000 KiB.\n",
      "24/11/03 03:12:45 WARN TaskSetManager: Stage 16 contains a task of very large size (1089 KiB). The maximum recommended task size is 1000 KiB.\n",
      "24/11/03 03:12:46 WARN TaskSetManager: Stage 18 contains a task of very large size (1089 KiB). The maximum recommended task size is 1000 KiB.\n",
      "24/11/03 03:12:46 WARN TaskSetManager: Stage 20 contains a task of very large size (1089 KiB). The maximum recommended task size is 1000 KiB.\n",
      "24/11/03 03:12:46 WARN TaskSetManager: Stage 22 contains a task of very large size (1089 KiB). The maximum recommended task size is 1000 KiB.\n",
      "24/11/03 03:12:46 WARN TaskSetManager: Stage 24 contains a task of very large size (1089 KiB). The maximum recommended task size is 1000 KiB.\n",
      "24/11/03 03:12:46 WARN TaskSetManager: Stage 26 contains a task of very large size (1089 KiB). The maximum recommended task size is 1000 KiB.\n",
      "24/11/03 03:12:46 WARN TaskSetManager: Stage 28 contains a task of very large size (1089 KiB). The maximum recommended task size is 1000 KiB.\n",
      "24/11/03 03:12:46 WARN TaskSetManager: Stage 30 contains a task of very large size (1089 KiB). The maximum recommended task size is 1000 KiB.\n",
      "24/11/03 03:12:46 WARN TaskSetManager: Stage 32 contains a task of very large size (1089 KiB). The maximum recommended task size is 1000 KiB.\n",
      "24/11/03 03:12:46 WARN TaskSetManager: Stage 34 contains a task of very large size (1089 KiB). The maximum recommended task size is 1000 KiB.\n",
      "24/11/03 03:12:46 WARN TaskSetManager: Stage 36 contains a task of very large size (1089 KiB). The maximum recommended task size is 1000 KiB.\n",
      "24/11/03 03:12:47 WARN TaskSetManager: Stage 38 contains a task of very large size (1089 KiB). The maximum recommended task size is 1000 KiB.\n",
      "24/11/03 03:12:47 WARN TaskSetManager: Stage 40 contains a task of very large size (1089 KiB). The maximum recommended task size is 1000 KiB.\n",
      "24/11/03 03:12:47 WARN TaskSetManager: Stage 42 contains a task of very large size (1089 KiB). The maximum recommended task size is 1000 KiB.\n",
      "24/11/03 03:12:47 WARN TaskSetManager: Stage 44 contains a task of very large size (1089 KiB). The maximum recommended task size is 1000 KiB.\n",
      "24/11/03 03:12:47 WARN TaskSetManager: Stage 46 contains a task of very large size (1089 KiB). The maximum recommended task size is 1000 KiB.\n",
      "24/11/03 03:12:47 WARN TaskSetManager: Stage 48 contains a task of very large size (1089 KiB). The maximum recommended task size is 1000 KiB.\n",
      "24/11/03 03:12:47 WARN TaskSetManager: Stage 50 contains a task of very large size (1089 KiB). The maximum recommended task size is 1000 KiB.\n",
      "24/11/03 03:12:47 WARN TaskSetManager: Stage 52 contains a task of very large size (1089 KiB). The maximum recommended task size is 1000 KiB.\n",
      "24/11/03 03:12:47 WARN TaskSetManager: Stage 54 contains a task of very large size (1089 KiB). The maximum recommended task size is 1000 KiB.\n",
      "24/11/03 03:12:47 WARN TaskSetManager: Stage 56 contains a task of very large size (1089 KiB). The maximum recommended task size is 1000 KiB.\n",
      "24/11/03 03:12:47 WARN TaskSetManager: Stage 58 contains a task of very large size (1089 KiB). The maximum recommended task size is 1000 KiB.\n",
      "24/11/03 03:12:47 WARN TaskSetManager: Stage 60 contains a task of very large size (1089 KiB). The maximum recommended task size is 1000 KiB.\n",
      "24/11/03 03:12:48 WARN TaskSetManager: Stage 62 contains a task of very large size (1089 KiB). The maximum recommended task size is 1000 KiB.\n",
      "24/11/03 03:12:48 WARN TaskSetManager: Stage 64 contains a task of very large size (1089 KiB). The maximum recommended task size is 1000 KiB.\n",
      "24/11/03 03:12:48 WARN TaskSetManager: Stage 66 contains a task of very large size (1089 KiB). The maximum recommended task size is 1000 KiB.\n",
      "24/11/03 03:12:48 WARN TaskSetManager: Stage 68 contains a task of very large size (1089 KiB). The maximum recommended task size is 1000 KiB.\n",
      "24/11/03 03:12:48 WARN TaskSetManager: Stage 70 contains a task of very large size (1089 KiB). The maximum recommended task size is 1000 KiB.\n"
     ]
    }
   ],
   "source": [
    "# Train a Logistic Regression model\n",
    "lr = LogisticRegression(labelCol='HadStroke', featuresCol='features')\n",
    "lr_model = lr.fit(train_data)"
   ]
  },
  {
   "cell_type": "markdown",
   "metadata": {},
   "source": [
    "## Make Predictions"
   ]
  },
  {
   "cell_type": "code",
   "execution_count": 14,
   "metadata": {},
   "outputs": [],
   "source": [
    "# Make predictions on the test set\n",
    "predictions = lr_model.transform(test_data)"
   ]
  },
  {
   "cell_type": "markdown",
   "metadata": {},
   "source": [
    "## Evaluate the Model"
   ]
  },
  {
   "cell_type": "code",
   "execution_count": null,
   "metadata": {
    "vscode": {
     "languageId": "r"
    }
   },
   "outputs": [
    {
     "name": "stderr",
     "output_type": "stream",
     "text": [
      "24/11/03 02:53:30 WARN TaskSetManager: Stage 0 contains a task of very large size (1089 KiB). The maximum recommended task size is 1000 KiB.\n",
      "24/11/03 02:53:37 WARN InstanceBuilder: Failed to load implementation from:dev.ludovic.netlib.blas.JNIBLAS\n",
      "24/11/03 02:53:37 WARN TaskSetManager: Stage 2 contains a task of very large size (1089 KiB). The maximum recommended task size is 1000 KiB.\n",
      "24/11/03 02:53:39 WARN TaskSetManager: Stage 4 contains a task of very large size (1089 KiB). The maximum recommended task size is 1000 KiB.\n",
      "24/11/03 02:53:39 WARN TaskSetManager: Stage 6 contains a task of very large size (1089 KiB). The maximum recommended task size is 1000 KiB.\n",
      "24/11/03 02:53:39 WARN TaskSetManager: Stage 8 contains a task of very large size (1089 KiB). The maximum recommended task size is 1000 KiB.\n",
      "24/11/03 02:53:39 WARN TaskSetManager: Stage 10 contains a task of very large size (1089 KiB). The maximum recommended task size is 1000 KiB.\n",
      "24/11/03 02:53:40 WARN TaskSetManager: Stage 12 contains a task of very large size (1089 KiB). The maximum recommended task size is 1000 KiB.\n",
      "24/11/03 02:53:40 WARN TaskSetManager: Stage 14 contains a task of very large size (1089 KiB). The maximum recommended task size is 1000 KiB.\n",
      "24/11/03 02:53:40 WARN TaskSetManager: Stage 16 contains a task of very large size (1089 KiB). The maximum recommended task size is 1000 KiB.\n",
      "24/11/03 02:53:40 WARN TaskSetManager: Stage 18 contains a task of very large size (1089 KiB). The maximum recommended task size is 1000 KiB.\n",
      "24/11/03 02:53:40 WARN TaskSetManager: Stage 20 contains a task of very large size (1089 KiB). The maximum recommended task size is 1000 KiB.\n",
      "24/11/03 02:53:40 WARN TaskSetManager: Stage 22 contains a task of very large size (1089 KiB). The maximum recommended task size is 1000 KiB.\n",
      "24/11/03 02:53:40 WARN TaskSetManager: Stage 24 contains a task of very large size (1089 KiB). The maximum recommended task size is 1000 KiB.\n",
      "24/11/03 02:53:40 WARN TaskSetManager: Stage 26 contains a task of very large size (1089 KiB). The maximum recommended task size is 1000 KiB.\n",
      "24/11/03 02:53:41 WARN TaskSetManager: Stage 28 contains a task of very large size (1089 KiB). The maximum recommended task size is 1000 KiB.\n",
      "24/11/03 02:53:41 WARN TaskSetManager: Stage 30 contains a task of very large size (1089 KiB). The maximum recommended task size is 1000 KiB.\n",
      "24/11/03 02:53:41 WARN TaskSetManager: Stage 32 contains a task of very large size (1089 KiB). The maximum recommended task size is 1000 KiB.\n",
      "24/11/03 02:53:41 WARN TaskSetManager: Stage 34 contains a task of very large size (1089 KiB). The maximum recommended task size is 1000 KiB.\n",
      "24/11/03 02:53:41 WARN TaskSetManager: Stage 36 contains a task of very large size (1089 KiB). The maximum recommended task size is 1000 KiB.\n",
      "24/11/03 02:53:41 WARN TaskSetManager: Stage 38 contains a task of very large size (1089 KiB). The maximum recommended task size is 1000 KiB.\n",
      "24/11/03 02:53:41 WARN TaskSetManager: Stage 40 contains a task of very large size (1089 KiB). The maximum recommended task size is 1000 KiB.\n",
      "24/11/03 02:53:41 WARN TaskSetManager: Stage 42 contains a task of very large size (1089 KiB). The maximum recommended task size is 1000 KiB.\n",
      "24/11/03 02:53:41 WARN TaskSetManager: Stage 44 contains a task of very large size (1089 KiB). The maximum recommended task size is 1000 KiB.\n",
      "24/11/03 02:53:41 WARN TaskSetManager: Stage 46 contains a task of very large size (1089 KiB). The maximum recommended task size is 1000 KiB.\n",
      "24/11/03 02:53:41 WARN TaskSetManager: Stage 48 contains a task of very large size (1089 KiB). The maximum recommended task size is 1000 KiB.\n",
      "24/11/03 02:53:41 WARN TaskSetManager: Stage 50 contains a task of very large size (1089 KiB). The maximum recommended task size is 1000 KiB.\n",
      "24/11/03 02:53:41 WARN TaskSetManager: Stage 52 contains a task of very large size (1089 KiB). The maximum recommended task size is 1000 KiB.\n",
      "24/11/03 02:53:41 WARN TaskSetManager: Stage 54 contains a task of very large size (1089 KiB). The maximum recommended task size is 1000 KiB.\n",
      "24/11/03 02:53:42 WARN TaskSetManager: Stage 56 contains a task of very large size (1089 KiB). The maximum recommended task size is 1000 KiB.\n",
      "24/11/03 02:53:42 WARN TaskSetManager: Stage 58 contains a task of very large size (1089 KiB). The maximum recommended task size is 1000 KiB.\n",
      "24/11/03 02:53:42 WARN TaskSetManager: Stage 60 contains a task of very large size (1089 KiB). The maximum recommended task size is 1000 KiB.\n",
      "24/11/03 02:53:42 WARN TaskSetManager: Stage 62 contains a task of very large size (1089 KiB). The maximum recommended task size is 1000 KiB.\n",
      "24/11/03 02:53:42 WARN TaskSetManager: Stage 64 contains a task of very large size (1089 KiB). The maximum recommended task size is 1000 KiB.\n",
      "24/11/03 02:53:42 WARN TaskSetManager: Stage 66 contains a task of very large size (1089 KiB). The maximum recommended task size is 1000 KiB.\n",
      "24/11/03 02:53:42 WARN TaskSetManager: Stage 68 contains a task of very large size (1089 KiB). The maximum recommended task size is 1000 KiB.\n",
      "24/11/03 02:53:42 WARN TaskSetManager: Stage 70 contains a task of very large size (1089 KiB). The maximum recommended task size is 1000 KiB.\n",
      "24/11/03 02:53:43 WARN TaskSetManager: Stage 72 contains a task of very large size (1089 KiB). The maximum recommended task size is 1000 KiB.\n",
      "                                                                                \r"
     ]
    },
    {
     "name": "stdout",
     "output_type": "stream",
     "text": [
      "Model Accuracy: 0.8153749566562986\n"
     ]
    }
   ],
   "source": [
    "# Evaluate the model\n",
    "evaluator = BinaryClassificationEvaluator(labelCol='HadStroke')\n",
    "accuracy = evaluator.evaluate(predictions)\n",
    "\n",
    "print(f\"Model Accuracy: {accuracy}\")"
   ]
  },
  {
   "cell_type": "markdown",
   "metadata": {},
   "source": [
    "## Plot HeatMap"
   ]
  },
  {
   "cell_type": "code",
   "execution_count": 15,
   "metadata": {},
   "outputs": [
    {
     "name": "stderr",
     "output_type": "stream",
     "text": [
      "24/11/03 03:12:49 WARN SparkStringUtils: Truncated the string representation of a plan since it was too large. This behavior can be adjusted by setting 'spark.sql.debug.maxToStringFields'.\n",
      "24/11/03 03:12:49 WARN TaskSetManager: Stage 72 contains a task of very large size (1089 KiB). The maximum recommended task size is 1000 KiB.\n",
      "                                                                                \r"
     ]
    },
    {
     "data": {
      "image/png": "[encoded data removed]",
      "text/plain": [
       "<Figure size 1000x700 with 2 Axes>"
      ]
     },
     "metadata": {},
     "output_type": "display_data"
    }
   ],
   "source": [
    "# Convert Spark DataFrame to Pandas DataFrame\n",
    "predictions_pd = predictions.select('prediction', 'HadStroke').toPandas()\n",
    "\n",
    "# Create confusion matrix\n",
    "conf_matrix = confusion_matrix(predictions_pd['HadStroke'], predictions_pd['prediction'])\n",
    "\n",
    "# Plot heatmap\n",
    "plt.figure(figsize=(10, 7))\n",
    "sns.heatmap(conf_matrix, annot=True, fmt='d', cmap='Blues', xticklabels=['No Stroke', 'Stroke'], yticklabels=['No Stroke', 'Stroke'])\n",
    "plt.xlabel('Predicted')\n",
    "plt.ylabel('Actual')\n",
    "plt.title('Confusion Matrix Heatmap')\n",
    "plt.show()"
   ]
  },
  {
   "cell_type": "markdown",
   "metadata": {},
   "source": [
    "## Stop Spark Session"
   ]
  },
  {
   "cell_type": "code",
   "execution_count": 16,
   "metadata": {},
   "outputs": [],
   "source": [
    "spark.stop()"
   ]
  },
  {
   "cell_type": "markdown",
   "metadata": {},
   "source": [
    "## Conclusion\n",
    "\n",
    "This notebook demonstrates the process of predicting stroke occurrences using a dataset of patient data. By leveraging PySpark, we efficiently handled and processed a large dataset, performed feature engineering, and trained a logistic regression model. The model's performance was evaluated, and the results were visualized using a confusion matrix heatmap. This workflow highlights the power of combining PySpark for big data processing with traditional machine learning techniques to derive meaningful insights from healthcare data."
   ]
  }
 ],
 "metadata": {
  "kernelspec": {
   "display_name": "Python 3 (ipykernel)",
   "language": "python",
   "name": "python3"
  },
  "language_info": {
   "codemirror_mode": {
    "name": "ipython",
    "version": 3
   },
   "file_extension": ".py",
   "mimetype": "text/x-python",
   "name": "python",
   "nbconvert_exporter": "python",
   "pygments_lexer": "ipython3",
   "version": "3.10.12"
  }
 },
 "nbformat": 4,
 "nbformat_minor": 2
}
