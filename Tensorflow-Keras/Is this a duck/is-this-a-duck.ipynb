{
 "cells": [
  {
   "cell_type": "markdown",
   "metadata": {},
   "source": [
    "# Duck prediction\n",
    "In this model we will try to recognize if a picture has a duck in it or not."
   ]
  },
  {
   "cell_type": "markdown",
   "metadata": {},
   "source": [
    "## Declare dependencies\n",
    "First of all we will declare dependencies for the model to work with."
   ]
  },
  {
   "cell_type": "code",
   "execution_count": 1,
   "metadata": {},
   "outputs": [],
   "source": [
    "import tensorflow as tf\n",
    "\n",
    "gpus = tf.config.experimental.list_physical_devices('GPU')\n",
    "if gpus:\n",
    "    try:\n",
    "        for gpu in gpus:\n",
    "            tf.config.experimental.set_memory_growth(gpu, True)\n",
    "    except RuntimeError as e:\n",
    "        print(e)\n",
    "\n",
    "\n",
    "import os\n",
    "import cv2\n",
    "import numpy as np\n",
    "from sklearn.utils import shuffle\n",
    "from tensorflow.keras.models import Sequential\n",
    "from tensorflow.keras.layers import Conv2D, MaxPooling2D, Flatten, Dense, BatchNormalization\n",
    "from tensorflow.keras.optimizers import Adam\n",
    "from tensorflow.keras.utils import to_categorical\n",
    "from keras.layers import Dropout\n",
    "from keras.callbacks import ModelCheckpoint\n",
    "import matplotlib.pyplot as plt\n",
    "from sklearn.metrics import confusion_matrix\n",
    "import seaborn as sns\n",
    "\n",
    "\n",
    "\n",
    "\n"
   ]
  },
  {
   "cell_type": "markdown",
   "metadata": {},
   "source": [
    "Now we will create a function to load the images and resize them to 400px x 300px"
   ]
  },
  {
   "cell_type": "code",
   "execution_count": null,
   "metadata": {},
   "outputs": [],
   "source": [
    "def load_and_resize_images(folder, size=(400, 300)):\n",
    "    images = []\n",
    "    for filename in os.listdir(folder):\n",
    "        img = cv2.imread(os.path.join(folder, filename))\n",
    "        if img is not None:\n",
    "            images.append(cv2.resize(img, size) ) \n",
    "    return np.array(images)\n"
   ]
  },
  {
   "cell_type": "markdown",
   "metadata": {},
   "source": [
    "Load the data, we have a train, a val and a test folders with photos of ducks and other things"
   ]
  },
  {
   "cell_type": "code",
   "execution_count": null,
   "metadata": {},
   "outputs": [],
   "source": [
    "train_duck_data = load_and_resize_images('Images\\\\Duck\\\\train\\\\images')\n",
    "val_duck_data = load_and_resize_images('Images\\\\Duck\\\\val\\\\images')\n",
    "test_duck_data = load_and_resize_images('Images\\\\Duck\\\\val\\\\images')\n",
    "\n",
    "train_not_duck_data = load_and_resize_images('Images\\\\Not Duck\\\\train\\\\images')\n",
    "val_not_duck_data = load_and_resize_images('Images\\\\Not Duck\\\\val\\\\images')\n",
    "test_not_duck_data = load_and_resize_images('Images\\\\Not Duck\\\\val\\\\images')"
   ]
  },
  {
   "cell_type": "markdown",
   "metadata": {},
   "source": [
    "We will create the labels for the data, we will use 1 for ducks and 0 for when the picture is not of a duck\n"
   ]
  },
  {
   "cell_type": "code",
   "execution_count": 3,
   "metadata": {},
   "outputs": [],
   "source": [
    "duck_train_labels = np.ones(train_duck_data.shape[0])\n",
    "duck_val_labels= np.ones(val_duck_data.shape[0])\n",
    "duck_test_labels = np.ones(test_duck_data.shape[0])\n",
    "\n",
    "not_duck_train_labels = np.zeros(train_not_duck_data.shape[0])\n",
    "not_duck_val_labels= np.zeros(val_not_duck_data.shape[0])\n",
    "not_duck_test_labels = np.zeros(test_not_duck_data.shape[0])\n",
    "\n"
   ]
  },
  {
   "cell_type": "markdown",
   "metadata": {},
   "source": [
    "Now we will concatenate our data in order and then shuffle it to make it random"
   ]
  },
  {
   "cell_type": "code",
   "execution_count": 18,
   "metadata": {},
   "outputs": [],
   "source": [
    "train_data = np.concatenate((train_duck_data, train_not_duck_data))\n",
    "test_data = np.concatenate((test_duck_data, test_not_duck_data))\n",
    "val_data = np.concatenate((val_duck_data, val_not_duck_data))\n",
    "\n",
    "train_labels = np.concatenate((duck_train_labels, not_duck_train_labels))\n",
    "test_labels = np.concatenate((duck_test_labels, not_duck_test_labels))\n",
    "val_labels = np.concatenate((duck_val_labels, not_duck_val_labels))\n",
    "\n",
    "\n",
    "\n",
    "# Shuffle the training data and labels\n",
    "train_data, train_labels = shuffle(train_data, train_labels)\n",
    "test_data, test_labels = shuffle(test_data, test_labels)\n",
    "val_data, val_labels = shuffle(val_data, val_labels)\n",
    "\n",
    "\n"
   ]
  },
  {
   "cell_type": "markdown",
   "metadata": {},
   "source": [
    "## Model\n",
    "All set up! Now let's create a model... I used up to 128 neurons cause my GPU doesn't support more than this. Feel free of changing it to your preference.\n",
    "We will have a softmax activation function to check the probability of the image being a duck or not.\n",
    "If the first neuron have a better probability than the second one, the picture shouldn't be of a duck, else should be a duck.\n"
   ]
  },
  {
   "cell_type": "code",
   "execution_count": 6,
   "metadata": {},
   "outputs": [
    {
     "name": "stdout",
     "output_type": "stream",
     "text": [
      "Model: \"sequential_1\"\n",
      "_________________________________________________________________\n",
      " Layer (type)                Output Shape              Param #   \n",
      "=================================================================\n",
      " conv2d_3 (Conv2D)           (None, 298, 398, 32)      896       \n",
      "                                                                 \n",
      " batch_normalization_4 (Batc  (None, 298, 398, 32)     128       \n",
      " hNormalization)                                                 \n",
      "                                                                 \n",
      " max_pooling2d_3 (MaxPooling  (None, 149, 199, 32)     0         \n",
      " 2D)                                                             \n",
      "                                                                 \n",
      " dropout_4 (Dropout)         (None, 149, 199, 32)      0         \n",
      "                                                                 \n",
      " conv2d_4 (Conv2D)           (None, 147, 197, 64)      18496     \n",
      "                                                                 \n",
      " batch_normalization_5 (Batc  (None, 147, 197, 64)     256       \n",
      " hNormalization)                                                 \n",
      "                                                                 \n",
      " max_pooling2d_4 (MaxPooling  (None, 73, 98, 64)       0         \n",
      " 2D)                                                             \n",
      "                                                                 \n",
      " dropout_5 (Dropout)         (None, 73, 98, 64)        0         \n",
      "                                                                 \n",
      " conv2d_5 (Conv2D)           (None, 71, 96, 128)       73856     \n",
      "                                                                 \n",
      " batch_normalization_6 (Batc  (None, 71, 96, 128)      512       \n",
      " hNormalization)                                                 \n",
      "                                                                 \n",
      " max_pooling2d_5 (MaxPooling  (None, 35, 48, 128)      0         \n",
      " 2D)                                                             \n",
      "                                                                 \n",
      " dropout_6 (Dropout)         (None, 35, 48, 128)       0         \n",
      "                                                                 \n",
      " flatten_1 (Flatten)         (None, 215040)            0         \n",
      "                                                                 \n",
      " dense_2 (Dense)             (None, 128)               27525248  \n",
      "                                                                 \n",
      " batch_normalization_7 (Batc  (None, 128)              512       \n",
      " hNormalization)                                                 \n",
      "                                                                 \n",
      " dropout_7 (Dropout)         (None, 128)               0         \n",
      "                                                                 \n",
      " dense_3 (Dense)             (None, 2)                 258       \n",
      "                                                                 \n",
      "=================================================================\n",
      "Total params: 27,620,162\n",
      "Trainable params: 27,619,458\n",
      "Non-trainable params: 704\n",
      "_________________________________________________________________\n",
      "Epoch 1/20\n",
      "834/834 [==============================] - 19s 19ms/step - loss: 0.4671 - accuracy: 0.9161 - val_loss: 27.2916 - val_accuracy: 0.6299\n",
      "Epoch 2/20\n",
      "834/834 [==============================] - 15s 19ms/step - loss: 0.3044 - accuracy: 0.9161 - val_loss: 33.8602 - val_accuracy: 0.6535\n",
      "Epoch 3/20\n",
      "834/834 [==============================] - 15s 18ms/step - loss: 0.2914 - accuracy: 0.9161 - val_loss: 37.4880 - val_accuracy: 0.6142\n",
      "Epoch 4/20\n",
      "834/834 [==============================] - 15s 18ms/step - loss: 0.2885 - accuracy: 0.9161 - val_loss: 38.0494 - val_accuracy: 0.5906\n",
      "Epoch 5/20\n",
      "834/834 [==============================] - 15s 18ms/step - loss: 0.2917 - accuracy: 0.9161 - val_loss: 35.2047 - val_accuracy: 0.5906\n",
      "Epoch 6/20\n",
      "834/834 [==============================] - 15s 18ms/step - loss: 0.2897 - accuracy: 0.9161 - val_loss: 42.2051 - val_accuracy: 0.5748\n",
      "Epoch 7/20\n",
      "834/834 [==============================] - 15s 18ms/step - loss: 0.2903 - accuracy: 0.9161 - val_loss: 30.3484 - val_accuracy: 0.6220\n",
      "Epoch 8/20\n",
      "834/834 [==============================] - 15s 18ms/step - loss: 0.2880 - accuracy: 0.9161 - val_loss: 40.2689 - val_accuracy: 0.5512\n",
      "Epoch 9/20\n",
      "834/834 [==============================] - 17s 21ms/step - loss: 0.2907 - accuracy: 0.9161 - val_loss: 29.4620 - val_accuracy: 0.6142\n",
      "Epoch 10/20\n",
      "834/834 [==============================] - 15s 18ms/step - loss: 0.2891 - accuracy: 0.9161 - val_loss: 34.1317 - val_accuracy: 0.7087\n",
      "Epoch 11/20\n",
      "834/834 [==============================] - 15s 18ms/step - loss: 0.2894 - accuracy: 0.9161 - val_loss: 35.8023 - val_accuracy: 0.6378\n",
      "Epoch 12/20\n",
      "834/834 [==============================] - 15s 18ms/step - loss: 0.2884 - accuracy: 0.9161 - val_loss: 42.5327 - val_accuracy: 0.6614\n",
      "Epoch 13/20\n",
      "834/834 [==============================] - 15s 18ms/step - loss: 0.2913 - accuracy: 0.9161 - val_loss: 45.0104 - val_accuracy: 0.6378\n",
      "Epoch 14/20\n",
      "834/834 [==============================] - 15s 18ms/step - loss: 0.2900 - accuracy: 0.9161 - val_loss: 40.7416 - val_accuracy: 0.6063\n",
      "Epoch 15/20\n",
      "834/834 [==============================] - 15s 18ms/step - loss: 0.2894 - accuracy: 0.9161 - val_loss: 38.4529 - val_accuracy: 0.6142\n",
      "Epoch 16/20\n",
      "834/834 [==============================] - 15s 19ms/step - loss: 0.2903 - accuracy: 0.9161 - val_loss: 42.1637 - val_accuracy: 0.5906\n",
      "Epoch 17/20\n",
      "834/834 [==============================] - 15s 18ms/step - loss: 0.2911 - accuracy: 0.9161 - val_loss: 36.1384 - val_accuracy: 0.5827\n",
      "Epoch 18/20\n",
      "834/834 [==============================] - 15s 18ms/step - loss: 0.2891 - accuracy: 0.9161 - val_loss: 29.9261 - val_accuracy: 0.5906\n",
      "Epoch 19/20\n",
      "834/834 [==============================] - 15s 18ms/step - loss: 0.2899 - accuracy: 0.9161 - val_loss: 33.5452 - val_accuracy: 0.6378\n",
      "Epoch 20/20\n",
      "834/834 [==============================] - 15s 19ms/step - loss: 0.2895 - accuracy: 0.9161 - val_loss: 41.3476 - val_accuracy: 0.5827\n"
     ]
    }
   ],
   "source": [
    "\n",
    "\n",
    "# Define the model\n",
    "model = Sequential()\n",
    "\n",
    "model.add(Conv2D(32, (3, 3), activation='relu', input_shape=train_data.shape[1:]))  # Reduced filters\n",
    "model.add(BatchNormalization())\n",
    "model.add(MaxPooling2D((2, 2)))\n",
    "model.add(Dropout(0.3))\n",
    "\n",
    "model.add(Conv2D(64, (3, 3), activation='relu'))  # Reduced filters\n",
    "model.add(BatchNormalization())\n",
    "model.add(MaxPooling2D((2, 2)))\n",
    "model.add(Dropout(0.3))\n",
    "\n",
    "model.add(Conv2D(128, (3, 3), activation='relu'))  # Reduced filters\n",
    "model.add(BatchNormalization())\n",
    "model.add(MaxPooling2D((2, 2)))\n",
    "model.add(Dropout(0.3))\n",
    "\n",
    "# Flatten the output\n",
    "model.add(Flatten())\n",
    "model.add(Dense(128, activation='relu'))\n",
    "model.add(BatchNormalization())\n",
    "model.add(Dropout(0.3))\n",
    "\n",
    "model.add(Dense(2, activation='softmax'))\n",
    "\n",
    "model.compile(optimizer=Adam(learning_rate=0.0001), loss='sparse_categorical_crossentropy', metrics=['accuracy'])\n",
    "\n",
    "model.summary()\n",
    "\n",
    "checkpoint = ModelCheckpoint('best_model.h5', monitor='val_accuracy', save_best_only=True, mode='max', save_weights_only=True)\n",
    "\n",
    "# Reduce the batch size to avoid ResourceExhaustedError\n",
    "history = model.fit(train_data, train_labels, batch_size=1, epochs=20, validation_data=(val_data, val_labels), callbacks=[checkpoint])\n"
   ]
  },
  {
   "cell_type": "markdown",
   "metadata": {},
   "source": [
    "Now we will load the best weights that the model get (We used a checkpoint to get which epoch was)"
   ]
  },
  {
   "cell_type": "code",
   "execution_count": 7,
   "metadata": {},
   "outputs": [],
   "source": [
    "# Load the best model\n",
    "model.load_weights('best_model.h5')"
   ]
  },
  {
   "cell_type": "markdown",
   "metadata": {},
   "source": [
    "Let's test the accuracy on the test data"
   ]
  },
  {
   "cell_type": "code",
   "execution_count": 9,
   "metadata": {},
   "outputs": [
    {
     "name": "stdout",
     "output_type": "stream",
     "text": [
      "127/127 [==============================] - 1s 6ms/step - loss: 34.1317 - accuracy: 0.7087\n",
      "Test Accuracy: 70.87%\n"
     ]
    }
   ],
   "source": [
    "# Evaluate the model with the test data and labels\n",
    "test_loss, test_accuracy = model.evaluate(test_data, test_labels, batch_size=1)\n",
    "print(f'Test Accuracy: {test_accuracy * 100:.2f}%')"
   ]
  },
  {
   "cell_type": "markdown",
   "metadata": {},
   "source": [
    "Ok, 70%, feels good, let's predict the test_data, we will use the class_labels to get the most likely neuron.\n",
    "If np.argmax of the prediction is 0 then shouldn't be a duck, if is 1 then should be a duck"
   ]
  },
  {
   "cell_type": "code",
   "execution_count": 19,
   "metadata": {},
   "outputs": [
    {
     "name": "stdout",
     "output_type": "stream",
     "text": [
      "127/127 [==============================] - 1s 5ms/step\n",
      "Prediction Accuracy: 70.87%\n"
     ]
    }
   ],
   "source": [
    "# Predict all test data with the model using a batch size of 1\n",
    "predictions = model.predict(test_data, batch_size=1)\n",
    "class_labels = np.argmax(predictions, axis=1)\n",
    "\n",
    "accuracy = np.mean((class_labels).astype(int) == test_labels)\n",
    "print(f'Prediction Accuracy: {accuracy * 100:.2f}%')"
   ]
  },
  {
   "cell_type": "markdown",
   "metadata": {},
   "source": [
    "Let's plot a confusion matrix with seaborn between the test_labels and the class_labels"
   ]
  },
  {
   "cell_type": "code",
   "execution_count": 24,
   "metadata": {},
   "outputs": [
    {
     "data": {
      "image/png": "[encoded data removed]",
      "text/plain": [
       "<Figure size 1000x700 with 2 Axes>"
      ]
     },
     "metadata": {},
     "output_type": "display_data"
    }
   ],
   "source": [
    "# Compute the confusion matrix\n",
    "cm = confusion_matrix(test_labels, class_labels)\n",
    "\n",
    "# Plot the confusion matrix\n",
    "plt.figure(figsize=(10, 7))\n",
    "sns.heatmap(cm, annot=True, fmt='d', cmap='Blues', xticklabels=['Not Duck', 'Duck'], yticklabels=['Not Duck', 'Duck'])\n",
    "plt.xlabel('Predicted Labels')\n",
    "plt.ylabel('True Labels')\n",
    "plt.title('Confusion Matrix')\n",
    "plt.show()"
   ]
  },
  {
   "cell_type": "markdown",
   "metadata": {},
   "source": [
    "Ok, in our confusion matrix we can see that there are 24 images that are not of ducks and are detected as ducks and there are 13 images that are ducks and are not detected as ducks "
   ]
  },
  {
   "cell_type": "markdown",
   "metadata": {},
   "source": [
    "Let's see this with numbers"
   ]
  },
  {
   "cell_type": "code",
   "execution_count": 25,
   "metadata": {},
   "outputs": [
    {
     "name": "stdout",
     "output_type": "stream",
     "text": [
      "Predicted duck correctly: 7\n",
      "Predicted duck incorrectly: 13\n",
      "Predicted not duck correctly: 83\n",
      "Predicted not duck incorrectly: 24\n"
     ]
    }
   ],
   "source": [
    "predicted_ducks = 0\n",
    "failed_predicted_ducks = 0\n",
    "predicted_not_ducks = 0\n",
    "failed_predicted_not_ducks = 0\n",
    "\n",
    "for i in range(0,test_labels.shape[0]):\n",
    "    if (test_labels[i] == 1 and class_labels[i]==1):\n",
    "        predicted_ducks+=1\n",
    "    elif (test_labels[i] == 1 and class_labels[i]==0):\n",
    "        failed_predicted_ducks+=1\n",
    "    elif (test_labels[i] == 0 and class_labels[i]==0):\n",
    "        predicted_not_ducks+=1\n",
    "    else:\n",
    "        failed_predicted_not_ducks+=1\n",
    "\n",
    "print(\"Predicted duck correctly: \" + str(predicted_ducks))\n",
    "print(\"Predicted duck incorrectly: \" + str(failed_predicted_ducks))\n",
    "print(\"Predicted not duck correctly: \" + str(predicted_not_ducks))\n",
    "print(\"Predicted not duck incorrectly: \" + str(failed_predicted_not_ducks))"
   ]
  },
  {
   "cell_type": "markdown",
   "metadata": {},
   "source": []
  }
 ],
 "metadata": {
  "kernelspec": {
   "display_name": "Python 3",
   "language": "python",
   "name": "python3"
  },
  "language_info": {
   "codemirror_mode": {
    "name": "ipython",
    "version": 3
   },
   "file_extension": ".py",
   "mimetype": "text/x-python",
   "name": "python",
   "nbconvert_exporter": "python",
   "pygments_lexer": "ipython3",
   "version": "3.10.11"
  }
 },
 "nbformat": 4,
 "nbformat_minor": 2
}
