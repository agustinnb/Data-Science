{
 "cells": [
  {
   "cell_type": "markdown",
   "metadata": {},
   "source": [
    "# Indian Airlines EDA and Prediction"
   ]
  },
  {
   "cell_type": "markdown",
   "metadata": {},
   "source": [
    "## Import Dataset"
   ]
  },
  {
   "cell_type": "code",
   "execution_count": 1,
   "metadata": {},
   "outputs": [
    {
     "name": "stderr",
     "output_type": "stream",
     "text": [
      "/usr/local/lib/python3.10/dist-packages/tqdm/auto.py:21: TqdmWarning: IProgress not found. Please update jupyter and ipywidgets. See https://ipywidgets.readthedocs.io/en/stable/user_install.html\n",
      "  from .autonotebook import tqdm as notebook_tqdm\n"
     ]
    }
   ],
   "source": [
    "import kagglehub\n",
    "\n",
    "# Download latest version\n",
    "path = kagglehub.dataset_download(\"jagathratchakan/indian-airlines-customer-reviews\")"
   ]
  },
  {
   "cell_type": "markdown",
   "metadata": {},
   "source": [
    "## Import libraries"
   ]
  },
  {
   "cell_type": "code",
   "execution_count": 2,
   "metadata": {},
   "outputs": [],
   "source": [
    "import warnings\n",
    "warnings.filterwarnings('ignore')\n",
    "import os\n",
    "os.environ['TF_CPP_MIN_LOG_LEVEL'] = '3' \n",
    "import pandas as pd\n",
    "import numpy as np\n",
    "import matplotlib.pyplot as plt\n",
    "import seaborn as sns\n",
    "import tensorflow as tf\n",
    "from tensorflow.keras.preprocessing.text import Tokenizer\n",
    "from tensorflow.keras.preprocessing.sequence import pad_sequences\n",
    "from sklearn.model_selection import train_test_split\n",
    "from tensorflow.keras.models import Model\n",
    "from tensorflow.keras.layers import Embedding, LSTM, Dense, Input, Dense, Embedding, SpatialDropout1D\n",
    "from tensorflow.keras.optimizers import Adam\n",
    "from sklearn.preprocessing import LabelEncoder\n",
    "from tensorflow.keras.utils import to_categorical\n",
    "from keras.callbacks import ModelCheckpoint\n",
    "\n"
   ]
  },
  {
   "cell_type": "markdown",
   "metadata": {},
   "source": [
    "## Import Dataset"
   ]
  },
  {
   "cell_type": "code",
   "execution_count": 3,
   "metadata": {},
   "outputs": [
    {
     "name": "stdout",
     "output_type": "stream",
     "text": [
      "['Indian_Domestic_Airline.csv']\n"
     ]
    }
   ],
   "source": [
    "# List files in the directory specified by the path variable\n",
    "files = os.listdir(path)\n",
    "print(files)"
   ]
  },
  {
   "cell_type": "code",
   "execution_count": 4,
   "metadata": {},
   "outputs": [],
   "source": [
    "airlines_df = pd.read_csv(path + '/' + files[0])"
   ]
  },
  {
   "cell_type": "code",
   "execution_count": 5,
   "metadata": {},
   "outputs": [
    {
     "data": {
      "text/html": [
       "<div>\n",
       "<style scoped>\n",
       "    .dataframe tbody tr th:only-of-type {\n",
       "        vertical-align: middle;\n",
       "    }\n",
       "\n",
       "    .dataframe tbody tr th {\n",
       "        vertical-align: top;\n",
       "    }\n",
       "\n",
       "    .dataframe thead th {\n",
       "        text-align: right;\n",
       "    }\n",
       "</style>\n",
       "<table border=\"1\" class=\"dataframe\">\n",
       "  <thead>\n",
       "    <tr style=\"text-align: right;\">\n",
       "      <th></th>\n",
       "      <th>AirLine_Name</th>\n",
       "      <th>Rating - 10</th>\n",
       "      <th>Title</th>\n",
       "      <th>Name</th>\n",
       "      <th>Date</th>\n",
       "      <th>Review</th>\n",
       "      <th>Recommond</th>\n",
       "    </tr>\n",
       "  </thead>\n",
       "  <tbody>\n",
       "    <tr>\n",
       "      <th>0</th>\n",
       "      <td>AirAsia India</td>\n",
       "      <td>6.0</td>\n",
       "      <td>\"crew were welcoming\"</td>\n",
       "      <td>V Bakshi</td>\n",
       "      <td>14th October 2023</td>\n",
       "      <td>✅ Trip Verified | I had booked this fare at a ...</td>\n",
       "      <td>yes</td>\n",
       "    </tr>\n",
       "    <tr>\n",
       "      <th>1</th>\n",
       "      <td>AirAsia India</td>\n",
       "      <td>1.0</td>\n",
       "      <td>\"furious and disappointed\"</td>\n",
       "      <td>G Oscar</td>\n",
       "      <td>14th October 2023</td>\n",
       "      <td>✅ Trip Verified | I travel at least four times...</td>\n",
       "      <td>no</td>\n",
       "    </tr>\n",
       "    <tr>\n",
       "      <th>2</th>\n",
       "      <td>AirAsia India</td>\n",
       "      <td>10.0</td>\n",
       "      <td>\"amazing service and support\"</td>\n",
       "      <td>Rahul Verma</td>\n",
       "      <td>14th October 2023</td>\n",
       "      <td>✅ Trip Verified | Taking this opportunity to a...</td>\n",
       "      <td>yes</td>\n",
       "    </tr>\n",
       "    <tr>\n",
       "      <th>3</th>\n",
       "      <td>AirAsia India</td>\n",
       "      <td>1.0</td>\n",
       "      <td>\"Waste of time and money\"</td>\n",
       "      <td>G Akron</td>\n",
       "      <td>14th October 2023</td>\n",
       "      <td>✅ Trip Verified | The worst airlines in the hi...</td>\n",
       "      <td>no</td>\n",
       "    </tr>\n",
       "    <tr>\n",
       "      <th>4</th>\n",
       "      <td>AirAsia India</td>\n",
       "      <td>8.0</td>\n",
       "      <td>\"thumbs up to boarding crew\"</td>\n",
       "      <td>Sirajudeen Jawahar ali</td>\n",
       "      <td>14th October 2023</td>\n",
       "      <td>✅ Trip Verified |  Would like to give big thum...</td>\n",
       "      <td>yes</td>\n",
       "    </tr>\n",
       "    <tr>\n",
       "      <th>5</th>\n",
       "      <td>AirAsia India</td>\n",
       "      <td>9.0</td>\n",
       "      <td>\"Services were good\"</td>\n",
       "      <td>Arpita Chatterjee</td>\n",
       "      <td>14th October 2023</td>\n",
       "      <td>Not Verified |  My mother travelled alone in A...</td>\n",
       "      <td>yes</td>\n",
       "    </tr>\n",
       "    <tr>\n",
       "      <th>6</th>\n",
       "      <td>AirAsia India</td>\n",
       "      <td>10.0</td>\n",
       "      <td>\"thank entire staff of Air Asia\"</td>\n",
       "      <td>Sharayu Parab</td>\n",
       "      <td>14th October 2023</td>\n",
       "      <td>✅ Trip Verified |  I will like to thank entire...</td>\n",
       "      <td>yes</td>\n",
       "    </tr>\n",
       "    <tr>\n",
       "      <th>7</th>\n",
       "      <td>AirAsia India</td>\n",
       "      <td>10.0</td>\n",
       "      <td>\"impressed with her fluency\"</td>\n",
       "      <td>N Padesh</td>\n",
       "      <td>14th October 2023</td>\n",
       "      <td>✅ Trip Verified |  Special appreciation to the...</td>\n",
       "      <td>yes</td>\n",
       "    </tr>\n",
       "    <tr>\n",
       "      <th>8</th>\n",
       "      <td>AirAsia India</td>\n",
       "      <td>1.0</td>\n",
       "      <td>\"completely unacceptable behaviour\"</td>\n",
       "      <td>V Krishnan</td>\n",
       "      <td>14th October 2023</td>\n",
       "      <td>✅ Trip Verified |  I was supposed to be travel...</td>\n",
       "      <td>no</td>\n",
       "    </tr>\n",
       "    <tr>\n",
       "      <th>9</th>\n",
       "      <td>AirAsia India</td>\n",
       "      <td>8.0</td>\n",
       "      <td>\"hospitality and customer delight\"</td>\n",
       "      <td>Kartika Rai</td>\n",
       "      <td>14th October 2023</td>\n",
       "      <td>✅ Trip Verified | Airline staff helped me with...</td>\n",
       "      <td>yes</td>\n",
       "    </tr>\n",
       "  </tbody>\n",
       "</table>\n",
       "</div>"
      ],
      "text/plain": [
       "    AirLine_Name  Rating - 10                                Title  \\\n",
       "0  AirAsia India          6.0                \"crew were welcoming\"   \n",
       "1  AirAsia India          1.0           \"furious and disappointed\"   \n",
       "2  AirAsia India         10.0        \"amazing service and support\"   \n",
       "3  AirAsia India          1.0            \"Waste of time and money\"   \n",
       "4  AirAsia India          8.0         \"thumbs up to boarding crew\"   \n",
       "5  AirAsia India          9.0                 \"Services were good\"   \n",
       "6  AirAsia India         10.0     \"thank entire staff of Air Asia\"   \n",
       "7  AirAsia India         10.0         \"impressed with her fluency\"   \n",
       "8  AirAsia India          1.0  \"completely unacceptable behaviour\"   \n",
       "9  AirAsia India          8.0   \"hospitality and customer delight\"   \n",
       "\n",
       "                     Name               Date  \\\n",
       "0                V Bakshi  14th October 2023   \n",
       "1                 G Oscar  14th October 2023   \n",
       "2             Rahul Verma  14th October 2023   \n",
       "3                 G Akron  14th October 2023   \n",
       "4  Sirajudeen Jawahar ali  14th October 2023   \n",
       "5       Arpita Chatterjee  14th October 2023   \n",
       "6           Sharayu Parab  14th October 2023   \n",
       "7                N Padesh  14th October 2023   \n",
       "8              V Krishnan  14th October 2023   \n",
       "9             Kartika Rai  14th October 2023   \n",
       "\n",
       "                                              Review Recommond  \n",
       "0  ✅ Trip Verified | I had booked this fare at a ...       yes  \n",
       "1  ✅ Trip Verified | I travel at least four times...        no  \n",
       "2  ✅ Trip Verified | Taking this opportunity to a...       yes  \n",
       "3  ✅ Trip Verified | The worst airlines in the hi...        no  \n",
       "4  ✅ Trip Verified |  Would like to give big thum...       yes  \n",
       "5  Not Verified |  My mother travelled alone in A...       yes  \n",
       "6  ✅ Trip Verified |  I will like to thank entire...       yes  \n",
       "7  ✅ Trip Verified |  Special appreciation to the...       yes  \n",
       "8  ✅ Trip Verified |  I was supposed to be travel...        no  \n",
       "9  ✅ Trip Verified | Airline staff helped me with...       yes  "
      ]
     },
     "execution_count": 5,
     "metadata": {},
     "output_type": "execute_result"
    }
   ],
   "source": [
    "airlines_df.head(10)"
   ]
  },
  {
   "cell_type": "markdown",
   "metadata": {},
   "source": [
    "# EDA"
   ]
  },
  {
   "cell_type": "markdown",
   "metadata": {},
   "source": [
    "#### Exploration\n",
    "Let's see how many reviews are for each airline"
   ]
  },
  {
   "cell_type": "code",
   "execution_count": 6,
   "metadata": {},
   "outputs": [
    {
     "name": "stdout",
     "output_type": "stream",
     "text": [
      "AirLine_Name\n",
      "AirIndia             550\n",
      "SpiceJet             500\n",
      "IndiGo               490\n",
      "Vistara              260\n",
      "Go First             180\n",
      "AirAsia India        120\n",
      "Air India Express    110\n",
      "Name: count, dtype: int64\n"
     ]
    }
   ],
   "source": [
    "airline_counts = airlines_df['AirLine_Name'].value_counts().sort_values(ascending=False)\n",
    "print(airline_counts)"
   ]
  },
  {
   "cell_type": "markdown",
   "metadata": {},
   "source": [
    "## Date transformation\n",
    "Now let's transform the Date column to a DateTime one"
   ]
  },
  {
   "cell_type": "code",
   "execution_count": 7,
   "metadata": {},
   "outputs": [
    {
     "data": {
      "text/html": [
       "<div>\n",
       "<style scoped>\n",
       "    .dataframe tbody tr th:only-of-type {\n",
       "        vertical-align: middle;\n",
       "    }\n",
       "\n",
       "    .dataframe tbody tr th {\n",
       "        vertical-align: top;\n",
       "    }\n",
       "\n",
       "    .dataframe thead th {\n",
       "        text-align: right;\n",
       "    }\n",
       "</style>\n",
       "<table border=\"1\" class=\"dataframe\">\n",
       "  <thead>\n",
       "    <tr style=\"text-align: right;\">\n",
       "      <th></th>\n",
       "      <th>AirLine_Name</th>\n",
       "      <th>Rating - 10</th>\n",
       "      <th>Title</th>\n",
       "      <th>Name</th>\n",
       "      <th>Date</th>\n",
       "      <th>Review</th>\n",
       "      <th>Recommond</th>\n",
       "    </tr>\n",
       "  </thead>\n",
       "  <tbody>\n",
       "    <tr>\n",
       "      <th>0</th>\n",
       "      <td>AirAsia India</td>\n",
       "      <td>6.0</td>\n",
       "      <td>\"crew were welcoming\"</td>\n",
       "      <td>V Bakshi</td>\n",
       "      <td>2023-10-14</td>\n",
       "      <td>✅ Trip Verified | I had booked this fare at a ...</td>\n",
       "      <td>yes</td>\n",
       "    </tr>\n",
       "    <tr>\n",
       "      <th>1</th>\n",
       "      <td>AirAsia India</td>\n",
       "      <td>1.0</td>\n",
       "      <td>\"furious and disappointed\"</td>\n",
       "      <td>G Oscar</td>\n",
       "      <td>2023-10-14</td>\n",
       "      <td>✅ Trip Verified | I travel at least four times...</td>\n",
       "      <td>no</td>\n",
       "    </tr>\n",
       "    <tr>\n",
       "      <th>2</th>\n",
       "      <td>AirAsia India</td>\n",
       "      <td>10.0</td>\n",
       "      <td>\"amazing service and support\"</td>\n",
       "      <td>Rahul Verma</td>\n",
       "      <td>2023-10-14</td>\n",
       "      <td>✅ Trip Verified | Taking this opportunity to a...</td>\n",
       "      <td>yes</td>\n",
       "    </tr>\n",
       "    <tr>\n",
       "      <th>3</th>\n",
       "      <td>AirAsia India</td>\n",
       "      <td>1.0</td>\n",
       "      <td>\"Waste of time and money\"</td>\n",
       "      <td>G Akron</td>\n",
       "      <td>2023-10-14</td>\n",
       "      <td>✅ Trip Verified | The worst airlines in the hi...</td>\n",
       "      <td>no</td>\n",
       "    </tr>\n",
       "    <tr>\n",
       "      <th>4</th>\n",
       "      <td>AirAsia India</td>\n",
       "      <td>8.0</td>\n",
       "      <td>\"thumbs up to boarding crew\"</td>\n",
       "      <td>Sirajudeen Jawahar ali</td>\n",
       "      <td>2023-10-14</td>\n",
       "      <td>✅ Trip Verified |  Would like to give big thum...</td>\n",
       "      <td>yes</td>\n",
       "    </tr>\n",
       "  </tbody>\n",
       "</table>\n",
       "</div>"
      ],
      "text/plain": [
       "    AirLine_Name  Rating - 10                          Title  \\\n",
       "0  AirAsia India          6.0          \"crew were welcoming\"   \n",
       "1  AirAsia India          1.0     \"furious and disappointed\"   \n",
       "2  AirAsia India         10.0  \"amazing service and support\"   \n",
       "3  AirAsia India          1.0      \"Waste of time and money\"   \n",
       "4  AirAsia India          8.0   \"thumbs up to boarding crew\"   \n",
       "\n",
       "                     Name       Date  \\\n",
       "0                V Bakshi 2023-10-14   \n",
       "1                 G Oscar 2023-10-14   \n",
       "2             Rahul Verma 2023-10-14   \n",
       "3                 G Akron 2023-10-14   \n",
       "4  Sirajudeen Jawahar ali 2023-10-14   \n",
       "\n",
       "                                              Review Recommond  \n",
       "0  ✅ Trip Verified | I had booked this fare at a ...       yes  \n",
       "1  ✅ Trip Verified | I travel at least four times...        no  \n",
       "2  ✅ Trip Verified | Taking this opportunity to a...       yes  \n",
       "3  ✅ Trip Verified | The worst airlines in the hi...        no  \n",
       "4  ✅ Trip Verified |  Would like to give big thum...       yes  "
      ]
     },
     "execution_count": 7,
     "metadata": {},
     "output_type": "execute_result"
    }
   ],
   "source": [
    "import re\n",
    "def clean_date(date_str):\n",
    "    return re.sub(r'(\\d+)(st|nd|rd|th)', r'\\1', date_str)\n",
    "\n",
    "airlines_df['Date'] = airlines_df['Date'].apply(clean_date)\n",
    "airlines_df['Date'] = pd.to_datetime(airlines_df['Date'], format='%d %B %Y')\n",
    "airlines_df.head()"
   ]
  },
  {
   "cell_type": "markdown",
   "metadata": {},
   "source": [
    "#### Top four airlines mean rating\n",
    "Let's plot the Airlines mean rating, we will group the airlines that has less reviews"
   ]
  },
  {
   "cell_type": "code",
   "execution_count": 8,
   "metadata": {},
   "outputs": [
    {
     "data": {
      "image/png": "[encoded data removed]",
      "text/plain": [
       "<Figure size 640x480 with 1 Axes>"
      ]
     },
     "metadata": {},
     "output_type": "display_data"
    }
   ],
   "source": [
    "\n",
    "# Get the 4 most popular airlines\n",
    "top_4_airlines = airline_counts.index[:4]\n",
    "\n",
    "# Create a new column to categorize airlines\n",
    "airlines_df['Airline_Category'] = airlines_df['AirLine_Name'].apply(lambda x: x if x in top_4_airlines else 'Others')\n",
    "\n",
    "# Calculate mean rating for each category\n",
    "mean_ratings = airlines_df.groupby('Airline_Category')['Rating - 10'].mean()\n",
    "\n",
    "# Plot the mean ratings\n",
    "mean_ratings.plot(kind='bar', color='skyblue')\n",
    "plt.title('Mean Rating of Top 4 Airlines and Others')\n",
    "plt.xlabel('Airline')\n",
    "plt.ylabel('Mean Rating')\n",
    "plt.show()"
   ]
  },
  {
   "cell_type": "markdown",
   "metadata": {},
   "source": [
    "This graph show that Vistara has the best reviews and might be the best airline."
   ]
  },
  {
   "cell_type": "markdown",
   "metadata": {},
   "source": [
    "### Reviews over time\n",
    "Now that we have the time correctly manipulated, we can check how the reviews change through time..."
   ]
  },
  {
   "cell_type": "code",
   "execution_count": 9,
   "metadata": {},
   "outputs": [
    {
     "data": {
      "image/png": "[encoded data removed]",
      "text/plain": [
       "<Figure size 1600x700 with 1 Axes>"
      ]
     },
     "metadata": {},
     "output_type": "display_data"
    }
   ],
   "source": [
    "\n",
    "\n",
    "# Extract month from the Date column\n",
    "airlines_df['Month'] = airlines_df['Date'].dt.to_period('M')\n",
    "\n",
    "# Calculate mean rating for each category and month\n",
    "mean_ratings_by_month = airlines_df.groupby(['Airline_Category', 'Month'])['Rating - 10'].mean().unstack()\n",
    "\n",
    "# Reset the index to use it in seaborn\n",
    "mean_ratings_by_month_reset = mean_ratings_by_month.reset_index()\n",
    "\n",
    "# Melt the dataframe for seaborn\n",
    "mean_ratings_melted = mean_ratings_by_month_reset.melt(id_vars='Airline_Category', var_name='Month', value_name='Mean Rating')\n",
    "\n",
    "# Convert Month to a more readable format\n",
    "mean_ratings_melted['Month'] = mean_ratings_melted['Month'].astype(str)\n",
    "\n",
    "# Plot using seaborn with improved hue formatting\n",
    "plt.figure(figsize=(16, 7))\n",
    "sns.barplot(data=mean_ratings_melted, x='Airline_Category', y='Mean Rating', hue='Month', palette='viridis')\n",
    "plt.title('Mean Rating of Top 4 Airlines and Others by Month')\n",
    "plt.xlabel('Airline')\n",
    "plt.ylabel('Mean Rating')\n",
    "plt.legend(title='Month', bbox_to_anchor=(1.05, 1), loc='upper left', ncol=4)\n",
    "plt.show()"
   ]
  },
  {
   "cell_type": "markdown",
   "metadata": {},
   "source": [
    "As we can see, most airlines seem to have less nice reviews in the last two years... This might mean that the services may have lower their quality."
   ]
  },
  {
   "cell_type": "markdown",
   "metadata": {},
   "source": [
    "## Text Manipulation"
   ]
  },
  {
   "cell_type": "markdown",
   "metadata": {},
   "source": [
    "First let's combine the title and the review into one variable"
   ]
  },
  {
   "cell_type": "code",
   "execution_count": 10,
   "metadata": {},
   "outputs": [
    {
     "data": {
      "text/html": [
       "<div>\n",
       "<style scoped>\n",
       "    .dataframe tbody tr th:only-of-type {\n",
       "        vertical-align: middle;\n",
       "    }\n",
       "\n",
       "    .dataframe tbody tr th {\n",
       "        vertical-align: top;\n",
       "    }\n",
       "\n",
       "    .dataframe thead th {\n",
       "        text-align: right;\n",
       "    }\n",
       "</style>\n",
       "<table border=\"1\" class=\"dataframe\">\n",
       "  <thead>\n",
       "    <tr style=\"text-align: right;\">\n",
       "      <th></th>\n",
       "      <th>AirLine_Name</th>\n",
       "      <th>Rating - 10</th>\n",
       "      <th>Title</th>\n",
       "      <th>Name</th>\n",
       "      <th>Date</th>\n",
       "      <th>Review</th>\n",
       "      <th>Recommond</th>\n",
       "      <th>Airline_Category</th>\n",
       "      <th>Month</th>\n",
       "      <th>complete_text</th>\n",
       "    </tr>\n",
       "  </thead>\n",
       "  <tbody>\n",
       "    <tr>\n",
       "      <th>0</th>\n",
       "      <td>AirAsia India</td>\n",
       "      <td>6.0</td>\n",
       "      <td>\"crew were welcoming\"</td>\n",
       "      <td>V Bakshi</td>\n",
       "      <td>2023-10-14</td>\n",
       "      <td>✅ Trip Verified | I had booked this fare at a ...</td>\n",
       "      <td>yes</td>\n",
       "      <td>Others</td>\n",
       "      <td>2023-10</td>\n",
       "      <td>crew were welcoming ✅ trip verified | i had bo...</td>\n",
       "    </tr>\n",
       "    <tr>\n",
       "      <th>1</th>\n",
       "      <td>AirAsia India</td>\n",
       "      <td>1.0</td>\n",
       "      <td>\"furious and disappointed\"</td>\n",
       "      <td>G Oscar</td>\n",
       "      <td>2023-10-14</td>\n",
       "      <td>✅ Trip Verified | I travel at least four times...</td>\n",
       "      <td>no</td>\n",
       "      <td>Others</td>\n",
       "      <td>2023-10</td>\n",
       "      <td>furious and disappointed ✅ trip verified | i t...</td>\n",
       "    </tr>\n",
       "    <tr>\n",
       "      <th>2</th>\n",
       "      <td>AirAsia India</td>\n",
       "      <td>10.0</td>\n",
       "      <td>\"amazing service and support\"</td>\n",
       "      <td>Rahul Verma</td>\n",
       "      <td>2023-10-14</td>\n",
       "      <td>✅ Trip Verified | Taking this opportunity to a...</td>\n",
       "      <td>yes</td>\n",
       "      <td>Others</td>\n",
       "      <td>2023-10</td>\n",
       "      <td>amazing service and support ✅ trip verified | ...</td>\n",
       "    </tr>\n",
       "    <tr>\n",
       "      <th>3</th>\n",
       "      <td>AirAsia India</td>\n",
       "      <td>1.0</td>\n",
       "      <td>\"Waste of time and money\"</td>\n",
       "      <td>G Akron</td>\n",
       "      <td>2023-10-14</td>\n",
       "      <td>✅ Trip Verified | The worst airlines in the hi...</td>\n",
       "      <td>no</td>\n",
       "      <td>Others</td>\n",
       "      <td>2023-10</td>\n",
       "      <td>waste of time and money ✅ trip verified | the ...</td>\n",
       "    </tr>\n",
       "    <tr>\n",
       "      <th>4</th>\n",
       "      <td>AirAsia India</td>\n",
       "      <td>8.0</td>\n",
       "      <td>\"thumbs up to boarding crew\"</td>\n",
       "      <td>Sirajudeen Jawahar ali</td>\n",
       "      <td>2023-10-14</td>\n",
       "      <td>✅ Trip Verified |  Would like to give big thum...</td>\n",
       "      <td>yes</td>\n",
       "      <td>Others</td>\n",
       "      <td>2023-10</td>\n",
       "      <td>thumbs up to boarding crew ✅ trip verified |  ...</td>\n",
       "    </tr>\n",
       "  </tbody>\n",
       "</table>\n",
       "</div>"
      ],
      "text/plain": [
       "    AirLine_Name  Rating - 10                          Title  \\\n",
       "0  AirAsia India          6.0          \"crew were welcoming\"   \n",
       "1  AirAsia India          1.0     \"furious and disappointed\"   \n",
       "2  AirAsia India         10.0  \"amazing service and support\"   \n",
       "3  AirAsia India          1.0      \"Waste of time and money\"   \n",
       "4  AirAsia India          8.0   \"thumbs up to boarding crew\"   \n",
       "\n",
       "                     Name       Date  \\\n",
       "0                V Bakshi 2023-10-14   \n",
       "1                 G Oscar 2023-10-14   \n",
       "2             Rahul Verma 2023-10-14   \n",
       "3                 G Akron 2023-10-14   \n",
       "4  Sirajudeen Jawahar ali 2023-10-14   \n",
       "\n",
       "                                              Review Recommond  \\\n",
       "0  ✅ Trip Verified | I had booked this fare at a ...       yes   \n",
       "1  ✅ Trip Verified | I travel at least four times...        no   \n",
       "2  ✅ Trip Verified | Taking this opportunity to a...       yes   \n",
       "3  ✅ Trip Verified | The worst airlines in the hi...        no   \n",
       "4  ✅ Trip Verified |  Would like to give big thum...       yes   \n",
       "\n",
       "  Airline_Category    Month                                      complete_text  \n",
       "0           Others  2023-10  crew were welcoming ✅ trip verified | i had bo...  \n",
       "1           Others  2023-10  furious and disappointed ✅ trip verified | i t...  \n",
       "2           Others  2023-10  amazing service and support ✅ trip verified | ...  \n",
       "3           Others  2023-10  waste of time and money ✅ trip verified | the ...  \n",
       "4           Others  2023-10  thumbs up to boarding crew ✅ trip verified |  ...  "
      ]
     },
     "execution_count": 10,
     "metadata": {},
     "output_type": "execute_result"
    }
   ],
   "source": [
    "airlines_df['complete_text'] = airlines_df['Title'].str.replace('\"', '').str.casefold() + ' ' + airlines_df['Review'].str.casefold()\n",
    "airlines_df.head()"
   ]
  },
  {
   "cell_type": "markdown",
   "metadata": {},
   "source": [
    "Now we want to get rid of the trip verified var as it will make noise in our predictions"
   ]
  },
  {
   "cell_type": "code",
   "execution_count": 11,
   "metadata": {},
   "outputs": [],
   "source": [
    "# Remove trip verified\n",
    "airlines_df['complete_text'] = airlines_df['complete_text'].str.replace(\"✅ trip verified | \", \"\")\n",
    "airlines_df['complete_text'] = airlines_df['complete_text'].str.replace(\"not verified | \", \"\")\n",
    "\n",
    "# Remove special characters\n",
    "airlines_df['complete_text'] = airlines_df['complete_text'].str.replace(r'[^\\w\\s]', '', regex=True)"
   ]
  },
  {
   "cell_type": "code",
   "execution_count": 12,
   "metadata": {},
   "outputs": [
    {
     "data": {
      "text/plain": [
       "0    crew were welcoming i had booked this fare at ...\n",
       "1    furious and disappointed i travel at least fou...\n",
       "2    amazing service and support taking this opport...\n",
       "3    waste of time and money the worst airlines in ...\n",
       "4    thumbs up to boarding crew  would like to give...\n",
       "Name: complete_text, dtype: object"
      ]
     },
     "execution_count": 12,
     "metadata": {},
     "output_type": "execute_result"
    }
   ],
   "source": [
    "airlines_df['complete_text'].head()"
   ]
  },
  {
   "cell_type": "markdown",
   "metadata": {},
   "source": [
    "## Preparation for Model Input"
   ]
  },
  {
   "cell_type": "markdown",
   "metadata": {},
   "source": [
    "First we will encode the Airline's name."
   ]
  },
  {
   "cell_type": "code",
   "execution_count": 13,
   "metadata": {},
   "outputs": [
    {
     "data": {
      "text/html": [
       "<div>\n",
       "<style scoped>\n",
       "    .dataframe tbody tr th:only-of-type {\n",
       "        vertical-align: middle;\n",
       "    }\n",
       "\n",
       "    .dataframe tbody tr th {\n",
       "        vertical-align: top;\n",
       "    }\n",
       "\n",
       "    .dataframe thead th {\n",
       "        text-align: right;\n",
       "    }\n",
       "</style>\n",
       "<table border=\"1\" class=\"dataframe\">\n",
       "  <thead>\n",
       "    <tr style=\"text-align: right;\">\n",
       "      <th></th>\n",
       "      <th>AirLine_Name</th>\n",
       "      <th>Rating - 10</th>\n",
       "      <th>Title</th>\n",
       "      <th>Name</th>\n",
       "      <th>Date</th>\n",
       "      <th>Review</th>\n",
       "      <th>Recommond</th>\n",
       "      <th>Airline_Category</th>\n",
       "      <th>Month</th>\n",
       "      <th>complete_text</th>\n",
       "      <th>AirLine_Name_Encoded</th>\n",
       "    </tr>\n",
       "  </thead>\n",
       "  <tbody>\n",
       "    <tr>\n",
       "      <th>0</th>\n",
       "      <td>AirAsia India</td>\n",
       "      <td>6.0</td>\n",
       "      <td>\"crew were welcoming\"</td>\n",
       "      <td>V Bakshi</td>\n",
       "      <td>2023-10-14</td>\n",
       "      <td>✅ Trip Verified | I had booked this fare at a ...</td>\n",
       "      <td>yes</td>\n",
       "      <td>Others</td>\n",
       "      <td>2023-10</td>\n",
       "      <td>crew were welcoming i had booked this fare at ...</td>\n",
       "      <td>1</td>\n",
       "    </tr>\n",
       "    <tr>\n",
       "      <th>1</th>\n",
       "      <td>AirAsia India</td>\n",
       "      <td>1.0</td>\n",
       "      <td>\"furious and disappointed\"</td>\n",
       "      <td>G Oscar</td>\n",
       "      <td>2023-10-14</td>\n",
       "      <td>✅ Trip Verified | I travel at least four times...</td>\n",
       "      <td>no</td>\n",
       "      <td>Others</td>\n",
       "      <td>2023-10</td>\n",
       "      <td>furious and disappointed i travel at least fou...</td>\n",
       "      <td>1</td>\n",
       "    </tr>\n",
       "    <tr>\n",
       "      <th>2</th>\n",
       "      <td>AirAsia India</td>\n",
       "      <td>10.0</td>\n",
       "      <td>\"amazing service and support\"</td>\n",
       "      <td>Rahul Verma</td>\n",
       "      <td>2023-10-14</td>\n",
       "      <td>✅ Trip Verified | Taking this opportunity to a...</td>\n",
       "      <td>yes</td>\n",
       "      <td>Others</td>\n",
       "      <td>2023-10</td>\n",
       "      <td>amazing service and support taking this opport...</td>\n",
       "      <td>1</td>\n",
       "    </tr>\n",
       "    <tr>\n",
       "      <th>3</th>\n",
       "      <td>AirAsia India</td>\n",
       "      <td>1.0</td>\n",
       "      <td>\"Waste of time and money\"</td>\n",
       "      <td>G Akron</td>\n",
       "      <td>2023-10-14</td>\n",
       "      <td>✅ Trip Verified | The worst airlines in the hi...</td>\n",
       "      <td>no</td>\n",
       "      <td>Others</td>\n",
       "      <td>2023-10</td>\n",
       "      <td>waste of time and money the worst airlines in ...</td>\n",
       "      <td>1</td>\n",
       "    </tr>\n",
       "    <tr>\n",
       "      <th>4</th>\n",
       "      <td>AirAsia India</td>\n",
       "      <td>8.0</td>\n",
       "      <td>\"thumbs up to boarding crew\"</td>\n",
       "      <td>Sirajudeen Jawahar ali</td>\n",
       "      <td>2023-10-14</td>\n",
       "      <td>✅ Trip Verified |  Would like to give big thum...</td>\n",
       "      <td>yes</td>\n",
       "      <td>Others</td>\n",
       "      <td>2023-10</td>\n",
       "      <td>thumbs up to boarding crew  would like to give...</td>\n",
       "      <td>1</td>\n",
       "    </tr>\n",
       "  </tbody>\n",
       "</table>\n",
       "</div>"
      ],
      "text/plain": [
       "    AirLine_Name  Rating - 10                          Title  \\\n",
       "0  AirAsia India          6.0          \"crew were welcoming\"   \n",
       "1  AirAsia India          1.0     \"furious and disappointed\"   \n",
       "2  AirAsia India         10.0  \"amazing service and support\"   \n",
       "3  AirAsia India          1.0      \"Waste of time and money\"   \n",
       "4  AirAsia India          8.0   \"thumbs up to boarding crew\"   \n",
       "\n",
       "                     Name       Date  \\\n",
       "0                V Bakshi 2023-10-14   \n",
       "1                 G Oscar 2023-10-14   \n",
       "2             Rahul Verma 2023-10-14   \n",
       "3                 G Akron 2023-10-14   \n",
       "4  Sirajudeen Jawahar ali 2023-10-14   \n",
       "\n",
       "                                              Review Recommond  \\\n",
       "0  ✅ Trip Verified | I had booked this fare at a ...       yes   \n",
       "1  ✅ Trip Verified | I travel at least four times...        no   \n",
       "2  ✅ Trip Verified | Taking this opportunity to a...       yes   \n",
       "3  ✅ Trip Verified | The worst airlines in the hi...        no   \n",
       "4  ✅ Trip Verified |  Would like to give big thum...       yes   \n",
       "\n",
       "  Airline_Category    Month  \\\n",
       "0           Others  2023-10   \n",
       "1           Others  2023-10   \n",
       "2           Others  2023-10   \n",
       "3           Others  2023-10   \n",
       "4           Others  2023-10   \n",
       "\n",
       "                                       complete_text  AirLine_Name_Encoded  \n",
       "0  crew were welcoming i had booked this fare at ...                     1  \n",
       "1  furious and disappointed i travel at least fou...                     1  \n",
       "2  amazing service and support taking this opport...                     1  \n",
       "3  waste of time and money the worst airlines in ...                     1  \n",
       "4  thumbs up to boarding crew  would like to give...                     1  "
      ]
     },
     "execution_count": 13,
     "metadata": {},
     "output_type": "execute_result"
    }
   ],
   "source": [
    "# Initialize the LabelEncoder\n",
    "label_encoder_names = LabelEncoder()\n",
    "\n",
    "# Fit and transform the AirLine_Name column\n",
    "airlines_df['AirLine_Name_Encoded'] = label_encoder_names.fit_transform(airlines_df['AirLine_Name'])\n",
    "\n",
    "# Display the first few rows to verify the encoding\n",
    "airlines_df.head()"
   ]
  },
  {
   "cell_type": "markdown",
   "metadata": {},
   "source": [
    "Now we will tokenize the complete_text"
   ]
  },
  {
   "cell_type": "code",
   "execution_count": 14,
   "metadata": {},
   "outputs": [
    {
     "name": "stdout",
     "output_type": "stream",
     "text": [
      "689\n"
     ]
    }
   ],
   "source": [
    "# Initialize the tokenizer\n",
    "tokenizer = Tokenizer()\n",
    "\n",
    "# Fit the tokenizer on the complete_text column\n",
    "tokenizer.fit_on_texts(airlines_df['complete_text'])\n",
    "\n",
    "# Tokenize the complete_text column\n",
    "airlines_df['tokenized_text'] = tokenizer.texts_to_sequences(airlines_df['complete_text'])\n",
    "\n",
    "# The text with most words\n",
    "max_words = max(airlines_df['complete_text'].apply(lambda x: len(x.split())))\n",
    "\n",
    "# Pad the tokenized sequences\n",
    "airlines_df['tokenized_text'] = pad_sequences(airlines_df['tokenized_text'], maxlen=max_words, padding='pre').tolist()\n",
    "\n",
    "# Display the first few rows to verify the tokenization\n",
    "airlines_df[['complete_text', 'tokenized_text']].head()\n",
    "\n",
    "print(max_words)"
   ]
  },
  {
   "cell_type": "markdown",
   "metadata": {},
   "source": [
    "We will get the max length of the tokenized_text (Should be the same as max_words) and the max_token_value (This is how many words where encoded)... We will use them then to create the model"
   ]
  },
  {
   "cell_type": "code",
   "execution_count": 15,
   "metadata": {},
   "outputs": [
    {
     "name": "stdout",
     "output_type": "stream",
     "text": [
      "Max length of combined_text: 689\n",
      "Max token value in sequences: 9633\n"
     ]
    }
   ],
   "source": [
    "# Get the maximum length of the sequences\n",
    "max_len_combined_text = max_words\n",
    "print(f'Max length of combined_text: {max_len_combined_text}')\n",
    "\n",
    "max_token_value = max(max(seq) for seq in airlines_df['tokenized_text'] if seq)\n",
    "print(f'Max token value in sequences: {max_token_value}')"
   ]
  },
  {
   "cell_type": "markdown",
   "metadata": {},
   "source": [
    "## Preparation for Model target"
   ]
  },
  {
   "cell_type": "markdown",
   "metadata": {},
   "source": [
    "The model will try to guess if the review was rated as a good one or a bad one, and also try to guess if they recommend the airline or not. (Two outputs)<br>\n",
    "First we will encode the recommendation (Should be either yes or no (0 or 1))"
   ]
  },
  {
   "cell_type": "code",
   "execution_count": 16,
   "metadata": {},
   "outputs": [
    {
     "data": {
      "text/html": [
       "<div>\n",
       "<style scoped>\n",
       "    .dataframe tbody tr th:only-of-type {\n",
       "        vertical-align: middle;\n",
       "    }\n",
       "\n",
       "    .dataframe tbody tr th {\n",
       "        vertical-align: top;\n",
       "    }\n",
       "\n",
       "    .dataframe thead th {\n",
       "        text-align: right;\n",
       "    }\n",
       "</style>\n",
       "<table border=\"1\" class=\"dataframe\">\n",
       "  <thead>\n",
       "    <tr style=\"text-align: right;\">\n",
       "      <th></th>\n",
       "      <th>AirLine_Name</th>\n",
       "      <th>Rating - 10</th>\n",
       "      <th>Title</th>\n",
       "      <th>Name</th>\n",
       "      <th>Date</th>\n",
       "      <th>Review</th>\n",
       "      <th>Recommond</th>\n",
       "      <th>Airline_Category</th>\n",
       "      <th>Month</th>\n",
       "      <th>complete_text</th>\n",
       "      <th>AirLine_Name_Encoded</th>\n",
       "      <th>tokenized_text</th>\n",
       "      <th>Recommond_encoded</th>\n",
       "    </tr>\n",
       "  </thead>\n",
       "  <tbody>\n",
       "    <tr>\n",
       "      <th>0</th>\n",
       "      <td>AirAsia India</td>\n",
       "      <td>6.0</td>\n",
       "      <td>\"crew were welcoming\"</td>\n",
       "      <td>V Bakshi</td>\n",
       "      <td>2023-10-14</td>\n",
       "      <td>✅ Trip Verified | I had booked this fare at a ...</td>\n",
       "      <td>yes</td>\n",
       "      <td>Others</td>\n",
       "      <td>2023-10</td>\n",
       "      <td>crew were welcoming i had booked this fare at ...</td>\n",
       "      <td>1</td>\n",
       "      <td>[0, 0, 0, 0, 0, 0, 0, 0, 0, 0, 0, 0, 0, 0, 0, ...</td>\n",
       "      <td>1</td>\n",
       "    </tr>\n",
       "    <tr>\n",
       "      <th>1</th>\n",
       "      <td>AirAsia India</td>\n",
       "      <td>1.0</td>\n",
       "      <td>\"furious and disappointed\"</td>\n",
       "      <td>G Oscar</td>\n",
       "      <td>2023-10-14</td>\n",
       "      <td>✅ Trip Verified | I travel at least four times...</td>\n",
       "      <td>no</td>\n",
       "      <td>Others</td>\n",
       "      <td>2023-10</td>\n",
       "      <td>furious and disappointed i travel at least fou...</td>\n",
       "      <td>1</td>\n",
       "      <td>[0, 0, 0, 0, 0, 0, 0, 0, 0, 0, 0, 0, 0, 0, 0, ...</td>\n",
       "      <td>0</td>\n",
       "    </tr>\n",
       "    <tr>\n",
       "      <th>2</th>\n",
       "      <td>AirAsia India</td>\n",
       "      <td>10.0</td>\n",
       "      <td>\"amazing service and support\"</td>\n",
       "      <td>Rahul Verma</td>\n",
       "      <td>2023-10-14</td>\n",
       "      <td>✅ Trip Verified | Taking this opportunity to a...</td>\n",
       "      <td>yes</td>\n",
       "      <td>Others</td>\n",
       "      <td>2023-10</td>\n",
       "      <td>amazing service and support taking this opport...</td>\n",
       "      <td>1</td>\n",
       "      <td>[0, 0, 0, 0, 0, 0, 0, 0, 0, 0, 0, 0, 0, 0, 0, ...</td>\n",
       "      <td>1</td>\n",
       "    </tr>\n",
       "    <tr>\n",
       "      <th>3</th>\n",
       "      <td>AirAsia India</td>\n",
       "      <td>1.0</td>\n",
       "      <td>\"Waste of time and money\"</td>\n",
       "      <td>G Akron</td>\n",
       "      <td>2023-10-14</td>\n",
       "      <td>✅ Trip Verified | The worst airlines in the hi...</td>\n",
       "      <td>no</td>\n",
       "      <td>Others</td>\n",
       "      <td>2023-10</td>\n",
       "      <td>waste of time and money the worst airlines in ...</td>\n",
       "      <td>1</td>\n",
       "      <td>[0, 0, 0, 0, 0, 0, 0, 0, 0, 0, 0, 0, 0, 0, 0, ...</td>\n",
       "      <td>0</td>\n",
       "    </tr>\n",
       "    <tr>\n",
       "      <th>4</th>\n",
       "      <td>AirAsia India</td>\n",
       "      <td>8.0</td>\n",
       "      <td>\"thumbs up to boarding crew\"</td>\n",
       "      <td>Sirajudeen Jawahar ali</td>\n",
       "      <td>2023-10-14</td>\n",
       "      <td>✅ Trip Verified |  Would like to give big thum...</td>\n",
       "      <td>yes</td>\n",
       "      <td>Others</td>\n",
       "      <td>2023-10</td>\n",
       "      <td>thumbs up to boarding crew  would like to give...</td>\n",
       "      <td>1</td>\n",
       "      <td>[0, 0, 0, 0, 0, 0, 0, 0, 0, 0, 0, 0, 0, 0, 0, ...</td>\n",
       "      <td>1</td>\n",
       "    </tr>\n",
       "  </tbody>\n",
       "</table>\n",
       "</div>"
      ],
      "text/plain": [
       "    AirLine_Name  Rating - 10                          Title  \\\n",
       "0  AirAsia India          6.0          \"crew were welcoming\"   \n",
       "1  AirAsia India          1.0     \"furious and disappointed\"   \n",
       "2  AirAsia India         10.0  \"amazing service and support\"   \n",
       "3  AirAsia India          1.0      \"Waste of time and money\"   \n",
       "4  AirAsia India          8.0   \"thumbs up to boarding crew\"   \n",
       "\n",
       "                     Name       Date  \\\n",
       "0                V Bakshi 2023-10-14   \n",
       "1                 G Oscar 2023-10-14   \n",
       "2             Rahul Verma 2023-10-14   \n",
       "3                 G Akron 2023-10-14   \n",
       "4  Sirajudeen Jawahar ali 2023-10-14   \n",
       "\n",
       "                                              Review Recommond  \\\n",
       "0  ✅ Trip Verified | I had booked this fare at a ...       yes   \n",
       "1  ✅ Trip Verified | I travel at least four times...        no   \n",
       "2  ✅ Trip Verified | Taking this opportunity to a...       yes   \n",
       "3  ✅ Trip Verified | The worst airlines in the hi...        no   \n",
       "4  ✅ Trip Verified |  Would like to give big thum...       yes   \n",
       "\n",
       "  Airline_Category    Month  \\\n",
       "0           Others  2023-10   \n",
       "1           Others  2023-10   \n",
       "2           Others  2023-10   \n",
       "3           Others  2023-10   \n",
       "4           Others  2023-10   \n",
       "\n",
       "                                       complete_text  AirLine_Name_Encoded  \\\n",
       "0  crew were welcoming i had booked this fare at ...                     1   \n",
       "1  furious and disappointed i travel at least fou...                     1   \n",
       "2  amazing service and support taking this opport...                     1   \n",
       "3  waste of time and money the worst airlines in ...                     1   \n",
       "4  thumbs up to boarding crew  would like to give...                     1   \n",
       "\n",
       "                                      tokenized_text  Recommond_encoded  \n",
       "0  [0, 0, 0, 0, 0, 0, 0, 0, 0, 0, 0, 0, 0, 0, 0, ...                  1  \n",
       "1  [0, 0, 0, 0, 0, 0, 0, 0, 0, 0, 0, 0, 0, 0, 0, ...                  0  \n",
       "2  [0, 0, 0, 0, 0, 0, 0, 0, 0, 0, 0, 0, 0, 0, 0, ...                  1  \n",
       "3  [0, 0, 0, 0, 0, 0, 0, 0, 0, 0, 0, 0, 0, 0, 0, ...                  0  \n",
       "4  [0, 0, 0, 0, 0, 0, 0, 0, 0, 0, 0, 0, 0, 0, 0, ...                  1  "
      ]
     },
     "execution_count": 16,
     "metadata": {},
     "output_type": "execute_result"
    }
   ],
   "source": [
    "# Initialize the LabelEncoder\n",
    "label_encoder_recommend = LabelEncoder()\n",
    "\n",
    "# Fit and transform the AirLine_Name column\n",
    "airlines_df['Recommond_encoded'] = label_encoder_recommend.fit_transform(airlines_df['Recommond'])\n",
    "\n",
    "# Display the first few rows to verify the encoding\n",
    "airlines_df.head()"
   ]
  },
  {
   "cell_type": "markdown",
   "metadata": {},
   "source": [
    "Now we will converted to a categorical output"
   ]
  },
  {
   "cell_type": "code",
   "execution_count": 17,
   "metadata": {},
   "outputs": [
    {
     "data": {
      "text/plain": [
       "array([[0., 1.],\n",
       "       [1., 0.],\n",
       "       [0., 1.]])"
      ]
     },
     "execution_count": 17,
     "metadata": {},
     "output_type": "execute_result"
    }
   ],
   "source": [
    "g_target_1 = to_categorical(airlines_df['Recommond_encoded'])\n",
    "g_target_1[:3]"
   ]
  },
  {
   "cell_type": "markdown",
   "metadata": {},
   "source": [
    "Let's see what we have in 'Rating - 10'"
   ]
  },
  {
   "cell_type": "code",
   "execution_count": 18,
   "metadata": {},
   "outputs": [
    {
     "data": {
      "text/plain": [
       "array([ 6.,  1., 10.,  8.,  9.,  7.,  2.,  5.,  3.,  4., nan])"
      ]
     },
     "execution_count": 18,
     "metadata": {},
     "output_type": "execute_result"
    }
   ],
   "source": [
    "airlines_df['Rating - 10'].unique()"
   ]
  },
  {
   "cell_type": "markdown",
   "metadata": {},
   "source": [
    "As we can see we have nan values, let's change them for 0."
   ]
  },
  {
   "cell_type": "code",
   "execution_count": 19,
   "metadata": {},
   "outputs": [],
   "source": [
    "airlines_df['Rating - 10'] = airlines_df['Rating - 10'].fillna(0)"
   ]
  },
  {
   "cell_type": "markdown",
   "metadata": {},
   "source": [
    "Now we will also change it to a categorical output"
   ]
  },
  {
   "cell_type": "code",
   "execution_count": 20,
   "metadata": {},
   "outputs": [],
   "source": [
    "g_target_2 = to_categorical(airlines_df['Rating - 10'])"
   ]
  },
  {
   "cell_type": "markdown",
   "metadata": {},
   "source": [
    "Let's see the shape of our target..."
   ]
  },
  {
   "cell_type": "code",
   "execution_count": 21,
   "metadata": {},
   "outputs": [
    {
     "name": "stdout",
     "output_type": "stream",
     "text": [
      "g_target_1 shape: (2210, 2)\n",
      "g_target_2 shape: (2210, 11)\n"
     ]
    }
   ],
   "source": [
    "print ('g_target_1 shape:', g_target_1.shape)\n",
    "print ('g_target_2 shape:', g_target_2.shape)"
   ]
  },
  {
   "cell_type": "markdown",
   "metadata": {},
   "source": [
    "As we can see, they have the same shape[0], we then can concatenate them in order to make splitting later."
   ]
  },
  {
   "cell_type": "code",
   "execution_count": 22,
   "metadata": {},
   "outputs": [
    {
     "name": "stdout",
     "output_type": "stream",
     "text": [
      "g_target shape: (2210, 13)\n"
     ]
    }
   ],
   "source": [
    "# NOTE: Remember that g_target_1 is the first 2 columns (0 (no), 1 (yes)) and g_target_2 is the next 11 columns (Between 0 and 10 rating)\n",
    "g_target = np.concatenate([g_target_1, g_target_2], axis=1)\n",
    "print ('g_target shape:', g_target.shape)"
   ]
  },
  {
   "cell_type": "markdown",
   "metadata": {},
   "source": [
    "We will also concat the tokenized text and the encoded airline name"
   ]
  },
  {
   "cell_type": "code",
   "execution_count": 23,
   "metadata": {},
   "outputs": [
    {
     "name": "stdout",
     "output_type": "stream",
     "text": [
      "airline_name shape: (2210,)\n",
      "combined_text shape: (2210,)\n"
     ]
    }
   ],
   "source": [
    "airline_name = airlines_df['AirLine_Name_Encoded'].to_numpy()\n",
    "combined_text = airlines_df['tokenized_text'].to_numpy()\n",
    "\n",
    "print ('airline_name shape:', airline_name.shape)\n",
    "print ('combined_text shape:', combined_text.shape)"
   ]
  },
  {
   "cell_type": "code",
   "execution_count": 24,
   "metadata": {},
   "outputs": [
    {
     "data": {
      "text/plain": [
       "array([1, 1, 1])"
      ]
     },
     "execution_count": 24,
     "metadata": {},
     "output_type": "execute_result"
    }
   ],
   "source": [
    "airline_name[:3]"
   ]
  },
  {
   "cell_type": "code",
   "execution_count": 25,
   "metadata": {},
   "outputs": [
    {
     "data": {
      "text/plain": [
       "array([list([0, 0, 0, 0, 0, 0, 0, 0, 0, 0, 0, 0, 0, 0, 0, 0, 0, 0, 0, 0, 0, 0, 0, 0, 0, 0, 0, 0, 0, 0, 0, 0, 0, 0, 0, 0, 0, 0, 0, 0, 0, 0, 0, 0, 0, 0, 0, 0, 0, 0, 0, 0, 0, 0, 0, 0, 0, 0, 0, 0, 0, 0, 0, 0, 0, 0, 0, 0, 0, 0, 0, 0, 0, 0, 0, 0, 0, 0, 0, 0, 0, 0, 0, 0, 0, 0, 0, 0, 0, 0, 0, 0, 0, 0, 0, 0, 0, 0, 0, 0, 0, 0, 0, 0, 0, 0, 0, 0, 0, 0, 0, 0, 0, 0, 0, 0, 0, 0, 0, 0, 0, 0, 0, 0, 0, 0, 0, 0, 0, 0, 0, 0, 0, 0, 0, 0, 0, 0, 0, 0, 0, 0, 0, 0, 0, 0, 0, 0, 0, 0, 0, 0, 0, 0, 0, 0, 0, 0, 0, 0, 0, 0, 0, 0, 0, 0, 0, 0, 0, 0, 0, 0, 0, 0, 0, 0, 0, 0, 0, 0, 0, 0, 0, 0, 0, 0, 0, 0, 0, 0, 0, 0, 0, 0, 0, 0, 0, 0, 0, 0, 0, 0, 0, 0, 0, 0, 0, 0, 0, 0, 0, 0, 0, 0, 0, 0, 0, 0, 0, 0, 0, 0, 0, 0, 0, 0, 0, 0, 0, 0, 0, 0, 0, 0, 0, 0, 0, 0, 0, 0, 0, 0, 0, 0, 0, 0, 0, 0, 0, 0, 0, 0, 0, 0, 0, 0, 0, 0, 0, 0, 0, 0, 0, 0, 0, 0, 0, 0, 0, 0, 0, 0, 0, 0, 0, 0, 0, 0, 0, 0, 0, 0, 0, 0, 0, 0, 0, 0, 0, 0, 0, 0, 0, 0, 0, 0, 0, 0, 0, 0, 0, 0, 0, 0, 0, 0, 0, 0, 0, 0, 0, 0, 0, 0, 0, 0, 0, 0, 0, 0, 0, 0, 0, 0, 0, 0, 0, 0, 0, 0, 0, 0, 0, 0, 0, 0, 0, 0, 0, 0, 0, 0, 0, 0, 0, 0, 0, 0, 0, 0, 0, 0, 0, 0, 0, 0, 0, 0, 0, 0, 0, 0, 0, 0, 0, 0, 0, 0, 0, 0, 0, 0, 0, 0, 0, 0, 0, 0, 0, 0, 0, 0, 0, 0, 0, 0, 0, 0, 0, 0, 0, 0, 0, 0, 0, 0, 0, 0, 0, 0, 0, 0, 0, 0, 0, 0, 0, 0, 0, 0, 0, 0, 0, 0, 0, 0, 0, 0, 0, 0, 0, 0, 0, 0, 0, 0, 0, 0, 0, 0, 0, 0, 0, 0, 0, 0, 0, 0, 0, 0, 0, 0, 0, 0, 0, 0, 0, 0, 0, 0, 0, 0, 0, 0, 0, 0, 0, 0, 0, 0, 0, 0, 0, 0, 0, 0, 0, 0, 0, 0, 0, 0, 0, 0, 0, 0, 0, 0, 0, 0, 0, 0, 0, 0, 0, 0, 0, 0, 0, 0, 0, 0, 0, 0, 0, 0, 0, 0, 0, 0, 0, 0, 41, 19, 804, 5, 24, 107, 20, 465, 18, 6, 33, 5336, 889, 35, 5, 585, 2, 93, 119, 2, 1241, 1, 74, 8, 30, 4, 54, 5, 24, 302, 330, 3, 48, 4, 214, 25, 10, 74, 8, 2, 1051, 42, 5, 4, 129, 2, 215, 10, 344, 342, 91, 74, 8, 8, 13, 81, 1117, 17, 5, 24, 870, 17, 1, 1871, 4, 72, 138, 2, 45, 1, 161, 4, 78, 926, 72, 39, 653, 342, 1, 41, 19, 804, 3, 20, 7, 4, 16, 441, 252, 182, 64, 5, 24, 870, 17, 6, 297, 9, 171, 24, 293, 14, 3343, 3, 12, 19, 129, 2, 74, 8, 47, 81, 45, 15, 54, 35, 6, 297, 9, 2624, 293, 761, 477, 3343, 17, 87, 5337, 1, 71, 1348, 2367, 1, 7, 270, 2, 225, 25, 1872, 446, 3, 317, 8, 1241, 4, 1118, 519, 14, 81, 1489, 51, 501, 2, 695, 447, 15, 17, 1, 66, 996, 448, 46, 11, 1, 5338, 539, 733, 2, 89, 102, 27, 1082, 20, 4, 6, 54, 226, 241, 1, 41, 78, 2625, 203, 1242, 2, 545, 182, 64]),\n",
       "       list([0, 0, 0, 0, 0, 0, 0, 0, 0, 0, 0, 0, 0, 0, 0, 0, 0, 0, 0, 0, 0, 0, 0, 0, 0, 0, 0, 0, 0, 0, 0, 0, 0, 0, 0, 0, 0, 0, 0, 0, 0, 0, 0, 0, 0, 0, 0, 0, 0, 0, 0, 0, 0, 0, 0, 0, 0, 0, 0, 0, 0, 0, 0, 0, 0, 0, 0, 0, 0, 0, 0, 0, 0, 0, 0, 0, 0, 0, 0, 0, 0, 0, 0, 0, 0, 0, 0, 0, 0, 0, 0, 0, 0, 0, 0, 0, 0, 0, 0, 0, 0, 0, 0, 0, 0, 0, 0, 0, 0, 0, 0, 0, 0, 0, 0, 0, 0, 0, 0, 0, 0, 0, 0, 0, 0, 0, 0, 0, 0, 0, 0, 0, 0, 0, 0, 0, 0, 0, 0, 0, 0, 0, 0, 0, 0, 0, 0, 0, 0, 0, 0, 0, 0, 0, 0, 0, 0, 0, 0, 0, 0, 0, 0, 0, 0, 0, 0, 0, 0, 0, 0, 0, 0, 0, 0, 0, 0, 0, 0, 0, 0, 0, 0, 0, 0, 0, 0, 0, 0, 0, 0, 0, 0, 0, 0, 0, 0, 0, 0, 0, 0, 0, 0, 0, 0, 0, 0, 0, 0, 0, 0, 0, 0, 0, 0, 0, 0, 0, 0, 0, 0, 0, 0, 0, 0, 0, 0, 0, 0, 0, 0, 0, 0, 0, 0, 0, 0, 0, 0, 0, 0, 0, 0, 0, 0, 0, 0, 0, 0, 0, 0, 0, 0, 0, 0, 0, 0, 0, 0, 0, 0, 0, 0, 0, 0, 0, 0, 0, 0, 0, 0, 0, 0, 0, 0, 0, 0, 0, 0, 0, 0, 0, 0, 0, 0, 0, 0, 0, 0, 0, 0, 0, 0, 0, 0, 0, 0, 0, 0, 0, 0, 0, 0, 0, 0, 0, 0, 0, 0, 0, 0, 0, 0, 0, 0, 0, 0, 0, 0, 0, 0, 0, 0, 0, 0, 0, 0, 0, 0, 0, 0, 0, 0, 0, 0, 0, 0, 0, 0, 0, 0, 0, 0, 0, 0, 0, 0, 0, 0, 0, 0, 0, 0, 0, 0, 0, 0, 0, 0, 0, 0, 0, 0, 0, 0, 0, 0, 0, 0, 0, 0, 0, 0, 0, 0, 0, 0, 0, 0, 0, 0, 0, 0, 0, 0, 0, 0, 0, 0, 0, 0, 0, 0, 0, 0, 0, 0, 0, 0, 0, 0, 0, 0, 0, 0, 0, 0, 0, 0, 0, 0, 0, 0, 0, 0, 0, 0, 0, 0, 0, 0, 0, 0, 0, 0, 0, 0, 0, 0, 0, 0, 0, 0, 0, 0, 0, 0, 0, 0, 0, 0, 0, 0, 0, 0, 0, 0, 0, 0, 0, 0, 0, 0, 0, 0, 0, 0, 0, 0, 0, 0, 0, 0, 0, 0, 0, 0, 0, 0, 0, 0, 0, 0, 0, 0, 0, 0, 0, 0, 0, 0, 0, 0, 0, 0, 0, 0, 0, 0, 0, 0, 0, 0, 0, 0, 0, 0, 0, 0, 0, 0, 0, 0, 0, 0, 0, 0, 0, 0, 0, 0, 0, 0, 0, 0, 0, 0, 0, 0, 0, 0, 0, 0, 0, 0, 0, 0, 0, 0, 0, 0, 0, 0, 0, 0, 0, 0, 0, 0, 0, 0, 0, 0, 0, 0, 0, 0, 0, 0, 0, 0, 0, 0, 0, 0, 0, 0, 0, 0, 0, 0, 0, 0, 0, 0, 0, 0, 0, 0, 0, 0, 0, 0, 0, 0, 0, 0, 0, 0, 0, 0, 0, 0, 0, 0, 0, 0, 2927, 3, 320, 5, 93, 18, 285, 770, 157, 6, 643, 3, 38, 746, 771, 5339, 65, 7, 17, 5, 28, 2, 4028, 117, 14, 73, 14, 1, 218, 805, 654, 5, 126, 21, 6, 501, 2, 76, 174, 20, 34, 27, 137, 157, 138, 2, 5340, 5, 24, 2, 2928, 2, 20, 3, 35, 5, 489, 5, 4, 42, 2927, 3, 320, 39, 1, 424, 9, 21, 1, 32, 1490, 909, 18, 44, 3, 5, 106, 560, 1292, 3344, 10, 655, 56, 502, 12, 36, 2170, 176, 3, 5341, 532, 15, 5, 560, 1292, 42, 1349, 14, 241, 12, 36, 172]),\n",
       "       list([0, 0, 0, 0, 0, 0, 0, 0, 0, 0, 0, 0, 0, 0, 0, 0, 0, 0, 0, 0, 0, 0, 0, 0, 0, 0, 0, 0, 0, 0, 0, 0, 0, 0, 0, 0, 0, 0, 0, 0, 0, 0, 0, 0, 0, 0, 0, 0, 0, 0, 0, 0, 0, 0, 0, 0, 0, 0, 0, 0, 0, 0, 0, 0, 0, 0, 0, 0, 0, 0, 0, 0, 0, 0, 0, 0, 0, 0, 0, 0, 0, 0, 0, 0, 0, 0, 0, 0, 0, 0, 0, 0, 0, 0, 0, 0, 0, 0, 0, 0, 0, 0, 0, 0, 0, 0, 0, 0, 0, 0, 0, 0, 0, 0, 0, 0, 0, 0, 0, 0, 0, 0, 0, 0, 0, 0, 0, 0, 0, 0, 0, 0, 0, 0, 0, 0, 0, 0, 0, 0, 0, 0, 0, 0, 0, 0, 0, 0, 0, 0, 0, 0, 0, 0, 0, 0, 0, 0, 0, 0, 0, 0, 0, 0, 0, 0, 0, 0, 0, 0, 0, 0, 0, 0, 0, 0, 0, 0, 0, 0, 0, 0, 0, 0, 0, 0, 0, 0, 0, 0, 0, 0, 0, 0, 0, 0, 0, 0, 0, 0, 0, 0, 0, 0, 0, 0, 0, 0, 0, 0, 0, 0, 0, 0, 0, 0, 0, 0, 0, 0, 0, 0, 0, 0, 0, 0, 0, 0, 0, 0, 0, 0, 0, 0, 0, 0, 0, 0, 0, 0, 0, 0, 0, 0, 0, 0, 0, 0, 0, 0, 0, 0, 0, 0, 0, 0, 0, 0, 0, 0, 0, 0, 0, 0, 0, 0, 0, 0, 0, 0, 0, 0, 0, 0, 0, 0, 0, 0, 0, 0, 0, 0, 0, 0, 0, 0, 0, 0, 0, 0, 0, 0, 0, 0, 0, 0, 0, 0, 0, 0, 0, 0, 0, 0, 0, 0, 0, 0, 0, 0, 0, 0, 0, 0, 0, 0, 0, 0, 0, 0, 0, 0, 0, 0, 0, 0, 0, 0, 0, 0, 0, 0, 0, 0, 0, 0, 0, 0, 0, 0, 0, 0, 0, 0, 0, 0, 0, 0, 0, 0, 0, 0, 0, 0, 0, 0, 0, 0, 0, 0, 0, 0, 0, 0, 0, 0, 0, 0, 0, 0, 0, 0, 0, 0, 0, 0, 0, 0, 0, 0, 0, 0, 0, 0, 0, 0, 0, 0, 0, 0, 0, 0, 0, 0, 0, 0, 0, 0, 0, 0, 0, 0, 0, 0, 0, 0, 0, 0, 0, 0, 0, 0, 0, 0, 0, 0, 0, 0, 0, 0, 0, 0, 0, 0, 0, 0, 0, 0, 0, 0, 0, 0, 0, 0, 0, 0, 0, 0, 0, 0, 0, 0, 0, 0, 0, 0, 0, 0, 0, 0, 0, 0, 0, 0, 0, 0, 0, 0, 0, 0, 0, 0, 0, 0, 0, 0, 0, 0, 0, 0, 0, 0, 0, 0, 0, 0, 0, 0, 0, 0, 0, 0, 0, 0, 0, 0, 0, 0, 0, 0, 0, 0, 0, 0, 0, 0, 0, 0, 0, 0, 0, 0, 0, 0, 0, 0, 0, 0, 0, 0, 0, 0, 0, 0, 0, 0, 0, 0, 0, 0, 0, 0, 0, 0, 0, 0, 0, 0, 0, 0, 0, 0, 0, 0, 406, 29, 3, 345, 396, 20, 1873, 2, 890, 3, 397, 1, 359, 318, 9, 2929, 5342, 10, 656, 406, 29, 3, 345, 182, 1, 359, 158, 3, 481, 21, 6, 2626, 51, 5, 28, 668, 6, 297, 183, 20, 4, 1, 80, 25, 10, 13, 719, 3, 1409, 31, 21, 146, 16, 28, 104, 192, 101, 20, 75, 21, 367, 1, 41, 147, 126, 21, 997, 1350, 1243, 5343, 1, 71, 734, 194, 15, 235, 392, 393, 3, 2627, 194, 1293, 13, 276, 114, 466, 597, 3, 4, 33, 392, 3, 3345, 2, 44, 1, 89, 228, 35, 460, 5, 870, 5, 637, 2, 390, 71, 41, 114, 413, 11, 44, 82, 149, 12, 36, 1, 1025, 147, 225, 6, 806, 77, 78, 114, 2, 2171, 466, 406, 839, 1996, 3, 638, 1649, 279, 89, 407, 70, 397, 43, 545, 10, 49, 406, 30, 546, 2, 390, 43, 44, 8, 533, 11, 391, 82])],\n",
       "      dtype=object)"
      ]
     },
     "execution_count": 25,
     "metadata": {},
     "output_type": "execute_result"
    }
   ],
   "source": [
    "combined_text[:3]"
   ]
  },
  {
   "cell_type": "markdown",
   "metadata": {},
   "source": [
    "As we can see, airline name and airline text are different types... We should unravel the list to concatenate them."
   ]
  },
  {
   "cell_type": "code",
   "execution_count": 26,
   "metadata": {},
   "outputs": [
    {
     "data": {
      "text/plain": [
       "array([[  1,   0,   0, ..., 545, 182,  64],\n",
       "       [  1,   0,   0, ...,  12,  36, 172],\n",
       "       [  1,   0,   0, ...,  11, 391,  82]])"
      ]
     },
     "execution_count": 26,
     "metadata": {},
     "output_type": "execute_result"
    }
   ],
   "source": [
    "# Unravel combined_text\n",
    "unraveled_combined_text = np.array([item for sublist in combined_text for item in sublist])\n",
    "\n",
    "# Reshape unraveled_combined_text to match the shape of AirLine_Name_Encoded\n",
    "unraveled_combined_text = unraveled_combined_text.reshape(airline_name.shape[0], -1)\n",
    "\n",
    "# Concatenate AirLine_Name_Encoded and unraveled_combined_text along the second axis\n",
    "features = np.concatenate([airline_name.reshape(-1, 1), unraveled_combined_text], axis=1)\n",
    "\n",
    "features[:3]"
   ]
  },
  {
   "cell_type": "markdown",
   "metadata": {},
   "source": [
    "Now we have two inputs together and two outputs together, we can train_test_split them"
   ]
  },
  {
   "cell_type": "code",
   "execution_count": 27,
   "metadata": {},
   "outputs": [
    {
     "name": "stdout",
     "output_type": "stream",
     "text": [
      "Train input shape: (1326, 690)\n",
      "Validation input shape: (442, 690)\n",
      "Test input shape: (442, 690)\n",
      "Train target shape: (1326, 13)\n",
      "Validation target shape: (442, 13)\n",
      "Test target shape: (442, 13)\n"
     ]
    }
   ],
   "source": [
    "# Split the data into train and test sets\n",
    "input_train, input_test, targets_train, targets_test = train_test_split(features, g_target, test_size=0.2, random_state=42)\n",
    "\n",
    "# Further split the train set into train and validation sets\n",
    "input_train, input_val, targets_train, targets_val = train_test_split(input_train, targets_train, test_size=0.25, random_state=42)\n",
    "\n",
    "\n",
    "# Display the shapes of the resulting datasets\n",
    "print(\"Train input shape:\", input_train.shape)\n",
    "print(\"Validation input shape:\", input_val.shape)\n",
    "print(\"Test input shape:\", input_test.shape)\n",
    "print(\"Train target shape:\", targets_train.shape)\n",
    "print(\"Validation target shape:\", targets_val.shape)\n",
    "print(\"Test target shape:\", targets_test.shape)"
   ]
  },
  {
   "cell_type": "code",
   "execution_count": 28,
   "metadata": {},
   "outputs": [
    {
     "name": "stdout",
     "output_type": "stream",
     "text": [
      "Train features 1: 5\n",
      "Train features 2: [   0    0    0    0    0    0    0    0    0    0    0    0    0    0\n",
      "    0    0    0    0    0    0    0    0    0    0    0    0    0    0\n",
      "    0    0    0    0    0    0    0    0    0    0    0    0    0    0\n",
      "    0    0    0    0    0    0    0    0    0    0    0    0    0    0\n",
      "    0    0    0    0    0    0    0    0    0    0    0    0    0    0\n",
      "    0    0    0    0    0    0    0    0    0    0    0    0    0    0\n",
      "    0    0    0    0    0    0    0    0    0    0    0    0    0    0\n",
      "    0    0    0    0    0    0    0    0    0    0    0    0    0    0\n",
      "    0    0    0    0    0    0    0    0    0    0    0    0    0    0\n",
      "    0    0    0    0    0    0    0    0    0    0    0    0    0    0\n",
      "    0    0    0    0    0    0    0    0    0    0    0    0    0    0\n",
      "    0    0    0    0    0    0    0    0    0    0    0    0    0    0\n",
      "    0    0    0    0    0    0    0    0    0    0    0    0    0    0\n",
      "    0    0    0    0    0    0    0    0    0    0    0    0    0    0\n",
      "    0    0    0    0    0    0    0    0    0    0    0    0    0    0\n",
      "    0    0    0    0    0    0    0    0    0    0    0    0    0    0\n",
      "    0    0    0    0    0    0    0    0    0    0    0    0    0    0\n",
      "    0    0    0    0    0    0    0    0    0    0    0    0    0    0\n",
      "    0    0    0    0    0    0    0    0    0    0    0    0    0    0\n",
      "    0    0    0    0    0    0    0    0    0    0    0    0    0    0\n",
      "    0    0    0    0    0    0    0    0    0    0    0    0    0    0\n",
      "    0    0    0    0    0    0    0    0    0    0    0    0    0    0\n",
      "    0    0    0    0    0    0    0    0    0    0    0    0    0    0\n",
      "    0    0    0    0    0    0    0    0    0    0    0    0    0    0\n",
      "    0    0    0    0    0    0    0    0    0    0    0    0    0    0\n",
      "    0    0    0    0    0    0    0    0    0    0    0    0    0    0\n",
      "    0    0    0    0    0    0    0    0    0    0    0    0    0    0\n",
      "    0    0    0    0    0    0    0    0    0    0    0    0    0    0\n",
      "    0    0    0    0    0    0    0    0    0    0    0    0    0    0\n",
      "    0    0    0    0    0    0    0    0    0    0    0    0    0    0\n",
      "    0    0    0    0    0    0    0    0    0    0    0    0    0    0\n",
      "    0    0    0    0    0    0    0    0    0    0    0    0    0    0\n",
      "    0    0    0    0    0    0    0    0    0    0    0    0    0    0\n",
      "    0    0    0    0    0    0    0    0    0    0    0    0    0    0\n",
      "    0    0    0    0    0    0    0    0    0    0    0    0    0    0\n",
      "    0    0    0    0    0    0    0    0    0    0    0    0    0    0\n",
      "    0    0    0    0    0    0    0    0    0    0    0    0    0    0\n",
      "    0    0    0    0    0    0    0    0    0    0    0    0    0    0\n",
      "    0    0    0    0    0    0    0    0    0    0    0    0    0    0\n",
      "    0    0    0    0    0    0    0    0    0    0    0    0    0    0\n",
      "    0    0    0    0    0    0    0    0    0    0    0    0    0    0\n",
      "    0    0    0  103   16  174   69   63    7  100  163    3   12  129\n",
      "   60   17    1    7  356  984  149    9  123  612  612    4  162   54\n",
      "    3   12  639   60 1281  149    9   20   12  110   60    2 1468    1\n",
      "  105   35    1  105   15  170  163   62    6  221 1266  408  190  419\n",
      " 3310   12  662   63    7    2  148  127   45    4   70  163  148  127\n",
      "   20   15 1038  256  254  127   35   22  100    2  197   23  566 5138\n",
      " 2830   94  162  232    3    6  218   30 1733    9  171  163    3 1821\n",
      "   18  243  157    9    1  831    7  889  103   16  174   69 1082    1\n",
      " 1842   15 4592]\n",
      "Train Target 1: [1. 0.]\n",
      "Train Target 2: [0. 1. 0. 0. 0. 0. 0. 0. 0. 0. 0.]\n"
     ]
    }
   ],
   "source": [
    "print(\"Train features 1:\", input_train[0, 0]) # Airline Name\n",
    "print(\"Train features 2:\", input_train[0, 1:]) # Combined Text\n",
    "print(\"Train Target 1:\", targets_train[0, :2]) # Recommond\n",
    "print(\"Train Target 2:\", targets_train[0 , 2:]) # Rating\n"
   ]
  },
  {
   "cell_type": "markdown",
   "metadata": {},
   "source": [
    "## Model Design\n",
    "We can't use sequential for this model as it will have two outputs, instead we can create the model from scratch using the layers"
   ]
  },
  {
   "cell_type": "code",
   "execution_count": 29,
   "metadata": {},
   "outputs": [
    {
     "name": "stderr",
     "output_type": "stream",
     "text": [
      "WARNING: All log messages before absl::InitializeLog() is called are written to STDERR\n",
      "I0000 00:00:1729049746.652209 1030804 cuda_executor.cc:1001] could not open file to read NUMA node: /sys/bus/pci/devices/0000:01:00.0/numa_node\n",
      "Your kernel may have been built without NUMA support.\n",
      "I0000 00:00:1729049746.871065 1030804 cuda_executor.cc:1001] could not open file to read NUMA node: /sys/bus/pci/devices/0000:01:00.0/numa_node\n",
      "Your kernel may have been built without NUMA support.\n",
      "I0000 00:00:1729049746.871614 1030804 cuda_executor.cc:1001] could not open file to read NUMA node: /sys/bus/pci/devices/0000:01:00.0/numa_node\n",
      "Your kernel may have been built without NUMA support.\n",
      "I0000 00:00:1729049746.876026 1030804 cuda_executor.cc:1001] could not open file to read NUMA node: /sys/bus/pci/devices/0000:01:00.0/numa_node\n",
      "Your kernel may have been built without NUMA support.\n",
      "I0000 00:00:1729049746.876381 1030804 cuda_executor.cc:1001] could not open file to read NUMA node: /sys/bus/pci/devices/0000:01:00.0/numa_node\n",
      "Your kernel may have been built without NUMA support.\n",
      "I0000 00:00:1729049746.876717 1030804 cuda_executor.cc:1001] could not open file to read NUMA node: /sys/bus/pci/devices/0000:01:00.0/numa_node\n",
      "Your kernel may have been built without NUMA support.\n",
      "I0000 00:00:1729049747.377286 1030804 cuda_executor.cc:1001] could not open file to read NUMA node: /sys/bus/pci/devices/0000:01:00.0/numa_node\n",
      "Your kernel may have been built without NUMA support.\n",
      "I0000 00:00:1729049747.377697 1030804 cuda_executor.cc:1001] could not open file to read NUMA node: /sys/bus/pci/devices/0000:01:00.0/numa_node\n",
      "Your kernel may have been built without NUMA support.\n",
      "I0000 00:00:1729049747.377980 1030804 cuda_executor.cc:1001] could not open file to read NUMA node: /sys/bus/pci/devices/0000:01:00.0/numa_node\n",
      "Your kernel may have been built without NUMA support.\n"
     ]
    },
    {
     "data": {
      "text/html": [
       "<pre style=\"white-space:pre;overflow-x:auto;line-height:normal;font-family:Menlo,'DejaVu Sans Mono',consolas,'Courier New',monospace\"><span style=\"font-weight: bold\">Model: \"functional\"</span>\n",
       "</pre>\n"
      ],
      "text/plain": [
       "\u001b[1mModel: \"functional\"\u001b[0m\n"
      ]
     },
     "metadata": {},
     "output_type": "display_data"
    },
    {
     "data": {
      "text/html": [
       "<pre style=\"white-space:pre;overflow-x:auto;line-height:normal;font-family:Menlo,'DejaVu Sans Mono',consolas,'Courier New',monospace\">┏━━━━━━━━━━━━━━━━━━━━━┳━━━━━━━━━━━━━━━━━━━┳━━━━━━━━━━━━┳━━━━━━━━━━━━━━━━━━━┓\n",
       "┃<span style=\"font-weight: bold\"> Layer (type)        </span>┃<span style=\"font-weight: bold\"> Output Shape      </span>┃<span style=\"font-weight: bold\">    Param # </span>┃<span style=\"font-weight: bold\"> Connected to      </span>┃\n",
       "┡━━━━━━━━━━━━━━━━━━━━━╇━━━━━━━━━━━━━━━━━━━╇━━━━━━━━━━━━╇━━━━━━━━━━━━━━━━━━━┩\n",
       "│ text_input          │ (<span style=\"color: #00d7ff; text-decoration-color: #00d7ff\">None</span>, <span style=\"color: #00af00; text-decoration-color: #00af00\">689</span>)       │          <span style=\"color: #00af00; text-decoration-color: #00af00\">0</span> │ -                 │\n",
       "│ (<span style=\"color: #0087ff; text-decoration-color: #0087ff\">InputLayer</span>)        │                   │            │                   │\n",
       "├─────────────────────┼───────────────────┼────────────┼───────────────────┤\n",
       "│ embedding           │ (<span style=\"color: #00d7ff; text-decoration-color: #00d7ff\">None</span>, <span style=\"color: #00af00; text-decoration-color: #00af00\">689</span>, <span style=\"color: #00af00; text-decoration-color: #00af00\">128</span>)  │  <span style=\"color: #00af00; text-decoration-color: #00af00\">1,233,024</span> │ text_input[<span style=\"color: #00af00; text-decoration-color: #00af00\">0</span>][<span style=\"color: #00af00; text-decoration-color: #00af00\">0</span>]  │\n",
       "│ (<span style=\"color: #0087ff; text-decoration-color: #0087ff\">Embedding</span>)         │                   │            │                   │\n",
       "├─────────────────────┼───────────────────┼────────────┼───────────────────┤\n",
       "│ spatial_dropout1d   │ (<span style=\"color: #00d7ff; text-decoration-color: #00d7ff\">None</span>, <span style=\"color: #00af00; text-decoration-color: #00af00\">689</span>, <span style=\"color: #00af00; text-decoration-color: #00af00\">128</span>)  │          <span style=\"color: #00af00; text-decoration-color: #00af00\">0</span> │ embedding[<span style=\"color: #00af00; text-decoration-color: #00af00\">0</span>][<span style=\"color: #00af00; text-decoration-color: #00af00\">0</span>]   │\n",
       "│ (<span style=\"color: #0087ff; text-decoration-color: #0087ff\">SpatialDropout1D</span>)  │                   │            │                   │\n",
       "├─────────────────────┼───────────────────┼────────────┼───────────────────┤\n",
       "│ lstm (<span style=\"color: #0087ff; text-decoration-color: #0087ff\">LSTM</span>)         │ (<span style=\"color: #00d7ff; text-decoration-color: #00d7ff\">None</span>, <span style=\"color: #00af00; text-decoration-color: #00af00\">689</span>, <span style=\"color: #00af00; text-decoration-color: #00af00\">256</span>)  │    <span style=\"color: #00af00; text-decoration-color: #00af00\">394,240</span> │ spatial_dropout1… │\n",
       "├─────────────────────┼───────────────────┼────────────┼───────────────────┤\n",
       "│ dropout (<span style=\"color: #0087ff; text-decoration-color: #0087ff\">Dropout</span>)   │ (<span style=\"color: #00d7ff; text-decoration-color: #00d7ff\">None</span>, <span style=\"color: #00af00; text-decoration-color: #00af00\">689</span>, <span style=\"color: #00af00; text-decoration-color: #00af00\">256</span>)  │          <span style=\"color: #00af00; text-decoration-color: #00af00\">0</span> │ lstm[<span style=\"color: #00af00; text-decoration-color: #00af00\">0</span>][<span style=\"color: #00af00; text-decoration-color: #00af00\">0</span>]        │\n",
       "├─────────────────────┼───────────────────┼────────────┼───────────────────┤\n",
       "│ lstm_1 (<span style=\"color: #0087ff; text-decoration-color: #0087ff\">LSTM</span>)       │ (<span style=\"color: #00d7ff; text-decoration-color: #00d7ff\">None</span>, <span style=\"color: #00af00; text-decoration-color: #00af00\">128</span>)       │    <span style=\"color: #00af00; text-decoration-color: #00af00\">197,120</span> │ dropout[<span style=\"color: #00af00; text-decoration-color: #00af00\">0</span>][<span style=\"color: #00af00; text-decoration-color: #00af00\">0</span>]     │\n",
       "├─────────────────────┼───────────────────┼────────────┼───────────────────┤\n",
       "│ airline_input       │ (<span style=\"color: #00d7ff; text-decoration-color: #00d7ff\">None</span>, <span style=\"color: #00af00; text-decoration-color: #00af00\">1</span>)         │          <span style=\"color: #00af00; text-decoration-color: #00af00\">0</span> │ -                 │\n",
       "│ (<span style=\"color: #0087ff; text-decoration-color: #0087ff\">InputLayer</span>)        │                   │            │                   │\n",
       "├─────────────────────┼───────────────────┼────────────┼───────────────────┤\n",
       "│ concatenate         │ (<span style=\"color: #00d7ff; text-decoration-color: #00d7ff\">None</span>, <span style=\"color: #00af00; text-decoration-color: #00af00\">129</span>)       │          <span style=\"color: #00af00; text-decoration-color: #00af00\">0</span> │ lstm_1[<span style=\"color: #00af00; text-decoration-color: #00af00\">0</span>][<span style=\"color: #00af00; text-decoration-color: #00af00\">0</span>],     │\n",
       "│ (<span style=\"color: #0087ff; text-decoration-color: #0087ff\">Concatenate</span>)       │                   │            │ airline_input[<span style=\"color: #00af00; text-decoration-color: #00af00\">0</span>]… │\n",
       "├─────────────────────┼───────────────────┼────────────┼───────────────────┤\n",
       "│ rating_output       │ (<span style=\"color: #00d7ff; text-decoration-color: #00d7ff\">None</span>, <span style=\"color: #00af00; text-decoration-color: #00af00\">11</span>)        │      <span style=\"color: #00af00; text-decoration-color: #00af00\">1,430</span> │ concatenate[<span style=\"color: #00af00; text-decoration-color: #00af00\">0</span>][<span style=\"color: #00af00; text-decoration-color: #00af00\">0</span>] │\n",
       "│ (<span style=\"color: #0087ff; text-decoration-color: #0087ff\">Dense</span>)             │                   │            │                   │\n",
       "├─────────────────────┼───────────────────┼────────────┼───────────────────┤\n",
       "│ recommend_output    │ (<span style=\"color: #00d7ff; text-decoration-color: #00d7ff\">None</span>, <span style=\"color: #00af00; text-decoration-color: #00af00\">2</span>)         │        <span style=\"color: #00af00; text-decoration-color: #00af00\">260</span> │ concatenate[<span style=\"color: #00af00; text-decoration-color: #00af00\">0</span>][<span style=\"color: #00af00; text-decoration-color: #00af00\">0</span>] │\n",
       "│ (<span style=\"color: #0087ff; text-decoration-color: #0087ff\">Dense</span>)             │                   │            │                   │\n",
       "└─────────────────────┴───────────────────┴────────────┴───────────────────┘\n",
       "</pre>\n"
      ],
      "text/plain": [
       "┏━━━━━━━━━━━━━━━━━━━━━┳━━━━━━━━━━━━━━━━━━━┳━━━━━━━━━━━━┳━━━━━━━━━━━━━━━━━━━┓\n",
       "┃\u001b[1m \u001b[0m\u001b[1mLayer (type)       \u001b[0m\u001b[1m \u001b[0m┃\u001b[1m \u001b[0m\u001b[1mOutput Shape     \u001b[0m\u001b[1m \u001b[0m┃\u001b[1m \u001b[0m\u001b[1m   Param #\u001b[0m\u001b[1m \u001b[0m┃\u001b[1m \u001b[0m\u001b[1mConnected to     \u001b[0m\u001b[1m \u001b[0m┃\n",
       "┡━━━━━━━━━━━━━━━━━━━━━╇━━━━━━━━━━━━━━━━━━━╇━━━━━━━━━━━━╇━━━━━━━━━━━━━━━━━━━┩\n",
       "│ text_input          │ (\u001b[38;5;45mNone\u001b[0m, \u001b[38;5;34m689\u001b[0m)       │          \u001b[38;5;34m0\u001b[0m │ -                 │\n",
       "│ (\u001b[38;5;33mInputLayer\u001b[0m)        │                   │            │                   │\n",
       "├─────────────────────┼───────────────────┼────────────┼───────────────────┤\n",
       "│ embedding           │ (\u001b[38;5;45mNone\u001b[0m, \u001b[38;5;34m689\u001b[0m, \u001b[38;5;34m128\u001b[0m)  │  \u001b[38;5;34m1,233,024\u001b[0m │ text_input[\u001b[38;5;34m0\u001b[0m][\u001b[38;5;34m0\u001b[0m]  │\n",
       "│ (\u001b[38;5;33mEmbedding\u001b[0m)         │                   │            │                   │\n",
       "├─────────────────────┼───────────────────┼────────────┼───────────────────┤\n",
       "│ spatial_dropout1d   │ (\u001b[38;5;45mNone\u001b[0m, \u001b[38;5;34m689\u001b[0m, \u001b[38;5;34m128\u001b[0m)  │          \u001b[38;5;34m0\u001b[0m │ embedding[\u001b[38;5;34m0\u001b[0m][\u001b[38;5;34m0\u001b[0m]   │\n",
       "│ (\u001b[38;5;33mSpatialDropout1D\u001b[0m)  │                   │            │                   │\n",
       "├─────────────────────┼───────────────────┼────────────┼───────────────────┤\n",
       "│ lstm (\u001b[38;5;33mLSTM\u001b[0m)         │ (\u001b[38;5;45mNone\u001b[0m, \u001b[38;5;34m689\u001b[0m, \u001b[38;5;34m256\u001b[0m)  │    \u001b[38;5;34m394,240\u001b[0m │ spatial_dropout1… │\n",
       "├─────────────────────┼───────────────────┼────────────┼───────────────────┤\n",
       "│ dropout (\u001b[38;5;33mDropout\u001b[0m)   │ (\u001b[38;5;45mNone\u001b[0m, \u001b[38;5;34m689\u001b[0m, \u001b[38;5;34m256\u001b[0m)  │          \u001b[38;5;34m0\u001b[0m │ lstm[\u001b[38;5;34m0\u001b[0m][\u001b[38;5;34m0\u001b[0m]        │\n",
       "├─────────────────────┼───────────────────┼────────────┼───────────────────┤\n",
       "│ lstm_1 (\u001b[38;5;33mLSTM\u001b[0m)       │ (\u001b[38;5;45mNone\u001b[0m, \u001b[38;5;34m128\u001b[0m)       │    \u001b[38;5;34m197,120\u001b[0m │ dropout[\u001b[38;5;34m0\u001b[0m][\u001b[38;5;34m0\u001b[0m]     │\n",
       "├─────────────────────┼───────────────────┼────────────┼───────────────────┤\n",
       "│ airline_input       │ (\u001b[38;5;45mNone\u001b[0m, \u001b[38;5;34m1\u001b[0m)         │          \u001b[38;5;34m0\u001b[0m │ -                 │\n",
       "│ (\u001b[38;5;33mInputLayer\u001b[0m)        │                   │            │                   │\n",
       "├─────────────────────┼───────────────────┼────────────┼───────────────────┤\n",
       "│ concatenate         │ (\u001b[38;5;45mNone\u001b[0m, \u001b[38;5;34m129\u001b[0m)       │          \u001b[38;5;34m0\u001b[0m │ lstm_1[\u001b[38;5;34m0\u001b[0m][\u001b[38;5;34m0\u001b[0m],     │\n",
       "│ (\u001b[38;5;33mConcatenate\u001b[0m)       │                   │            │ airline_input[\u001b[38;5;34m0\u001b[0m]… │\n",
       "├─────────────────────┼───────────────────┼────────────┼───────────────────┤\n",
       "│ rating_output       │ (\u001b[38;5;45mNone\u001b[0m, \u001b[38;5;34m11\u001b[0m)        │      \u001b[38;5;34m1,430\u001b[0m │ concatenate[\u001b[38;5;34m0\u001b[0m][\u001b[38;5;34m0\u001b[0m] │\n",
       "│ (\u001b[38;5;33mDense\u001b[0m)             │                   │            │                   │\n",
       "├─────────────────────┼───────────────────┼────────────┼───────────────────┤\n",
       "│ recommend_output    │ (\u001b[38;5;45mNone\u001b[0m, \u001b[38;5;34m2\u001b[0m)         │        \u001b[38;5;34m260\u001b[0m │ concatenate[\u001b[38;5;34m0\u001b[0m][\u001b[38;5;34m0\u001b[0m] │\n",
       "│ (\u001b[38;5;33mDense\u001b[0m)             │                   │            │                   │\n",
       "└─────────────────────┴───────────────────┴────────────┴───────────────────┘\n"
      ]
     },
     "metadata": {},
     "output_type": "display_data"
    },
    {
     "data": {
      "text/html": [
       "<pre style=\"white-space:pre;overflow-x:auto;line-height:normal;font-family:Menlo,'DejaVu Sans Mono',consolas,'Courier New',monospace\"><span style=\"font-weight: bold\"> Total params: </span><span style=\"color: #00af00; text-decoration-color: #00af00\">1,826,074</span> (6.97 MB)\n",
       "</pre>\n"
      ],
      "text/plain": [
       "\u001b[1m Total params: \u001b[0m\u001b[38;5;34m1,826,074\u001b[0m (6.97 MB)\n"
      ]
     },
     "metadata": {},
     "output_type": "display_data"
    },
    {
     "data": {
      "text/html": [
       "<pre style=\"white-space:pre;overflow-x:auto;line-height:normal;font-family:Menlo,'DejaVu Sans Mono',consolas,'Courier New',monospace\"><span style=\"font-weight: bold\"> Trainable params: </span><span style=\"color: #00af00; text-decoration-color: #00af00\">1,826,074</span> (6.97 MB)\n",
       "</pre>\n"
      ],
      "text/plain": [
       "\u001b[1m Trainable params: \u001b[0m\u001b[38;5;34m1,826,074\u001b[0m (6.97 MB)\n"
      ]
     },
     "metadata": {},
     "output_type": "display_data"
    },
    {
     "data": {
      "text/html": [
       "<pre style=\"white-space:pre;overflow-x:auto;line-height:normal;font-family:Menlo,'DejaVu Sans Mono',consolas,'Courier New',monospace\"><span style=\"font-weight: bold\"> Non-trainable params: </span><span style=\"color: #00af00; text-decoration-color: #00af00\">0</span> (0.00 B)\n",
       "</pre>\n"
      ],
      "text/plain": [
       "\u001b[1m Non-trainable params: \u001b[0m\u001b[38;5;34m0\u001b[0m (0.00 B)\n"
      ]
     },
     "metadata": {},
     "output_type": "display_data"
    },
    {
     "name": "stdout",
     "output_type": "stream",
     "text": [
      "Epoch 1/50\n",
      "\u001b[1m42/42\u001b[0m \u001b[32m━━━━━━━━━━━━━━━━━━━━\u001b[0m\u001b[37m\u001b[0m \u001b[1m11s\u001b[0m 157ms/step - loss: 2.8483 - rating_output_accuracy: 0.3317 - rating_output_loss: 2.1705 - recommend_output_accuracy: 0.6312 - recommend_output_loss: 0.6779 - val_loss: 2.4874 - val_rating_output_accuracy: 0.4480 - val_rating_output_loss: 1.8572 - val_recommend_output_accuracy: 0.6471 - val_recommend_output_loss: 0.6324\n",
      "Epoch 2/50\n",
      "\u001b[1m42/42\u001b[0m \u001b[32m━━━━━━━━━━━━━━━━━━━━\u001b[0m\u001b[37m\u001b[0m \u001b[1m6s\u001b[0m 143ms/step - loss: 2.2503 - rating_output_accuracy: 0.4667 - rating_output_loss: 1.7364 - recommend_output_accuracy: 0.7323 - recommend_output_loss: 0.5136 - val_loss: 1.8565 - val_rating_output_accuracy: 0.5249 - val_rating_output_loss: 1.5220 - val_recommend_output_accuracy: 0.8439 - val_recommend_output_loss: 0.3420\n",
      "Epoch 3/50\n",
      "\u001b[1m42/42\u001b[0m \u001b[32m━━━━━━━━━━━━━━━━━━━━\u001b[0m\u001b[37m\u001b[0m \u001b[1m6s\u001b[0m 135ms/step - loss: 1.6110 - rating_output_accuracy: 0.5547 - rating_output_loss: 1.3984 - recommend_output_accuracy: 0.9199 - recommend_output_loss: 0.2128 - val_loss: 1.8143 - val_rating_output_accuracy: 0.5249 - val_rating_output_loss: 1.4936 - val_recommend_output_accuracy: 0.8597 - val_recommend_output_loss: 0.3278\n",
      "Epoch 4/50\n",
      "\u001b[1m42/42\u001b[0m \u001b[32m━━━━━━━━━━━━━━━━━━━━\u001b[0m\u001b[37m\u001b[0m \u001b[1m5s\u001b[0m 130ms/step - loss: 1.3457 - rating_output_accuracy: 0.5890 - rating_output_loss: 1.2168 - recommend_output_accuracy: 0.9589 - recommend_output_loss: 0.1289 - val_loss: 1.9290 - val_rating_output_accuracy: 0.5249 - val_rating_output_loss: 1.5399 - val_recommend_output_accuracy: 0.8597 - val_recommend_output_loss: 0.3994\n",
      "Epoch 5/50\n",
      "\u001b[1m42/42\u001b[0m \u001b[32m━━━━━━━━━━━━━━━━━━━━\u001b[0m\u001b[37m\u001b[0m \u001b[1m6s\u001b[0m 136ms/step - loss: 1.1837 - rating_output_accuracy: 0.5952 - rating_output_loss: 1.1124 - recommend_output_accuracy: 0.9771 - recommend_output_loss: 0.0712 - val_loss: 1.9270 - val_rating_output_accuracy: 0.5339 - val_rating_output_loss: 1.5394 - val_recommend_output_accuracy: 0.8778 - val_recommend_output_loss: 0.3958\n",
      "Epoch 6/50\n",
      "\u001b[1m42/42\u001b[0m \u001b[32m━━━━━━━━━━━━━━━━━━━━\u001b[0m\u001b[37m\u001b[0m \u001b[1m6s\u001b[0m 134ms/step - loss: 1.0515 - rating_output_accuracy: 0.6280 - rating_output_loss: 1.0023 - recommend_output_accuracy: 0.9844 - recommend_output_loss: 0.0494 - val_loss: 2.0086 - val_rating_output_accuracy: 0.4525 - val_rating_output_loss: 1.6157 - val_recommend_output_accuracy: 0.8575 - val_recommend_output_loss: 0.4037\n",
      "Epoch 7/50\n",
      "\u001b[1m42/42\u001b[0m \u001b[32m━━━━━━━━━━━━━━━━━━━━\u001b[0m\u001b[37m\u001b[0m \u001b[1m6s\u001b[0m 135ms/step - loss: 0.9498 - rating_output_accuracy: 0.6887 - rating_output_loss: 0.8748 - recommend_output_accuracy: 0.9749 - recommend_output_loss: 0.0752 - val_loss: 2.1473 - val_rating_output_accuracy: 0.4253 - val_rating_output_loss: 1.7350 - val_recommend_output_accuracy: 0.8733 - val_recommend_output_loss: 0.4184\n",
      "Epoch 8/50\n",
      "\u001b[1m42/42\u001b[0m \u001b[32m━━━━━━━━━━━━━━━━━━━━\u001b[0m\u001b[37m\u001b[0m \u001b[1m6s\u001b[0m 138ms/step - loss: 0.8249 - rating_output_accuracy: 0.7089 - rating_output_loss: 0.7592 - recommend_output_accuracy: 0.9760 - recommend_output_loss: 0.0661 - val_loss: 2.2236 - val_rating_output_accuracy: 0.4593 - val_rating_output_loss: 1.8221 - val_recommend_output_accuracy: 0.8869 - val_recommend_output_loss: 0.4101\n",
      "Epoch 9/50\n",
      "\u001b[1m42/42\u001b[0m \u001b[32m━━━━━━━━━━━━━━━━━━━━\u001b[0m\u001b[37m\u001b[0m \u001b[1m6s\u001b[0m 136ms/step - loss: 0.8107 - rating_output_accuracy: 0.7349 - rating_output_loss: 0.7482 - recommend_output_accuracy: 0.9772 - recommend_output_loss: 0.0624 - val_loss: 2.3219 - val_rating_output_accuracy: 0.4502 - val_rating_output_loss: 1.8653 - val_recommend_output_accuracy: 0.8846 - val_recommend_output_loss: 0.4645\n",
      "Epoch 10/50\n",
      "\u001b[1m42/42\u001b[0m \u001b[32m━━━━━━━━━━━━━━━━━━━━\u001b[0m\u001b[37m\u001b[0m \u001b[1m6s\u001b[0m 137ms/step - loss: 0.6089 - rating_output_accuracy: 0.7873 - rating_output_loss: 0.5597 - recommend_output_accuracy: 0.9838 - recommend_output_loss: 0.0493 - val_loss: 2.6561 - val_rating_output_accuracy: 0.3710 - val_rating_output_loss: 2.1779 - val_recommend_output_accuracy: 0.8552 - val_recommend_output_loss: 0.4825\n",
      "Epoch 11/50\n",
      "\u001b[1m42/42\u001b[0m \u001b[32m━━━━━━━━━━━━━━━━━━━━\u001b[0m\u001b[37m\u001b[0m \u001b[1m6s\u001b[0m 136ms/step - loss: 0.6426 - rating_output_accuracy: 0.7996 - rating_output_loss: 0.5675 - recommend_output_accuracy: 0.9726 - recommend_output_loss: 0.0751 - val_loss: 2.6148 - val_rating_output_accuracy: 0.4683 - val_rating_output_loss: 2.0862 - val_recommend_output_accuracy: 0.8643 - val_recommend_output_loss: 0.5372\n",
      "Epoch 12/50\n",
      "\u001b[1m42/42\u001b[0m \u001b[32m━━━━━━━━━━━━━━━━━━━━\u001b[0m\u001b[37m\u001b[0m \u001b[1m6s\u001b[0m 139ms/step - loss: 0.5145 - rating_output_accuracy: 0.8278 - rating_output_loss: 0.4596 - recommend_output_accuracy: 0.9814 - recommend_output_loss: 0.0550 - val_loss: 2.7371 - val_rating_output_accuracy: 0.4321 - val_rating_output_loss: 2.1965 - val_recommend_output_accuracy: 0.8665 - val_recommend_output_loss: 0.5465\n",
      "Epoch 13/50\n",
      "\u001b[1m42/42\u001b[0m \u001b[32m━━━━━━━━━━━━━━━━━━━━\u001b[0m\u001b[37m\u001b[0m \u001b[1m6s\u001b[0m 141ms/step - loss: 0.4789 - rating_output_accuracy: 0.8542 - rating_output_loss: 0.4297 - recommend_output_accuracy: 0.9860 - recommend_output_loss: 0.0490 - val_loss: 2.8163 - val_rating_output_accuracy: 0.4027 - val_rating_output_loss: 2.3165 - val_recommend_output_accuracy: 0.8597 - val_recommend_output_loss: 0.5049\n",
      "Epoch 14/50\n",
      "\u001b[1m42/42\u001b[0m \u001b[32m━━━━━━━━━━━━━━━━━━━━\u001b[0m\u001b[37m\u001b[0m \u001b[1m6s\u001b[0m 145ms/step - loss: 0.4192 - rating_output_accuracy: 0.8655 - rating_output_loss: 0.3754 - recommend_output_accuracy: 0.9820 - recommend_output_loss: 0.0439 - val_loss: 2.8683 - val_rating_output_accuracy: 0.4299 - val_rating_output_loss: 2.3015 - val_recommend_output_accuracy: 0.8710 - val_recommend_output_loss: 0.5716\n",
      "Epoch 15/50\n",
      "\u001b[1m42/42\u001b[0m \u001b[32m━━━━━━━━━━━━━━━━━━━━\u001b[0m\u001b[37m\u001b[0m \u001b[1m6s\u001b[0m 142ms/step - loss: 0.3524 - rating_output_accuracy: 0.8892 - rating_output_loss: 0.2995 - recommend_output_accuracy: 0.9860 - recommend_output_loss: 0.0530 - val_loss: 3.0440 - val_rating_output_accuracy: 0.4299 - val_rating_output_loss: 2.4580 - val_recommend_output_accuracy: 0.8575 - val_recommend_output_loss: 0.5907\n",
      "Epoch 16/50\n",
      "\u001b[1m42/42\u001b[0m \u001b[32m━━━━━━━━━━━━━━━━━━━━\u001b[0m\u001b[37m\u001b[0m \u001b[1m6s\u001b[0m 149ms/step - loss: 0.2615 - rating_output_accuracy: 0.9317 - rating_output_loss: 0.2351 - recommend_output_accuracy: 0.9923 - recommend_output_loss: 0.0263 - val_loss: 3.4127 - val_rating_output_accuracy: 0.4095 - val_rating_output_loss: 2.7216 - val_recommend_output_accuracy: 0.8484 - val_recommend_output_loss: 0.6950\n",
      "Epoch 17/50\n",
      "\u001b[1m42/42\u001b[0m \u001b[32m━━━━━━━━━━━━━━━━━━━━\u001b[0m\u001b[37m\u001b[0m \u001b[1m10s\u001b[0m 139ms/step - loss: 0.2873 - rating_output_accuracy: 0.9249 - rating_output_loss: 0.2434 - recommend_output_accuracy: 0.9857 - recommend_output_loss: 0.0438 - val_loss: 3.2849 - val_rating_output_accuracy: 0.3891 - val_rating_output_loss: 2.7093 - val_recommend_output_accuracy: 0.8507 - val_recommend_output_loss: 0.5757\n",
      "Epoch 18/50\n",
      "\u001b[1m42/42\u001b[0m \u001b[32m━━━━━━━━━━━━━━━━━━━━\u001b[0m\u001b[37m\u001b[0m \u001b[1m11s\u001b[0m 158ms/step - loss: 0.2524 - rating_output_accuracy: 0.9404 - rating_output_loss: 0.1984 - recommend_output_accuracy: 0.9844 - recommend_output_loss: 0.0542 - val_loss: 3.2588 - val_rating_output_accuracy: 0.4412 - val_rating_output_loss: 2.6259 - val_recommend_output_accuracy: 0.8529 - val_recommend_output_loss: 0.6363\n",
      "Epoch 19/50\n",
      "\u001b[1m42/42\u001b[0m \u001b[32m━━━━━━━━━━━━━━━━━━━━\u001b[0m\u001b[37m\u001b[0m \u001b[1m7s\u001b[0m 164ms/step - loss: 0.3392 - rating_output_accuracy: 0.8990 - rating_output_loss: 0.2889 - recommend_output_accuracy: 0.9828 - recommend_output_loss: 0.0502 - val_loss: 3.1098 - val_rating_output_accuracy: 0.4344 - val_rating_output_loss: 2.5741 - val_recommend_output_accuracy: 0.8665 - val_recommend_output_loss: 0.5385\n",
      "Epoch 20/50\n",
      "\u001b[1m42/42\u001b[0m \u001b[32m━━━━━━━━━━━━━━━━━━━━\u001b[0m\u001b[37m\u001b[0m \u001b[1m10s\u001b[0m 164ms/step - loss: 0.2010 - rating_output_accuracy: 0.9507 - rating_output_loss: 0.1640 - recommend_output_accuracy: 0.9884 - recommend_output_loss: 0.0371 - val_loss: 3.3853 - val_rating_output_accuracy: 0.4299 - val_rating_output_loss: 2.7559 - val_recommend_output_accuracy: 0.8507 - val_recommend_output_loss: 0.6295\n",
      "Epoch 21/50\n",
      "\u001b[1m42/42\u001b[0m \u001b[32m━━━━━━━━━━━━━━━━━━━━\u001b[0m\u001b[37m\u001b[0m \u001b[1m7s\u001b[0m 157ms/step - loss: 0.1461 - rating_output_accuracy: 0.9687 - rating_output_loss: 0.1142 - recommend_output_accuracy: 0.9905 - recommend_output_loss: 0.0319 - val_loss: 3.5769 - val_rating_output_accuracy: 0.3846 - val_rating_output_loss: 2.9640 - val_recommend_output_accuracy: 0.8575 - val_recommend_output_loss: 0.6073\n",
      "Epoch 22/50\n",
      "\u001b[1m42/42\u001b[0m \u001b[32m━━━━━━━━━━━━━━━━━━━━\u001b[0m\u001b[37m\u001b[0m \u001b[1m6s\u001b[0m 152ms/step - loss: 0.1805 - rating_output_accuracy: 0.9551 - rating_output_loss: 0.1443 - recommend_output_accuracy: 0.9864 - recommend_output_loss: 0.0362 - val_loss: 3.6223 - val_rating_output_accuracy: 0.4072 - val_rating_output_loss: 2.8297 - val_recommend_output_accuracy: 0.8348 - val_recommend_output_loss: 0.7898\n",
      "Epoch 23/50\n",
      "\u001b[1m42/42\u001b[0m \u001b[32m━━━━━━━━━━━━━━━━━━━━\u001b[0m\u001b[37m\u001b[0m \u001b[1m6s\u001b[0m 151ms/step - loss: 0.2095 - rating_output_accuracy: 0.9450 - rating_output_loss: 0.1775 - recommend_output_accuracy: 0.9880 - recommend_output_loss: 0.0319 - val_loss: 3.4922 - val_rating_output_accuracy: 0.4276 - val_rating_output_loss: 2.8234 - val_recommend_output_accuracy: 0.8620 - val_recommend_output_loss: 0.6696\n",
      "Epoch 24/50\n",
      "\u001b[1m42/42\u001b[0m \u001b[32m━━━━━━━━━━━━━━━━━━━━\u001b[0m\u001b[37m\u001b[0m \u001b[1m6s\u001b[0m 150ms/step - loss: 0.0994 - rating_output_accuracy: 0.9846 - rating_output_loss: 0.0703 - recommend_output_accuracy: 0.9892 - recommend_output_loss: 0.0291 - val_loss: 3.5618 - val_rating_output_accuracy: 0.4095 - val_rating_output_loss: 2.9542 - val_recommend_output_accuracy: 0.8529 - val_recommend_output_loss: 0.6089\n",
      "Epoch 25/50\n",
      "\u001b[1m42/42\u001b[0m \u001b[32m━━━━━━━━━━━━━━━━━━━━\u001b[0m\u001b[37m\u001b[0m \u001b[1m7s\u001b[0m 157ms/step - loss: 0.0951 - rating_output_accuracy: 0.9840 - rating_output_loss: 0.0767 - recommend_output_accuracy: 0.9951 - recommend_output_loss: 0.0184 - val_loss: 3.7661 - val_rating_output_accuracy: 0.4276 - val_rating_output_loss: 3.0805 - val_recommend_output_accuracy: 0.8529 - val_recommend_output_loss: 0.6863\n",
      "Epoch 26/50\n",
      "\u001b[1m42/42\u001b[0m \u001b[32m━━━━━━━━━━━━━━━━━━━━\u001b[0m\u001b[37m\u001b[0m \u001b[1m7s\u001b[0m 162ms/step - loss: 0.0740 - rating_output_accuracy: 0.9832 - rating_output_loss: 0.0651 - recommend_output_accuracy: 0.9993 - recommend_output_loss: 0.0089 - val_loss: 3.7824 - val_rating_output_accuracy: 0.4208 - val_rating_output_loss: 3.1181 - val_recommend_output_accuracy: 0.8552 - val_recommend_output_loss: 0.6634\n",
      "Epoch 27/50\n",
      "\u001b[1m42/42\u001b[0m \u001b[32m━━━━━━━━━━━━━━━━━━━━\u001b[0m\u001b[37m\u001b[0m \u001b[1m7s\u001b[0m 156ms/step - loss: 0.0620 - rating_output_accuracy: 0.9879 - rating_output_loss: 0.0421 - recommend_output_accuracy: 0.9956 - recommend_output_loss: 0.0199 - val_loss: 3.7719 - val_rating_output_accuracy: 0.4140 - val_rating_output_loss: 3.0877 - val_recommend_output_accuracy: 0.8507 - val_recommend_output_loss: 0.6838\n",
      "Epoch 28/50\n",
      "\u001b[1m42/42\u001b[0m \u001b[32m━━━━━━━━━━━━━━━━━━━━\u001b[0m\u001b[37m\u001b[0m \u001b[1m6s\u001b[0m 152ms/step - loss: 0.0618 - rating_output_accuracy: 0.9872 - rating_output_loss: 0.0381 - recommend_output_accuracy: 0.9947 - recommend_output_loss: 0.0236 - val_loss: 3.8707 - val_rating_output_accuracy: 0.4231 - val_rating_output_loss: 3.1566 - val_recommend_output_accuracy: 0.8484 - val_recommend_output_loss: 0.7143\n",
      "Epoch 29/50\n",
      "\u001b[1m42/42\u001b[0m \u001b[32m━━━━━━━━━━━━━━━━━━━━\u001b[0m\u001b[37m\u001b[0m \u001b[1m10s\u001b[0m 147ms/step - loss: 0.0517 - rating_output_accuracy: 0.9910 - rating_output_loss: 0.0376 - recommend_output_accuracy: 0.9951 - recommend_output_loss: 0.0141 - val_loss: 3.9089 - val_rating_output_accuracy: 0.4412 - val_rating_output_loss: 3.1968 - val_recommend_output_accuracy: 0.8484 - val_recommend_output_loss: 0.7146\n",
      "Epoch 30/50\n",
      "\u001b[1m42/42\u001b[0m \u001b[32m━━━━━━━━━━━━━━━━━━━━\u001b[0m\u001b[37m\u001b[0m \u001b[1m6s\u001b[0m 142ms/step - loss: 0.0437 - rating_output_accuracy: 0.9885 - rating_output_loss: 0.0384 - recommend_output_accuracy: 0.9998 - recommend_output_loss: 0.0053 - val_loss: 4.0327 - val_rating_output_accuracy: 0.3914 - val_rating_output_loss: 3.3453 - val_recommend_output_accuracy: 0.8575 - val_recommend_output_loss: 0.6916\n",
      "Epoch 31/50\n",
      "\u001b[1m42/42\u001b[0m \u001b[32m━━━━━━━━━━━━━━━━━━━━\u001b[0m\u001b[37m\u001b[0m \u001b[1m6s\u001b[0m 140ms/step - loss: 0.0383 - rating_output_accuracy: 0.9937 - rating_output_loss: 0.0245 - recommend_output_accuracy: 0.9963 - recommend_output_loss: 0.0138 - val_loss: 4.1744 - val_rating_output_accuracy: 0.3959 - val_rating_output_loss: 3.4489 - val_recommend_output_accuracy: 0.8462 - val_recommend_output_loss: 0.7261\n",
      "Epoch 32/50\n",
      "\u001b[1m42/42\u001b[0m \u001b[32m━━━━━━━━━━━━━━━━━━━━\u001b[0m\u001b[37m\u001b[0m \u001b[1m7s\u001b[0m 162ms/step - loss: 0.0347 - rating_output_accuracy: 0.9910 - rating_output_loss: 0.0273 - recommend_output_accuracy: 0.9967 - recommend_output_loss: 0.0075 - val_loss: 4.1378 - val_rating_output_accuracy: 0.4231 - val_rating_output_loss: 3.3468 - val_recommend_output_accuracy: 0.8394 - val_recommend_output_loss: 0.7911\n",
      "Epoch 33/50\n",
      "\u001b[1m42/42\u001b[0m \u001b[32m━━━━━━━━━━━━━━━━━━━━\u001b[0m\u001b[37m\u001b[0m \u001b[1m6s\u001b[0m 153ms/step - loss: 0.0530 - rating_output_accuracy: 0.9880 - rating_output_loss: 0.0379 - recommend_output_accuracy: 0.9951 - recommend_output_loss: 0.0151 - val_loss: 4.0272 - val_rating_output_accuracy: 0.4072 - val_rating_output_loss: 3.2894 - val_recommend_output_accuracy: 0.8371 - val_recommend_output_loss: 0.7391\n",
      "Epoch 34/50\n",
      "\u001b[1m42/42\u001b[0m \u001b[32m━━━━━━━━━━━━━━━━━━━━\u001b[0m\u001b[37m\u001b[0m \u001b[1m7s\u001b[0m 161ms/step - loss: 0.0203 - rating_output_accuracy: 0.9991 - rating_output_loss: 0.0143 - recommend_output_accuracy: 0.9977 - recommend_output_loss: 0.0060 - val_loss: 4.1326 - val_rating_output_accuracy: 0.4140 - val_rating_output_loss: 3.3682 - val_recommend_output_accuracy: 0.8439 - val_recommend_output_loss: 0.7654\n",
      "Epoch 35/50\n",
      "\u001b[1m42/42\u001b[0m \u001b[32m━━━━━━━━━━━━━━━━━━━━\u001b[0m\u001b[37m\u001b[0m \u001b[1m6s\u001b[0m 152ms/step - loss: 0.0297 - rating_output_accuracy: 0.9969 - rating_output_loss: 0.0195 - recommend_output_accuracy: 0.9955 - recommend_output_loss: 0.0101 - val_loss: 4.2906 - val_rating_output_accuracy: 0.4186 - val_rating_output_loss: 3.5073 - val_recommend_output_accuracy: 0.8371 - val_recommend_output_loss: 0.7845\n",
      "Epoch 36/50\n",
      "\u001b[1m42/42\u001b[0m \u001b[32m━━━━━━━━━━━━━━━━━━━━\u001b[0m\u001b[37m\u001b[0m \u001b[1m7s\u001b[0m 160ms/step - loss: 0.0349 - rating_output_accuracy: 0.9892 - rating_output_loss: 0.0277 - recommend_output_accuracy: 0.9983 - recommend_output_loss: 0.0072 - val_loss: 4.1766 - val_rating_output_accuracy: 0.4208 - val_rating_output_loss: 3.3842 - val_recommend_output_accuracy: 0.8439 - val_recommend_output_loss: 0.7984\n",
      "Epoch 37/50\n",
      "\u001b[1m42/42\u001b[0m \u001b[32m━━━━━━━━━━━━━━━━━━━━\u001b[0m\u001b[37m\u001b[0m \u001b[1m7s\u001b[0m 157ms/step - loss: 0.0377 - rating_output_accuracy: 0.9931 - rating_output_loss: 0.0317 - recommend_output_accuracy: 0.9977 - recommend_output_loss: 0.0060 - val_loss: 4.1961 - val_rating_output_accuracy: 0.4638 - val_rating_output_loss: 3.3991 - val_recommend_output_accuracy: 0.8484 - val_recommend_output_loss: 0.8037\n",
      "Epoch 38/50\n",
      "\u001b[1m42/42\u001b[0m \u001b[32m━━━━━━━━━━━━━━━━━━━━\u001b[0m\u001b[37m\u001b[0m \u001b[1m7s\u001b[0m 160ms/step - loss: 0.0300 - rating_output_accuracy: 0.9948 - rating_output_loss: 0.0208 - recommend_output_accuracy: 0.9975 - recommend_output_loss: 0.0092 - val_loss: 4.2856 - val_rating_output_accuracy: 0.4163 - val_rating_output_loss: 3.4771 - val_recommend_output_accuracy: 0.8394 - val_recommend_output_loss: 0.8139\n",
      "Epoch 39/50\n",
      "\u001b[1m42/42\u001b[0m \u001b[32m━━━━━━━━━━━━━━━━━━━━\u001b[0m\u001b[37m\u001b[0m \u001b[1m7s\u001b[0m 157ms/step - loss: 0.0261 - rating_output_accuracy: 0.9948 - rating_output_loss: 0.0201 - recommend_output_accuracy: 0.9991 - recommend_output_loss: 0.0059 - val_loss: 4.3444 - val_rating_output_accuracy: 0.3959 - val_rating_output_loss: 3.6033 - val_recommend_output_accuracy: 0.8484 - val_recommend_output_loss: 0.7467\n",
      "Epoch 40/50\n",
      "\u001b[1m42/42\u001b[0m \u001b[32m━━━━━━━━━━━━━━━━━━━━\u001b[0m\u001b[37m\u001b[0m \u001b[1m10s\u001b[0m 151ms/step - loss: 0.0381 - rating_output_accuracy: 0.9931 - rating_output_loss: 0.0294 - recommend_output_accuracy: 0.9955 - recommend_output_loss: 0.0087 - val_loss: 4.3050 - val_rating_output_accuracy: 0.4615 - val_rating_output_loss: 3.4822 - val_recommend_output_accuracy: 0.8507 - val_recommend_output_loss: 0.8291\n",
      "Epoch 41/50\n",
      "\u001b[1m42/42\u001b[0m \u001b[32m━━━━━━━━━━━━━━━━━━━━\u001b[0m\u001b[37m\u001b[0m \u001b[1m6s\u001b[0m 154ms/step - loss: 0.0422 - rating_output_accuracy: 0.9884 - rating_output_loss: 0.0364 - recommend_output_accuracy: 0.9987 - recommend_output_loss: 0.0059 - val_loss: 4.4041 - val_rating_output_accuracy: 0.3937 - val_rating_output_loss: 3.5681 - val_recommend_output_accuracy: 0.8416 - val_recommend_output_loss: 0.8429\n",
      "Epoch 42/50\n",
      "\u001b[1m42/42\u001b[0m \u001b[32m━━━━━━━━━━━━━━━━━━━━\u001b[0m\u001b[37m\u001b[0m \u001b[1m6s\u001b[0m 143ms/step - loss: 0.0350 - rating_output_accuracy: 0.9888 - rating_output_loss: 0.0315 - recommend_output_accuracy: 0.9986 - recommend_output_loss: 0.0035 - val_loss: 4.2487 - val_rating_output_accuracy: 0.4163 - val_rating_output_loss: 3.4633 - val_recommend_output_accuracy: 0.8529 - val_recommend_output_loss: 0.7893\n",
      "Epoch 43/50\n",
      "\u001b[1m42/42\u001b[0m \u001b[32m━━━━━━━━━━━━━━━━━━━━\u001b[0m\u001b[37m\u001b[0m \u001b[1m6s\u001b[0m 147ms/step - loss: 0.0471 - rating_output_accuracy: 0.9950 - rating_output_loss: 0.0210 - recommend_output_accuracy: 0.9930 - recommend_output_loss: 0.0261 - val_loss: 4.2819 - val_rating_output_accuracy: 0.4208 - val_rating_output_loss: 3.5214 - val_recommend_output_accuracy: 0.8484 - val_recommend_output_loss: 0.7766\n",
      "Epoch 44/50\n",
      "\u001b[1m42/42\u001b[0m \u001b[32m━━━━━━━━━━━━━━━━━━━━\u001b[0m\u001b[37m\u001b[0m \u001b[1m6s\u001b[0m 148ms/step - loss: 0.0738 - rating_output_accuracy: 0.9882 - rating_output_loss: 0.0552 - recommend_output_accuracy: 0.9964 - recommend_output_loss: 0.0185 - val_loss: 4.2978 - val_rating_output_accuracy: 0.4729 - val_rating_output_loss: 3.4077 - val_recommend_output_accuracy: 0.8529 - val_recommend_output_loss: 0.8977\n",
      "Epoch 45/50\n",
      "\u001b[1m42/42\u001b[0m \u001b[32m━━━━━━━━━━━━━━━━━━━━\u001b[0m\u001b[37m\u001b[0m \u001b[1m6s\u001b[0m 147ms/step - loss: 0.1797 - rating_output_accuracy: 0.9493 - rating_output_loss: 0.1536 - recommend_output_accuracy: 0.9897 - recommend_output_loss: 0.0267 - val_loss: 3.9978 - val_rating_output_accuracy: 0.3665 - val_rating_output_loss: 3.2819 - val_recommend_output_accuracy: 0.8213 - val_recommend_output_loss: 0.7121\n",
      "Epoch 46/50\n",
      "\u001b[1m42/42\u001b[0m \u001b[32m━━━━━━━━━━━━━━━━━━━━\u001b[0m\u001b[37m\u001b[0m \u001b[1m6s\u001b[0m 153ms/step - loss: 0.4410 - rating_output_accuracy: 0.8888 - rating_output_loss: 0.3555 - recommend_output_accuracy: 0.9679 - recommend_output_loss: 0.0854 - val_loss: 3.5090 - val_rating_output_accuracy: 0.3824 - val_rating_output_loss: 2.9366 - val_recommend_output_accuracy: 0.8190 - val_recommend_output_loss: 0.5714\n",
      "Epoch 47/50\n",
      "\u001b[1m42/42\u001b[0m \u001b[32m━━━━━━━━━━━━━━━━━━━━\u001b[0m\u001b[37m\u001b[0m \u001b[1m6s\u001b[0m 152ms/step - loss: 0.2716 - rating_output_accuracy: 0.9274 - rating_output_loss: 0.2103 - recommend_output_accuracy: 0.9823 - recommend_output_loss: 0.0612 - val_loss: 3.5018 - val_rating_output_accuracy: 0.4615 - val_rating_output_loss: 2.8487 - val_recommend_output_accuracy: 0.8507 - val_recommend_output_loss: 0.6586\n",
      "Epoch 48/50\n",
      "\u001b[1m42/42\u001b[0m \u001b[32m━━━━━━━━━━━━━━━━━━━━\u001b[0m\u001b[37m\u001b[0m \u001b[1m7s\u001b[0m 168ms/step - loss: 0.0914 - rating_output_accuracy: 0.9794 - rating_output_loss: 0.0733 - recommend_output_accuracy: 0.9920 - recommend_output_loss: 0.0181 - val_loss: 3.5338 - val_rating_output_accuracy: 0.4140 - val_rating_output_loss: 2.9328 - val_recommend_output_accuracy: 0.8620 - val_recommend_output_loss: 0.6046\n",
      "Epoch 49/50\n",
      "\u001b[1m42/42\u001b[0m \u001b[32m━━━━━━━━━━━━━━━━━━━━\u001b[0m\u001b[37m\u001b[0m \u001b[1m7s\u001b[0m 176ms/step - loss: 0.0299 - rating_output_accuracy: 0.9951 - rating_output_loss: 0.0229 - recommend_output_accuracy: 0.9985 - recommend_output_loss: 0.0071 - val_loss: 3.7524 - val_rating_output_accuracy: 0.4434 - val_rating_output_loss: 3.1294 - val_recommend_output_accuracy: 0.8484 - val_recommend_output_loss: 0.6347\n",
      "Epoch 50/50\n",
      "\u001b[1m42/42\u001b[0m \u001b[32m━━━━━━━━━━━━━━━━━━━━\u001b[0m\u001b[37m\u001b[0m \u001b[1m7s\u001b[0m 156ms/step - loss: 0.0215 - rating_output_accuracy: 0.9991 - rating_output_loss: 0.0122 - recommend_output_accuracy: 0.9962 - recommend_output_loss: 0.0092 - val_loss: 3.9423 - val_rating_output_accuracy: 0.4027 - val_rating_output_loss: 3.2634 - val_recommend_output_accuracy: 0.8439 - val_recommend_output_loss: 0.6812\n"
     ]
    }
   ],
   "source": [
    "# Define the model\n",
    "\n",
    "# Input for the airline name and combined text\n",
    "\n",
    "checkpoint = ModelCheckpoint('NLP/Keras-Tensorflow/Airlines reviews prediction/best_model.weights.h5', monitor='val_rating_output_accuracy', save_best_only=True, mode='max', save_weights_only=True)\n",
    "airline_input = Input(shape=(1,), name='airline_input')\n",
    "text_input = Input(shape=(max_words,), name='text_input')\n",
    "embedding_layer = Embedding(\n",
    "        max_token_value,\n",
    "        128,\n",
    "        trainable=True,\n",
    "    ) (text_input)\n",
    "sp_d1 = SpatialDropout1D(0.2)(embedding_layer)\n",
    "LSTM_Layer_1 = LSTM(256, dropout=0.2, return_sequences=True)(sp_d1)\n",
    "dropout = tf.keras.layers.Dropout(0.2)(LSTM_Layer_1)\n",
    "LSTM_Layer_2 = LSTM(128, dropout=0.2)(dropout)\n",
    "# Concatenate the LSTM output with the airline input\n",
    "concatenated = tf.keras.layers.Concatenate()([LSTM_Layer_2, airline_input])\n",
    "# Output layers\n",
    "Output_Layer_1 = Dense(11, activation='softmax', name='rating_output')(concatenated)\n",
    "Output_Layer_2 = Dense(2, activation='softmax', name='recommend_output')(concatenated)\n",
    "\n",
    "model = Model(inputs=[airline_input, text_input], outputs=[Output_Layer_1, Output_Layer_2])\n",
    "\n",
    "\n",
    "\n",
    "# Compile the model with a lower learning rate\n",
    "model.compile(loss='categorical_crossentropy', optimizer=Adam(learning_rate=0.001), metrics=['accuracy','accuracy'])\n",
    "\n",
    "# Display the model summary\n",
    "model.summary()\n",
    "\n",
    "# Train the model with more epochs\n",
    "history = model.fit([input_train[:, 0], input_train[:, 1:]], [targets_train[:, 2:], targets_train[:, :2]], epochs=50, batch_size=32, validation_data=([input_val[:, 0], input_val[:, 1:]], [targets_val[:, 2:], targets_val[:, :2]]), callbacks=[checkpoint])\n",
    "\n"
   ]
  },
  {
   "cell_type": "markdown",
   "metadata": {},
   "source": [
    "This model input a set of variables (The airline encoded and the text) and output another set of variables (The Rating and the Recommend)<br>\n",
    "Now let's load the best model values before continuing"
   ]
  },
  {
   "cell_type": "code",
   "execution_count": 30,
   "metadata": {},
   "outputs": [],
   "source": [
    "model.load_weights('NLP/Keras-Tensorflow/Airlines reviews prediction/best_model.weights.h5')"
   ]
  },
  {
   "cell_type": "markdown",
   "metadata": {},
   "source": [
    "# Predictions on Test"
   ]
  },
  {
   "cell_type": "code",
   "execution_count": 37,
   "metadata": {},
   "outputs": [
    {
     "name": "stdout",
     "output_type": "stream",
     "text": [
      "\u001b[1m14/14\u001b[0m \u001b[32m━━━━━━━━━━━━━━━━━━━━\u001b[0m\u001b[37m\u001b[0m \u001b[1m1s\u001b[0m 40ms/step\n",
      "\u001b[1m14/14\u001b[0m \u001b[32m━━━━━━━━━━━━━━━━━━━━\u001b[0m\u001b[37m\u001b[0m \u001b[1m1s\u001b[0m 38ms/step - loss: 1.7991 - rating_output_accuracy: 0.5552 - rating_output_loss: 1.4775 - recommend_output_accuracy: 0.9097 - recommend_output_loss: 0.3218\n",
      "Model evaluation on test data\n",
      "Test accuracy for rating: 0.5610859990119934\n",
      "Test accuracy for review: 0.918552041053772\n"
     ]
    }
   ],
   "source": [
    "preds = model.predict([input_test[:, 0], input_test[:, 1:]])\n",
    "loss, rating_loss, review_loss, rating_accuracy, review_accuracy = model.evaluate([input_test[:, 0], input_test[:, 1:]], [targets_test[:, 2:], targets_test[:, :2]])\n",
    "\n",
    "print(\"Model evaluation on test data\")\n",
    "print(\"Test accuracy for rating:\", rating_accuracy)\n",
    "print(\"Test accuracy for review:\", review_accuracy)\n"
   ]
  },
  {
   "cell_type": "markdown",
   "metadata": {},
   "source": [
    "As we can see, the model perform better in review (yes or no) than in rating (0 to 10)"
   ]
  },
  {
   "cell_type": "markdown",
   "metadata": {},
   "source": [
    "Now let's unpack the predictions..."
   ]
  },
  {
   "cell_type": "code",
   "execution_count": 46,
   "metadata": {},
   "outputs": [],
   "source": [
    "rating_pred = np.argmax(preds[0], axis=1)\n",
    "recommend_pred = np.argmax(preds[1], axis=1)"
   ]
  },
  {
   "cell_type": "markdown",
   "metadata": {},
   "source": [
    "And also let's unpack the test real results"
   ]
  },
  {
   "cell_type": "code",
   "execution_count": 42,
   "metadata": {},
   "outputs": [],
   "source": [
    "rating_real = np.argmax(targets_test[:, 2:], axis=1)\n",
    "recommend_real = np.argmax(targets_test[:, :2], axis=1)"
   ]
  },
  {
   "cell_type": "code",
   "execution_count": 44,
   "metadata": {},
   "outputs": [
    {
     "data": {
      "image/png": "[encoded data removed]",
      "text/plain": [
       "<Figure size 800x600 with 2 Axes>"
      ]
     },
     "metadata": {},
     "output_type": "display_data"
    }
   ],
   "source": [
    "from sklearn.metrics import confusion_matrix\n",
    "import seaborn as sns\n",
    "\n",
    "import matplotlib.pyplot as plt\n",
    "\n",
    "# Create the confusion matrix\n",
    "conf_matrix = confusion_matrix(recommend_real, recommend_pred)\n",
    "\n",
    "# Plot the confusion matrix using seaborn\n",
    "plt.figure(figsize=(8, 6))\n",
    "sns.heatmap(conf_matrix, annot=True, fmt='d', cmap='Blues', xticklabels=['Not Recommended', 'Recommended'], yticklabels=['Not Recommended', 'Recommended'])\n",
    "plt.xlabel('Predicted')\n",
    "plt.ylabel('Actual')\n",
    "plt.title('Confusion Matrix for Recommendation Prediction')\n",
    "plt.show()"
   ]
  },
  {
   "cell_type": "code",
   "execution_count": 47,
   "metadata": {},
   "outputs": [
    {
     "data": {
      "image/png": "[encoded data removed]",
      "text/plain": [
       "<Figure size 1200x800 with 2 Axes>"
      ]
     },
     "metadata": {},
     "output_type": "display_data"
    }
   ],
   "source": [
    "# Create the confusion matrix for rating prediction\n",
    "conf_matrix_rating = confusion_matrix(rating_real, rating_pred)\n",
    "\n",
    "# Plot the confusion matrix using seaborn\n",
    "plt.figure(figsize=(12, 8))\n",
    "sns.heatmap(conf_matrix_rating, annot=True, fmt='d', cmap='Blues', xticklabels=range(11), yticklabels=range(11))\n",
    "plt.xlabel('Predicted Rating')\n",
    "plt.ylabel('Actual Rating')\n",
    "plt.title('Confusion Matrix for Rating Prediction')\n",
    "plt.show()"
   ]
  },
  {
   "cell_type": "markdown",
   "metadata": {},
   "source": [
    "## Conclusion\n",
    "\n",
    "In this notebook, we performed an extensive exploratory data analysis (EDA) and built a predictive model to analyze customer reviews of Indian airlines. Here are the key steps and findings:\n",
    "\n",
    "1. **Exploratory Data Analysis (EDA)**:\n",
    "    - We explored the distribution of reviews across different airlines and visualized the mean ratings of the top four airlines.\n",
    "    - We observed that Vistara had the best reviews among the airlines.\n",
    "    - We also analyzed the trend of reviews over time, noting a decline in review quality in recent years.\n",
    "\n",
    "2. **Text Manipulation**:\n",
    "    - We combined the title and review text into a single variable and removed unnecessary text and special characters to prepare the data for modeling.\n",
    "\n",
    "3. **Feature Engineering**:\n",
    "    - We encoded the airline names and tokenized the review text.\n",
    "    - We prepared the input features and target variables for the model, including encoding the recommendation and rating columns.\n",
    "\n",
    "4. **Model Design and Training**:\n",
    "    - We designed a neural network model with LSTM layers to handle the sequential nature of the text data.\n",
    "    - The model was trained to predict both the rating and recommendation of the reviews.\n",
    "    - We used a checkpoint to save the best model weights during training.\n",
    "\n",
    "5. **Model Evaluation**:\n",
    "    - The model was evaluated on the test set, showing better performance in predicting recommendations compared to ratings.\n",
    "    - Confusion matrices were plotted to visualize the model's performance on both tasks.\n"
   ]
  }
 ],
 "metadata": {
  "kernelspec": {
   "display_name": "Python 3 (ipykernel)",
   "language": "python",
   "name": "python3"
  },
  "language_info": {
   "codemirror_mode": {
    "name": "ipython",
    "version": 3
   },
   "file_extension": ".py",
   "mimetype": "text/x-python",
   "name": "python",
   "nbconvert_exporter": "python",
   "pygments_lexer": "ipython3",
   "version": "3.10.12"
  }
 },
 "nbformat": 4,
 "nbformat_minor": 2
}
