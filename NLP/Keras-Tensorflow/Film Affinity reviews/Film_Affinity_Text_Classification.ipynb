{
 "cells": [
  {
   "cell_type": "code",
   "execution_count": 1,
   "metadata": {},
   "outputs": [],
   "source": [
    "# First install spacy and the transformer model - If you are using CUDA and cuDNN you may have to make symlinks of the libraries in order to comply with the requirements of the transformer model\n",
    "#!pip install spacy==3.7.0\n",
    "#!pip install spacy-transformers\n",
    "#!python3 -m spacy download es_dep_news_trf"
   ]
  },
  {
   "cell_type": "markdown",
   "metadata": {},
   "source": [
    "# Film reviews Text Classification\n",
    "## Introduction\n",
    "\n",
    "In this notebook, we are working on a text classification problem using a dataset of film reviews. The goal is to predict a punctuation similar to the one the review has."
   ]
  },
  {
   "cell_type": "markdown",
   "metadata": {},
   "source": [
    "#### Declare dependencies"
   ]
  },
  {
   "cell_type": "code",
   "execution_count": 2,
   "metadata": {},
   "outputs": [
    {
     "name": "stdout",
     "output_type": "stream",
     "text": [
      "1 Physical GPUs, 1 Logical GPUs\n"
     ]
    },
    {
     "name": "stderr",
     "output_type": "stream",
     "text": [
      "WARNING: All log messages before absl::InitializeLog() is called are written to STDERR\n",
      "I0000 00:00:1728567844.506356   22748 cuda_executor.cc:1001] could not open file to read NUMA node: /sys/bus/pci/devices/0000:01:00.0/numa_node\n",
      "Your kernel may have been built without NUMA support.\n",
      "I0000 00:00:1728567844.786210   22748 cuda_executor.cc:1001] could not open file to read NUMA node: /sys/bus/pci/devices/0000:01:00.0/numa_node\n",
      "Your kernel may have been built without NUMA support.\n",
      "I0000 00:00:1728567844.786794   22748 cuda_executor.cc:1001] could not open file to read NUMA node: /sys/bus/pci/devices/0000:01:00.0/numa_node\n",
      "Your kernel may have been built without NUMA support.\n",
      "I0000 00:00:1728567844.792316   22748 cuda_executor.cc:1001] could not open file to read NUMA node: /sys/bus/pci/devices/0000:01:00.0/numa_node\n",
      "Your kernel may have been built without NUMA support.\n",
      "I0000 00:00:1728567844.792808   22748 cuda_executor.cc:1001] could not open file to read NUMA node: /sys/bus/pci/devices/0000:01:00.0/numa_node\n",
      "Your kernel may have been built without NUMA support.\n",
      "I0000 00:00:1728567844.793134   22748 cuda_executor.cc:1001] could not open file to read NUMA node: /sys/bus/pci/devices/0000:01:00.0/numa_node\n",
      "Your kernel may have been built without NUMA support.\n",
      "I0000 00:00:1728567845.620580   22748 cuda_executor.cc:1001] could not open file to read NUMA node: /sys/bus/pci/devices/0000:01:00.0/numa_node\n",
      "Your kernel may have been built without NUMA support.\n",
      "I0000 00:00:1728567845.621373   22748 cuda_executor.cc:1001] could not open file to read NUMA node: /sys/bus/pci/devices/0000:01:00.0/numa_node\n",
      "Your kernel may have been built without NUMA support.\n",
      "I0000 00:00:1728567845.632450   22748 cuda_executor.cc:1001] could not open file to read NUMA node: /sys/bus/pci/devices/0000:01:00.0/numa_node\n",
      "Your kernel may have been built without NUMA support.\n"
     ]
    }
   ],
   "source": [
    "import os\n",
    "os.environ['TF_GPU_ALLOCATOR'] = 'cuda_malloc_async'\n",
    "os.environ['TF_CPP_MIN_LOG_LEVEL'] = '3' \n",
    "\n",
    "import warnings\n",
    "warnings.filterwarnings('ignore')\n",
    "\n",
    "import tensorflow as tf\n",
    "gpus = tf.config.list_physical_devices('GPU')\n",
    "if gpus:\n",
    "  try: \n",
    "    # Currently, memory growth needs to be the same across GPUs\n",
    "    for gpu in gpus:\n",
    "      tf.config.experimental.set_memory_growth(gpu, True)\n",
    "    logical_gpus = tf.config.list_logical_devices('GPU')\n",
    "    print(len(gpus), \"Physical GPUs,\", len(logical_gpus), \"Logical GPUs\")\n",
    "  except RuntimeError as e:\n",
    "    # Memory growth must be set before GPUs have been initialized\n",
    "    print(e)\n"
   ]
  },
  {
   "cell_type": "code",
   "execution_count": 3,
   "metadata": {},
   "outputs": [],
   "source": [
    "\n",
    "import pandas as pd\n",
    "import seaborn as sns\n",
    "from sklearn.metrics import confusion_matrix\n",
    "import matplotlib.pyplot as plt\n",
    "from tensorflow.keras.preprocessing.text import Tokenizer\n",
    "from sklearn.model_selection import train_test_split\n",
    "from sklearn.preprocessing import LabelEncoder\n",
    "from tensorflow.keras.models import Sequential\n",
    "from tensorflow.keras.layers import Embedding, LSTM, Dense, SpatialDropout1D, GRU\n",
    "from tensorflow.keras.utils import pad_sequences\n",
    "from tensorflow.keras.utils import to_categorical\n",
    "import re\n",
    "from tensorflow.keras.callbacks import ModelCheckpoint\n",
    "import spacy\n",
    "from keras.optimizers import Adam\n",
    "import spacy_transformers\n",
    "import numpy as np \n",
    "\n"
   ]
  },
  {
   "cell_type": "markdown",
   "metadata": {},
   "source": [
    "#### Load DataFrame"
   ]
  },
  {
   "cell_type": "code",
   "execution_count": 4,
   "metadata": {},
   "outputs": [
    {
     "data": {
      "text/html": [
       "<div>\n",
       "<style scoped>\n",
       "    .dataframe tbody tr th:only-of-type {\n",
       "        vertical-align: middle;\n",
       "    }\n",
       "\n",
       "    .dataframe tbody tr th {\n",
       "        vertical-align: top;\n",
       "    }\n",
       "\n",
       "    .dataframe thead th {\n",
       "        text-align: right;\n",
       "    }\n",
       "</style>\n",
       "<table border=\"1\" class=\"dataframe\">\n",
       "  <thead>\n",
       "    <tr style=\"text-align: right;\">\n",
       "      <th></th>\n",
       "      <th>film_name</th>\n",
       "      <th>gender</th>\n",
       "      <th>film_avg_rate</th>\n",
       "      <th>review_rate</th>\n",
       "      <th>review_title</th>\n",
       "      <th>review_text</th>\n",
       "    </tr>\n",
       "  </thead>\n",
       "  <tbody>\n",
       "    <tr>\n",
       "      <th>0</th>\n",
       "      <td>Respira (Serie de TV)</td>\n",
       "      <td>Serie de TV, Drama, Medicina</td>\n",
       "      <td>4,6</td>\n",
       "      <td>1</td>\n",
       "      <td>Respira</td>\n",
       "      <td>Como fan de las series españolas y de Najwa, e...</td>\n",
       "    </tr>\n",
       "    <tr>\n",
       "      <th>1</th>\n",
       "      <td>Respira (Serie de TV)</td>\n",
       "      <td>Serie de TV, Drama, Medicina</td>\n",
       "      <td>4,6</td>\n",
       "      <td>2</td>\n",
       "      <td>Esta serie te llama tonto a la cara</td>\n",
       "      <td>Todo lo malo que puede tener una serie lo pose...</td>\n",
       "    </tr>\n",
       "    <tr>\n",
       "      <th>2</th>\n",
       "      <td>Respira (Serie de TV)</td>\n",
       "      <td>Serie de TV, Drama, Medicina</td>\n",
       "      <td>4,6</td>\n",
       "      <td>1</td>\n",
       "      <td>Respira</td>\n",
       "      <td>La serie es un drama médico que intenta \"copia...</td>\n",
       "    </tr>\n",
       "    <tr>\n",
       "      <th>3</th>\n",
       "      <td>Respira (Serie de TV)</td>\n",
       "      <td>Serie de TV, Drama, Medicina</td>\n",
       "      <td>4,6</td>\n",
       "      <td>1</td>\n",
       "      <td>Imposible, no hay manera</td>\n",
       "      <td>Nadie te obliga a ver nada que no quieras ver ...</td>\n",
       "    </tr>\n",
       "    <tr>\n",
       "      <th>4</th>\n",
       "      <td>Respira (Serie de TV)</td>\n",
       "      <td>Serie de TV, Drama, Medicina</td>\n",
       "      <td>4,6</td>\n",
       "      <td>1</td>\n",
       "      <td>Serie nefasta</td>\n",
       "      <td>Está serie da vergüenza ajena. Una serie donde...</td>\n",
       "    </tr>\n",
       "  </tbody>\n",
       "</table>\n",
       "</div>"
      ],
      "text/plain": [
       "               film_name                        gender film_avg_rate  \\\n",
       "0  Respira (Serie de TV)  Serie de TV, Drama, Medicina           4,6   \n",
       "1  Respira (Serie de TV)  Serie de TV, Drama, Medicina           4,6   \n",
       "2  Respira (Serie de TV)  Serie de TV, Drama, Medicina           4,6   \n",
       "3  Respira (Serie de TV)  Serie de TV, Drama, Medicina           4,6   \n",
       "4  Respira (Serie de TV)  Serie de TV, Drama, Medicina           4,6   \n",
       "\n",
       "   review_rate                         review_title  \\\n",
       "0            1                              Respira   \n",
       "1            2  Esta serie te llama tonto a la cara   \n",
       "2            1                              Respira   \n",
       "3            1             Imposible, no hay manera   \n",
       "4            1                        Serie nefasta   \n",
       "\n",
       "                                         review_text  \n",
       "0  Como fan de las series españolas y de Najwa, e...  \n",
       "1  Todo lo malo que puede tener una serie lo pose...  \n",
       "2  La serie es un drama médico que intenta \"copia...  \n",
       "3  Nadie te obliga a ver nada que no quieras ver ...  \n",
       "4  Está serie da vergüenza ajena. Una serie donde...  "
      ]
     },
     "execution_count": 4,
     "metadata": {},
     "output_type": "execute_result"
    }
   ],
   "source": [
    "film_df = pd.read_csv('film_reviews_result.csv', sep='|', encoding='utf-8')\n",
    "film_df.head()"
   ]
  },
  {
   "cell_type": "markdown",
   "metadata": {},
   "source": [
    "#### Check labels (Our categories to classify)"
   ]
  },
  {
   "cell_type": "code",
   "execution_count": 5,
   "metadata": {},
   "outputs": [
    {
     "name": "stdout",
     "output_type": "stream",
     "text": [
      "[ 1  2  5  3  6  4  7  8  9 10]\n"
     ]
    }
   ],
   "source": [
    "distinct_labels = film_df['review_rate'].unique()\n",
    "print(distinct_labels)"
   ]
  },
  {
   "cell_type": "markdown",
   "metadata": {},
   "source": [
    "#### Tokenize the text"
   ]
  },
  {
   "cell_type": "code",
   "execution_count": 6,
   "metadata": {},
   "outputs": [
    {
     "data": {
      "text/plain": [
       "0    Respira Como fan de las series espanolas y de ...\n",
       "1    Esta serie te llama tonto a la cara Todo lo ma...\n",
       "2    Respira La serie es un drama medico que intent...\n",
       "3    Imposible, no hay manera Nadie te obliga a ver...\n",
       "4    Serie nefasta Esta serie da verguenza ajena. U...\n",
       "Name: combined_text, dtype: object"
      ]
     },
     "execution_count": 6,
     "metadata": {},
     "output_type": "execute_result"
    }
   ],
   "source": [
    "# Convert text data to strings to avoid AttributeError\n",
    "film_df['review_text'] = film_df['review_text'].astype(str)\n",
    "film_df['review_title'] = film_df['review_title'].astype(str)\n",
    "film_df['film_name'] = film_df['film_name'].astype(str)\n",
    "film_df['gender'] = film_df['gender'].astype(str)\n",
    "# Concatenate the text columns\n",
    "film_df['combined_text'] = film_df['review_title'] + ' ' + film_df['review_text'] + ' ' + film_df['gender']+ ' ' + film_df['film_name']\n",
    "\n",
    "# Replace Spanish letters with their base letters\n",
    "film_df['combined_text'] = film_df['combined_text'].str.normalize('NFKD').str.encode('ascii', errors='ignore').str.decode('utf-8')\n",
    "film_df['combined_text'].head()"
   ]
  },
  {
   "cell_type": "markdown",
   "metadata": {},
   "source": [
    "### Lemmatizer definition\n",
    "We will use the es_dep_news_trf model from spacy."
   ]
  },
  {
   "cell_type": "code",
   "execution_count": 7,
   "metadata": {},
   "outputs": [],
   "source": [
    "nlp = spacy.load('es_dep_news_trf')\n",
    "\n",
    "def lemmatizer(text):  \n",
    "  doc = nlp(text)\n",
    "  return ' '.join([word.lemma_ for word in doc])"
   ]
  },
  {
   "cell_type": "markdown",
   "metadata": {},
   "source": [
    "#### Lemmatizing combined_text"
   ]
  },
  {
   "cell_type": "code",
   "execution_count": 8,
   "metadata": {},
   "outputs": [
    {
     "name": "stdout",
     "output_type": "stream",
     "text": [
      "0    Respira Como fan de el serie espanola y de Naj...\n",
      "1    este serie tú llamar tonto a el cara todo él m...\n",
      "2    Respira el serie ser uno drama medico que inte...\n",
      "3    imposible , no haber manera nadie tú obligar a...\n",
      "4    serie nefasto este serie dar verguenza ajeno ....\n",
      "Name: combined_text, dtype: object\n"
     ]
    }
   ],
   "source": [
    "# Apply the Spanish stemmer to all the words in the 'combined_text' column\n",
    "film_df['combined_text'] = film_df['combined_text'].apply(lambda x: lemmatizer(x))\n",
    "# Print the first 5 rows to verify\n",
    "print(film_df['combined_text'].head())\n"
   ]
  },
  {
   "cell_type": "markdown",
   "metadata": {},
   "source": [
    "##### Tokenizing words"
   ]
  },
  {
   "cell_type": "code",
   "execution_count": 9,
   "metadata": {},
   "outputs": [
    {
     "name": "stdout",
     "output_type": "stream",
     "text": [
      "[[6346, 20, 393, 2, 1, 16, 738, 6, 2, 5416, 17, 2389, 1, 16, 8, 21, 118, 11209, 12039, 46, 22, 4, 3, 46, 1336, 5880, 5416, 30, 2, 118, 125, 3505, 3, 10, 289, 296, 1875, 103, 1432, 2, 18144, 11, 5, 83, 788, 6, 277, 209, 7, 258, 509, 20, 253, 1110, 64, 67, 3, 674, 4, 202, 2, 1379, 7570, 2, 216, 16, 2, 32, 45, 1975, 6346, 16, 2, 32], [17, 16, 40, 426, 936, 9, 1, 446, 24, 4, 118, 3, 36, 27, 5, 16, 4, 1275, 6346, 1, 277, 8, 3957, 1, 35, 8, 514, 2686, 1, 80, 4, 29, 254, 2, 556, 6, 1, 97, 145, 1, 279, 446, 2, 110, 296, 2, 1, 156, 95, 6196, 6, 240, 1, 4095, 3, 516, 6, 22, 158, 4640, 18145, 3, 30, 1976, 128, 7, 17, 155, 64, 28, 29, 1, 126, 79, 2, 1, 629, 13011, 6, 10, 8, 14, 980, 23, 43, 9, 30, 4, 33, 64, 8, 5, 16, 1111, 3, 10, 254, 9, 720, 1, 102, 23, 8, 3, 10, 15, 3754, 413, 2, 2611, 7, 266, 194, 128, 10, 15, 59, 697, 8, 514, 988, 495, 3348, 24, 38, 1363, 95, 5881, 3, 4, 8, 6, 13, 3, 525, 27, 1, 3818, 96, 9, 24, 13, 15, 175, 8553, 29, 6346, 13, 15, 175, 13012, 936, 2, 4371, 16, 2, 32, 45, 1975, 6346, 16, 2, 32], [6346, 1, 16, 8, 5, 45, 1664, 3, 217, 1949, 1, 13013, 21501, 700, 4, 26, 425, 448, 1, 37, 2, 660, 1155, 7, 5, 1950, 9935, 2874, 2, 165, 897, 145, 1, 793, 2, 1950, 2874, 7, 1, 16, 4739, 21, 2, 1, 204, 10535, 41, 9935, 20, 738, 1, 83, 5183, 45, 1664, 141, 27718, 11, 45, 2040, 4372, 6, 27719, 1, 277, 46, 219, 1, 35, 8, 2, 1494, 462, 16, 2, 81, 18146, 3, 525, 1350, 12, 5417, 11, 17, 171, 2, 2235, 16, 2, 32, 45, 1975, 6346, 16, 2, 32], [421, 10, 15, 165, 291, 40, 1919, 9, 29, 59, 3, 10, 98, 29, 6, 31, 10, 15, 631, 241, 2942, 182, 36, 2773, 40, 2, 4, 118, 3, 8, 5, 226, 1156, 89, 3, 1, 168, 2252, 3, 27, 8, 67, 2, 29, 4, 6, 10, 444, 4, 52, 9, 271, 202, 1583, 5, 68, 18, 5, 226, 738, 13, 305, 2, 12, 796, 6, 13, 1919, 9, 1, 119, 870, 2538, 10, 46, 1836, 6, 136, 5562, 20, 41, 39, 3, 160, 605, 4, 6, 1025, 4, 7, 483, 6, 2253, 2, 802, 383, 741, 7, 24, 7, 17, 115, 1238, 87, 1, 630, 509, 85, 1, 1032, 136, 788, 6, 545, 8, 996, 2, 5, 1469, 209, 20, 1, 275, 6, 1, 348, 1, 37, 803, 2, 1400, 6, 1, 277, 46, 916, 898, 291, 4, 46, 276, 19, 2236, 3, 30, 26, 3004, 10, 15, 56, 37, 3, 105, 43, 9, 43, 2465, 13, 2, 7571, 2, 63, 483, 49, 10, 295, 1, 219, 16, 2, 32, 45, 1975, 6346, 16, 2, 32], [16, 3547, 17, 16, 46, 916, 898, 5, 16, 75, 26, 50, 1, 5184, 164, 3, 650, 7, 1, 1950, 8, 1, 1664, 52, 4162, 2, 2687, 27720, 27721, 368, 2, 6562, 14, 616, 31, 98, 30, 5, 16, 57, 5, 1950, 3, 4, 4223, 5, 1837, 18, 57, 1, 4833, 2, 1, 92, 2742, 11, 277, 38, 194, 178, 6, 4, 18, 1038, 8, 3, 110, 28, 12040, 24, 11, 24, 1061, 3, 33, 8, 5, 8192, 18, 3, 5, 1950, 1061, 31, 10, 98, 193, 271, 100, 10, 29, 17, 16, 38, 194, 16, 2, 32, 45, 1975, 6346, 16, 2, 32]]\n",
      "Max length of combined_text: 1122\n"
     ]
    }
   ],
   "source": [
    "# Initialize the tokenizer with a custom filter to remove special characters\n",
    "tokenizer = Tokenizer(filters='!\"#$%&()*+,-./:;<=>?@[\\\\]^_`{|}~\\t\\n')\n",
    "\n",
    "# Fit the tokenizer on the text data\n",
    "tokenizer.fit_on_texts(film_df['combined_text'])\n",
    "\n",
    "# Convert the text to sequences\n",
    "sequences = tokenizer.texts_to_sequences(film_df['combined_text'])\n",
    "\n",
    "# Print the first 5 sequences to verify\n",
    "print(sequences[:5])\n",
    "\n",
    "# Get the maximum length of the sequences\n",
    "max_len_combined_text = max(len(seq) for seq in sequences)\n",
    "print(f'Max length of combined_text: {max_len_combined_text}')"
   ]
  },
  {
   "cell_type": "markdown",
   "metadata": {},
   "source": [
    "#### Getting max_len and max_token for the model"
   ]
  },
  {
   "cell_type": "code",
   "execution_count": 10,
   "metadata": {},
   "outputs": [
    {
     "name": "stdout",
     "output_type": "stream",
     "text": [
      "Max length of combined_text: 1122\n",
      "Max token value in sequences: 49434\n"
     ]
    }
   ],
   "source": [
    "# Get the maximum length of the sequences\n",
    "max_len_combined_text = max(len(seq) for seq in sequences)\n",
    "print(f'Max length of combined_text: {max_len_combined_text}')\n",
    "\n",
    "max_token_value = max(max(seq) for seq in sequences if seq)\n",
    "print(f'Max token value in sequences: {max_token_value}')"
   ]
  },
  {
   "cell_type": "markdown",
   "metadata": {},
   "source": [
    "#### Getting the review rates for the model"
   ]
  },
  {
   "cell_type": "code",
   "execution_count": 11,
   "metadata": {},
   "outputs": [
    {
     "data": {
      "text/plain": [
       "array([1, 2, 1, 1, 1])"
      ]
     },
     "execution_count": 11,
     "metadata": {},
     "output_type": "execute_result"
    }
   ],
   "source": [
    "reviews_rates = film_df['review_rate'].to_numpy()\n",
    "reviews_rates[:5]"
   ]
  },
  {
   "cell_type": "markdown",
   "metadata": {},
   "source": [
    "#### Train test split the sequences and labels"
   ]
  },
  {
   "cell_type": "code",
   "execution_count": 12,
   "metadata": {},
   "outputs": [
    {
     "name": "stdout",
     "output_type": "stream",
     "text": [
      "X_train shape: 7040\n",
      "X_val shape: 2414\n",
      "X_test shape: 604\n",
      "y_train shape: 7040\n",
      "y_val shape: 2414\n",
      "y_test shape: 604\n"
     ]
    }
   ],
   "source": [
    "# Split the sequences and label_encoded into training and testing sets\n",
    "# Split the sequences and label_encoded into training, validation, and testing sets\n",
    "X_train, X_temp, y_train, y_temp = train_test_split(sequences, reviews_rates, test_size=0.3, random_state=42)\n",
    "X_val, X_test, y_val, y_test = train_test_split(X_temp, y_temp, test_size=0.2, random_state=42)\n",
    "\n",
    "# Print the shapes of the resulting arrays to verify\n",
    "print(f'X_train shape: {len(X_train)}')\n",
    "print(f'X_val shape: {len(X_val)}')\n",
    "print(f'X_test shape: {len(X_test)}')\n",
    "print(f'y_train shape: {len(y_train)}')\n",
    "print(f'y_val shape: {len(y_val)}')\n",
    "print(f'y_test shape: {len(y_test)}')"
   ]
  },
  {
   "cell_type": "markdown",
   "metadata": {},
   "source": [
    "#### Define Max words and Max Length"
   ]
  },
  {
   "cell_type": "code",
   "execution_count": 13,
   "metadata": {},
   "outputs": [],
   "source": [
    "# Define the maximum number of words and the maximum sequence length\n",
    "max_words = max_token_value\n",
    "max_len = max_len_combined_text"
   ]
  },
  {
   "cell_type": "markdown",
   "metadata": {},
   "source": [
    "#### Adapt Sequences and labels"
   ]
  },
  {
   "cell_type": "code",
   "execution_count": 14,
   "metadata": {},
   "outputs": [],
   "source": [
    "# Pad the sequences to ensure uniform input size (this put a 0 in front of the sequence to make them all the same length)\n",
    "X_train_padded = pad_sequences(X_train, maxlen=max_len)\n",
    "X_test_padded = pad_sequences(X_test, maxlen=max_len)\n",
    "X_val_padded = pad_sequences(X_val, maxlen=max_len)\n",
    "\n",
    "# Convert labels to categorical format (this change the label to a one-hot encoded format e.g [0,0,1,0])\n",
    "y_train_categorical = to_categorical(y_train)\n",
    "y_test_categorical = to_categorical(y_test)\n",
    "y_val_categorical = to_categorical(y_val)"
   ]
  },
  {
   "cell_type": "code",
   "execution_count": 15,
   "metadata": {},
   "outputs": [
    {
     "name": "stdout",
     "output_type": "stream",
     "text": [
      "0    4.6\n",
      "1    4.6\n",
      "2    4.6\n",
      "3    4.6\n",
      "4    4.6\n",
      "Name: film_avg_rate, dtype: float64\n"
     ]
    }
   ],
   "source": [
    "# Replace commas with dots in the 'film_avg_rate' column\n",
    "film_df['film_avg_rate'] = film_df['film_avg_rate'].str.replace(',', '.').astype(float)\n",
    "\n",
    "\n",
    "# Verify the conversion\n",
    "print(film_df['film_avg_rate'].head())"
   ]
  },
  {
   "cell_type": "code",
   "execution_count": 16,
   "metadata": {},
   "outputs": [],
   "source": [
    "# Normalize the film_avg_rate feature\n",
    "film_df['film_avg_rate'] = (film_df['film_avg_rate'] - film_df['film_avg_rate'].mean()) / film_df['film_avg_rate'].std()\n",
    "\n",
    "\n",
    "# Add the normalized film_avg_rate to the padded sequences\n",
    "X_train_combined = [np.append(seq, film_df.loc[idx, 'film_avg_rate']) for idx, seq in enumerate(X_train_padded)]\n",
    "X_val_combined = [np.append(seq, film_df.loc[idx, 'film_avg_rate']) for idx, seq in enumerate(X_val_padded)]\n",
    "X_test_combined = [np.append(seq, film_df.loc[idx, 'film_avg_rate']) for idx, seq in enumerate(X_test_padded)]\n",
    "\n",
    "X_train_combined = np.array(X_train_combined)\n",
    "X_val_combined = np.array(X_val_combined)\n",
    "X_test_combined = np.array(X_test_combined)"
   ]
  },
  {
   "cell_type": "markdown",
   "metadata": {},
   "source": [
    "### Model\n",
    "#### Defining and Fitting"
   ]
  },
  {
   "cell_type": "code",
   "execution_count": 17,
   "metadata": {},
   "outputs": [
    {
     "data": {
      "text/html": [
       "<pre style=\"white-space:pre;overflow-x:auto;line-height:normal;font-family:Menlo,'DejaVu Sans Mono',consolas,'Courier New',monospace\"><span style=\"font-weight: bold\">Model: \"sequential\"</span>\n",
       "</pre>\n"
      ],
      "text/plain": [
       "\u001b[1mModel: \"sequential\"\u001b[0m\n"
      ]
     },
     "metadata": {},
     "output_type": "display_data"
    },
    {
     "data": {
      "text/html": [
       "<pre style=\"white-space:pre;overflow-x:auto;line-height:normal;font-family:Menlo,'DejaVu Sans Mono',consolas,'Courier New',monospace\">┏━━━━━━━━━━━━━━━━━━━━━━━━━━━━━━━━━┳━━━━━━━━━━━━━━━━━━━━━━━━┳━━━━━━━━━━━━━━━┓\n",
       "┃<span style=\"font-weight: bold\"> Layer (type)                    </span>┃<span style=\"font-weight: bold\"> Output Shape           </span>┃<span style=\"font-weight: bold\">       Param # </span>┃\n",
       "┡━━━━━━━━━━━━━━━━━━━━━━━━━━━━━━━━━╇━━━━━━━━━━━━━━━━━━━━━━━━╇━━━━━━━━━━━━━━━┩\n",
       "│ embedding (<span style=\"color: #0087ff; text-decoration-color: #0087ff\">Embedding</span>)           │ (<span style=\"color: #00d7ff; text-decoration-color: #00d7ff\">None</span>, <span style=\"color: #00af00; text-decoration-color: #00af00\">1123</span>, <span style=\"color: #00af00; text-decoration-color: #00af00\">100</span>)      │     <span style=\"color: #00af00; text-decoration-color: #00af00\">4,943,400</span> │\n",
       "├─────────────────────────────────┼────────────────────────┼───────────────┤\n",
       "│ spatial_dropout1d               │ (<span style=\"color: #00d7ff; text-decoration-color: #00d7ff\">None</span>, <span style=\"color: #00af00; text-decoration-color: #00af00\">1123</span>, <span style=\"color: #00af00; text-decoration-color: #00af00\">100</span>)      │             <span style=\"color: #00af00; text-decoration-color: #00af00\">0</span> │\n",
       "│ (<span style=\"color: #0087ff; text-decoration-color: #0087ff\">SpatialDropout1D</span>)              │                        │               │\n",
       "├─────────────────────────────────┼────────────────────────┼───────────────┤\n",
       "│ lstm (<span style=\"color: #0087ff; text-decoration-color: #0087ff\">LSTM</span>)                     │ (<span style=\"color: #00d7ff; text-decoration-color: #00d7ff\">None</span>, <span style=\"color: #00af00; text-decoration-color: #00af00\">100</span>)            │        <span style=\"color: #00af00; text-decoration-color: #00af00\">80,400</span> │\n",
       "├─────────────────────────────────┼────────────────────────┼───────────────┤\n",
       "│ dense (<span style=\"color: #0087ff; text-decoration-color: #0087ff\">Dense</span>)                   │ (<span style=\"color: #00d7ff; text-decoration-color: #00d7ff\">None</span>, <span style=\"color: #00af00; text-decoration-color: #00af00\">11</span>)             │         <span style=\"color: #00af00; text-decoration-color: #00af00\">1,111</span> │\n",
       "└─────────────────────────────────┴────────────────────────┴───────────────┘\n",
       "</pre>\n"
      ],
      "text/plain": [
       "┏━━━━━━━━━━━━━━━━━━━━━━━━━━━━━━━━━┳━━━━━━━━━━━━━━━━━━━━━━━━┳━━━━━━━━━━━━━━━┓\n",
       "┃\u001b[1m \u001b[0m\u001b[1mLayer (type)                   \u001b[0m\u001b[1m \u001b[0m┃\u001b[1m \u001b[0m\u001b[1mOutput Shape          \u001b[0m\u001b[1m \u001b[0m┃\u001b[1m \u001b[0m\u001b[1m      Param #\u001b[0m\u001b[1m \u001b[0m┃\n",
       "┡━━━━━━━━━━━━━━━━━━━━━━━━━━━━━━━━━╇━━━━━━━━━━━━━━━━━━━━━━━━╇━━━━━━━━━━━━━━━┩\n",
       "│ embedding (\u001b[38;5;33mEmbedding\u001b[0m)           │ (\u001b[38;5;45mNone\u001b[0m, \u001b[38;5;34m1123\u001b[0m, \u001b[38;5;34m100\u001b[0m)      │     \u001b[38;5;34m4,943,400\u001b[0m │\n",
       "├─────────────────────────────────┼────────────────────────┼───────────────┤\n",
       "│ spatial_dropout1d               │ (\u001b[38;5;45mNone\u001b[0m, \u001b[38;5;34m1123\u001b[0m, \u001b[38;5;34m100\u001b[0m)      │             \u001b[38;5;34m0\u001b[0m │\n",
       "│ (\u001b[38;5;33mSpatialDropout1D\u001b[0m)              │                        │               │\n",
       "├─────────────────────────────────┼────────────────────────┼───────────────┤\n",
       "│ lstm (\u001b[38;5;33mLSTM\u001b[0m)                     │ (\u001b[38;5;45mNone\u001b[0m, \u001b[38;5;34m100\u001b[0m)            │        \u001b[38;5;34m80,400\u001b[0m │\n",
       "├─────────────────────────────────┼────────────────────────┼───────────────┤\n",
       "│ dense (\u001b[38;5;33mDense\u001b[0m)                   │ (\u001b[38;5;45mNone\u001b[0m, \u001b[38;5;34m11\u001b[0m)             │         \u001b[38;5;34m1,111\u001b[0m │\n",
       "└─────────────────────────────────┴────────────────────────┴───────────────┘\n"
      ]
     },
     "metadata": {},
     "output_type": "display_data"
    },
    {
     "data": {
      "text/html": [
       "<pre style=\"white-space:pre;overflow-x:auto;line-height:normal;font-family:Menlo,'DejaVu Sans Mono',consolas,'Courier New',monospace\"><span style=\"font-weight: bold\"> Total params: </span><span style=\"color: #00af00; text-decoration-color: #00af00\">5,024,911</span> (19.17 MB)\n",
       "</pre>\n"
      ],
      "text/plain": [
       "\u001b[1m Total params: \u001b[0m\u001b[38;5;34m5,024,911\u001b[0m (19.17 MB)\n"
      ]
     },
     "metadata": {},
     "output_type": "display_data"
    },
    {
     "data": {
      "text/html": [
       "<pre style=\"white-space:pre;overflow-x:auto;line-height:normal;font-family:Menlo,'DejaVu Sans Mono',consolas,'Courier New',monospace\"><span style=\"font-weight: bold\"> Trainable params: </span><span style=\"color: #00af00; text-decoration-color: #00af00\">5,024,911</span> (19.17 MB)\n",
       "</pre>\n"
      ],
      "text/plain": [
       "\u001b[1m Trainable params: \u001b[0m\u001b[38;5;34m5,024,911\u001b[0m (19.17 MB)\n"
      ]
     },
     "metadata": {},
     "output_type": "display_data"
    },
    {
     "data": {
      "text/html": [
       "<pre style=\"white-space:pre;overflow-x:auto;line-height:normal;font-family:Menlo,'DejaVu Sans Mono',consolas,'Courier New',monospace\"><span style=\"font-weight: bold\"> Non-trainable params: </span><span style=\"color: #00af00; text-decoration-color: #00af00\">0</span> (0.00 B)\n",
       "</pre>\n"
      ],
      "text/plain": [
       "\u001b[1m Non-trainable params: \u001b[0m\u001b[38;5;34m0\u001b[0m (0.00 B)\n"
      ]
     },
     "metadata": {},
     "output_type": "display_data"
    },
    {
     "name": "stdout",
     "output_type": "stream",
     "text": [
      "Epoch 1/30\n",
      "\u001b[1m110/110\u001b[0m \u001b[32m━━━━━━━━━━━━━━━━━━━━\u001b[0m\u001b[37m\u001b[0m \u001b[1m15s\u001b[0m 116ms/step - accuracy: 0.1577 - loss: 2.2886 - val_accuracy: 0.1686 - val_loss: 2.2100\n",
      "Epoch 2/30\n",
      "\u001b[1m110/110\u001b[0m \u001b[32m━━━━━━━━━━━━━━━━━━━━\u001b[0m\u001b[37m\u001b[0m \u001b[1m11s\u001b[0m 98ms/step - accuracy: 0.1841 - loss: 2.1557 - val_accuracy: 0.2229 - val_loss: 2.0483\n",
      "Epoch 3/30\n",
      "\u001b[1m110/110\u001b[0m \u001b[32m━━━━━━━━━━━━━━━━━━━━\u001b[0m\u001b[37m\u001b[0m \u001b[1m20s\u001b[0m 93ms/step - accuracy: 0.2783 - loss: 1.8776 - val_accuracy: 0.2486 - val_loss: 1.9914\n",
      "Epoch 4/30\n",
      "\u001b[1m110/110\u001b[0m \u001b[32m━━━━━━━━━━━━━━━━━━━━\u001b[0m\u001b[37m\u001b[0m \u001b[1m18s\u001b[0m 73ms/step - accuracy: 0.3617 - loss: 1.6523 - val_accuracy: 0.2510 - val_loss: 1.9530\n",
      "Epoch 5/30\n",
      "\u001b[1m110/110\u001b[0m \u001b[32m━━━━━━━━━━━━━━━━━━━━\u001b[0m\u001b[37m\u001b[0m \u001b[1m11s\u001b[0m 97ms/step - accuracy: 0.4275 - loss: 1.4745 - val_accuracy: 0.2668 - val_loss: 2.0341\n",
      "Epoch 6/30\n",
      "\u001b[1m110/110\u001b[0m \u001b[32m━━━━━━━━━━━━━━━━━━━━\u001b[0m\u001b[37m\u001b[0m \u001b[1m11s\u001b[0m 100ms/step - accuracy: 0.5027 - loss: 1.2604 - val_accuracy: 0.2494 - val_loss: 2.1604\n",
      "Epoch 7/30\n",
      "\u001b[1m110/110\u001b[0m \u001b[32m━━━━━━━━━━━━━━━━━━━━\u001b[0m\u001b[37m\u001b[0m \u001b[1m11s\u001b[0m 104ms/step - accuracy: 0.5638 - loss: 1.1487 - val_accuracy: 0.2697 - val_loss: 2.2891\n",
      "Epoch 8/30\n",
      "\u001b[1m110/110\u001b[0m \u001b[32m━━━━━━━━━━━━━━━━━━━━\u001b[0m\u001b[37m\u001b[0m \u001b[1m14s\u001b[0m 130ms/step - accuracy: 0.6524 - loss: 0.9346 - val_accuracy: 0.2643 - val_loss: 2.3731\n",
      "Epoch 9/30\n",
      "\u001b[1m110/110\u001b[0m \u001b[32m━━━━━━━━━━━━━━━━━━━━\u001b[0m\u001b[37m\u001b[0m \u001b[1m13s\u001b[0m 116ms/step - accuracy: 0.6667 - loss: 0.8717 - val_accuracy: 0.2701 - val_loss: 2.5233\n",
      "Epoch 10/30\n",
      "\u001b[1m110/110\u001b[0m \u001b[32m━━━━━━━━━━━━━━━━━━━━\u001b[0m\u001b[37m\u001b[0m \u001b[1m14s\u001b[0m 131ms/step - accuracy: 0.7028 - loss: 0.7864 - val_accuracy: 0.2742 - val_loss: 2.5923\n",
      "Epoch 11/30\n",
      "\u001b[1m110/110\u001b[0m \u001b[32m━━━━━━━━━━━━━━━━━━━━\u001b[0m\u001b[37m\u001b[0m \u001b[1m11s\u001b[0m 101ms/step - accuracy: 0.7659 - loss: 0.6545 - val_accuracy: 0.2751 - val_loss: 2.7462\n",
      "Epoch 12/30\n",
      "\u001b[1m110/110\u001b[0m \u001b[32m━━━━━━━━━━━━━━━━━━━━\u001b[0m\u001b[37m\u001b[0m \u001b[1m13s\u001b[0m 117ms/step - accuracy: 0.7862 - loss: 0.5824 - val_accuracy: 0.2618 - val_loss: 3.2030\n",
      "Epoch 13/30\n",
      "\u001b[1m110/110\u001b[0m \u001b[32m━━━━━━━━━━━━━━━━━━━━\u001b[0m\u001b[37m\u001b[0m \u001b[1m13s\u001b[0m 121ms/step - accuracy: 0.8228 - loss: 0.5001 - val_accuracy: 0.2693 - val_loss: 3.2054\n",
      "Epoch 14/30\n",
      "\u001b[1m110/110\u001b[0m \u001b[32m━━━━━━━━━━━━━━━━━━━━\u001b[0m\u001b[37m\u001b[0m \u001b[1m11s\u001b[0m 101ms/step - accuracy: 0.8435 - loss: 0.4443 - val_accuracy: 0.2676 - val_loss: 3.2787\n",
      "Epoch 15/30\n",
      "\u001b[1m110/110\u001b[0m \u001b[32m━━━━━━━━━━━━━━━━━━━━\u001b[0m\u001b[37m\u001b[0m \u001b[1m13s\u001b[0m 122ms/step - accuracy: 0.8566 - loss: 0.4105 - val_accuracy: 0.2709 - val_loss: 3.4020\n",
      "Epoch 16/30\n",
      "\u001b[1m110/110\u001b[0m \u001b[32m━━━━━━━━━━━━━━━━━━━━\u001b[0m\u001b[37m\u001b[0m \u001b[1m11s\u001b[0m 104ms/step - accuracy: 0.8865 - loss: 0.3357 - val_accuracy: 0.2742 - val_loss: 3.4892\n",
      "Epoch 17/30\n",
      "\u001b[1m110/110\u001b[0m \u001b[32m━━━━━━━━━━━━━━━━━━━━\u001b[0m\u001b[37m\u001b[0m \u001b[1m24s\u001b[0m 126ms/step - accuracy: 0.8845 - loss: 0.3407 - val_accuracy: 0.2610 - val_loss: 3.7452\n",
      "Epoch 18/30\n",
      "\u001b[1m110/110\u001b[0m \u001b[32m━━━━━━━━━━━━━━━━━━━━\u001b[0m\u001b[37m\u001b[0m \u001b[1m12s\u001b[0m 105ms/step - accuracy: 0.8987 - loss: 0.3085 - val_accuracy: 0.2568 - val_loss: 3.6161\n",
      "Epoch 19/30\n",
      "\u001b[1m110/110\u001b[0m \u001b[32m━━━━━━━━━━━━━━━━━━━━\u001b[0m\u001b[37m\u001b[0m \u001b[1m13s\u001b[0m 119ms/step - accuracy: 0.9213 - loss: 0.2416 - val_accuracy: 0.2610 - val_loss: 3.8213\n",
      "Epoch 20/30\n",
      "\u001b[1m110/110\u001b[0m \u001b[32m━━━━━━━━━━━━━━━━━━━━\u001b[0m\u001b[37m\u001b[0m \u001b[1m10s\u001b[0m 87ms/step - accuracy: 0.9201 - loss: 0.2473 - val_accuracy: 0.2639 - val_loss: 3.9129\n",
      "Epoch 21/30\n",
      "\u001b[1m110/110\u001b[0m \u001b[32m━━━━━━━━━━━━━━━━━━━━\u001b[0m\u001b[37m\u001b[0m \u001b[1m12s\u001b[0m 107ms/step - accuracy: 0.9326 - loss: 0.2019 - val_accuracy: 0.2726 - val_loss: 3.7584\n",
      "Epoch 22/30\n",
      "\u001b[1m110/110\u001b[0m \u001b[32m━━━━━━━━━━━━━━━━━━━━\u001b[0m\u001b[37m\u001b[0m \u001b[1m12s\u001b[0m 110ms/step - accuracy: 0.9459 - loss: 0.1687 - val_accuracy: 0.2469 - val_loss: 4.1803\n",
      "Epoch 23/30\n",
      "\u001b[1m110/110\u001b[0m \u001b[32m━━━━━━━━━━━━━━━━━━━━\u001b[0m\u001b[37m\u001b[0m \u001b[1m10s\u001b[0m 86ms/step - accuracy: 0.9468 - loss: 0.1681 - val_accuracy: 0.2639 - val_loss: 4.2360\n",
      "Epoch 24/30\n",
      "\u001b[1m110/110\u001b[0m \u001b[32m━━━━━━━━━━━━━━━━━━━━\u001b[0m\u001b[37m\u001b[0m \u001b[1m12s\u001b[0m 107ms/step - accuracy: 0.9613 - loss: 0.1216 - val_accuracy: 0.2506 - val_loss: 4.2371\n",
      "Epoch 25/30\n",
      "\u001b[1m110/110\u001b[0m \u001b[32m━━━━━━━━━━━━━━━━━━━━\u001b[0m\u001b[37m\u001b[0m \u001b[1m12s\u001b[0m 106ms/step - accuracy: 0.9548 - loss: 0.1457 - val_accuracy: 0.2589 - val_loss: 4.4328\n",
      "Epoch 26/30\n",
      "\u001b[1m110/110\u001b[0m \u001b[32m━━━━━━━━━━━━━━━━━━━━\u001b[0m\u001b[37m\u001b[0m \u001b[1m10s\u001b[0m 88ms/step - accuracy: 0.9655 - loss: 0.1143 - val_accuracy: 0.2601 - val_loss: 4.2376\n",
      "Epoch 27/30\n",
      "\u001b[1m110/110\u001b[0m \u001b[32m━━━━━━━━━━━━━━━━━━━━\u001b[0m\u001b[37m\u001b[0m \u001b[1m13s\u001b[0m 115ms/step - accuracy: 0.9648 - loss: 0.1106 - val_accuracy: 0.2577 - val_loss: 4.6588\n",
      "Epoch 28/30\n",
      "\u001b[1m110/110\u001b[0m \u001b[32m━━━━━━━━━━━━━━━━━━━━\u001b[0m\u001b[37m\u001b[0m \u001b[1m13s\u001b[0m 119ms/step - accuracy: 0.9513 - loss: 0.1431 - val_accuracy: 0.2606 - val_loss: 4.4058\n",
      "Epoch 29/30\n",
      "\u001b[1m110/110\u001b[0m \u001b[32m━━━━━━━━━━━━━━━━━━━━\u001b[0m\u001b[37m\u001b[0m \u001b[1m15s\u001b[0m 132ms/step - accuracy: 0.9716 - loss: 0.0902 - val_accuracy: 0.2448 - val_loss: 4.5307\n",
      "Epoch 30/30\n",
      "\u001b[1m110/110\u001b[0m \u001b[32m━━━━━━━━━━━━━━━━━━━━\u001b[0m\u001b[37m\u001b[0m \u001b[1m13s\u001b[0m 116ms/step - accuracy: 0.9693 - loss: 0.0885 - val_accuracy: 0.2556 - val_loss: 4.5880\n"
     ]
    }
   ],
   "source": [
    "checkpoint = ModelCheckpoint('best_model.weights.h5', monitor='val_accuracy', save_best_only=True, mode='max', save_weights_only=True)\n",
    "\n",
    "# Adjust the model to accept the additional input feature\n",
    "model = Sequential()\n",
    "model.add(Embedding(max_words, 100, input_length=max_len + 1))  # +1 for the additional feature\n",
    "model.add(SpatialDropout1D(0.2))\n",
    "model.add(LSTM(100, dropout=0.2))\n",
    "model.add(Dense(y_train_categorical.shape[1], activation='softmax'))  # Ensure the output layer matches the number of unique labels\n",
    "\n",
    "# Compile the model\n",
    "model.compile(loss='categorical_crossentropy', optimizer=Adam(learning_rate=0.001), metrics=['accuracy'])\n",
    "\n",
    "model.build((None, max_len + 1))\n",
    "# Print the model summary\n",
    "model.summary()\n",
    "\n",
    "# Train the model\n",
    "history = model.fit(X_train_combined, y_train_categorical, epochs=30, batch_size=64, validation_data=(X_val_combined, y_val_categorical), callbacks=[checkpoint])"
   ]
  },
  {
   "cell_type": "code",
   "execution_count": 18,
   "metadata": {},
   "outputs": [],
   "source": [
    "model.load_weights('best_model.weights.h5')"
   ]
  },
  {
   "cell_type": "markdown",
   "metadata": {},
   "source": [
    "#### Testing Accuracy on test data"
   ]
  },
  {
   "cell_type": "code",
   "execution_count": 19,
   "metadata": {},
   "outputs": [
    {
     "name": "stdout",
     "output_type": "stream",
     "text": [
      "Test Loss: 2.9595224857330322\n",
      "Test Accuracy: 0.23675496876239777\n"
     ]
    }
   ],
   "source": [
    "# Evaluate the model on the test data\n",
    "loss, accuracy = model.evaluate(X_test_combined, y_test_categorical, verbose=0)\n",
    "\n",
    "print(f'Test Loss: {loss}')\n",
    "print(f'Test Accuracy: {accuracy}')"
   ]
  },
  {
   "cell_type": "markdown",
   "metadata": {},
   "source": [
    "#### Plot a graph to show loss and accuracy over each epoch of the model"
   ]
  },
  {
   "cell_type": "code",
   "execution_count": 20,
   "metadata": {},
   "outputs": [
    {
     "data": {
      "image/png": "[encoded data removed]",
      "text/plain": [
       "<Figure size 1200x400 with 2 Axes>"
      ]
     },
     "metadata": {},
     "output_type": "display_data"
    }
   ],
   "source": [
    "# Plot training & validation accuracy values\n",
    "plt.figure(figsize=(12, 4))\n",
    "\n",
    "plt.subplot(1, 2, 1)\n",
    "plt.plot(history.history['accuracy'])\n",
    "plt.plot(history.history['val_accuracy'])\n",
    "plt.title('Model accuracy')\n",
    "plt.ylabel('Accuracy')\n",
    "plt.xlabel('Epoch')\n",
    "plt.legend(['Train', 'Test'], loc='upper left')\n",
    "\n",
    "# Plot training & validation loss values\n",
    "plt.subplot(1, 2, 2)\n",
    "plt.plot(history.history['loss'])\n",
    "plt.plot(history.history['val_loss'])\n",
    "plt.title('Model loss')\n",
    "plt.ylabel('Loss')\n",
    "plt.xlabel('Epoch')\n",
    "plt.legend(['Train', 'Test'], loc='upper left')\n",
    "\n",
    "plt.show()"
   ]
  },
  {
   "cell_type": "markdown",
   "metadata": {},
   "source": [
    "#### Predict one test data only"
   ]
  },
  {
   "cell_type": "code",
   "execution_count": 21,
   "metadata": {},
   "outputs": [
    {
     "name": "stdout",
     "output_type": "stream",
     "text": [
      "\u001b[1m1/1\u001b[0m \u001b[32m━━━━━━━━━━━━━━━━━━━━\u001b[0m\u001b[37m\u001b[0m \u001b[1m-2s\u001b[0m -1661283us/step\n",
      "Predicted review rate: 7\n",
      "Real review rate: 10\n"
     ]
    }
   ],
   "source": [
    "# Select a single test sample\n",
    "sample_index = 5\n",
    "sample = X_test_combined[sample_index].reshape(1, -1)\n",
    "\n",
    "# Predict the label for the sample\n",
    "predicted_probabilities = model.predict(sample)\n",
    "predicted_label = predicted_probabilities.argmax(axis=-1)\n",
    "real_label = y_test[sample_index]\n",
    "\n",
    "# Decode the predicted label to its original category\n",
    "print(f'Predicted review rate: {predicted_label[0]}')\n",
    "print(f'Real review rate: {real_label}')"
   ]
  },
  {
   "cell_type": "markdown",
   "metadata": {},
   "source": [
    "#### Predict all test data"
   ]
  },
  {
   "cell_type": "code",
   "execution_count": 22,
   "metadata": {},
   "outputs": [
    {
     "name": "stdout",
     "output_type": "stream",
     "text": [
      "\u001b[1m19/19\u001b[0m \u001b[32m━━━━━━━━━━━━━━━━━━━━\u001b[0m\u001b[37m\u001b[0m \u001b[1m1s\u001b[0m 36ms/step\n",
      "Sample 0: Predicted review rate: 6, Real review rate: 6\n",
      "Sample 1: Predicted review rate: 8, Real review rate: 8\n",
      "Sample 2: Predicted review rate: 6, Real review rate: 2\n",
      "Sample 3: Predicted review rate: 7, Real review rate: 3\n",
      "Sample 4: Predicted review rate: 6, Real review rate: 6\n",
      "Sample 5: Predicted review rate: 7, Real review rate: 10\n",
      "Sample 6: Predicted review rate: 8, Real review rate: 8\n",
      "Sample 7: Predicted review rate: 7, Real review rate: 7\n",
      "Sample 8: Predicted review rate: 6, Real review rate: 5\n",
      "Sample 9: Predicted review rate: 7, Real review rate: 7\n"
     ]
    }
   ],
   "source": [
    "# Predict the labels for all samples in X_test_padded\n",
    "predicted_probabilities_all = model.predict(X_test_combined)\n",
    "predicted_labels_all = predicted_probabilities_all.argmax(axis=-1)\n",
    "\n",
    "# Print the first 10 predictions to verify\n",
    "for i in range(10):\n",
    "    print(f'Sample {i}: Predicted review rate: {predicted_labels_all[i]}, Real review rate: {y_test[i]}')"
   ]
  },
  {
   "cell_type": "markdown",
   "metadata": {},
   "source": [
    "#### Plot test reviews versus predictions"
   ]
  },
  {
   "cell_type": "code",
   "execution_count": 23,
   "metadata": {},
   "outputs": [
    {
     "data": {
      "image/png": "[encoded data removed]",
      "text/plain": [
       "<Figure size 1000x600 with 2 Axes>"
      ]
     },
     "metadata": {},
     "output_type": "display_data"
    }
   ],
   "source": [
    "# Create a confusion matrix\n",
    "conf_matrix = confusion_matrix(y_test, predicted_labels_all)\n",
    "\n",
    "# Plot the confusion matrix using seaborn\n",
    "plt.figure(figsize=(10, 6))\n",
    "sns.heatmap(conf_matrix, annot=True, fmt='d', cmap='Purples', xticklabels=[1,2,3,4,5,6,7,8,9,10], yticklabels=[1,2,3,4,5,6,7,8,9,10])\n",
    "plt.title('Confusion Matrix')\n",
    "plt.xlabel('Predicted Reviews')\n",
    "plt.ylabel('Actual Reviews')\n",
    "plt.show()"
   ]
  },
  {
   "cell_type": "markdown",
   "metadata": {},
   "source": [
    "\n",
    "## Conclusion\n",
    "\n",
    "In this notebook, we successfully built a model for text classification that try to guess what was the rate using the review text... Even though it is not perfect, we can see in the last graph that the model in general approachs to the target label and there are very few cases where the model is really off the real review rate. Being this said, the model could be improved using Spacy (V. 3.7 doesn't break Tensorflow, the other one does because of numpy) and lemmatizing the words. We could also train the model for more epochs and tune it to make better predictions.\n"
   ]
  },
  {
   "cell_type": "markdown",
   "metadata": {},
   "source": []
  }
 ],
 "metadata": {
  "kernelspec": {
   "display_name": "Python 3 (ipykernel)",
   "language": "python",
   "name": "python3"
  },
  "language_info": {
   "codemirror_mode": {
    "name": "ipython",
    "version": 3
   },
   "file_extension": ".py",
   "mimetype": "text/x-python",
   "name": "python",
   "nbconvert_exporter": "python",
   "pygments_lexer": "ipython3",
   "version": "3.10.12"
  }
 },
 "nbformat": 4,
 "nbformat_minor": 2
}
