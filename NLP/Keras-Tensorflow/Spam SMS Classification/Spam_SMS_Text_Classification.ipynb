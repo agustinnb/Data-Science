{
 "cells": [
  {
   "cell_type": "markdown",
   "metadata": {},
   "source": [
    "# Spam Text Classification\n",
    "## Introduction\n",
    "\n",
    "In this notebook, we are working on a text classification problem using a dataset of Spam messages and ham messages. The goal is to classify the meesage into their respective categories."
   ]
  },
  {
   "cell_type": "markdown",
   "metadata": {},
   "source": [
    "#### Declare dependencies"
   ]
  },
  {
   "cell_type": "code",
   "execution_count": 1,
   "metadata": {},
   "outputs": [],
   "source": [
    "import pandas as pd\n",
    "import seaborn as sns\n",
    "from sklearn.metrics import confusion_matrix\n",
    "import matplotlib.pyplot as plt\n",
    "from keras.preprocessing.text import Tokenizer\n",
    "from sklearn.model_selection import train_test_split\n",
    "from sklearn.preprocessing import LabelEncoder\n",
    "from keras.models import Sequential\n",
    "from keras.layers import Embedding, LSTM, Dense, SpatialDropout1D\n",
    "from keras.utils import pad_sequences\n",
    "from keras.utils import to_categorical\n",
    "import re\n",
    "\n"
   ]
  },
  {
   "cell_type": "markdown",
   "metadata": {},
   "source": [
    "#### Load DataFrame"
   ]
  },
  {
   "cell_type": "code",
   "execution_count": 2,
   "metadata": {},
   "outputs": [
    {
     "data": {
      "text/html": [
       "<div>\n",
       "<style scoped>\n",
       "    .dataframe tbody tr th:only-of-type {\n",
       "        vertical-align: middle;\n",
       "    }\n",
       "\n",
       "    .dataframe tbody tr th {\n",
       "        vertical-align: top;\n",
       "    }\n",
       "\n",
       "    .dataframe thead th {\n",
       "        text-align: right;\n",
       "    }\n",
       "</style>\n",
       "<table border=\"1\" class=\"dataframe\">\n",
       "  <thead>\n",
       "    <tr style=\"text-align: right;\">\n",
       "      <th></th>\n",
       "      <th>Class</th>\n",
       "      <th>Message</th>\n",
       "    </tr>\n",
       "  </thead>\n",
       "  <tbody>\n",
       "    <tr>\n",
       "      <th>0</th>\n",
       "      <td>ham</td>\n",
       "      <td>Go until jurong point, crazy.. Available only ...</td>\n",
       "    </tr>\n",
       "    <tr>\n",
       "      <th>1</th>\n",
       "      <td>ham</td>\n",
       "      <td>Ok lar... Joking wif u oni...</td>\n",
       "    </tr>\n",
       "    <tr>\n",
       "      <th>2</th>\n",
       "      <td>spam</td>\n",
       "      <td>Free entry in 2 a wkly comp to win FA Cup fina...</td>\n",
       "    </tr>\n",
       "    <tr>\n",
       "      <th>3</th>\n",
       "      <td>ham</td>\n",
       "      <td>U dun say so early hor... U c already then say...</td>\n",
       "    </tr>\n",
       "    <tr>\n",
       "      <th>4</th>\n",
       "      <td>ham</td>\n",
       "      <td>Nah I don't think he goes to usf, he lives aro...</td>\n",
       "    </tr>\n",
       "  </tbody>\n",
       "</table>\n",
       "</div>"
      ],
      "text/plain": [
       "  Class                                            Message\n",
       "0   ham  Go until jurong point, crazy.. Available only ...\n",
       "1   ham                      Ok lar... Joking wif u oni...\n",
       "2  spam  Free entry in 2 a wkly comp to win FA Cup fina...\n",
       "3   ham  U dun say so early hor... U c already then say...\n",
       "4   ham  Nah I don't think he goes to usf, he lives aro..."
      ]
     },
     "execution_count": 2,
     "metadata": {},
     "output_type": "execute_result"
    }
   ],
   "source": [
    "spam_df = pd.read_csv('Spam_SMS.csv')\n",
    "spam_df.head()"
   ]
  },
  {
   "cell_type": "markdown",
   "metadata": {},
   "source": [
    "#### Check labels (Our categories to classify)"
   ]
  },
  {
   "cell_type": "code",
   "execution_count": 3,
   "metadata": {},
   "outputs": [
    {
     "name": "stdout",
     "output_type": "stream",
     "text": [
      "['ham' 'spam']\n"
     ]
    }
   ],
   "source": [
    "distinct_labels = spam_df['Class'].unique()\n",
    "print(distinct_labels)"
   ]
  },
  {
   "cell_type": "markdown",
   "metadata": {},
   "source": [
    "#### Tokenize the text"
   ]
  },
  {
   "cell_type": "code",
   "execution_count": 4,
   "metadata": {},
   "outputs": [
    {
     "name": "stdout",
     "output_type": "stream",
     "text": [
      "[[49, 471, 4436, 842, 755, 658, 64, 8, 1327, 88, 123, 351, 1328, 148, 2995, 1329, 67, 58, 4437, 144], [46, 336, 1499, 472, 6, 1941], [47, 489, 8, 19, 4, 797, 901, 2, 176, 1942, 1106, 659, 1943, 2331, 261, 2332, 71, 1942, 2, 1944, 2, 337, 489, 555, 961, 73, 391, 174, 660, 392, 2996], [6, 248, 150, 23, 382, 2997, 6, 139, 154, 57, 150], [1025, 1, 98, 108, 69, 490, 2, 962, 69, 1945, 221, 112, 473]]\n"
     ]
    }
   ],
   "source": [
    "# Convert text data to strings to avoid AttributeError\n",
    "spam_df['Message'] = spam_df['Message'].astype(str)\n",
    "\n",
    "# Initialize the tokenizer with a custom filter to remove special characters\n",
    "tokenizer = Tokenizer(filters='!\"#$%&()*+,-./:;<=>?@[\\\\]^_`{|}~\\t\\n')\n",
    "\n",
    "# Fit the tokenizer on the text data\n",
    "tokenizer.fit_on_texts(spam_df['Message'])\n",
    "\n",
    "# Convert the text to sequences\n",
    "sequences = tokenizer.texts_to_sequences(spam_df['Message'])\n",
    "\n",
    "# Print the first 5 sequences to verify\n",
    "print(sequences[:5])"
   ]
  },
  {
   "cell_type": "markdown",
   "metadata": {},
   "source": [
    "#### Encode the labels"
   ]
  },
  {
   "cell_type": "code",
   "execution_count": 5,
   "metadata": {},
   "outputs": [
    {
     "name": "stdout",
     "output_type": "stream",
     "text": [
      "  Class                                            Message  label_encoded\n",
      "0   ham  Go until jurong point, crazy.. Available only ...              0\n",
      "1   ham                      Ok lar... Joking wif u oni...              0\n",
      "2  spam  Free entry in 2 a wkly comp to win FA Cup fina...              1\n",
      "3   ham  U dun say so early hor... U c already then say...              0\n",
      "4   ham  Nah I don't think he goes to usf, he lives aro...              0\n"
     ]
    }
   ],
   "source": [
    "# Initialize the label encoder\n",
    "label_encoder = LabelEncoder()\n",
    "\n",
    "# Fit and transform the labels\n",
    "spam_df['label_encoded'] = label_encoder.fit_transform(spam_df['Class'])\n",
    "\n",
    "# Create a var called label_encoded that contains the encoded labels\n",
    "label_encoded=spam_df['label_encoded'].to_numpy()\n",
    "\n",
    "# Print the first 5 rows to verify\n",
    "print(spam_df.head())\n"
   ]
  },
  {
   "cell_type": "markdown",
   "metadata": {},
   "source": [
    "#### Train test split the sequences and labels"
   ]
  },
  {
   "cell_type": "code",
   "execution_count": 6,
   "metadata": {},
   "outputs": [
    {
     "name": "stdout",
     "output_type": "stream",
     "text": [
      "X_train shape: 3901\n",
      "X_val shape: 836\n",
      "X_test shape: 837\n",
      "y_train shape: 3901\n",
      "y_val shape: 836\n",
      "y_test shape: 837\n"
     ]
    }
   ],
   "source": [
    "# Split the sequences and label_encoded into training and testing sets\n",
    "# Split the sequences and label_encoded into training, validation, and testing sets\n",
    "X_train, X_temp, y_train, y_temp = train_test_split(sequences, label_encoded, test_size=0.3, random_state=42)\n",
    "X_val, X_test, y_val, y_test = train_test_split(X_temp, y_temp, test_size=0.5, random_state=42)\n",
    "\n",
    "# Print the shapes of the resulting arrays to verify\n",
    "print(f'X_train shape: {len(X_train)}')\n",
    "print(f'X_val shape: {len(X_val)}')\n",
    "print(f'X_test shape: {len(X_test)}')\n",
    "print(f'y_train shape: {len(y_train)}')\n",
    "print(f'y_val shape: {len(y_val)}')\n",
    "print(f'y_test shape: {len(y_test)}')"
   ]
  },
  {
   "cell_type": "markdown",
   "metadata": {},
   "source": [
    "#### Define Max words and Max Length"
   ]
  },
  {
   "cell_type": "code",
   "execution_count": 7,
   "metadata": {},
   "outputs": [],
   "source": [
    "# Define the maximum number of words and the maximum sequence length\n",
    "max_words = 3000\n",
    "max_len = 100"
   ]
  },
  {
   "cell_type": "markdown",
   "metadata": {},
   "source": [
    "#### Adapt Sequences and labels"
   ]
  },
  {
   "cell_type": "code",
   "execution_count": 8,
   "metadata": {},
   "outputs": [],
   "source": [
    "# Pad the sequences to ensure uniform input size (this put a 0 in front of the sequence to make them all the same length)\n",
    "X_train_padded = pad_sequences(X_train, maxlen=max_len)\n",
    "X_test_padded = pad_sequences(X_test, maxlen=max_len)\n",
    "X_val_padded = pad_sequences(X_val, maxlen=max_len)\n",
    "\n",
    "# Convert labels to categorical format (this change the label to a one-hot encoded format e.g [0,0,1,0])\n",
    "y_train_categorical = to_categorical(y_train)\n",
    "y_test_categorical = to_categorical(y_test)\n",
    "y_val_categorical = to_categorical(y_val)"
   ]
  },
  {
   "cell_type": "markdown",
   "metadata": {},
   "source": [
    "### Model\n",
    "#### Defining and Fitting"
   ]
  },
  {
   "cell_type": "code",
   "execution_count": 10,
   "metadata": {},
   "outputs": [
    {
     "name": "stdout",
     "output_type": "stream",
     "text": [
      "Model: \"sequential_1\"\n",
      "_________________________________________________________________\n",
      " Layer (type)                Output Shape              Param #   \n",
      "=================================================================\n",
      " embedding_1 (Embedding)     (None, 100, 100)          300000    \n",
      "                                                                 \n",
      " spatial_dropout1d_1 (Spatia  (None, 100, 100)         0         \n",
      " lDropout1D)                                                     \n",
      "                                                                 \n",
      " lstm_1 (LSTM)               (None, 100)               80400     \n",
      "                                                                 \n",
      " dense_1 (Dense)             (None, 2)                 202       \n",
      "                                                                 \n",
      "=================================================================\n",
      "Total params: 380,602\n",
      "Trainable params: 380,602\n",
      "Non-trainable params: 0\n",
      "_________________________________________________________________\n",
      "Epoch 1/5\n",
      "61/61 [==============================] - 10s 28ms/step - loss: 0.2416 - accuracy: 0.9121 - val_loss: 0.0732 - val_accuracy: 0.9809\n",
      "Epoch 2/5\n",
      "61/61 [==============================] - 1s 15ms/step - loss: 0.0477 - accuracy: 0.9859 - val_loss: 0.0469 - val_accuracy: 0.9892\n",
      "Epoch 3/5\n",
      "61/61 [==============================] - 1s 14ms/step - loss: 0.0195 - accuracy: 0.9949 - val_loss: 0.0396 - val_accuracy: 0.9928\n",
      "Epoch 4/5\n",
      "61/61 [==============================] - 1s 14ms/step - loss: 0.0115 - accuracy: 0.9967 - val_loss: 0.0427 - val_accuracy: 0.9916\n",
      "Epoch 5/5\n",
      "61/61 [==============================] - 1s 15ms/step - loss: 0.0066 - accuracy: 0.9982 - val_loss: 0.0459 - val_accuracy: 0.9868\n"
     ]
    }
   ],
   "source": [
    "# Define the model\n",
    "model = Sequential()\n",
    "model.add(Embedding(max_words, 100, input_length=max_len))\n",
    "model.add(SpatialDropout1D(0.2))\n",
    "model.add(LSTM(100, dropout=0.2))\n",
    "model.add(Dense(2, activation='softmax'))\n",
    "\n",
    "# Compile the model\n",
    "model.compile(loss='categorical_crossentropy', optimizer='adam', metrics=['accuracy'])\n",
    "\n",
    "# Print the model summary\n",
    "model.summary()\n",
    "\n",
    "# Train the model\n",
    "history = model.fit(X_train_padded, y_train_categorical, epochs=5, batch_size=64, validation_data=(X_val_padded, y_val_categorical))"
   ]
  },
  {
   "cell_type": "markdown",
   "metadata": {},
   "source": [
    "#### Testing Accuracy on test data"
   ]
  },
  {
   "cell_type": "code",
   "execution_count": 11,
   "metadata": {},
   "outputs": [
    {
     "name": "stdout",
     "output_type": "stream",
     "text": [
      "Test Loss: 0.0392129048705101\n",
      "Test Accuracy: 0.9880525469779968\n"
     ]
    }
   ],
   "source": [
    "# Evaluate the model on the test data\n",
    "loss, accuracy = model.evaluate(X_test_padded, y_test_categorical, verbose=0)\n",
    "\n",
    "print(f'Test Loss: {loss}')\n",
    "print(f'Test Accuracy: {accuracy}')"
   ]
  },
  {
   "cell_type": "markdown",
   "metadata": {},
   "source": [
    "#### Plot a graph to show loss and accuracy over each epoch of the model"
   ]
  },
  {
   "cell_type": "code",
   "execution_count": 12,
   "metadata": {},
   "outputs": [
    {
     "data": {
      "image/png": "[encoded data removed]",
      "text/plain": [
       "<Figure size 1200x400 with 2 Axes>"
      ]
     },
     "metadata": {},
     "output_type": "display_data"
    }
   ],
   "source": [
    "# Plot training & validation accuracy values\n",
    "plt.figure(figsize=(12, 4))\n",
    "\n",
    "plt.subplot(1, 2, 1)\n",
    "plt.plot(history.history['accuracy'])\n",
    "plt.plot(history.history['val_accuracy'])\n",
    "plt.title('Model accuracy')\n",
    "plt.ylabel('Accuracy')\n",
    "plt.xlabel('Epoch')\n",
    "plt.legend(['Train', 'Test'], loc='upper left')\n",
    "\n",
    "# Plot training & validation loss values\n",
    "plt.subplot(1, 2, 2)\n",
    "plt.plot(history.history['loss'])\n",
    "plt.plot(history.history['val_loss'])\n",
    "plt.title('Model loss')\n",
    "plt.ylabel('Loss')\n",
    "plt.xlabel('Epoch')\n",
    "plt.legend(['Train', 'Test'], loc='upper left')\n",
    "\n",
    "plt.show()"
   ]
  },
  {
   "cell_type": "markdown",
   "metadata": {},
   "source": [
    "#### Predict one test data only"
   ]
  },
  {
   "cell_type": "code",
   "execution_count": 13,
   "metadata": {},
   "outputs": [
    {
     "name": "stdout",
     "output_type": "stream",
     "text": [
      "1/1 [==============================] - 0s 242ms/step\n",
      "Predicted label: 1\n",
      "Predicted category: spam\n",
      "Real label: 1\n",
      "Real category: spam\n"
     ]
    }
   ],
   "source": [
    "# Select a single test sample\n",
    "sample_index = 5\n",
    "sample = X_test_padded[sample_index].reshape(1, -1)\n",
    "\n",
    "# Predict the label for the sample\n",
    "predicted_probabilities = model.predict(sample)\n",
    "predicted_label = predicted_probabilities.argmax(axis=-1)\n",
    "real_label = y_test[sample_index]\n",
    "\n",
    "# Decode the predicted label to its original category\n",
    "predicted_category = label_encoder.inverse_transform(predicted_label)\n",
    "predicted_real = label_encoder.inverse_transform([real_label])\n",
    "\n",
    "print(f'Predicted label: {predicted_label[0]}')\n",
    "print(f'Predicted category: {predicted_category[0]}')\n",
    "print(f'Real label: {real_label}')\n",
    "print(f'Real category: {predicted_real[0]}')"
   ]
  },
  {
   "cell_type": "markdown",
   "metadata": {},
   "source": [
    "#### Predict all test data"
   ]
  },
  {
   "cell_type": "code",
   "execution_count": 14,
   "metadata": {},
   "outputs": [
    {
     "name": "stdout",
     "output_type": "stream",
     "text": [
      "27/27 [==============================] - 0s 9ms/step\n",
      "Sample 0: Predicted Category: ham, Real Category: ham\n",
      "Sample 1: Predicted Category: ham, Real Category: ham\n",
      "Sample 2: Predicted Category: spam, Real Category: spam\n",
      "Sample 3: Predicted Category: ham, Real Category: ham\n",
      "Sample 4: Predicted Category: ham, Real Category: ham\n",
      "Sample 5: Predicted Category: spam, Real Category: spam\n",
      "Sample 6: Predicted Category: ham, Real Category: ham\n",
      "Sample 7: Predicted Category: ham, Real Category: ham\n",
      "Sample 8: Predicted Category: ham, Real Category: ham\n",
      "Sample 9: Predicted Category: ham, Real Category: ham\n"
     ]
    }
   ],
   "source": [
    "# Predict the labels for all samples in X_test_padded\n",
    "predicted_probabilities_all = model.predict(X_test_padded)\n",
    "predicted_labels_all = predicted_probabilities_all.argmax(axis=-1)\n",
    "\n",
    "# Decode the predicted labels to their original categories\n",
    "predicted_categories_all = label_encoder.inverse_transform(predicted_labels_all)\n",
    "\n",
    "# Print the first 10 predictions to verify\n",
    "for i in range(10):\n",
    "    print(f'Sample {i}: Predicted Category: {predicted_categories_all[i]}, Real Category: {label_encoder.inverse_transform([y_test[i]])[0]}')"
   ]
  },
  {
   "cell_type": "markdown",
   "metadata": {},
   "source": [
    "#### Plot test labels versus predictions"
   ]
  },
  {
   "cell_type": "code",
   "execution_count": 16,
   "metadata": {},
   "outputs": [
    {
     "data": {
      "image/png": "[encoded data removed]",
      "text/plain": [
       "<Figure size 1000x600 with 2 Axes>"
      ]
     },
     "metadata": {},
     "output_type": "display_data"
    }
   ],
   "source": [
    "# Create a confusion matrix\n",
    "conf_matrix = confusion_matrix(y_test, predicted_labels_all)\n",
    "\n",
    "# Plot the confusion matrix using seaborn\n",
    "plt.figure(figsize=(10, 6))\n",
    "sns.heatmap(conf_matrix, annot=True, fmt='d', cmap='Reds', xticklabels=label_encoder.classes_, yticklabels=label_encoder.classes_)\n",
    "plt.title('Confusion Matrix')\n",
    "plt.xlabel('Predicted Labels')\n",
    "plt.ylabel('Actual Labels')\n",
    "plt.show()"
   ]
  },
  {
   "cell_type": "markdown",
   "metadata": {},
   "source": [
    "\n",
    "## Conclusion\n",
    "\n",
    "In this notebook, we successfully built and evaluated a text classification model using a dataset of spam messages and ham messages. The workflow included the following steps:\n",
    "\n",
    "1. **Data Loading and Preprocessing**: We loaded the dataset, converted text data to sequences using a tokenizer, and encoded the labels.\n",
    "2. **Data Splitting**: We split the data into training and testing sets.\n",
    "3. **Model Building**: We constructed a Sequential model using Keras with an embedding layer, LSTM layer, and dense output layer.\n",
    "4. **Model Training**: We trained the model on the training data and validated it on the test data.\n",
    "5. **Evaluation**: We evaluated the model's performance using accuracy and loss metrics.\n",
    "6. **Visualization**: We visualized the training and validation accuracy and loss over epochs.\n",
    "7. **Prediction and Analysis**: We made predictions on the test data, decoded the predicted labels, and analyzed the results using a confusion matrix.\n",
    "\n",
    "The model achieved a high accuracy of 98.8% on the test data, indicating its effectiveness in classifying spam messages.\n"
   ]
  },
  {
   "cell_type": "markdown",
   "metadata": {},
   "source": []
  }
 ],
 "metadata": {
  "kernelspec": {
   "display_name": "Python 3",
   "language": "python",
   "name": "python3"
  },
  "language_info": {
   "codemirror_mode": {
    "name": "ipython",
    "version": 3
   },
   "file_extension": ".py",
   "mimetype": "text/x-python",
   "name": "python",
   "nbconvert_exporter": "python",
   "pygments_lexer": "ipython3",
   "version": "3.10.11"
  }
 },
 "nbformat": 4,
 "nbformat_minor": 2
}
