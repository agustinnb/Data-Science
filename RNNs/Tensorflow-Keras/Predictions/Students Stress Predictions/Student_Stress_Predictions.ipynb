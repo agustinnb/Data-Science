{
 "cells": [
  {
   "cell_type": "markdown",
   "metadata": {},
   "source": [
    "# Student Stress EDA using TFDV and Prediction"
   ]
  },
  {
   "cell_type": "markdown",
   "metadata": {},
   "source": [
    "## Download Dataset"
   ]
  },
  {
   "cell_type": "code",
   "execution_count": 1,
   "metadata": {},
   "outputs": [
    {
     "name": "stdout",
     "output_type": "stream",
     "text": [
      "Warning: Looks like you're using an outdated `kagglehub` version, please consider updating (latest version: 0.3.3)\n",
      "Path to dataset files: /root/.cache/kagglehub/datasets/steve1215rogg/student-lifestyle-dataset/versions/1\n"
     ]
    }
   ],
   "source": [
    "import kagglehub\n",
    "\n",
    "# Download latest version\n",
    "path = kagglehub.dataset_download(\"steve1215rogg/student-lifestyle-dataset\")\n",
    "\n",
    "print(\"Path to dataset files:\", path)"
   ]
  },
  {
   "cell_type": "code",
   "execution_count": 2,
   "metadata": {},
   "outputs": [
    {
     "name": "stdout",
     "output_type": "stream",
     "text": [
      "student_lifestyle_dataset.csv\n"
     ]
    }
   ],
   "source": [
    "!ls /root/.cache/kagglehub/datasets/steve1215rogg/student-lifestyle-dataset/versions/1"
   ]
  },
  {
   "cell_type": "markdown",
   "metadata": {},
   "source": [
    "## Import Dependencies"
   ]
  },
  {
   "cell_type": "code",
   "execution_count": 3,
   "metadata": {},
   "outputs": [
    {
     "name": "stderr",
     "output_type": "stream",
     "text": [
      "2024-11-12 01:41:39.987106: I tensorflow/core/util/port.cc:113] oneDNN custom operations are on. You may see slightly different numerical results due to floating-point round-off errors from different computation orders. To turn them off, set the environment variable `TF_ENABLE_ONEDNN_OPTS=0`.\n",
      "2024-11-12 01:41:40.116112: E external/local_xla/xla/stream_executor/cuda/cuda_fft.cc:479] Unable to register cuFFT factory: Attempting to register factory for plugin cuFFT when one has already been registered\n",
      "2024-11-12 01:41:40.175458: E external/local_xla/xla/stream_executor/cuda/cuda_dnn.cc:10575] Unable to register cuDNN factory: Attempting to register factory for plugin cuDNN when one has already been registered\n",
      "2024-11-12 01:41:40.175555: E external/local_xla/xla/stream_executor/cuda/cuda_blas.cc:1442] Unable to register cuBLAS factory: Attempting to register factory for plugin cuBLAS when one has already been registered\n",
      "2024-11-12 01:41:40.245369: I tensorflow/core/platform/cpu_feature_guard.cc:210] This TensorFlow binary is optimized to use available CPU instructions in performance-critical operations.\n",
      "To enable the following instructions: AVX2 AVX_VNNI FMA, in other operations, rebuild TensorFlow with the appropriate compiler flags.\n"
     ]
    }
   ],
   "source": [
    "import pandas as pd\n",
    "import tensorflow as tf\n",
    "import tensorflow_data_validation as tfdv\n",
    "from tensorflow import keras\n",
    "import seaborn as sns\n",
    "import matplotlib.pyplot as plt\n",
    "from scipy import stats\n",
    "import numpy as np\n",
    "from sklearn.model_selection import train_test_split\n",
    "from sklearn.preprocessing import LabelEncoder\n",
    "from sklearn.preprocessing import OneHotEncoder\n",
    "from sklearn.metrics import classification_report\n",
    "from sklearn.metrics import r2_score\n"
   ]
  },
  {
   "cell_type": "markdown",
   "metadata": {},
   "source": [
    "### Load DF"
   ]
  },
  {
   "cell_type": "code",
   "execution_count": 4,
   "metadata": {},
   "outputs": [
    {
     "data": {
      "text/html": [
       "<div>\n",
       "<style scoped>\n",
       "    .dataframe tbody tr th:only-of-type {\n",
       "        vertical-align: middle;\n",
       "    }\n",
       "\n",
       "    .dataframe tbody tr th {\n",
       "        vertical-align: top;\n",
       "    }\n",
       "\n",
       "    .dataframe thead th {\n",
       "        text-align: right;\n",
       "    }\n",
       "</style>\n",
       "<table border=\"1\" class=\"dataframe\">\n",
       "  <thead>\n",
       "    <tr style=\"text-align: right;\">\n",
       "      <th></th>\n",
       "      <th>Student_ID</th>\n",
       "      <th>Study_Hours_Per_Day</th>\n",
       "      <th>Extracurricular_Hours_Per_Day</th>\n",
       "      <th>Sleep_Hours_Per_Day</th>\n",
       "      <th>Social_Hours_Per_Day</th>\n",
       "      <th>Physical_Activity_Hours_Per_Day</th>\n",
       "      <th>GPA</th>\n",
       "      <th>Stress_Level</th>\n",
       "    </tr>\n",
       "  </thead>\n",
       "  <tbody>\n",
       "    <tr>\n",
       "      <th>0</th>\n",
       "      <td>1</td>\n",
       "      <td>6.9</td>\n",
       "      <td>3.8</td>\n",
       "      <td>8.7</td>\n",
       "      <td>2.8</td>\n",
       "      <td>1.8</td>\n",
       "      <td>2.99</td>\n",
       "      <td>Moderate</td>\n",
       "    </tr>\n",
       "    <tr>\n",
       "      <th>1</th>\n",
       "      <td>2</td>\n",
       "      <td>5.3</td>\n",
       "      <td>3.5</td>\n",
       "      <td>8.0</td>\n",
       "      <td>4.2</td>\n",
       "      <td>3.0</td>\n",
       "      <td>2.75</td>\n",
       "      <td>Low</td>\n",
       "    </tr>\n",
       "    <tr>\n",
       "      <th>2</th>\n",
       "      <td>3</td>\n",
       "      <td>5.1</td>\n",
       "      <td>3.9</td>\n",
       "      <td>9.2</td>\n",
       "      <td>1.2</td>\n",
       "      <td>4.6</td>\n",
       "      <td>2.67</td>\n",
       "      <td>Low</td>\n",
       "    </tr>\n",
       "    <tr>\n",
       "      <th>3</th>\n",
       "      <td>4</td>\n",
       "      <td>6.5</td>\n",
       "      <td>2.1</td>\n",
       "      <td>7.2</td>\n",
       "      <td>1.7</td>\n",
       "      <td>6.5</td>\n",
       "      <td>2.88</td>\n",
       "      <td>Moderate</td>\n",
       "    </tr>\n",
       "    <tr>\n",
       "      <th>4</th>\n",
       "      <td>5</td>\n",
       "      <td>8.1</td>\n",
       "      <td>0.6</td>\n",
       "      <td>6.5</td>\n",
       "      <td>2.2</td>\n",
       "      <td>6.6</td>\n",
       "      <td>3.51</td>\n",
       "      <td>High</td>\n",
       "    </tr>\n",
       "  </tbody>\n",
       "</table>\n",
       "</div>"
      ],
      "text/plain": [
       "   Student_ID  Study_Hours_Per_Day  Extracurricular_Hours_Per_Day  \\\n",
       "0           1                  6.9                            3.8   \n",
       "1           2                  5.3                            3.5   \n",
       "2           3                  5.1                            3.9   \n",
       "3           4                  6.5                            2.1   \n",
       "4           5                  8.1                            0.6   \n",
       "\n",
       "   Sleep_Hours_Per_Day  Social_Hours_Per_Day  Physical_Activity_Hours_Per_Day  \\\n",
       "0                  8.7                   2.8                              1.8   \n",
       "1                  8.0                   4.2                              3.0   \n",
       "2                  9.2                   1.2                              4.6   \n",
       "3                  7.2                   1.7                              6.5   \n",
       "4                  6.5                   2.2                              6.6   \n",
       "\n",
       "    GPA Stress_Level  \n",
       "0  2.99     Moderate  \n",
       "1  2.75          Low  \n",
       "2  2.67          Low  \n",
       "3  2.88     Moderate  \n",
       "4  3.51         High  "
      ]
     },
     "execution_count": 4,
     "metadata": {},
     "output_type": "execute_result"
    }
   ],
   "source": [
    "df = pd.read_csv(path + \"/student_lifestyle_dataset.csv\")\n",
    "df.head()"
   ]
  },
  {
   "cell_type": "markdown",
   "metadata": {},
   "source": [
    "### Count Stress Level values"
   ]
  },
  {
   "cell_type": "code",
   "execution_count": 5,
   "metadata": {},
   "outputs": [
    {
     "data": {
      "text/plain": [
       "High        1029\n",
       "Moderate     674\n",
       "Low          297\n",
       "Name: Stress_Level, dtype: int64"
      ]
     },
     "execution_count": 5,
     "metadata": {},
     "output_type": "execute_result"
    }
   ],
   "source": [
    "df['Stress_Level'].value_counts()"
   ]
  },
  {
   "cell_type": "markdown",
   "metadata": {},
   "source": [
    "### Encode Stress Level values"
   ]
  },
  {
   "cell_type": "code",
   "execution_count": 6,
   "metadata": {},
   "outputs": [],
   "source": [
    "le = LabelEncoder()\n",
    "\n",
    "df['Stress_Level'] = le.fit_transform(df['Stress_Level'])"
   ]
  },
  {
   "cell_type": "markdown",
   "metadata": {},
   "source": [
    "# EDA"
   ]
  },
  {
   "cell_type": "markdown",
   "metadata": {},
   "source": [
    "### Correlation Analysis"
   ]
  },
  {
   "cell_type": "code",
   "execution_count": 7,
   "metadata": {},
   "outputs": [
    {
     "data": {
      "image/png": "[encoded data removed]",
      "text/plain": [
       "<Figure size 1000x1000 with 2 Axes>"
      ]
     },
     "metadata": {},
     "output_type": "display_data"
    }
   ],
   "source": [
    "corr = df.corr()\n",
    "\n",
    "plt.figure(figsize=(10, 10))\n",
    "sns.heatmap(corr[['Stress_Level']], annot=True, cmap='coolwarm', fmt=\".2f\")\n",
    "plt.show()"
   ]
  },
  {
   "cell_type": "markdown",
   "metadata": {},
   "source": [
    "### Finding Outliers"
   ]
  },
  {
   "cell_type": "code",
   "execution_count": 8,
   "metadata": {},
   "outputs": [
    {
     "name": "stdout",
     "output_type": "stream",
     "text": [
      "Indices of outliers: (array([  62,  171,  784, 1174]), array([5, 5, 5, 5]))\n"
     ]
    }
   ],
   "source": [
    "# Calculate Z-scores\n",
    "z_scores = np.abs(stats.zscore(df.select_dtypes(include=[np.number])))\n",
    "\n",
    "# Define a threshold for identifying outliers\n",
    "threshold = 3\n",
    "\n",
    "# Find outliers\n",
    "outliers = np.where(z_scores > threshold)\n",
    "\n",
    "# Print the indices of outliers\n",
    "print(\"Indices of outliers:\", outliers)"
   ]
  },
  {
   "cell_type": "code",
   "execution_count": 9,
   "metadata": {},
   "outputs": [
    {
     "data": {
      "text/html": [
       "<div>\n",
       "<style scoped>\n",
       "    .dataframe tbody tr th:only-of-type {\n",
       "        vertical-align: middle;\n",
       "    }\n",
       "\n",
       "    .dataframe tbody tr th {\n",
       "        vertical-align: top;\n",
       "    }\n",
       "\n",
       "    .dataframe thead th {\n",
       "        text-align: right;\n",
       "    }\n",
       "</style>\n",
       "<table border=\"1\" class=\"dataframe\">\n",
       "  <thead>\n",
       "    <tr style=\"text-align: right;\">\n",
       "      <th></th>\n",
       "      <th>Student_ID</th>\n",
       "      <th>Study_Hours_Per_Day</th>\n",
       "      <th>Extracurricular_Hours_Per_Day</th>\n",
       "      <th>Sleep_Hours_Per_Day</th>\n",
       "      <th>Social_Hours_Per_Day</th>\n",
       "      <th>Physical_Activity_Hours_Per_Day</th>\n",
       "      <th>GPA</th>\n",
       "      <th>Stress_Level</th>\n",
       "    </tr>\n",
       "  </thead>\n",
       "  <tbody>\n",
       "    <tr>\n",
       "      <th>62</th>\n",
       "      <td>63</td>\n",
       "      <td>5.1</td>\n",
       "      <td>0.5</td>\n",
       "      <td>5.2</td>\n",
       "      <td>0.2</td>\n",
       "      <td>13.0</td>\n",
       "      <td>2.85</td>\n",
       "      <td>0</td>\n",
       "    </tr>\n",
       "    <tr>\n",
       "      <th>171</th>\n",
       "      <td>172</td>\n",
       "      <td>5.1</td>\n",
       "      <td>0.3</td>\n",
       "      <td>6.0</td>\n",
       "      <td>0.2</td>\n",
       "      <td>12.4</td>\n",
       "      <td>2.70</td>\n",
       "      <td>1</td>\n",
       "    </tr>\n",
       "    <tr>\n",
       "      <th>784</th>\n",
       "      <td>785</td>\n",
       "      <td>5.1</td>\n",
       "      <td>0.3</td>\n",
       "      <td>6.3</td>\n",
       "      <td>0.2</td>\n",
       "      <td>12.1</td>\n",
       "      <td>2.55</td>\n",
       "      <td>1</td>\n",
       "    </tr>\n",
       "    <tr>\n",
       "      <th>1174</th>\n",
       "      <td>1175</td>\n",
       "      <td>5.3</td>\n",
       "      <td>0.3</td>\n",
       "      <td>5.9</td>\n",
       "      <td>0.2</td>\n",
       "      <td>12.3</td>\n",
       "      <td>2.97</td>\n",
       "      <td>0</td>\n",
       "    </tr>\n",
       "  </tbody>\n",
       "</table>\n",
       "</div>"
      ],
      "text/plain": [
       "      Student_ID  Study_Hours_Per_Day  Extracurricular_Hours_Per_Day  \\\n",
       "62            63                  5.1                            0.5   \n",
       "171          172                  5.1                            0.3   \n",
       "784          785                  5.1                            0.3   \n",
       "1174        1175                  5.3                            0.3   \n",
       "\n",
       "      Sleep_Hours_Per_Day  Social_Hours_Per_Day  \\\n",
       "62                    5.2                   0.2   \n",
       "171                   6.0                   0.2   \n",
       "784                   6.3                   0.2   \n",
       "1174                  5.9                   0.2   \n",
       "\n",
       "      Physical_Activity_Hours_Per_Day   GPA  Stress_Level  \n",
       "62                               13.0  2.85             0  \n",
       "171                              12.4  2.70             1  \n",
       "784                              12.1  2.55             1  \n",
       "1174                             12.3  2.97             0  "
      ]
     },
     "execution_count": 9,
     "metadata": {},
     "output_type": "execute_result"
    }
   ],
   "source": [
    "outlier_rows = df.iloc[outliers[0]]\n",
    "outlier_rows"
   ]
  },
  {
   "cell_type": "markdown",
   "metadata": {},
   "source": [
    "#### Train Test Split DF"
   ]
  },
  {
   "cell_type": "code",
   "execution_count": 10,
   "metadata": {},
   "outputs": [],
   "source": [
    "df.drop('Student_ID', axis=1, inplace=True)"
   ]
  },
  {
   "cell_type": "code",
   "execution_count": 11,
   "metadata": {},
   "outputs": [],
   "source": [
    "X, TEST = train_test_split(df, test_size=0.2, random_state=42)\n",
    "TEST, VAL = train_test_split(TEST, test_size=0.5, random_state=42)\n"
   ]
  },
  {
   "cell_type": "markdown",
   "metadata": {},
   "source": [
    "## TFDV Analysis"
   ]
  },
  {
   "cell_type": "code",
   "execution_count": 12,
   "metadata": {},
   "outputs": [
    {
     "data": {
      "text/html": [
       "<iframe id='facets-iframe' width=\"100%\" height=\"500px\"></iframe>\n",
       "        <script>\n",
       "        facets_iframe = document.getElementById('facets-iframe');\n",
       "        facets_html = '<script src=\"https://cdnjs.cloudflare.com/ajax/libs/webcomponentsjs/1.3.3/webcomponents-lite.js\"><\\/script><link rel=\"import\" href=\"https://raw.githubusercontent.com/PAIR-code/facets/master/facets-dist/facets-jupyter.html\"><facets-overview proto-input=\"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\"></facets-overview>';\n",
       "        facets_iframe.srcdoc = facets_html;\n",
       "         facets_iframe.id = \"\";\n",
       "         setTimeout(() => {\n",
       "           facets_iframe.setAttribute('height', facets_iframe.contentWindow.document.body.offsetHeight + 'px')\n",
       "         }, 1500)\n",
       "         </script>"
      ],
      "text/plain": [
       "<IPython.core.display.HTML object>"
      ]
     },
     "metadata": {},
     "output_type": "display_data"
    }
   ],
   "source": [
    "# Generate statistics from DataFrames\n",
    "train_stats = tfdv.generate_statistics_from_dataframe(X)\n",
    "test_stats = tfdv.generate_statistics_from_dataframe(TEST)\n",
    "val_stats = tfdv.generate_statistics_from_dataframe(VAL)\n",
    "# Visualize statistics\n",
    "tfdv.visualize_statistics(lhs_statistics=test_stats, rhs_statistics=train_stats,\n",
    "                          lhs_name='TEST_DATASET', rhs_name='TRAIN_DATASET')"
   ]
  },
  {
   "cell_type": "markdown",
   "metadata": {},
   "source": [
    "#### Finding anomalies"
   ]
  },
  {
   "cell_type": "code",
   "execution_count": 13,
   "metadata": {},
   "outputs": [
    {
     "data": {
      "text/html": [
       "<h4 style=\"color:green;\">No anomalies found.</h4>"
      ],
      "text/plain": [
       "<IPython.core.display.HTML object>"
      ]
     },
     "metadata": {},
     "output_type": "display_data"
    }
   ],
   "source": [
    "schema = tfdv.infer_schema(train_stats)\n",
    "anomalies = tfdv.validate_statistics(statistics=test_stats, schema=schema)\n",
    "tfdv.display_anomalies(anomalies)"
   ]
  },
  {
   "cell_type": "code",
   "execution_count": 14,
   "metadata": {},
   "outputs": [
    {
     "data": {
      "text/html": [
       "<h4 style=\"color:green;\">No anomalies found.</h4>"
      ],
      "text/plain": [
       "<IPython.core.display.HTML object>"
      ]
     },
     "metadata": {},
     "output_type": "display_data"
    }
   ],
   "source": [
    "schema = tfdv.infer_schema(train_stats)\n",
    "anomalies = tfdv.validate_statistics(statistics=val_stats, schema=schema)\n",
    "tfdv.display_anomalies(anomalies)"
   ]
  },
  {
   "cell_type": "code",
   "execution_count": 15,
   "metadata": {},
   "outputs": [
    {
     "data": {
      "text/html": [
       "<h4 style=\"color:green;\">No anomalies found.</h4>"
      ],
      "text/plain": [
       "<IPython.core.display.HTML object>"
      ]
     },
     "metadata": {},
     "output_type": "display_data"
    }
   ],
   "source": [
    "# Add skew comparator for 'PSS_score' feature.\n",
    "Stress_Level = tfdv.get_feature(schema, 'Stress_Level')\n",
    "Stress_Level.skew_comparator.infinity_norm.threshold = 0.01\n",
    "\n",
    "\n",
    "# TODO\n",
    "skew_anomalies = tfdv.validate_statistics(train_stats, schema,\n",
    "                                          previous_statistics=test_stats,\n",
    "                                          serving_statistics=val_stats)\n",
    "\n",
    "tfdv.display_anomalies(skew_anomalies)"
   ]
  },
  {
   "cell_type": "markdown",
   "metadata": {},
   "source": [
    "# Model"
   ]
  },
  {
   "cell_type": "markdown",
   "metadata": {},
   "source": [
    "### Train - Y"
   ]
  },
  {
   "cell_type": "code",
   "execution_count": 16,
   "metadata": {},
   "outputs": [],
   "source": [
    "X_train = X.drop('Stress_Level', axis=1)\n",
    "y_train = X['Stress_Level']\n",
    "X_test = TEST.drop('Stress_Level', axis=1)\n",
    "y_test = TEST['Stress_Level']\n",
    "X_val = VAL.drop('Stress_Level', axis=1)\n",
    "y_val = VAL['Stress_Level']"
   ]
  },
  {
   "cell_type": "markdown",
   "metadata": {},
   "source": [
    "#### One-hot encoding Y"
   ]
  },
  {
   "cell_type": "code",
   "execution_count": 17,
   "metadata": {},
   "outputs": [],
   "source": [
    "enc = OneHotEncoder()\n",
    "y_train_label = enc.fit_transform(y_train.values.reshape(-1, 1)).toarray()\n",
    "y_test_label = enc.transform(y_test.values.reshape(-1, 1)).toarray()\n",
    "y_val_label = enc.transform(y_val.values.reshape(-1, 1)).toarray()\n"
   ]
  },
  {
   "cell_type": "code",
   "execution_count": 18,
   "metadata": {},
   "outputs": [
    {
     "name": "stdout",
     "output_type": "stream",
     "text": [
      "Classes:  ['High' 'Low' 'Moderate']\n",
      "Categories:  [array([0, 1, 2])]\n"
     ]
    }
   ],
   "source": [
    "print(\"Classes: \", le.classes_)\n",
    "print(\"Categories: \", enc.categories_)"
   ]
  },
  {
   "cell_type": "markdown",
   "metadata": {},
   "source": [
    "#### Creating Tensor Slices"
   ]
  },
  {
   "cell_type": "code",
   "execution_count": 19,
   "metadata": {},
   "outputs": [
    {
     "name": "stderr",
     "output_type": "stream",
     "text": [
      "2024-11-12 01:42:06.422923: I external/local_xla/xla/stream_executor/cuda/cuda_executor.cc:984] could not open file to read NUMA node: /sys/bus/pci/devices/0000:01:00.0/numa_node\n",
      "Your kernel may have been built without NUMA support.\n",
      "2024-11-12 01:42:06.756230: I external/local_xla/xla/stream_executor/cuda/cuda_executor.cc:984] could not open file to read NUMA node: /sys/bus/pci/devices/0000:01:00.0/numa_node\n",
      "Your kernel may have been built without NUMA support.\n",
      "2024-11-12 01:42:06.756863: I external/local_xla/xla/stream_executor/cuda/cuda_executor.cc:984] could not open file to read NUMA node: /sys/bus/pci/devices/0000:01:00.0/numa_node\n",
      "Your kernel may have been built without NUMA support.\n",
      "2024-11-12 01:42:06.766840: I external/local_xla/xla/stream_executor/cuda/cuda_executor.cc:984] could not open file to read NUMA node: /sys/bus/pci/devices/0000:01:00.0/numa_node\n",
      "Your kernel may have been built without NUMA support.\n",
      "2024-11-12 01:42:06.768902: I external/local_xla/xla/stream_executor/cuda/cuda_executor.cc:984] could not open file to read NUMA node: /sys/bus/pci/devices/0000:01:00.0/numa_node\n",
      "Your kernel may have been built without NUMA support.\n",
      "2024-11-12 01:42:06.771410: I external/local_xla/xla/stream_executor/cuda/cuda_executor.cc:984] could not open file to read NUMA node: /sys/bus/pci/devices/0000:01:00.0/numa_node\n",
      "Your kernel may have been built without NUMA support.\n",
      "2024-11-12 01:42:07.719911: I external/local_xla/xla/stream_executor/cuda/cuda_executor.cc:984] could not open file to read NUMA node: /sys/bus/pci/devices/0000:01:00.0/numa_node\n",
      "Your kernel may have been built without NUMA support.\n",
      "2024-11-12 01:42:07.720344: I external/local_xla/xla/stream_executor/cuda/cuda_executor.cc:984] could not open file to read NUMA node: /sys/bus/pci/devices/0000:01:00.0/numa_node\n",
      "Your kernel may have been built without NUMA support.\n",
      "2024-11-12 01:42:07.720390: I tensorflow/core/common_runtime/gpu/gpu_device.cc:2019] Could not identify NUMA node of platform GPU id 0, defaulting to 0.  Your kernel may not have been built with NUMA support.\n",
      "2024-11-12 01:42:07.720873: I external/local_xla/xla/stream_executor/cuda/cuda_executor.cc:984] could not open file to read NUMA node: /sys/bus/pci/devices/0000:01:00.0/numa_node\n",
      "Your kernel may have been built without NUMA support.\n",
      "2024-11-12 01:42:07.721007: I tensorflow/core/common_runtime/gpu/gpu_device.cc:1928] Created device /job:localhost/replica:0/task:0/device:GPU:0 with 1756 MB memory:  -> device: 0, name: NVIDIA GeForce RTX 3050 Ti Laptop GPU, pci bus id: 0000:01:00.0, compute capability: 8.6\n"
     ]
    }
   ],
   "source": [
    "train_data = tf.data.Dataset.from_tensor_slices((X_train, y_train_label))\n",
    "test_data = tf.data.Dataset.from_tensor_slices((X_test, y_test_label))\n",
    "val_data = tf.data.Dataset.from_tensor_slices((X_val, y_val_label))"
   ]
  },
  {
   "cell_type": "markdown",
   "metadata": {},
   "source": [
    "### Model definition"
   ]
  },
  {
   "cell_type": "code",
   "execution_count": null,
   "metadata": {},
   "outputs": [
    {
     "name": "stderr",
     "output_type": "stream",
     "text": [
      "/usr/local/lib/python3.10/dist-packages/keras/src/layers/core/dense.py:87: UserWarning: Do not pass an `input_shape`/`input_dim` argument to a layer. When using Sequential models, prefer using an `Input(shape)` object as the first layer in the model instead.\n",
      "  super().__init__(activity_regularizer=activity_regularizer, **kwargs)\n"
     ]
    },
    {
     "data": {
      "text/html": [
       "<pre style=\"white-space:pre;overflow-x:auto;line-height:normal;font-family:Menlo,'DejaVu Sans Mono',consolas,'Courier New',monospace\"><span style=\"font-weight: bold\">Model: \"sequential\"</span>\n",
       "</pre>\n"
      ],
      "text/plain": [
       "\u001b[1mModel: \"sequential\"\u001b[0m\n"
      ]
     },
     "metadata": {},
     "output_type": "display_data"
    },
    {
     "data": {
      "text/html": [
       "<pre style=\"white-space:pre;overflow-x:auto;line-height:normal;font-family:Menlo,'DejaVu Sans Mono',consolas,'Courier New',monospace\">┏━━━━━━━━━━━━━━━━━━━━━━━━━━━━━━━━━┳━━━━━━━━━━━━━━━━━━━━━━━━┳━━━━━━━━━━━━━━━┓\n",
       "┃<span style=\"font-weight: bold\"> Layer (type)                    </span>┃<span style=\"font-weight: bold\"> Output Shape           </span>┃<span style=\"font-weight: bold\">       Param # </span>┃\n",
       "┡━━━━━━━━━━━━━━━━━━━━━━━━━━━━━━━━━╇━━━━━━━━━━━━━━━━━━━━━━━━╇━━━━━━━━━━━━━━━┩\n",
       "│ dense (<span style=\"color: #0087ff; text-decoration-color: #0087ff\">Dense</span>)                   │ (<span style=\"color: #00d7ff; text-decoration-color: #00d7ff\">None</span>, <span style=\"color: #00af00; text-decoration-color: #00af00\">256</span>)            │         <span style=\"color: #00af00; text-decoration-color: #00af00\">1,792</span> │\n",
       "├─────────────────────────────────┼────────────────────────┼───────────────┤\n",
       "│ dense_1 (<span style=\"color: #0087ff; text-decoration-color: #0087ff\">Dense</span>)                 │ (<span style=\"color: #00d7ff; text-decoration-color: #00d7ff\">None</span>, <span style=\"color: #00af00; text-decoration-color: #00af00\">128</span>)            │        <span style=\"color: #00af00; text-decoration-color: #00af00\">32,896</span> │\n",
       "├─────────────────────────────────┼────────────────────────┼───────────────┤\n",
       "│ dense_2 (<span style=\"color: #0087ff; text-decoration-color: #0087ff\">Dense</span>)                 │ (<span style=\"color: #00d7ff; text-decoration-color: #00d7ff\">None</span>, <span style=\"color: #00af00; text-decoration-color: #00af00\">64</span>)             │         <span style=\"color: #00af00; text-decoration-color: #00af00\">8,256</span> │\n",
       "├─────────────────────────────────┼────────────────────────┼───────────────┤\n",
       "│ dense_3 (<span style=\"color: #0087ff; text-decoration-color: #0087ff\">Dense</span>)                 │ (<span style=\"color: #00d7ff; text-decoration-color: #00d7ff\">None</span>, <span style=\"color: #00af00; text-decoration-color: #00af00\">3</span>)              │           <span style=\"color: #00af00; text-decoration-color: #00af00\">195</span> │\n",
       "└─────────────────────────────────┴────────────────────────┴───────────────┘\n",
       "</pre>\n"
      ],
      "text/plain": [
       "┏━━━━━━━━━━━━━━━━━━━━━━━━━━━━━━━━━┳━━━━━━━━━━━━━━━━━━━━━━━━┳━━━━━━━━━━━━━━━┓\n",
       "┃\u001b[1m \u001b[0m\u001b[1mLayer (type)                   \u001b[0m\u001b[1m \u001b[0m┃\u001b[1m \u001b[0m\u001b[1mOutput Shape          \u001b[0m\u001b[1m \u001b[0m┃\u001b[1m \u001b[0m\u001b[1m      Param #\u001b[0m\u001b[1m \u001b[0m┃\n",
       "┡━━━━━━━━━━━━━━━━━━━━━━━━━━━━━━━━━╇━━━━━━━━━━━━━━━━━━━━━━━━╇━━━━━━━━━━━━━━━┩\n",
       "│ dense (\u001b[38;5;33mDense\u001b[0m)                   │ (\u001b[38;5;45mNone\u001b[0m, \u001b[38;5;34m256\u001b[0m)            │         \u001b[38;5;34m1,792\u001b[0m │\n",
       "├─────────────────────────────────┼────────────────────────┼───────────────┤\n",
       "│ dense_1 (\u001b[38;5;33mDense\u001b[0m)                 │ (\u001b[38;5;45mNone\u001b[0m, \u001b[38;5;34m128\u001b[0m)            │        \u001b[38;5;34m32,896\u001b[0m │\n",
       "├─────────────────────────────────┼────────────────────────┼───────────────┤\n",
       "│ dense_2 (\u001b[38;5;33mDense\u001b[0m)                 │ (\u001b[38;5;45mNone\u001b[0m, \u001b[38;5;34m64\u001b[0m)             │         \u001b[38;5;34m8,256\u001b[0m │\n",
       "├─────────────────────────────────┼────────────────────────┼───────────────┤\n",
       "│ dense_3 (\u001b[38;5;33mDense\u001b[0m)                 │ (\u001b[38;5;45mNone\u001b[0m, \u001b[38;5;34m3\u001b[0m)              │           \u001b[38;5;34m195\u001b[0m │\n",
       "└─────────────────────────────────┴────────────────────────┴───────────────┘\n"
      ]
     },
     "metadata": {},
     "output_type": "display_data"
    },
    {
     "data": {
      "text/html": [
       "<pre style=\"white-space:pre;overflow-x:auto;line-height:normal;font-family:Menlo,'DejaVu Sans Mono',consolas,'Courier New',monospace\"><span style=\"font-weight: bold\"> Total params: </span><span style=\"color: #00af00; text-decoration-color: #00af00\">43,139</span> (168.51 KB)\n",
       "</pre>\n"
      ],
      "text/plain": [
       "\u001b[1m Total params: \u001b[0m\u001b[38;5;34m43,139\u001b[0m (168.51 KB)\n"
      ]
     },
     "metadata": {},
     "output_type": "display_data"
    },
    {
     "data": {
      "text/html": [
       "<pre style=\"white-space:pre;overflow-x:auto;line-height:normal;font-family:Menlo,'DejaVu Sans Mono',consolas,'Courier New',monospace\"><span style=\"font-weight: bold\"> Trainable params: </span><span style=\"color: #00af00; text-decoration-color: #00af00\">43,139</span> (168.51 KB)\n",
       "</pre>\n"
      ],
      "text/plain": [
       "\u001b[1m Trainable params: \u001b[0m\u001b[38;5;34m43,139\u001b[0m (168.51 KB)\n"
      ]
     },
     "metadata": {},
     "output_type": "display_data"
    },
    {
     "data": {
      "text/html": [
       "<pre style=\"white-space:pre;overflow-x:auto;line-height:normal;font-family:Menlo,'DejaVu Sans Mono',consolas,'Courier New',monospace\"><span style=\"font-weight: bold\"> Non-trainable params: </span><span style=\"color: #00af00; text-decoration-color: #00af00\">0</span> (0.00 B)\n",
       "</pre>\n"
      ],
      "text/plain": [
       "\u001b[1m Non-trainable params: \u001b[0m\u001b[38;5;34m0\u001b[0m (0.00 B)\n"
      ]
     },
     "metadata": {},
     "output_type": "display_data"
    }
   ],
   "source": [
    "model = keras.Sequential([\n",
    "    keras.layers.Dense(256, activation='relu', input_shape=(X_train.shape[1],)),\n",
    "    keras.layers.Dense(128, activation='relu'),\n",
    "    keras.layers.Dense(64, activation='relu'),\n",
    "    keras.layers.Dense(y_train_label.shape[1], activation='softmax')\n",
    "])\n",
    "\n",
    "model.compile(optimizer='adam', loss='categorical_crossentropy', metrics=['accuracy'])\n",
    "\n",
    "model.summary()\n",
    "\n",
    "\n",
    "callbacks = [tf.keras.callbacks.EarlyStopping(monitor='val_accuracy', patience=6),\n",
    "             tf.keras.callbacks.ModelCheckpoint(filepath='b_model.keras', monitor='val_accuracy', save_best_only=True)]\n"
   ]
  },
  {
   "cell_type": "markdown",
   "metadata": {},
   "source": [
    "### Adapting tensor slices to Model"
   ]
  },
  {
   "cell_type": "code",
   "execution_count": 21,
   "metadata": {},
   "outputs": [],
   "source": [
    "train_data_ep = train_data.map(lambda x, y: (tf.reshape(x, (1, X_train.shape[1])), tf.reshape(y, (1, y_train_label.shape[1])))).prefetch(buffer_size=tf.data.experimental.AUTOTUNE)\n",
    "val_data_ep = val_data.map(lambda x, y: (tf.reshape(x, (1, X_val.shape[1])), tf.reshape(y, (1, y_train_label.shape[1])))).prefetch(buffer_size=tf.data.experimental.AUTOTUNE)"
   ]
  },
  {
   "cell_type": "markdown",
   "metadata": {},
   "source": [
    "### Model Fitting"
   ]
  },
  {
   "cell_type": "code",
   "execution_count": 22,
   "metadata": {},
   "outputs": [
    {
     "name": "stdout",
     "output_type": "stream",
     "text": [
      "Epoch 1/20\n"
     ]
    },
    {
     "name": "stderr",
     "output_type": "stream",
     "text": [
      "WARNING: All log messages before absl::InitializeLog() is called are written to STDERR\n",
      "I0000 00:00:1731386530.568304  322067 service.cc:145] XLA service 0x7fd364002f20 initialized for platform CUDA (this does not guarantee that XLA will be used). Devices:\n",
      "I0000 00:00:1731386530.568463  322067 service.cc:153]   StreamExecutor device (0): NVIDIA GeForce RTX 3050 Ti Laptop GPU, Compute Capability 8.6\n",
      "2024-11-12 01:42:10.600347: I tensorflow/compiler/mlir/tensorflow/utils/dump_mlir_util.cc:268] disabling MLIR crash reproducer, set env var `MLIR_CRASH_REPRODUCER_DIRECTORY` to enable.\n",
      "2024-11-12 01:42:10.767325: I external/local_xla/xla/stream_executor/cuda/cuda_dnn.cc:465] Loaded cuDNN version 8900\n"
     ]
    },
    {
     "name": "stdout",
     "output_type": "stream",
     "text": [
      "\u001b[1m 122/1600\u001b[0m \u001b[32m━\u001b[0m\u001b[37m━━━━━━━━━━━━━━━━━━━\u001b[0m \u001b[1m1s\u001b[0m 1ms/step - accuracy: 0.5005 - loss: 1.0149"
     ]
    },
    {
     "name": "stderr",
     "output_type": "stream",
     "text": [
      "I0000 00:00:1731386531.147276  322067 device_compiler.h:188] Compiled cluster using XLA!  This line is logged at most once for the lifetime of the process.\n"
     ]
    },
    {
     "name": "stdout",
     "output_type": "stream",
     "text": [
      "\u001b[1m1600/1600\u001b[0m \u001b[32m━━━━━━━━━━━━━━━━━━━━\u001b[0m\u001b[37m\u001b[0m \u001b[1m5s\u001b[0m 2ms/step - accuracy: 0.6918 - loss: 0.6480 - val_accuracy: 0.9050 - val_loss: 0.2316\n",
      "Epoch 2/20\n",
      "\u001b[1m1600/1600\u001b[0m \u001b[32m━━━━━━━━━━━━━━━━━━━━\u001b[0m\u001b[37m\u001b[0m \u001b[1m3s\u001b[0m 2ms/step - accuracy: 0.8600 - loss: 0.3055 - val_accuracy: 0.8900 - val_loss: 0.2709\n",
      "Epoch 3/20\n",
      "\u001b[1m1600/1600\u001b[0m \u001b[32m━━━━━━━━━━━━━━━━━━━━\u001b[0m\u001b[37m\u001b[0m \u001b[1m2s\u001b[0m 2ms/step - accuracy: 0.8850 - loss: 0.2730 - val_accuracy: 0.8750 - val_loss: 0.2966\n",
      "Epoch 4/20\n",
      "\u001b[1m1600/1600\u001b[0m \u001b[32m━━━━━━━━━━━━━━━━━━━━\u001b[0m\u001b[37m\u001b[0m \u001b[1m3s\u001b[0m 2ms/step - accuracy: 0.8956 - loss: 0.2470 - val_accuracy: 0.8700 - val_loss: 0.3459\n",
      "Epoch 5/20\n",
      "\u001b[1m1600/1600\u001b[0m \u001b[32m━━━━━━━━━━━━━━━━━━━━\u001b[0m\u001b[37m\u001b[0m \u001b[1m3s\u001b[0m 2ms/step - accuracy: 0.9079 - loss: 0.2371 - val_accuracy: 0.8450 - val_loss: 0.4233\n",
      "Epoch 6/20\n",
      "\u001b[1m1600/1600\u001b[0m \u001b[32m━━━━━━━━━━━━━━━━━━━━\u001b[0m\u001b[37m\u001b[0m \u001b[1m3s\u001b[0m 2ms/step - accuracy: 0.9180 - loss: 0.2275 - val_accuracy: 0.8750 - val_loss: 0.3516\n",
      "Epoch 7/20\n",
      "\u001b[1m1600/1600\u001b[0m \u001b[32m━━━━━━━━━━━━━━━━━━━━\u001b[0m\u001b[37m\u001b[0m \u001b[1m3s\u001b[0m 2ms/step - accuracy: 0.9239 - loss: 0.2067 - val_accuracy: 0.8600 - val_loss: 0.4010\n",
      "Epoch 8/20\n",
      "\u001b[1m1600/1600\u001b[0m \u001b[32m━━━━━━━━━━━━━━━━━━━━\u001b[0m\u001b[37m\u001b[0m \u001b[1m3s\u001b[0m 2ms/step - accuracy: 0.9193 - loss: 0.1972 - val_accuracy: 0.8800 - val_loss: 0.3558\n",
      "Epoch 9/20\n",
      "\u001b[1m1600/1600\u001b[0m \u001b[32m━━━━━━━━━━━━━━━━━━━━\u001b[0m\u001b[37m\u001b[0m \u001b[1m3s\u001b[0m 2ms/step - accuracy: 0.9306 - loss: 0.1912 - val_accuracy: 0.8550 - val_loss: 0.3798\n",
      "Epoch 10/20\n",
      "\u001b[1m1600/1600\u001b[0m \u001b[32m━━━━━━━━━━━━━━━━━━━━\u001b[0m\u001b[37m\u001b[0m \u001b[1m5s\u001b[0m 2ms/step - accuracy: 0.9274 - loss: 0.1874 - val_accuracy: 0.8750 - val_loss: 0.3518\n",
      "Epoch 11/20\n",
      "\u001b[1m1600/1600\u001b[0m \u001b[32m━━━━━━━━━━━━━━━━━━━━\u001b[0m\u001b[37m\u001b[0m \u001b[1m3s\u001b[0m 2ms/step - accuracy: 0.9266 - loss: 0.1812 - val_accuracy: 0.8800 - val_loss: 0.3414\n",
      "Epoch 12/20\n",
      "\u001b[1m1600/1600\u001b[0m \u001b[32m━━━━━━━━━━━━━━━━━━━━\u001b[0m\u001b[37m\u001b[0m \u001b[1m3s\u001b[0m 2ms/step - accuracy: 0.9295 - loss: 0.1784 - val_accuracy: 0.8950 - val_loss: 0.2838\n",
      "Epoch 13/20\n",
      "\u001b[1m1600/1600\u001b[0m \u001b[32m━━━━━━━━━━━━━━━━━━━━\u001b[0m\u001b[37m\u001b[0m \u001b[1m3s\u001b[0m 2ms/step - accuracy: 0.9311 - loss: 0.1650 - val_accuracy: 0.8750 - val_loss: 0.3517\n",
      "Epoch 14/20\n",
      "\u001b[1m1600/1600\u001b[0m \u001b[32m━━━━━━━━━━━━━━━━━━━━\u001b[0m\u001b[37m\u001b[0m \u001b[1m4s\u001b[0m 2ms/step - accuracy: 0.9366 - loss: 0.1727 - val_accuracy: 0.9200 - val_loss: 0.1862\n",
      "Epoch 15/20\n",
      "\u001b[1m1600/1600\u001b[0m \u001b[32m━━━━━━━━━━━━━━━━━━━━\u001b[0m\u001b[37m\u001b[0m \u001b[1m4s\u001b[0m 2ms/step - accuracy: 0.9292 - loss: 0.1632 - val_accuracy: 0.8800 - val_loss: 0.3251\n",
      "Epoch 16/20\n",
      "\u001b[1m1600/1600\u001b[0m \u001b[32m━━━━━━━━━━━━━━━━━━━━\u001b[0m\u001b[37m\u001b[0m \u001b[1m4s\u001b[0m 2ms/step - accuracy: 0.9320 - loss: 0.1837 - val_accuracy: 0.9000 - val_loss: 0.2492\n",
      "Epoch 17/20\n",
      "\u001b[1m1600/1600\u001b[0m \u001b[32m━━━━━━━━━━━━━━━━━━━━\u001b[0m\u001b[37m\u001b[0m \u001b[1m3s\u001b[0m 2ms/step - accuracy: 0.9394 - loss: 0.1546 - val_accuracy: 0.9300 - val_loss: 0.1855\n",
      "Epoch 18/20\n",
      "\u001b[1m1600/1600\u001b[0m \u001b[32m━━━━━━━━━━━━━━━━━━━━\u001b[0m\u001b[37m\u001b[0m \u001b[1m3s\u001b[0m 2ms/step - accuracy: 0.9459 - loss: 0.1529 - val_accuracy: 0.9150 - val_loss: 0.2073\n",
      "Epoch 19/20\n",
      "\u001b[1m1600/1600\u001b[0m \u001b[32m━━━━━━━━━━━━━━━━━━━━\u001b[0m\u001b[37m\u001b[0m \u001b[1m3s\u001b[0m 2ms/step - accuracy: 0.9407 - loss: 0.1497 - val_accuracy: 0.9100 - val_loss: 0.2057\n",
      "Epoch 20/20\n",
      "\u001b[1m1600/1600\u001b[0m \u001b[32m━━━━━━━━━━━━━━━━━━━━\u001b[0m\u001b[37m\u001b[0m \u001b[1m3s\u001b[0m 2ms/step - accuracy: 0.9374 - loss: 0.1597 - val_accuracy: 0.8850 - val_loss: 0.3109\n"
     ]
    }
   ],
   "source": [
    "history = model.fit(train_data_ep, epochs=20, validation_data=val_data_ep, callbacks=callbacks)"
   ]
  },
  {
   "cell_type": "markdown",
   "metadata": {},
   "source": [
    "### Plot model results"
   ]
  },
  {
   "cell_type": "code",
   "execution_count": 33,
   "metadata": {},
   "outputs": [
    {
     "data": {
      "image/png": "[encoded data removed]",
      "text/plain": [
       "<Figure size 1000x500 with 1 Axes>"
      ]
     },
     "metadata": {},
     "output_type": "display_data"
    }
   ],
   "source": [
    "plt.figure(figsize=(10, 5))\n",
    "plt.plot(history.history['accuracy'], label='Training accuracy')\n",
    "plt.plot(history.history['val_accuracy'], label='Validation accuracy')\n",
    "plt.plot(history.history['loss'], label='Training Loss')\n",
    "plt.plot(history.history['val_loss'], label='Validation Loss')\n",
    "plt.xlabel('Epochs')\n",
    "plt.ylabel('Loss / Accuracy')\n",
    "plt.title('Training and Validation Accuracy and Loss')\n",
    "plt.legend()\n",
    "plt.show()"
   ]
  },
  {
   "cell_type": "markdown",
   "metadata": {},
   "source": [
    "# Making predictions"
   ]
  },
  {
   "cell_type": "code",
   "execution_count": 24,
   "metadata": {},
   "outputs": [
    {
     "name": "stdout",
     "output_type": "stream",
     "text": [
      "\u001b[1m7/7\u001b[0m \u001b[32m━━━━━━━━━━━━━━━━━━━━\u001b[0m\u001b[37m\u001b[0m \u001b[1m3s\u001b[0m 171ms/step\n"
     ]
    }
   ],
   "source": [
    "predictions = model.predict(X_test)"
   ]
  },
  {
   "cell_type": "code",
   "execution_count": 25,
   "metadata": {},
   "outputs": [],
   "source": [
    "predictions = np.argmax(predictions, axis=1)"
   ]
  },
  {
   "cell_type": "code",
   "execution_count": 26,
   "metadata": {},
   "outputs": [],
   "source": [
    "y_test = np.argmax(y_test_label, axis=1)"
   ]
  },
  {
   "cell_type": "markdown",
   "metadata": {},
   "source": [
    "### Checking predictions accuracy"
   ]
  },
  {
   "cell_type": "code",
   "execution_count": 27,
   "metadata": {},
   "outputs": [
    {
     "name": "stdout",
     "output_type": "stream",
     "text": [
      "              precision    recall  f1-score   support\n",
      "\n",
      "        High       0.95      0.98      0.96       112\n",
      "         Low       0.63      1.00      0.78        31\n",
      "    Moderate       0.94      0.58      0.72        57\n",
      "\n",
      "    accuracy                           0.87       200\n",
      "   macro avg       0.84      0.85      0.82       200\n",
      "weighted avg       0.90      0.87      0.86       200\n",
      "\n"
     ]
    }
   ],
   "source": [
    "print(classification_report(y_test, predictions, target_names=le.classes_))\n"
   ]
  },
  {
   "cell_type": "code",
   "execution_count": 28,
   "metadata": {},
   "outputs": [
    {
     "data": {
      "text/plain": [
       "0.6750609260763607"
      ]
     },
     "execution_count": 28,
     "metadata": {},
     "output_type": "execute_result"
    }
   ],
   "source": [
    "r2_score(y_test, predictions)"
   ]
  },
  {
   "cell_type": "code",
   "execution_count": 29,
   "metadata": {},
   "outputs": [
    {
     "data": {
      "image/png": "[encoded data removed]",
      "text/plain": [
       "<Figure size 1000x1000 with 2 Axes>"
      ]
     },
     "metadata": {},
     "output_type": "display_data"
    }
   ],
   "source": [
    "from sklearn.metrics import confusion_matrix\n",
    "\n",
    "cm = confusion_matrix(y_test, predictions)\n",
    "\n",
    "plt.figure(figsize=(10, 10))\n",
    "sns.heatmap(cm, annot=True, fmt='d', cmap='coolwarm', xticklabels=le.classes_, yticklabels=le.classes_)\n",
    "plt.xlabel('Predicted')\n",
    "plt.ylabel('Actual')\n",
    "plt.title('Confusion Matrix')\n",
    "plt.show()"
   ]
  },
  {
   "cell_type": "markdown",
   "metadata": {},
   "source": [
    "# Conclusion"
   ]
  },
  {
   "cell_type": "markdown",
   "metadata": {},
   "source": [
    "This notebook demonstrates a comprehensive analysis of student stress levels using a variety of data science techniques. The dataset was downloaded, cleaned, and explored to understand the distribution and correlation of various features. TensorFlow Data Validation (TFDV) was utilized to generate statistics and identify anomalies. A neural network model was built and trained to predict stress levels, achieving reasonable accuracy. The results were visualized and evaluated using classification reports and confusion matrices, providing insights into the model's performance and areas for improvement."
   ]
  }
 ],
 "metadata": {
  "kernelspec": {
   "display_name": "Python 3 (ipykernel)",
   "language": "python",
   "name": "python3"
  },
  "language_info": {
   "codemirror_mode": {
    "name": "ipython",
    "version": 3
   },
   "file_extension": ".py",
   "mimetype": "text/x-python",
   "name": "python",
   "nbconvert_exporter": "python",
   "pygments_lexer": "ipython3",
   "version": "3.10.12"
  }
 },
 "nbformat": 4,
 "nbformat_minor": 2
}
